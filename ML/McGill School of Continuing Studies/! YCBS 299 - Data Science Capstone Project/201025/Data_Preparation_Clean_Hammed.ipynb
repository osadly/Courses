{
  "cells": [
    {
      "cell_type": "markdown",
      "metadata": {
        "id": "ThDAHOVGfT2r"
      },
      "source": [
        "# Montreal Fire Risk Prediction\n",
        "\n",
        "Here, We try to prepare a panel dataset for predicting neighborhood fire risk in Montreal.\n",
        "\n",
        "**Output:**\n",
        "- Binary target variable: Whether a neighborhood experiences at least one fire in a given month\n",
        "- Spatial structure: 5km x 5km grid cells (maybe we can try 2.5km x 2.5km too? Or perhaps after Wednesday?)\n",
        "- Temporal structure: Monthly time series (2005-09 onwards)\n",
        "- Features: Building characteristics, temporal lags, seasonality, spatial lags\n",
        "\n",
        "**Data Sources:**\n",
        "1. Fire incidents: `Data/sim_combined_df.csv`\n",
        "2. Buildings: `Data/montreal_dataset_v1.geojson`\n",
        "3. Admin boundaries: `Data/EKUE_ASSESSMENTS_DATA/limites-administratives-agglomeration-nad83.geojson`"
      ]
    },
    {
      "cell_type": "markdown",
      "metadata": {
        "id": "MxBihJcXfT2t"
      },
      "source": [
        "## Imports"
      ]
    },
    {
      "cell_type": "code",
      "execution_count": 1,
      "metadata": {
        "id": "Milo_LHsfT2t"
      },
      "outputs": [],
      "source": [
        "import os\n",
        "import math\n",
        "import numpy as np\n",
        "import pandas as pd\n",
        "import geopandas as gpd\n",
        "import pyarrow.parquet as pq\n",
        "import matplotlib.pyplot as plt\n",
        "import seaborn as sns\n",
        "from shapely.geometry import box\n",
        "from shapely.ops import unary_union\n",
        "import warnings\n",
        "warnings.filterwarnings('ignore')\n"
      ]
    },
    {
      "cell_type": "markdown",
      "metadata": {
        "id": "bXP0g2U6fT2u"
      },
      "source": [
        "## Load Data"
      ]
    },
    {
      "cell_type": "code",
      "execution_count": 2,
      "metadata": {
        "colab": {
          "base_uri": "https://localhost:8080/",
          "height": 36
        },
        "id": "rUV8xMKPfT2u",
        "outputId": "0ac58dfd-4f47-441a-dce7-37e1e077eceb"
      },
      "outputs": [
        {
          "output_type": "execute_result",
          "data": {
            "text/plain": [
              "'/content'"
            ],
            "application/vnd.google.colaboratory.intrinsic+json": {
              "type": "string"
            }
          },
          "metadata": {},
          "execution_count": 2
        }
      ],
      "source": [
        "pwd"
      ]
    },
    {
      "cell_type": "code",
      "execution_count": 3,
      "metadata": {
        "colab": {
          "base_uri": "https://localhost:8080/",
          "height": 71
        },
        "id": "2suA-RU2fT2u",
        "outputId": "4c403f85-7a82-45aa-902a-90f75d00894b"
      },
      "outputs": [
        {
          "output_type": "stream",
          "name": "stdout",
          "text": [
            "Mounted at /content/drive\n",
            "/content/drive/MyDrive/Sam_McGill_Project_Team3\n"
          ]
        },
        {
          "output_type": "execute_result",
          "data": {
            "text/plain": [
              "'/content/drive/MyDrive/Sam_McGill_Project_Team3'"
            ],
            "application/vnd.google.colaboratory.intrinsic+json": {
              "type": "string"
            }
          },
          "metadata": {},
          "execution_count": 3
        }
      ],
      "source": [
        "\n",
        "from google.colab import drive\n",
        "drive.mount('/content/drive')\n",
        "#%cd \"/content/drive/MyDrive/MCGILL_PROJECT_CAPSTONE/Capstone Project- McGill/Data/\"\n",
        "#%cd \"/content/drive/MyDrive/Capstone Project- McGill/Data/\"\n",
        "%cd \"/content/drive/MyDrive/Sam_McGill_Project_Team3\"\n",
        "\n",
        "os.getcwd()\n",
        "#os.chdir(\"/mnt/g/My Drive/Capstone Project- McGill\")\n",
        "\n",
        "os.getcwd()"
      ]
    },
    {
      "cell_type": "markdown",
      "metadata": {
        "id": "g-apogwgfT2v"
      },
      "source": [
        "### Buildings Data"
      ]
    },
    {
      "cell_type": "code",
      "execution_count": 4,
      "metadata": {
        "colab": {
          "base_uri": "https://localhost:8080/"
        },
        "id": "L163Rrg4fT2v",
        "outputId": "e0c07632-bacd-4140-c9a0-e89c19e2f154"
      },
      "outputs": [
        {
          "output_type": "stream",
          "name": "stdout",
          "text": [
            "Initial buildings: 480,243\n",
            "Original CRS: EPSG:4326\n",
            "After filtering invalid construction years: 466,775\n",
            "Converted to CRS: EPSG:32188\n"
          ]
        }
      ],
      "source": [
        "# buildings\n",
        "#buildings = gpd.read_file('Data/montreal_dataset_v1.geojson', engine='pyogrio')\n",
        "buildings = gpd.read_file('montreal_dataset_v1.geojson', engine='pyogrio')\n",
        "\n",
        "print(f\"Initial buildings: {len(buildings):,}\")\n",
        "print(f\"Original CRS: {buildings.crs}\")\n",
        "\n",
        "# invalid construction years (9999 = missing)\n",
        "buildings = buildings[buildings['ANNEE_CONS'] != 9999]\n",
        "print(f\"After filtering invalid construction years: {len(buildings):,}\")\n",
        "\n",
        "# Here, I convert to NAD83/MTM8 (EPSG:32188) to be in line with the projection used by city of Montreal\n",
        "\n",
        "buildings = buildings.to_crs(epsg=32188)\n",
        "print(f\"Converted to CRS: {buildings.crs}\")"
      ]
    },
    {
      "cell_type": "markdown",
      "metadata": {
        "id": "GJpTnrrVfT2v"
      },
      "source": [
        "### Administrative Boundaries"
      ]
    },
    {
      "cell_type": "code",
      "execution_count": 5,
      "metadata": {
        "colab": {
          "base_uri": "https://localhost:8080/"
        },
        "id": "hEiBoKmBfT2v",
        "outputId": "c801af2f-aef0-4a04-fb1f-12a079fffba2"
      },
      "outputs": [
        {
          "output_type": "stream",
          "name": "stdout",
          "text": [
            "Administrative boundaries loaded: 34 areas\n",
            "CRS: EPSG:32188\n"
          ]
        }
      ],
      "source": [
        "# Admin boundaries\n",
        "\n",
        "#admin_bounds = gpd.read_file('Data/EKUE_ASSESSMENTS_DATA/limites-administratives-agglomeration-nad83.geojson')\n",
        "admin_bounds = gpd.read_file('/content/drive/MyDrive/Sam_McGill_Project_Team3/limites-administratives-agglomeration-nad83 (2).geojson')\n",
        "\n",
        "# Let's try to fix geometry issues\n",
        "admin_bounds['geometry'] = admin_bounds.buffer(0)\n",
        "\n",
        "# Convert to NAD83/MTM8\n",
        "admin_bounds = admin_bounds.to_crs(epsg=32188)\n",
        "\n",
        "# Unified boundary\n",
        "boundary_union = unary_union(admin_bounds.geometry)\n",
        "\n",
        "print(f\"Administrative boundaries loaded: {len(admin_bounds)} areas\")\n",
        "print(f\"CRS: {admin_bounds.crs}\")"
      ]
    },
    {
      "cell_type": "markdown",
      "metadata": {
        "id": "roKW0U3lfT2v"
      },
      "source": [
        "## Create Spatial Grid (FishNet)"
      ]
    },
    {
      "cell_type": "code",
      "execution_count": 6,
      "metadata": {
        "id": "U2q99EfUfT2v"
      },
      "outputs": [],
      "source": [
        "def make_fishnet(polygon, cell_size_m=5000, buffer_m=500):\n",
        "    \"\"\"\n",
        "    Regular grid of cells over a polygon area.\n",
        "\n",
        "    Parameters:\n",
        "    -----------\n",
        "    polygon : shapely geometry\n",
        "        Polygon to create grid over\n",
        "    cell_size_m : int\n",
        "        Size of each grid cell in meters (default: 5000m = 5km)- we can change this later if we want\n",
        "    buffer_m : int\n",
        "        Buffer distance in meters (default: 500m)\n",
        "\n",
        "    Returns:\n",
        "    --------\n",
        "    geopandas.GeoDataFrame\n",
        "        Grid cells with columns: row, col, geometry, area_km2, cell_id\n",
        "    \"\"\"\n",
        "    # Apply buffer\n",
        "    poly = polygon.buffer(buffer_m) if buffer_m != 0 else polygon\n",
        "    minx, miny, maxx, maxy = poly.bounds\n",
        "\n",
        "    # Calculate grid dimensions\n",
        "    n_cols = math.ceil((maxx - minx) / cell_size_m)\n",
        "    n_rows = math.ceil((maxy - miny) / cell_size_m)\n",
        "\n",
        "    print(f\"Creating grid: {n_rows} rows x {n_cols} cols\")\n",
        "\n",
        "    # Create grid cells\n",
        "    cells = []\n",
        "    for r in range(n_rows):\n",
        "        y1 = miny + r * cell_size_m\n",
        "        y2 = y1 + cell_size_m\n",
        "        for c in range(n_cols):\n",
        "            x1 = minx + c * cell_size_m\n",
        "            x2 = x1 + cell_size_m\n",
        "            cell = box(x1, y1, x2, y2)\n",
        "            if cell.intersects(poly):\n",
        "                cells.append((r, c, cell.intersection(poly)))\n",
        "\n",
        "    # Create GeoDataFrame\n",
        "    gdf = gpd.GeoDataFrame(cells, columns=[\"row\", \"col\", \"geometry\"], crs=\"EPSG:32188\")\n",
        "    gdf[\"area_km2\"] = gdf.geometry.area / 1e6\n",
        "    gdf[\"cell_id\"] = gdf[\"row\"].astype(str) + \"_\" + gdf[\"col\"].astype(str)\n",
        "\n",
        "    print(f\"Created {len(gdf)} grid cells\")\n",
        "\n",
        "    return gdf\n",
        "\n"
      ]
    },
    {
      "cell_type": "code",
      "execution_count": 7,
      "metadata": {
        "colab": {
          "base_uri": "https://localhost:8080/"
        },
        "id": "F7GhH3eWfT2w",
        "outputId": "bcc8aa50-b91e-4a52-a667-b093eea0cf06"
      },
      "outputs": [
        {
          "output_type": "stream",
          "name": "stdout",
          "text": [
            "Creating grid: 15 rows x 17 cols\n",
            "Created 142 grid cells\n",
            "\n",
            "Grid statistics:\n",
            "Total cells: 142\n",
            "Mean area: 4.85 km²\n",
            "Total area: 688.23 km²\n"
          ]
        }
      ],
      "source": [
        "# Create grid with 5km cells\n",
        "CELL_SIZE = 2500 # 5000   # meters (5 km)\n",
        "BUFFER_SIZE = 500  # meters\n",
        "\n",
        "grid = make_fishnet(\n",
        "    polygon=boundary_union,\n",
        "    cell_size_m=CELL_SIZE,\n",
        "    buffer_m=BUFFER_SIZE\n",
        ")\n",
        "\n",
        "print(f\"\\nGrid statistics:\")\n",
        "print(f\"Total cells: {len(grid):,}\")\n",
        "print(f\"Mean area: {grid['area_km2'].mean():.2f} km²\")\n",
        "print(f\"Total area: {grid['area_km2'].sum():.2f} km²\")"
      ]
    },
    {
      "cell_type": "markdown",
      "metadata": {
        "id": "bxusrOwRfT2w"
      },
      "source": [
        "## Prepare Fire Data"
      ]
    },
    {
      "cell_type": "code",
      "execution_count": 8,
      "metadata": {
        "colab": {
          "base_uri": "https://localhost:8080/"
        },
        "id": "UhquSNkwfT2w",
        "outputId": "4c50649b-7582-414a-b725-abf272e22ec2"
      },
      "outputs": [
        {
          "output_type": "stream",
          "name": "stdout",
          "text": [
            "Total fire incidents: 395,971\n",
            "Date range: 2005-01-01 00:00:00 to 2025-09-21 00:00:00\n",
            "Year-month range: 2005-01 to 2025-09\n"
          ]
        }
      ],
      "source": [
        "# Fire incidents\n",
        "\n",
        "#fires = pd.read_csv('Data/sim_combined_df.csv', engine='python')\n",
        "fires = pd.read_csv('/content/drive/MyDrive/Sam_McGill_Project_Team3/sim_combined_df.csv', engine='python')\n",
        "\n",
        "print(f\"Total fire incidents: {len(fires):,}\")\n",
        "\n",
        "# Rename coordinate columns\n",
        "fires.rename(columns={'LATITUDE': 'latitude', 'LONGITUDE': 'longitude'}, inplace=True)\n",
        "\n",
        "# GeoDataFrame with WGS84 coordinates\n",
        "fires_geo = gpd.GeoDataFrame(\n",
        "    fires,\n",
        "    geometry=gpd.points_from_xy(fires['longitude'], fires['latitude']),\n",
        "    crs=4326\n",
        ")\n",
        "\n",
        "# Convert to NAD83/MTM8 to match grid\n",
        "fires_geo = fires_geo.to_crs(epsg=32188)\n",
        "\n",
        "# Convert date column and extract year-month\n",
        "fires_geo['CREATION_DATE_FIXED'] = pd.to_datetime(fires_geo['CREATION_DATE_FIXED'])\n",
        "fires_geo['year_month'] = fires_geo['CREATION_DATE_FIXED'].dt.to_period('M').astype(str)\n",
        "\n",
        "print(f\"Date range: {fires_geo['CREATION_DATE_FIXED'].min()} to {fires_geo['CREATION_DATE_FIXED'].max()}\")\n",
        "print(f\"Year-month range: {fires_geo['year_month'].min()} to {fires_geo['year_month'].max()}\")"
      ]
    },
    {
      "cell_type": "markdown",
      "metadata": {
        "id": "qcA063IafT2w"
      },
      "source": [
        "## Spatial Joins"
      ]
    },
    {
      "cell_type": "markdown",
      "metadata": {
        "id": "qQqOkoqhfT2w"
      },
      "source": [
        "### Join Buildings to Grid"
      ]
    },
    {
      "cell_type": "code",
      "execution_count": 9,
      "metadata": {
        "colab": {
          "base_uri": "https://localhost:8080/"
        },
        "id": "iophPXCWfT2w",
        "outputId": "512734d9-446c-4e01-af16-bb15fd72e8ef"
      },
      "outputs": [
        {
          "output_type": "stream",
          "name": "stdout",
          "text": [
            "Converting buildings to points...\n",
            "Joining buildings to grid...\n",
            "Buildings successfully joined: 466,775\n",
            "Buildings without cell assignment: 0\n",
            "Aggregating building features by cell...\n",
            "Cells with buildings: 115\n",
            "\n",
            "Building statistics:\n",
            "       num_buildings  avg_floors  median_construction_year\n",
            "count     115.000000  115.000000                115.000000\n",
            "mean     4058.913043    1.606130               1969.056522\n",
            "std      4296.599083    1.039919                 21.063580\n",
            "min         1.000000    0.000000               1868.000000\n",
            "25%       398.500000    1.380378               1958.500000\n",
            "50%      3345.000000    1.568486               1968.000000\n",
            "75%      5764.500000    1.722193               1984.000000\n",
            "max     23916.000000   12.000000               2014.000000\n"
          ]
        }
      ],
      "source": [
        "# Convert building polygons to points\n",
        "\n",
        "# Please note:\n",
        "# I use the representative_point() method here, which is similar to centroid() but with an important difference.\n",
        "# Technically, centroid() returns the geometric center of a polygon, which may fall outside the polygon's boundaries (especially for complex or irregular shapes- so we can't be so sure)\n",
        "# However, representative_point() returns a point that is guaranteed to be inside the polygon's boundaries.\n",
        "# Based on my quick research, it's often close to the centroid, but will always be within the actual geometry.\n",
        "# So, for our buildings data, this matters because we're doing spatial operations like checking which fire station\n",
        "# zone a building is in, so we need a point that's actually inside the building footprint.\n",
        "# The risk of using centroid is that if the building polygons have irregular shapes, the centroid might fall outside (for example, U-shaped buildings or buildings with courtyards).\n",
        "# SO, to ensures more accurate spatial joins and distance calculations, I use representative_point().\n",
        "\n",
        "\n",
        "print(\"Converting buildings to points...\")\n",
        "buildings_points = buildings.copy()\n",
        "buildings_points['geometry'] = buildings.representative_point()\n",
        "\n",
        "# Spatial join\n",
        "print(\"Joining buildings to grid...\")\n",
        "bld_in_grid = gpd.sjoin(\n",
        "    buildings_points,\n",
        "    grid,\n",
        "    how=\"left\",\n",
        "    predicate=\"within\"\n",
        ")\n",
        "\n",
        "print(f\"Buildings successfully joined: {bld_in_grid['cell_id'].notna().sum():,}\")\n",
        "print(f\"Buildings without cell assignment: {bld_in_grid['cell_id'].isna().sum():,}\")\n",
        "\n",
        "# Aggregate building attributes by cell\n",
        "print(\"Aggregating building features by cell...\")\n",
        "bld_agg = (\n",
        "    bld_in_grid.groupby('cell_id')\n",
        "    .agg(\n",
        "        num_buildings=('geometry', 'count'),\n",
        "        avg_floors=('ETAGE_HORS', 'mean'),\n",
        "        median_construction_year=('ANNEE_CONS', 'median')\n",
        "    )\n",
        "    .reset_index()\n",
        ")\n",
        "\n",
        "print(f\"Cells with buildings: {len(bld_agg):,}\")\n",
        "print(f\"\\nBuilding statistics:\")\n",
        "print(bld_agg.describe())"
      ]
    },
    {
      "cell_type": "markdown",
      "metadata": {
        "id": "bVGRyvn8fT2w"
      },
      "source": [
        "### Join Fires to Grid"
      ]
    },
    {
      "cell_type": "code",
      "execution_count": 10,
      "metadata": {
        "colab": {
          "base_uri": "https://localhost:8080/"
        },
        "id": "wU1sdvkzfT2x",
        "outputId": "44d5533c-bc41-4ec0-febe-a61224d28884"
      },
      "outputs": [
        {
          "output_type": "stream",
          "name": "stdout",
          "text": [
            "Joining fires to grid...\n",
            "Fires successfully joined: 395,963\n",
            "Fires without cell assignment: 8\n",
            "Counting fires per cell and month...\n",
            "Total cell-month combinations with fires: 23,819\n"
          ]
        }
      ],
      "source": [
        "# Spatial join\n",
        "print(\"Joining fires to grid...\")\n",
        "fire_in_grid = gpd.sjoin(\n",
        "    fires_geo,\n",
        "    grid,\n",
        "    how=\"left\",\n",
        "    predicate=\"within\"\n",
        ")\n",
        "\n",
        "print(f\"Fires successfully joined: {fire_in_grid['cell_id'].notna().sum():,}\")\n",
        "print(f\"Fires without cell assignment: {fire_in_grid['cell_id'].isna().sum():,}\")\n",
        "\n",
        "# Count fires per cell and month\n",
        "print(\"Counting fires per cell and month...\")\n",
        "fire_counts = (\n",
        "    fire_in_grid.groupby(['cell_id', 'year_month'])\n",
        "    .size()\n",
        "    .reset_index(name='fire_count')\n",
        ")\n",
        "\n",
        "print(f\"Total cell-month combinations with fires: {len(fire_counts):,}\")"
      ]
    },
    {
      "cell_type": "markdown",
      "metadata": {
        "id": "LDgsLk1rfT2x"
      },
      "source": [
        "## Panel Dataset"
      ]
    },
    {
      "cell_type": "code",
      "execution_count": 11,
      "metadata": {
        "colab": {
          "base_uri": "https://localhost:8080/"
        },
        "id": "0-bIaat9fT2x",
        "outputId": "c56c9563-fcab-49fb-ff84-457bd5cae863"
      },
      "outputs": [
        {
          "output_type": "stream",
          "name": "stdout",
          "text": [
            "Filtering time range...\n",
            "After filtering: 23,053 cell-month observations\n",
            "Creating Panel Dataset...\n",
            "Cells: 115\n",
            "Months: 241\n",
            "Total observations: 27,715\n",
            "\n",
            "Panel Dataset created: 27,715 rows\n"
          ]
        }
      ],
      "source": [
        "# Filter time range (September 2005 onwards)\n",
        "print(\"Filtering time range...\")\n",
        "fire_counts = fire_counts[fire_counts['year_month'] >= '2005-09']\n",
        "print(f\"After filtering: {len(fire_counts):,} cell-month observations\")\n",
        "\n",
        "# Let's use pivot and stack (not MultiIndex)\n",
        "print(\"Creating Panel Dataset...\")\n",
        "pivot_fire = fire_counts.pivot(\n",
        "    index='cell_id',\n",
        "    columns='year_month',\n",
        "    values='fire_count'\n",
        ")\n",
        "\n",
        "# Fill missing values with 0 (months with no fires)\n",
        "pivot_fire = pivot_fire.fillna(0)\n",
        "\n",
        "print(f\"Cells: {len(pivot_fire)}\")\n",
        "print(f\"Months: {len(pivot_fire.columns)}\")\n",
        "print(f\"Total observations: {len(pivot_fire) * len(pivot_fire.columns):,}\")\n",
        "\n",
        "# Stack back to long format (ensures ALL cell-month combinations present)\n",
        "final_fire = pivot_fire.stack().reset_index(name=\"number_of_fires\")\n",
        "\n",
        "print(f\"\\nPanel Dataset created: {len(final_fire):,} rows\")"
      ]
    },
    {
      "cell_type": "markdown",
      "metadata": {
        "id": "Up-AFr9tfT2x"
      },
      "source": [
        "## Merge Features and Create Target Variable"
      ]
    },
    {
      "cell_type": "code",
      "execution_count": 12,
      "metadata": {
        "colab": {
          "base_uri": "https://localhost:8080/"
        },
        "id": "ftvAEF7wfT2x",
        "outputId": "0a59dcdc-2c7f-4c89-a889-bba2fd85ab7c"
      },
      "outputs": [
        {
          "output_type": "stream",
          "name": "stdout",
          "text": [
            "Merging building features...\n",
            "\n",
            "Final dataframe shape: (27715, 7)\n",
            "\n",
            "Columns: ['cell_id', 'year_month', 'number_of_fires', 'num_buildings', 'avg_floors', 'median_construction_year', 'Target_Variable']\n",
            "\n",
            "Target variable distribution:\n",
            "Target_Variable\n",
            "1    0.831788\n",
            "0    0.168212\n",
            "Name: proportion, dtype: float64\n",
            "\n",
            "First few rows:\n",
            "  cell_id year_month  number_of_fires  num_buildings  avg_floors  \\\n",
            "0     0_1    2005-09              1.0           37.0    1.378378   \n",
            "1     0_1    2005-10              1.0           37.0    1.378378   \n",
            "2     0_1    2005-11              0.0           37.0    1.378378   \n",
            "3     0_1    2005-12              0.0           37.0    1.378378   \n",
            "4     0_1    2006-01              0.0           37.0    1.378378   \n",
            "5     0_1    2006-02              1.0           37.0    1.378378   \n",
            "6     0_1    2006-03              1.0           37.0    1.378378   \n",
            "7     0_1    2006-04              0.0           37.0    1.378378   \n",
            "8     0_1    2006-05              0.0           37.0    1.378378   \n",
            "9     0_1    2006-06              0.0           37.0    1.378378   \n",
            "\n",
            "   median_construction_year  Target_Variable  \n",
            "0                    1953.0                1  \n",
            "1                    1953.0                1  \n",
            "2                    1953.0                0  \n",
            "3                    1953.0                0  \n",
            "4                    1953.0                0  \n",
            "5                    1953.0                1  \n",
            "6                    1953.0                1  \n",
            "7                    1953.0                0  \n",
            "8                    1953.0                0  \n",
            "9                    1953.0                0  \n"
          ]
        }
      ],
      "source": [
        "# We need to merge temporal fire counts with static building features\n",
        "print(\"Merging building features...\")\n",
        "final_df = final_fire.merge(bld_agg, on='cell_id', how='left')\n",
        "\n",
        "# Fill NaN values for cells with no buildings\n",
        "final_df['num_buildings'] = final_df['num_buildings'].fillna(0)\n",
        "final_df['avg_floors'] = final_df['avg_floors'].fillna(final_df['avg_floors'].median())\n",
        "final_df['median_construction_year'] = final_df['median_construction_year'].fillna(\n",
        "    final_df['median_construction_year'].median()\n",
        ")\n",
        "\n",
        "# Convert year_month to Period type for easier manipulation\n",
        "final_df['year_month'] = pd.PeriodIndex(final_df['year_month'], freq='M')\n",
        "\n",
        "# Create binary target variable: 1 if any fires, 0 otherwise\n",
        "final_df['Target_Variable'] = (final_df['number_of_fires'] > 0).astype(int)\n",
        "\n",
        "print(f\"\\nFinal dataframe shape: {final_df.shape}\")\n",
        "print(f\"\\nColumns: {list(final_df.columns)}\")\n",
        "print(f\"\\nTarget variable distribution:\")\n",
        "print(final_df['Target_Variable'].value_counts(normalize=True))\n",
        "print(f\"\\nFirst few rows:\")\n",
        "print(final_df.head(10))"
      ]
    },
    {
      "cell_type": "markdown",
      "metadata": {
        "id": "MC8fXmWSfT2x"
      },
      "source": [
        "## Temporal Lags (Feature Engineering)"
      ]
    },
    {
      "cell_type": "code",
      "execution_count": 13,
      "metadata": {
        "colab": {
          "base_uri": "https://localhost:8080/"
        },
        "id": "SYo6LT_5fT2x",
        "outputId": "91367e86-46bd-4c31-e221-dc650ca10452"
      },
      "outputs": [
        {
          "output_type": "stream",
          "name": "stdout",
          "text": [
            "Creating temporal lag features...\n",
            "Created fires_lag_1m\n",
            "Created fires_lag_2m\n",
            "Created fires_lag_3m\n",
            "Created fires_lag_6m\n",
            "Created fires_lag_12m\n",
            "Created target_lag_1m\n",
            "Created target_lag_2m\n",
            "Created target_lag_3m\n",
            "\n",
            "Temporal lag features added successfully\n",
            "New shape: (27715, 15)\n"
          ]
        }
      ],
      "source": [
        "# Sort by cell and time for lag computation\n",
        "print(\"Creating temporal lag features...\")\n",
        "final_df = final_df.sort_values(['cell_id', 'year_month'])\n",
        "\n",
        "# Create lagged fire count variables (1, 2, 3, 6, 12 months)\n",
        "for lag in [1, 2, 3, 6, 12]:\n",
        "    final_df[f'fires_lag_{lag}m'] = (\n",
        "        final_df\n",
        "        .groupby('cell_id')['number_of_fires']\n",
        "        .shift(lag)\n",
        "        .fillna(0)\n",
        "    )\n",
        "    print(f\"Created fires_lag_{lag}m\")\n",
        "\n",
        "# Lagged binary target variables (for autoregressive models)\n",
        "for lag in [1, 2, 3]:\n",
        "    final_df[f'target_lag_{lag}m'] = (\n",
        "        final_df\n",
        "        .groupby('cell_id')['Target_Variable']\n",
        "        .shift(lag)\n",
        "        .fillna(0)\n",
        "    )\n",
        "    print(f\"Created target_lag_{lag}m\")\n",
        "\n",
        "print(f\"\\nTemporal lag features added successfully\")\n",
        "print(f\"New shape: {final_df.shape}\")"
      ]
    },
    {
      "cell_type": "markdown",
      "metadata": {
        "id": "iTRIIxXNfT2x"
      },
      "source": [
        "## Seasonality"
      ]
    },
    {
      "cell_type": "code",
      "execution_count": 14,
      "metadata": {
        "colab": {
          "base_uri": "https://localhost:8080/"
        },
        "id": "z-pWbeH5fT2x",
        "outputId": "06dafb73-c14d-46ba-e8f0-fef4b499abaf"
      },
      "outputs": [
        {
          "output_type": "stream",
          "name": "stdout",
          "text": [
            "Creating seasonality features...\n",
            "Seasonality features created:\n",
            "  - month (1-12)\n",
            "  - year\n",
            "  - month_sin (circular encoding)\n",
            "  - month_cos (circular encoding)\n",
            "\n",
            "Sample seasonality values:\n",
            "    month     month_sin     month_cos\n",
            "4       1  5.000000e-01  8.660254e-01\n",
            "5       2  8.660254e-01  5.000000e-01\n",
            "6       3  1.000000e+00  6.123234e-17\n",
            "7       4  8.660254e-01 -5.000000e-01\n",
            "8       5  5.000000e-01 -8.660254e-01\n",
            "9       6  1.224647e-16 -1.000000e+00\n",
            "10      7 -5.000000e-01 -8.660254e-01\n",
            "11      8 -8.660254e-01 -5.000000e-01\n",
            "0       9 -1.000000e+00 -1.836970e-16\n",
            "1      10 -8.660254e-01  5.000000e-01\n",
            "2      11 -5.000000e-01  8.660254e-01\n",
            "3      12 -2.449294e-16  1.000000e+00\n"
          ]
        }
      ],
      "source": [
        "# Extract month and year\n",
        "print(\"Creating seasonality features...\")\n",
        "final_df['month'] = final_df['year_month'].dt.month\n",
        "final_df['year'] = final_df['year_month'].dt.year\n",
        "\n",
        "# Sine/cosine transformations for circular encoding\n",
        "final_df['month_sin'] = np.sin(2 * np.pi * final_df['month'] / 12)\n",
        "final_df['month_cos'] = np.cos(2 * np.pi * final_df['month'] / 12)\n",
        "\n",
        "print(\"Seasonality features created:\")\n",
        "print(\"  - month (1-12)\")\n",
        "print(\"  - year\")\n",
        "print(\"  - month_sin (circular encoding)\")\n",
        "print(\"  - month_cos (circular encoding)\")\n",
        "\n",
        "#  Sample values for different months\n",
        "print(\"\\nSample seasonality values:\")\n",
        "example_months = final_df[['month', 'month_sin', 'month_cos']].drop_duplicates().sort_values('month')\n",
        "print(example_months.head(12))"
      ]
    },
    {
      "cell_type": "markdown",
      "metadata": {
        "id": "HAK_Hc02fT2x"
      },
      "source": [
        "## Spatial Lags"
      ]
    },
    {
      "cell_type": "code",
      "execution_count": 15,
      "metadata": {
        "colab": {
          "base_uri": "https://localhost:8080/"
        },
        "id": "rbVLbSOlfT2x",
        "outputId": "22d5e657-9fe0-47a1-8c7a-8090b6998713"
      },
      "outputs": [
        {
          "output_type": "stream",
          "name": "stdout",
          "text": [
            "Building spatial adjacency structure...\n",
            "Neighbor map created for 115 cells\n",
            "\n",
            "Neighbor count distribution:\n",
            "  Cells with 2 neighbors (corners): 19\n",
            "  Cells with 3 neighbors (edges): 22\n",
            "  Cells with 4 neighbors (interior): 70\n",
            "  Cells with 1 neighbor (corners): 4\n",
            "115\n"
          ]
        }
      ],
      "source": [
        "# Build neighbor mapping (4-neighbor: North, South, East, West)\n",
        "# Only include neighbors that actually exist in the dataset\n",
        "print(\"Building spatial adjacency structure...\")\n",
        "neighbor_map = {}\n",
        "\n",
        "# Get all valid cell_ids as a set for fast lookup\n",
        "valid_cells = set(final_df['cell_id'].unique())\n",
        "# sam - start(1)\n",
        "#cellsLst = []\n",
        "#print(\"start - lst cells\")\n",
        "# sam - end(1)\n",
        "for cell_id in valid_cells:\n",
        "    row_str, col_str = cell_id.split('_')\n",
        "    row, col = int(row_str), int(col_str)\n",
        "    # sam - start(2)\n",
        "    #cellsLst.append([row, col])\n",
        "    #print([row, col])\n",
        "    #print(\"end - lst cells\")\n",
        "    # sam - end(2)\n",
        "    # Candidate neighbors (4-neighbor: cardinal directions)\n",
        "    candidates = [\n",
        "        f\"{row-1}_{col}\",  # North\n",
        "        f\"{row+1}_{col}\",  # South\n",
        "        f\"{row}_{col-1}\",  # West\n",
        "        f\"{row}_{col+1}\"   # East\n",
        "    ]\n",
        "\n",
        "    # Keep only neighbors that actually exist in the dataset\n",
        "    neighbors = [n for n in candidates if n in valid_cells]\n",
        "    neighbor_map[cell_id] = neighbors\n",
        "\n",
        "print(f\"Neighbor map created for {len(neighbor_map):,} cells\")\n",
        "\n",
        "# Analyze neighbor distribution to understand edge effects\n",
        "neighbor_counts = {cell: len(neighbors) for cell, neighbors in neighbor_map.items()}\n",
        "print(\"\\nNeighbor count distribution:\")\n",
        "print(f\"  Cells with 2 neighbors (corners): {sum(1 for c in neighbor_counts.values() if c == 2)}\")\n",
        "print(f\"  Cells with 3 neighbors (edges): {sum(1 for c in neighbor_counts.values() if c == 3)}\")\n",
        "print(f\"  Cells with 4 neighbors (interior): {sum(1 for c in neighbor_counts.values() if c == 4)}\")\n",
        "\n",
        "# Sam [19-Oct-2025] - start\n",
        "print(f\"  Cells with 1 neighbor (corners): {sum(1 for c in neighbor_counts.values() if c == 1)}\")\n",
        "\n",
        "ttl = 0\n",
        "for i in range(1,5):\n",
        "  ttl += sum(1 for c in neighbor_counts.values() if c == i)\n",
        "print(ttl)\n",
        "# Sam [19-Oct-2025] - end"
      ]
    },
    {
      "cell_type": "code",
      "execution_count": 16,
      "metadata": {
        "colab": {
          "base_uri": "https://localhost:8080/"
        },
        "id": "B0oNnG8mfT2y",
        "outputId": "78d64a09-225c-4a9c-c4b5-dd462bb69a1b"
      },
      "outputs": [
        {
          "output_type": "stream",
          "name": "stdout",
          "text": [
            "\n",
            "Computing spatial lag features with temporal lag (this may take a few minutes)...\n",
            "Computing spatial lag features...\n",
            "\n",
            "Spatial lag features created:\n",
            "   neighbors_fires_lag1m (sum of fires in adjacent cells from previous month)\n",
            "   neighbors_target_lag1m (count of adjacent cells with fires from previous month)\n",
            "   neighbor_count (number of valid neighbors - identifies border cells)\n",
            "   neighbors_fires_avg (average fires per neighbor - normalized for edge effects)\n",
            "\n",
            "Spatial lag statistics:\n",
            "       neighbors_fires_lag1m  neighbors_target_lag1m  neighbor_count  \\\n",
            "count           27715.000000            27715.000000    27715.000000   \n",
            "mean               53.026123                2.984268        3.373913   \n",
            "std                60.316412                1.105647        0.879352   \n",
            "min                 0.000000                0.000000        1.000000   \n",
            "25%                14.000000                2.000000        3.000000   \n",
            "50%                30.000000                3.000000        4.000000   \n",
            "75%                71.000000                4.000000        4.000000   \n",
            "max               466.000000                4.000000        4.000000   \n",
            "\n",
            "       neighbors_fires_avg  \n",
            "count         27715.000000  \n",
            "mean             14.749227  \n",
            "std              15.082315  \n",
            "min               0.000000  \n",
            "25%               4.666667  \n",
            "50%               9.500000  \n",
            "75%              20.000000  \n",
            "max             116.500000  \n"
          ]
        }
      ],
      "source": [
        "# Compute spatial lag with TEMPORAL LAG to avoid data leakage\n",
        "\n",
        "print(\"\\nComputing spatial lag features with temporal lag (this may take a few minutes)...\")\n",
        "\n",
        "\n",
        "def get_neighbor_fires_lagged(row):\n",
        "    \"\"\"\n",
        "    Sum of fire counts in neighboring cells from PREVIOUS month.\n",
        "    This avoids data leakage by not using concurrent fire information.\n",
        "    \"\"\"\n",
        "    cell = row['cell_id']\n",
        "    current_period = row['year_month']\n",
        "    neighbors = neighbor_map.get(cell, [])\n",
        "\n",
        "    if len(neighbors) == 0:\n",
        "        return 0\n",
        "\n",
        "    # Get previous month (temporal lag)\n",
        "    current_date = pd.to_datetime(str(current_period))\n",
        "    previous_period = (current_date - pd.DateOffset(months=1)).to_period('M')\n",
        "\n",
        "    neighbor_data = final_df[\n",
        "        (final_df['cell_id'].isin(neighbors)) &\n",
        "        (final_df['year_month'] == previous_period)\n",
        "    ]\n",
        "\n",
        "    return neighbor_data['number_of_fires'].sum()\n",
        "\n",
        "def get_neighbor_targets_lagged(row):\n",
        "    \"\"\"\n",
        "    Number of neighboring cells with fires in PREVIOUS month.\n",
        "    This avoids data leakage by not using concurrent fire information.\n",
        "    \"\"\"\n",
        "    cell = row['cell_id']\n",
        "    current_period = row['year_month']\n",
        "    neighbors = neighbor_map.get(cell, [])\n",
        "\n",
        "    if len(neighbors) == 0:\n",
        "        return 0\n",
        "\n",
        "    # Get previous month (temporal lag)\n",
        "    current_date = pd.to_datetime(str(current_period))\n",
        "    previous_period = (current_date - pd.DateOffset(months=1)).to_period('M')\n",
        "\n",
        "    neighbor_data = final_df[\n",
        "        (final_df['cell_id'].isin(neighbors)) &\n",
        "        (final_df['year_month'] == previous_period)\n",
        "    ]\n",
        "\n",
        "    return neighbor_data['Target_Variable'].sum()\n",
        "\n",
        "def get_neighbor_count(row):\n",
        "    \"\"\"Number of valid neighbors for this cell (to identify border cells)\"\"\"\n",
        "    cell = row['cell_id']\n",
        "    neighbors = neighbor_map.get(cell, [])\n",
        "    return len(neighbors)\n",
        "\n",
        "# Spatial lag computation\n",
        "print(\"Computing spatial lag features...\")\n",
        "final_df['neighbors_fires_lag1m'] = final_df.apply(get_neighbor_fires_lagged, axis=1)\n",
        "final_df['neighbors_target_lag1m'] = final_df.apply(get_neighbor_targets_lagged, axis=1)\n",
        "final_df['neighbor_count'] = final_df.apply(get_neighbor_count, axis=1)\n",
        "\n",
        "# Normalized version (average per neighbor to handle edge effects)\n",
        "final_df['neighbors_fires_avg'] = final_df['neighbors_fires_lag1m'] / final_df['neighbor_count']\n",
        "final_df['neighbors_fires_avg'] = final_df['neighbors_fires_avg'].fillna(0)\n",
        "\n",
        "print(\"\\nSpatial lag features created:\")\n",
        "print(\"   neighbors_fires_lag1m (sum of fires in adjacent cells from previous month)\")\n",
        "print(\"   neighbors_target_lag1m (count of adjacent cells with fires from previous month)\")\n",
        "print(\"   neighbor_count (number of valid neighbors - identifies border cells)\")\n",
        "print(\"   neighbors_fires_avg (average fires per neighbor - normalized for edge effects)\")\n",
        "\n",
        "print(f\"\\nSpatial lag statistics:\")\n",
        "print(final_df[['neighbors_fires_lag1m', 'neighbors_target_lag1m', 'neighbor_count', 'neighbors_fires_avg']].describe())\n",
        "\n"
      ]
    },
    {
      "cell_type": "markdown",
      "metadata": {
        "id": "UDMOtTHTfT2y"
      },
      "source": [
        "### Visualize Edge Effects and Spatial Structure"
      ]
    },
    {
      "cell_type": "code",
      "execution_count": 17,
      "metadata": {
        "colab": {
          "base_uri": "https://localhost:8080/",
          "height": 1000
        },
        "id": "3JGAvdc5fT2y",
        "outputId": "f27deade-3946-4528-8681-5a6f4dc4dc61"
      },
      "outputs": [
        {
          "output_type": "display_data",
          "data": {
            "text/plain": [
              "<Figure size 1600x1200 with 4 Axes>"
            ],
            "image/png": "[encoded data removed]"
          },
          "metadata": {}
        }
      ],
      "source": [
        "\n",
        "# Style\n",
        "plt.style.use('seaborn-v0_8-darkgrid')\n",
        "sns.set_palette(\"husl\")\n",
        "\n",
        "fig, axes = plt.subplots(2, 2, figsize=(16, 12))\n",
        "\n",
        "# Neighbor Count Distribution\n",
        "ax1 = axes[0, 0]\n",
        "neighbor_dist = final_df.groupby('cell_id')['neighbor_count'].first()\n",
        "counts = neighbor_dist.value_counts().sort_index()\n",
        "ax1.bar(counts.index, counts.values, color=['#e74c3c', '#f39c12', '#3498db', '#2ecc71'])\n",
        "ax1.set_xlabel('Number of Neighbors', fontsize=12)\n",
        "ax1.set_ylabel('Number of Cells', fontsize=12)\n",
        "ax1.set_title('Spatial Grid: Neighbor Count Distribution\\n(Shows Edge Effects)', fontsize=14, fontweight='bold')\n",
        "ax1.set_xticks([2, 3, 4])\n",
        "for i, v in enumerate(counts.values):\n",
        "    ax1.text(counts.index[i], v + 0.5, str(v), ha='center', va='bottom', fontsize=11, fontweight='bold')\n",
        "ax1.grid(axis='y', alpha=0.3)\n",
        "\n",
        "# Spatial Lag Comparison: Original vs Lagged\n",
        "ax2 = axes[0, 1]\n",
        "# Sample a subset for visualization\n",
        "sample_data = final_df.sample(min(1000, len(final_df)), random_state=42)\n",
        "ax2.scatter(sample_data['neighbors_fires_lag1m'], sample_data['number_of_fires'],\n",
        "           alpha=0.5, s=30, color='#3498db')\n",
        "ax2.set_xlabel('Neighbor Fires (Previous Month)', fontsize=12)\n",
        "ax2.set_ylabel('Current Cell Fires', fontsize=12)\n",
        "ax2.set_title('Spatial-Temporal Relationship\\n(Lagged Neighbor Fires vs Current Fires)',\n",
        "             fontsize=14, fontweight='bold')\n",
        "ax2.grid(True, alpha=0.3)\n",
        "\n",
        "# Correlation\n",
        "corr = sample_data[['neighbors_fires_lag1m', 'number_of_fires']].corr().iloc[0, 1]\n",
        "ax2.text(0.05, 0.95, f'Correlation: {corr:.3f}',\n",
        "        transform=ax2.transAxes, fontsize=11,\n",
        "        bbox=dict(boxstyle='round', facecolor='wheat', alpha=0.5),\n",
        "        verticalalignment='top')\n",
        "\n",
        "# Edge Effect Analysis\n",
        "ax3 = axes[1, 0]\n",
        "edge_analysis = final_df.groupby('neighbor_count').agg({\n",
        "    'number_of_fires': 'mean',\n",
        "    'neighbors_fires_lag1m': 'mean',\n",
        "    'neighbors_fires_avg': 'mean'\n",
        "}).reset_index()\n",
        "\n",
        "x = range(len(edge_analysis))\n",
        "width = 0.35\n",
        "ax3.bar([i - width/2 for i in x], edge_analysis['number_of_fires'],\n",
        "       width, label='Avg Fires in Cell', color='#e74c3c', alpha=0.8)\n",
        "ax3.bar([i + width/2 for i in x], edge_analysis['neighbors_fires_avg'].fillna(0) * 4,\n",
        "       width, label='Avg Neighbor Fires (scaled)', color='#3498db', alpha=0.8)\n",
        "\n",
        "ax3.set_xlabel('Number of Neighbors', fontsize=12)\n",
        "ax3.set_ylabel('Average Fire Count', fontsize=12)\n",
        "ax3.set_title('Fire Risk by Neighbor Count\\n(Border vs Interior Cells)',\n",
        "             fontsize=14, fontweight='bold')\n",
        "ax3.set_xticks(x)\n",
        "ax3.set_xticklabels(edge_analysis['neighbor_count'])\n",
        "ax3.legend()\n",
        "ax3.grid(axis='y', alpha=0.3)\n",
        "\n",
        "# Time Series: Spatial Lag Feature Evolution\n",
        "ax4 = axes[1, 1]\n",
        "# Aggregate by month\n",
        "monthly_spatial = final_df.groupby('year_month').agg({\n",
        "    'neighbors_fires_lag1m': 'mean',\n",
        "    'number_of_fires': 'mean'\n",
        "}).reset_index()\n",
        "\n",
        "# Convert period to datetime for plotting\n",
        "monthly_spatial['date'] = monthly_spatial['year_month'].dt.to_timestamp()\n",
        "\n",
        "ax4.plot(monthly_spatial['date'], monthly_spatial['number_of_fires'],\n",
        "        label='Current Cell Fires', linewidth=2, color='#e74c3c')\n",
        "ax4.plot(monthly_spatial['date'], monthly_spatial['neighbors_fires_lag1m'],\n",
        "        label='Neighbor Fires (Lag 1m)', linewidth=2, color='#3498db', linestyle='--')\n",
        "\n",
        "ax4.set_xlabel('Time', fontsize=12)\n",
        "ax4.set_ylabel('Average Fire Count', fontsize=12)\n",
        "ax4.set_title('Temporal Evolution: Spatial Lag Features\\n(Monthly Averages)',\n",
        "             fontsize=14, fontweight='bold')\n",
        "ax4.legend()\n",
        "ax4.grid(True, alpha=0.3)\n",
        "plt.xticks(rotation=45)\n",
        "\n",
        "plt.tight_layout()\n",
        "plt.show()\n",
        "\n"
      ]
    },
    {
      "cell_type": "code",
      "execution_count": 18,
      "metadata": {
        "colab": {
          "base_uri": "https://localhost:8080/"
        },
        "id": "TEPwHCsTfT2y",
        "outputId": "af40db04-c375-4516-bf9a-7654b975f94f"
      },
      "outputs": [
        {
          "output_type": "stream",
          "name": "stdout",
          "text": [
            "\n",
            "================================================================================\n",
            "EDGE EFFECTS ANALYSIS\n",
            "================================================================================\n",
            "\n",
            "Fire statistics by neighbor count:\n",
            "                number_of_fires_mean  number_of_fires_median  \\\n",
            "neighbor_count                                                 \n",
            "1                               0.10                     0.0   \n",
            "2                               2.71                     0.0   \n",
            "3                               5.72                     4.0   \n",
            "4                              20.14                    14.0   \n",
            "\n",
            "                number_of_fires_std  neighbors_fires_lag1m_mean  \\\n",
            "neighbor_count                                                    \n",
            "1                              0.35                       10.51   \n",
            "2                              4.48                       18.49   \n",
            "3                              5.94                       28.52   \n",
            "4                             24.18                       72.53   \n",
            "\n",
            "                neighbors_fires_lag1m_median  cell_id_nunique  \n",
            "neighbor_count                                                 \n",
            "1                                        9.0                4  \n",
            "2                                       13.0               19  \n",
            "3                                       20.0               22  \n",
            "4                                       50.0               70  \n"
          ]
        }
      ],
      "source": [
        "# Summary statistics\n",
        "print(\"\\n\" + \"=\"*80)\n",
        "print(\"EDGE EFFECTS ANALYSIS\")\n",
        "print(\"=\"*80)\n",
        "print(\"\\nFire statistics by neighbor count:\")\n",
        "edge_stats = final_df.groupby('neighbor_count').agg({\n",
        "    'number_of_fires': ['mean', 'median', 'std'],\n",
        "    'neighbors_fires_lag1m': ['mean', 'median'],\n",
        "    'cell_id': 'nunique'\n",
        "}).round(2)\n",
        "edge_stats.columns = ['_'.join(col).strip() for col in edge_stats.columns.values]\n",
        "print(edge_stats)\n",
        "\n"
      ]
    },
    {
      "cell_type": "markdown",
      "metadata": {
        "id": "bf-p_dL-fT2y"
      },
      "source": [
        "## Data Quality Checks"
      ]
    },
    {
      "cell_type": "code",
      "execution_count": 19,
      "metadata": {
        "id": "3Bm5m25MfT2y",
        "outputId": "f91c17f3-f71c-4fc9-e46d-6d80b198c985",
        "colab": {
          "base_uri": "https://localhost:8080/"
        }
      },
      "outputs": [
        {
          "output_type": "stream",
          "name": "stdout",
          "text": [
            "\n",
            "Missing values:\n",
            "   No missing values found\n"
          ]
        }
      ],
      "source": [
        "# Missing values\n",
        "print(\"\\nMissing values:\")\n",
        "missing = final_df.isnull().sum()\n",
        "if missing.sum() > 0:\n",
        "    print(missing[missing > 0])\n",
        "else:\n",
        "    print(\"   No missing values found\")\n",
        "\n"
      ]
    },
    {
      "cell_type": "code",
      "execution_count": 20,
      "metadata": {
        "id": "iMz3htYvfT2y",
        "outputId": "a60c559c-e6ec-4ca3-f44e-1397ed71c5c0",
        "colab": {
          "base_uri": "https://localhost:8080/"
        }
      },
      "outputs": [
        {
          "output_type": "stream",
          "name": "stdout",
          "text": [
            "\n",
            "Duplicate records:\n",
            "   Duplicate rows: 0\n"
          ]
        }
      ],
      "source": [
        "# Duplicate records\n",
        "print(\"\\nDuplicate records:\")\n",
        "duplicates = final_df.duplicated(subset=['cell_id', 'year_month']).sum()\n",
        "print(f\"   Duplicate rows: {duplicates}\")\n",
        "if duplicates > 0:\n",
        "    print(\"   Removing duplicates...\")\n",
        "    final_df = final_df.drop_duplicates(subset=['cell_id', 'year_month'])\n",
        "\n"
      ]
    },
    {
      "cell_type": "code",
      "execution_count": 21,
      "metadata": {
        "id": "LosENR7RfT2y",
        "outputId": "75943a97-ebf0-4f45-a2b0-ae567be942ae",
        "colab": {
          "base_uri": "https://localhost:8080/"
        }
      },
      "outputs": [
        {
          "output_type": "stream",
          "name": "stdout",
          "text": [
            "\n",
            "Temporal coverage:\n",
            "   Min observations per cell: 241\n",
            "   Max observations per cell: 241\n",
            "   Mean observations per cell: 241.00\n"
          ]
        }
      ],
      "source": [
        "# Temporal coverage\n",
        "print(\"\\nTemporal coverage:\")\n",
        "coverage = final_df.groupby('cell_id')['year_month'].count()\n",
        "print(f\"   Min observations per cell: {coverage.min()}\")\n",
        "print(f\"   Max observations per cell: {coverage.max()}\")\n",
        "print(f\"   Mean observations per cell: {coverage.mean():.2f}\")\n",
        "\n"
      ]
    },
    {
      "cell_type": "code",
      "execution_count": 22,
      "metadata": {
        "id": "pGz-X6_ZfT2y",
        "outputId": "465a8157-6ada-4255-ef30-218a46f1ce07",
        "colab": {
          "base_uri": "https://localhost:8080/"
        }
      },
      "outputs": [
        {
          "output_type": "stream",
          "name": "stdout",
          "text": [
            "\n",
            "Target variable class balance:\n",
            "   No fire (0): 16.82%\n",
            "   Fire (1): 83.18%\n"
          ]
        }
      ],
      "source": [
        "# Class balance\n",
        "print(\"\\nTarget variable class balance:\")\n",
        "class_dist = final_df['Target_Variable'].value_counts(normalize=True)\n",
        "print(f\"   No fire (0): {class_dist[0]:.2%}\")\n",
        "print(f\"   Fire (1): {class_dist[1]:.2%}\")\n",
        "\n"
      ]
    },
    {
      "cell_type": "code",
      "execution_count": 23,
      "metadata": {
        "id": "t1nL4zA4fT2z",
        "outputId": "a5488014-a379-4d1a-ed0f-391587daf771",
        "colab": {
          "base_uri": "https://localhost:8080/"
        }
      },
      "outputs": [
        {
          "output_type": "stream",
          "name": "stdout",
          "text": [
            "\n",
            "Data types:\n",
            "cell_id                        object\n",
            "year_month                  period[M]\n",
            "number_of_fires               float64\n",
            "num_buildings                 float64\n",
            "avg_floors                    float64\n",
            "median_construction_year      float64\n",
            "Target_Variable                 int64\n",
            "fires_lag_1m                  float64\n",
            "fires_lag_2m                  float64\n",
            "fires_lag_3m                  float64\n",
            "fires_lag_6m                  float64\n",
            "fires_lag_12m                 float64\n",
            "target_lag_1m                 float64\n",
            "target_lag_2m                 float64\n",
            "target_lag_3m                 float64\n",
            "month                           int64\n",
            "year                            int64\n",
            "month_sin                     float64\n",
            "month_cos                     float64\n",
            "neighbors_fires_lag1m         float64\n",
            "neighbors_target_lag1m          int64\n",
            "neighbor_count                  int64\n",
            "neighbors_fires_avg           float64\n",
            "dtype: object\n"
          ]
        }
      ],
      "source": [
        "# Data types\n",
        "print(\"\\nData types:\")\n",
        "print(final_df.dtypes)\n",
        "\n"
      ]
    },
    {
      "cell_type": "code",
      "execution_count": 24,
      "metadata": {
        "id": "xI2I5DJ6fT2z",
        "outputId": "9f750037-2421-4b5b-8059-99fa44447e0e",
        "colab": {
          "base_uri": "https://localhost:8080/"
        }
      },
      "outputs": [
        {
          "output_type": "stream",
          "name": "stdout",
          "text": [
            "\n",
            "Summary statistics:\n",
            "       number_of_fires  num_buildings    avg_floors  median_construction_year  \\\n",
            "count     27715.000000   27715.000000  27715.000000              27715.000000   \n",
            "mean         13.801479    4057.730435      1.529465               1970.300000   \n",
            "std          20.727958    4279.061658      0.318790                 17.754658   \n",
            "min           0.000000       0.000000      0.041667               1920.000000   \n",
            "25%           2.000000     367.000000      1.383245               1959.000000   \n",
            "50%           7.000000    3345.000000      1.568368               1968.000000   \n",
            "75%          18.000000    5799.000000      1.717582               1984.000000   \n",
            "max         242.000000   23916.000000      3.069767               2014.000000   \n",
            "\n",
            "       Target_Variable  fires_lag_1m  fires_lag_2m  fires_lag_3m  \\\n",
            "count     27715.000000  27715.000000  27715.000000  27715.000000   \n",
            "mean          0.831788     13.754176     13.684719     13.610752   \n",
            "std           0.374061     20.715315     20.663525     20.621045   \n",
            "min           0.000000      0.000000      0.000000      0.000000   \n",
            "25%           1.000000      2.000000      2.000000      1.000000   \n",
            "50%           1.000000      7.000000      7.000000      7.000000   \n",
            "75%           1.000000     18.000000     18.000000     18.000000   \n",
            "max           1.000000    242.000000    242.000000    242.000000   \n",
            "\n",
            "       fires_lag_6m  fires_lag_12m  ...  target_lag_2m  target_lag_3m  \\\n",
            "count  27715.000000   27715.000000  ...   27715.000000   27715.000000   \n",
            "mean      13.406892      13.040628  ...       0.824824       0.821288   \n",
            "std       20.484184      20.236373  ...       0.380124       0.383118   \n",
            "min        0.000000       0.000000  ...       0.000000       0.000000   \n",
            "25%        1.000000       1.000000  ...       1.000000       1.000000   \n",
            "50%        7.000000       7.000000  ...       1.000000       1.000000   \n",
            "75%       18.000000      17.000000  ...       1.000000       1.000000   \n",
            "max      242.000000     242.000000  ...       1.000000       1.000000   \n",
            "\n",
            "              month          year     month_sin     month_cos  \\\n",
            "count  27715.000000  27715.000000  2.771500e+04  2.771500e+04   \n",
            "mean       6.510373   2015.207469 -4.149378e-03 -4.646793e-17   \n",
            "std        3.448692      5.808107  7.085729e-01  7.056510e-01   \n",
            "min        1.000000   2005.000000 -1.000000e+00 -1.000000e+00   \n",
            "25%        4.000000   2010.000000 -8.660254e-01 -5.000000e-01   \n",
            "50%        7.000000   2015.000000 -2.449294e-16 -1.836970e-16   \n",
            "75%        9.000000   2020.000000  5.000000e-01  5.000000e-01   \n",
            "max       12.000000   2025.000000  1.000000e+00  1.000000e+00   \n",
            "\n",
            "       neighbors_fires_lag1m  neighbors_target_lag1m  neighbor_count  \\\n",
            "count           27715.000000            27715.000000    27715.000000   \n",
            "mean               53.026123                2.984268        3.373913   \n",
            "std                60.316412                1.105647        0.879352   \n",
            "min                 0.000000                0.000000        1.000000   \n",
            "25%                14.000000                2.000000        3.000000   \n",
            "50%                30.000000                3.000000        4.000000   \n",
            "75%                71.000000                4.000000        4.000000   \n",
            "max               466.000000                4.000000        4.000000   \n",
            "\n",
            "       neighbors_fires_avg  \n",
            "count         27715.000000  \n",
            "mean             14.749227  \n",
            "std              15.082315  \n",
            "min               0.000000  \n",
            "25%               4.666667  \n",
            "50%               9.500000  \n",
            "75%              20.000000  \n",
            "max             116.500000  \n",
            "\n",
            "[8 rows x 21 columns]\n"
          ]
        }
      ],
      "source": [
        "# Summary statistics\n",
        "print(\"\\nSummary statistics:\")\n",
        "print(final_df.describe())"
      ]
    },
    {
      "cell_type": "markdown",
      "metadata": {
        "id": "0aGKhPB8fT2z"
      },
      "source": [
        "## Final Dataset Summary"
      ]
    },
    {
      "cell_type": "code",
      "execution_count": 25,
      "metadata": {
        "id": "Zd1wbHShfT2z",
        "outputId": "d702c831-5df1-4f57-e139-23fd516477ec",
        "colab": {
          "base_uri": "https://localhost:8080/"
        }
      },
      "outputs": [
        {
          "output_type": "stream",
          "name": "stdout",
          "text": [
            "================================================================================\n",
            "FINAL DATASET SUMMARY\n",
            "================================================================================\n",
            "\n",
            "Dataset shape: 27,715 rows x 23 columns\n",
            "\n",
            "Spatial coverage:\n",
            "  - Unique cells: 115\n",
            "  - Cell size: 2500m x 2500m\n",
            "\n",
            "Temporal coverage:\n",
            "  - Start date: 2005-09\n",
            "  - End date: 2025-09\n",
            "  - Total months: 241\n",
            "\n",
            "Target variable:\n",
            "  - Total fire events: 23,053\n",
            "  - Fire rate: 83.18%\n",
            "\n",
            "Feature categories:\n",
            "  Spatial identifiers: cell_id\n",
            "  Temporal identifiers: year_month, year, month\n",
            "  Target: Target_Variable, number_of_fires\n",
            "  Building features: num_buildings, avg_floors, median_construction_year\n",
            "  Temporal lags: fires_lag_1m, fires_lag_2m, fires_lag_3m, fires_lag_6m, fires_lag_12m\n",
            "  Target lags: target_lag_1m, target_lag_2m, target_lag_3m\n",
            "  Seasonality: month_sin, month_cos\n",
            "  Spatial lags (with temporal lag): neighbors_fires_lag1m, neighbors_target_lag1m\n",
            "  Spatial features: neighbor_count, neighbors_fires_avg\n",
            "\n",
            "Column list:\n",
            "   1. cell_id\n",
            "   2. year_month\n",
            "   3. number_of_fires\n",
            "   4. num_buildings\n",
            "   5. avg_floors\n",
            "   6. median_construction_year\n",
            "   7. Target_Variable\n",
            "   8. fires_lag_1m\n",
            "   9. fires_lag_2m\n",
            "  10. fires_lag_3m\n",
            "  11. fires_lag_6m\n",
            "  12. fires_lag_12m\n",
            "  13. target_lag_1m\n",
            "  14. target_lag_2m\n",
            "  15. target_lag_3m\n",
            "  16. month\n",
            "  17. year\n",
            "  18. month_sin\n",
            "  19. month_cos\n",
            "  20. neighbors_fires_lag1m\n",
            "  21. neighbors_target_lag1m\n",
            "  22. neighbor_count\n",
            "  23. neighbors_fires_avg\n",
            "\n",
            "================================================================================\n",
            "Data preparation complete!\n",
            "================================================================================\n"
          ]
        }
      ],
      "source": [
        "print(\"=\"*80)\n",
        "print(\"FINAL DATASET SUMMARY\")\n",
        "print(\"=\"*80)\n",
        "\n",
        "print(f\"\\nDataset shape: {final_df.shape[0]:,} rows x {final_df.shape[1]} columns\")\n",
        "\n",
        "print(f\"\\nSpatial coverage:\")\n",
        "print(f\"  - Unique cells: {final_df['cell_id'].nunique():,}\")\n",
        "print(f\"  - Cell size: {CELL_SIZE}m x {CELL_SIZE}m\")\n",
        "\n",
        "print(f\"\\nTemporal coverage:\")\n",
        "print(f\"  - Start date: {final_df['year_month'].min()}\")\n",
        "print(f\"  - End date: {final_df['year_month'].max()}\")\n",
        "print(f\"  - Total months: {final_df['year_month'].nunique()}\")\n",
        "\n",
        "print(f\"\\nTarget variable:\")\n",
        "print(f\"  - Total fire events: {final_df['Target_Variable'].sum():,}\")\n",
        "print(f\"  - Fire rate: {final_df['Target_Variable'].mean():.2%}\")\n",
        "\n",
        "print(f\"\\nFeature categories:\")\n",
        "print(f\"  Spatial identifiers: cell_id\")\n",
        "print(f\"  Temporal identifiers: year_month, year, month\")\n",
        "print(f\"  Target: Target_Variable, number_of_fires\")\n",
        "print(f\"  Building features: num_buildings, avg_floors, median_construction_year\")\n",
        "print(f\"  Temporal lags: fires_lag_1m, fires_lag_2m, fires_lag_3m, fires_lag_6m, fires_lag_12m\")\n",
        "print(f\"  Target lags: target_lag_1m, target_lag_2m, target_lag_3m\")\n",
        "print(f\"  Seasonality: month_sin, month_cos\")\n",
        "print(f\"  Spatial lags (with temporal lag): neighbors_fires_lag1m, neighbors_target_lag1m\")\n",
        "print(f\"  Spatial features: neighbor_count, neighbors_fires_avg\")\n",
        "\n",
        "print(f\"\\nColumn list:\")\n",
        "for i, col in enumerate(final_df.columns, 1):\n",
        "    print(f\"  {i:2d}. {col}\")\n",
        "\n",
        "\n",
        "print(\"\\n\" + \"=\"*80)\n",
        "print(\"Data preparation complete!\")\n",
        "print(\"=\"*80)"
      ]
    },
    {
      "cell_type": "markdown",
      "metadata": {
        "id": "jI8-CaezfT20"
      },
      "source": [
        "## Export Final Dataset"
      ]
    },
    {
      "cell_type": "code",
      "execution_count": 29,
      "metadata": {
        "id": "vdZhcn3lfT20",
        "outputId": "63a7d27f-56b7-404e-e7a3-afe229efabf1",
        "colab": {
          "base_uri": "https://localhost:8080/"
        }
      },
      "outputs": [
        {
          "output_type": "stream",
          "name": "stdout",
          "text": [
            "Exporting to CSV: fire_risk_panel_data_201025.csv\n",
            "CSV export complete. File size: 7.32 MB\n"
          ]
        }
      ],
      "source": [
        "# Convert year_month to string for export\n",
        "final_df_export = final_df.copy()\n",
        "final_df_export['year_month'] = final_df_export['year_month'].astype(str)\n",
        "\n",
        "# Export to CSV\n",
        "#csv_path = 'Data/fire_risk_panel_data.csv'\n",
        "csv_path = 'fire_risk_panel_data_201025.csv'\n",
        "print(f\"Exporting to CSV: {csv_path}\")\n",
        "final_df_export.to_csv(csv_path, index=False)\n",
        "print(f\"CSV export complete. File size: {pd.read_csv(csv_path).memory_usage(deep=True).sum() / 1024**2:.2f} MB\")\n",
        "\n"
      ]
    },
    {
      "cell_type": "code",
      "execution_count": 30,
      "metadata": {
        "id": "g_qXwqNJfT20",
        "outputId": "9a0b6cf4-8fab-4098-cae0-92ad2fa336b4",
        "colab": {
          "base_uri": "https://localhost:8080/"
        }
      },
      "outputs": [
        {
          "output_type": "stream",
          "name": "stdout",
          "text": [
            "\n",
            "Exporting to Parquet: fire_risk_panel_data_201025.parquet\n",
            "Parquet export complete.\n"
          ]
        }
      ],
      "source": [
        "# Export to Parquet\n",
        "\n",
        "#parquet_path = 'Data/fire_risk_panel_data.parquet'\n",
        "parquet_path = 'fire_risk_panel_data_201025.parquet'\n",
        "\n",
        "print(f\"\\nExporting to Parquet: {parquet_path}\")\n",
        "final_df_export.to_parquet(parquet_path, index=False, compression='snappy', engine='pyarrow')\n",
        "print(f\"Parquet export complete.\")"
      ]
    },
    {
      "cell_type": "code",
      "execution_count": 31,
      "metadata": {
        "id": "-UjoaDhFfT20",
        "outputId": "aecd97a9-f317-4d5e-b666-0af0254f3684",
        "colab": {
          "base_uri": "https://localhost:8080/"
        }
      },
      "outputs": [
        {
          "output_type": "stream",
          "name": "stdout",
          "text": [
            "\n",
            "Dataset successfully exported to:\n",
            "  fire_risk_panel_data_201025.csv\n",
            "  fire_risk_panel_data_201025.parquet\n",
            "\n",
            "All done- now ready for model training.\n"
          ]
        }
      ],
      "source": [
        "print(f\"\\nDataset successfully exported to:\")\n",
        "print(f\"  {csv_path}\")\n",
        "print(f\"  {parquet_path}\")\n",
        "print(f\"\\nAll done- now ready for model training.\")"
      ]
    },
    {
      "cell_type": "markdown",
      "metadata": {
        "id": "kwprXFU6fT20"
      },
      "source": [
        "## Display Sample Data"
      ]
    },
    {
      "cell_type": "code",
      "execution_count": 32,
      "metadata": {
        "id": "HcKgrX5rfT20",
        "outputId": "a35b1155-d99f-491a-9a12-20e287c6317c",
        "colab": {
          "base_uri": "https://localhost:8080/"
        }
      },
      "outputs": [
        {
          "output_type": "stream",
          "name": "stdout",
          "text": [
            "Sample data (first 20 rows):\n",
            "   cell_id year_month  number_of_fires  num_buildings  avg_floors  \\\n",
            "0      0_1    2005-09              1.0           37.0    1.378378   \n",
            "1      0_1    2005-10              1.0           37.0    1.378378   \n",
            "2      0_1    2005-11              0.0           37.0    1.378378   \n",
            "3      0_1    2005-12              0.0           37.0    1.378378   \n",
            "4      0_1    2006-01              0.0           37.0    1.378378   \n",
            "5      0_1    2006-02              1.0           37.0    1.378378   \n",
            "6      0_1    2006-03              1.0           37.0    1.378378   \n",
            "7      0_1    2006-04              0.0           37.0    1.378378   \n",
            "8      0_1    2006-05              0.0           37.0    1.378378   \n",
            "9      0_1    2006-06              0.0           37.0    1.378378   \n",
            "10     0_1    2006-07              0.0           37.0    1.378378   \n",
            "11     0_1    2006-08              3.0           37.0    1.378378   \n",
            "12     0_1    2006-09              0.0           37.0    1.378378   \n",
            "13     0_1    2006-10              0.0           37.0    1.378378   \n",
            "14     0_1    2006-11              0.0           37.0    1.378378   \n",
            "15     0_1    2006-12              0.0           37.0    1.378378   \n",
            "16     0_1    2007-01              0.0           37.0    1.378378   \n",
            "17     0_1    2007-02              0.0           37.0    1.378378   \n",
            "18     0_1    2007-03              0.0           37.0    1.378378   \n",
            "19     0_1    2007-04              0.0           37.0    1.378378   \n",
            "\n",
            "    median_construction_year  Target_Variable  fires_lag_1m  fires_lag_2m  \\\n",
            "0                     1953.0                1           0.0           0.0   \n",
            "1                     1953.0                1           1.0           0.0   \n",
            "2                     1953.0                0           1.0           1.0   \n",
            "3                     1953.0                0           0.0           1.0   \n",
            "4                     1953.0                0           0.0           0.0   \n",
            "5                     1953.0                1           0.0           0.0   \n",
            "6                     1953.0                1           1.0           0.0   \n",
            "7                     1953.0                0           1.0           1.0   \n",
            "8                     1953.0                0           0.0           1.0   \n",
            "9                     1953.0                0           0.0           0.0   \n",
            "10                    1953.0                0           0.0           0.0   \n",
            "11                    1953.0                1           0.0           0.0   \n",
            "12                    1953.0                0           3.0           0.0   \n",
            "13                    1953.0                0           0.0           3.0   \n",
            "14                    1953.0                0           0.0           0.0   \n",
            "15                    1953.0                0           0.0           0.0   \n",
            "16                    1953.0                0           0.0           0.0   \n",
            "17                    1953.0                0           0.0           0.0   \n",
            "18                    1953.0                0           0.0           0.0   \n",
            "19                    1953.0                0           0.0           0.0   \n",
            "\n",
            "    fires_lag_3m  ...  target_lag_2m  target_lag_3m  month  year  \\\n",
            "0            0.0  ...            0.0            0.0      9  2005   \n",
            "1            0.0  ...            0.0            0.0     10  2005   \n",
            "2            0.0  ...            1.0            0.0     11  2005   \n",
            "3            1.0  ...            1.0            1.0     12  2005   \n",
            "4            1.0  ...            0.0            1.0      1  2006   \n",
            "5            0.0  ...            0.0            0.0      2  2006   \n",
            "6            0.0  ...            0.0            0.0      3  2006   \n",
            "7            0.0  ...            1.0            0.0      4  2006   \n",
            "8            1.0  ...            1.0            1.0      5  2006   \n",
            "9            1.0  ...            0.0            1.0      6  2006   \n",
            "10           0.0  ...            0.0            0.0      7  2006   \n",
            "11           0.0  ...            0.0            0.0      8  2006   \n",
            "12           0.0  ...            0.0            0.0      9  2006   \n",
            "13           0.0  ...            1.0            0.0     10  2006   \n",
            "14           3.0  ...            0.0            1.0     11  2006   \n",
            "15           0.0  ...            0.0            0.0     12  2006   \n",
            "16           0.0  ...            0.0            0.0      1  2007   \n",
            "17           0.0  ...            0.0            0.0      2  2007   \n",
            "18           0.0  ...            0.0            0.0      3  2007   \n",
            "19           0.0  ...            0.0            0.0      4  2007   \n",
            "\n",
            "       month_sin     month_cos  neighbors_fires_lag1m  neighbors_target_lag1m  \\\n",
            "0  -1.000000e+00 -1.836970e-16                    0.0                       0   \n",
            "1  -8.660254e-01  5.000000e-01                    3.0                       1   \n",
            "2  -5.000000e-01  8.660254e-01                    3.0                       1   \n",
            "3  -2.449294e-16  1.000000e+00                    4.0                       1   \n",
            "4   5.000000e-01  8.660254e-01                    4.0                       1   \n",
            "5   8.660254e-01  5.000000e-01                    8.0                       1   \n",
            "6   1.000000e+00  6.123234e-17                    5.0                       1   \n",
            "7   8.660254e-01 -5.000000e-01                    5.0                       1   \n",
            "8   5.000000e-01 -8.660254e-01                    5.0                       1   \n",
            "9   1.224647e-16 -1.000000e+00                   16.0                       1   \n",
            "10 -5.000000e-01 -8.660254e-01                   11.0                       1   \n",
            "11 -8.660254e-01 -5.000000e-01                    6.0                       1   \n",
            "12 -1.000000e+00 -1.836970e-16                    5.0                       1   \n",
            "13 -8.660254e-01  5.000000e-01                    4.0                       1   \n",
            "14 -5.000000e-01  8.660254e-01                    3.0                       1   \n",
            "15 -2.449294e-16  1.000000e+00                    2.0                       1   \n",
            "16  5.000000e-01  8.660254e-01                    7.0                       1   \n",
            "17  8.660254e-01  5.000000e-01                    5.0                       1   \n",
            "18  1.000000e+00  6.123234e-17                    3.0                       1   \n",
            "19  8.660254e-01 -5.000000e-01                    4.0                       1   \n",
            "\n",
            "    neighbor_count  neighbors_fires_avg  \n",
            "0                1                  0.0  \n",
            "1                1                  3.0  \n",
            "2                1                  3.0  \n",
            "3                1                  4.0  \n",
            "4                1                  4.0  \n",
            "5                1                  8.0  \n",
            "6                1                  5.0  \n",
            "7                1                  5.0  \n",
            "8                1                  5.0  \n",
            "9                1                 16.0  \n",
            "10               1                 11.0  \n",
            "11               1                  6.0  \n",
            "12               1                  5.0  \n",
            "13               1                  4.0  \n",
            "14               1                  3.0  \n",
            "15               1                  2.0  \n",
            "16               1                  7.0  \n",
            "17               1                  5.0  \n",
            "18               1                  3.0  \n",
            "19               1                  4.0  \n",
            "\n",
            "[20 rows x 23 columns]\n",
            "\n",
            "Sample data (random 10 rows with fires):\n",
            "      cell_id year_month  number_of_fires  num_buildings  avg_floors  \\\n",
            "24647     7_9    2011-02              6.0         1768.0    1.672511   \n",
            "3963    13_15    2014-08              6.0         2440.0    1.382377   \n",
            "10206     2_9    2012-09              9.0         5890.0    1.568251   \n",
            "23762    7_12    2017-09             48.0        13682.0    1.840740   \n",
            "5614     1_11    2011-08              9.0         2453.0    1.782715   \n",
            "16685     4_7    2010-05              3.0          202.0    1.554455   \n",
            "22045     6_3    2015-03              1.0           52.0    1.365385   \n",
            "19323     5_4    2009-04              5.0         4161.0    1.493631   \n",
            "21210    6_12    2005-11             59.0        16840.0    1.660036   \n",
            "7978     2_13    2007-10              5.0         1485.0    1.939394   \n",
            "\n",
            "       median_construction_year  Target_Variable  fires_lag_1m  fires_lag_2m  \\\n",
            "24647                    1960.0                1           3.0           7.0   \n",
            "3963                     1994.0                1           5.0           3.0   \n",
            "10206                    1968.0                1          13.0          16.0   \n",
            "23762                    1950.0                1          37.0          41.0   \n",
            "5614                     1965.0                1          11.0          11.0   \n",
            "16685                    1984.0                1           5.0           3.0   \n",
            "22045                    1975.5                1           0.0           0.0   \n",
            "19323                    1985.0                1           1.0           5.0   \n",
            "21210                    1926.0                1          62.0          55.0   \n",
            "7978                     1948.0                1           3.0           6.0   \n",
            "\n",
            "       fires_lag_3m  ...  target_lag_2m  target_lag_3m  month  year  \\\n",
            "24647           2.0  ...            1.0            1.0      2  2011   \n",
            "3963            5.0  ...            1.0            1.0      8  2014   \n",
            "10206          13.0  ...            1.0            1.0      9  2012   \n",
            "23762          36.0  ...            1.0            1.0      9  2017   \n",
            "5614           12.0  ...            1.0            1.0      8  2011   \n",
            "16685           5.0  ...            1.0            1.0      5  2010   \n",
            "22045           0.0  ...            0.0            0.0      3  2015   \n",
            "19323           5.0  ...            1.0            1.0      4  2009   \n",
            "21210           0.0  ...            1.0            0.0     11  2005   \n",
            "7978            1.0  ...            1.0            1.0     10  2007   \n",
            "\n",
            "       month_sin     month_cos  neighbors_fires_lag1m  neighbors_target_lag1m  \\\n",
            "24647   0.866025  5.000000e-01                   40.0                       2   \n",
            "3963   -0.866025 -5.000000e-01                   16.0                       2   \n",
            "10206  -1.000000 -1.836970e-16                   28.0                       3   \n",
            "23762  -1.000000 -1.836970e-16                  149.0                       4   \n",
            "5614   -0.866025 -5.000000e-01                   23.0                       2   \n",
            "16685   0.500000 -8.660254e-01                   35.0                       4   \n",
            "22045   1.000000  6.123234e-17                    3.0                       2   \n",
            "19323   0.866025 -5.000000e-01                   24.0                       3   \n",
            "21210  -0.500000  8.660254e-01                  195.0                       4   \n",
            "7978   -0.866025  5.000000e-01                   47.0                       3   \n",
            "\n",
            "       neighbor_count  neighbors_fires_avg  \n",
            "24647               2            20.000000  \n",
            "3963                4             4.000000  \n",
            "10206               3             9.333333  \n",
            "23762               4            37.250000  \n",
            "5614                3             7.666667  \n",
            "16685               4             8.750000  \n",
            "22045               2             1.500000  \n",
            "19323               4             6.000000  \n",
            "21210               4            48.750000  \n",
            "7978                4            11.750000  \n",
            "\n",
            "[10 rows x 23 columns]\n"
          ]
        }
      ],
      "source": [
        "# Sample data\n",
        "print(\"Sample data (first 20 rows):\")\n",
        "print(final_df.head(20))\n",
        "\n",
        "print(\"\\nSample data (random 10 rows with fires):\")\n",
        "print(final_df[final_df['Target_Variable'] == 1].sample(min(10, len(final_df[final_df['Target_Variable'] == 1]))))"
      ]
    },
    {
      "cell_type": "code",
      "source": [],
      "metadata": {
        "id": "5hpX7NeRcer9"
      },
      "execution_count": null,
      "outputs": []
    }
  ],
  "metadata": {
    "kernelspec": {
      "display_name": ".venv",
      "language": "python",
      "name": "python3"
    },
    "language_info": {
      "codemirror_mode": {
        "name": "ipython",
        "version": 3
      },
      "file_extension": ".py",
      "mimetype": "text/x-python",
      "name": "python",
      "nbconvert_exporter": "python",
      "pygments_lexer": "ipython3",
      "version": "3.12.3"
    },
    "colab": {
      "provenance": []
    }
  },
  "nbformat": 4,
  "nbformat_minor": 0
}