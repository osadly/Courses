{
 "cells": [
  {
   "cell_type": "code",
   "execution_count": 13,
   "id": "6beac452-d136-49b6-8c39-62921387f2b7",
   "metadata": {},
   "outputs": [
    {
     "ename": "KeyboardInterrupt",
     "evalue": "",
     "output_type": "error",
     "traceback": [
      "\u001b[1;31m---------------------------------------------------------------------------\u001b[0m",
      "\u001b[1;31mKeyboardInterrupt\u001b[0m                         Traceback (most recent call last)",
      "Cell \u001b[1;32mIn[13], line 8\u001b[0m\n\u001b[0;32m      5\u001b[0m csv_file_name \u001b[38;5;241m=\u001b[39m file_path\u001b[38;5;241m+\u001b[39m\u001b[38;5;124mr\u001b[39m\u001b[38;5;124m\"\u001b[39m\u001b[38;5;124m\\\u001b[39m\u001b[38;5;124m98-401-X2021007_English_CSV_data.csv\u001b[39m\u001b[38;5;124m\"\u001b[39m\n\u001b[0;32m      6\u001b[0m parquet_file_name \u001b[38;5;241m=\u001b[39m file_path\u001b[38;5;241m+\u001b[39m\u001b[38;5;124mr\u001b[39m\u001b[38;5;124m\"\u001b[39m\u001b[38;5;124m\\\u001b[39m\u001b[38;5;124mcensus_data_asParquet.parquet\u001b[39m\u001b[38;5;124m\"\u001b[39m\n\u001b[1;32m----> 8\u001b[0m \u001b[43mpd\u001b[49m\u001b[38;5;241;43m.\u001b[39;49m\u001b[43mread_csv\u001b[49m\u001b[43m(\u001b[49m\u001b[43mcsv_file_name\u001b[49m\u001b[43m,\u001b[49m\u001b[43mencoding\u001b[49m\u001b[38;5;241;43m=\u001b[39;49m\u001b[38;5;124;43m'\u001b[39;49m\u001b[38;5;124;43mwindows-1252\u001b[39;49m\u001b[38;5;124;43m'\u001b[39;49m\u001b[43m,\u001b[49m\u001b[43mlow_memory\u001b[49m\u001b[38;5;241;43m=\u001b[39;49m\u001b[38;5;28;43;01mFalse\u001b[39;49;00m\u001b[43m)\u001b[49m\u001b[38;5;241;43m.\u001b[39;49m\u001b[43mto_parquet\u001b[49m\u001b[43m(\u001b[49m\u001b[43mparquet_file_name\u001b[49m\u001b[43m,\u001b[49m\u001b[43m \u001b[49m\u001b[43mindex\u001b[49m\u001b[38;5;241;43m=\u001b[39;49m\u001b[38;5;28;43;01mFalse\u001b[39;49;00m\u001b[43m)\u001b[49m\n",
      "File \u001b[1;32mC:\\ProgramData\\anaconda3\\Lib\\site-packages\\pandas\\util\\_decorators.py:333\u001b[0m, in \u001b[0;36mdeprecate_nonkeyword_arguments.<locals>.decorate.<locals>.wrapper\u001b[1;34m(*args, **kwargs)\u001b[0m\n\u001b[0;32m    327\u001b[0m \u001b[38;5;28;01mif\u001b[39;00m \u001b[38;5;28mlen\u001b[39m(args) \u001b[38;5;241m>\u001b[39m num_allow_args:\n\u001b[0;32m    328\u001b[0m     warnings\u001b[38;5;241m.\u001b[39mwarn(\n\u001b[0;32m    329\u001b[0m         msg\u001b[38;5;241m.\u001b[39mformat(arguments\u001b[38;5;241m=\u001b[39m_format_argument_list(allow_args)),\n\u001b[0;32m    330\u001b[0m         \u001b[38;5;167;01mFutureWarning\u001b[39;00m,\n\u001b[0;32m    331\u001b[0m         stacklevel\u001b[38;5;241m=\u001b[39mfind_stack_level(),\n\u001b[0;32m    332\u001b[0m     )\n\u001b[1;32m--> 333\u001b[0m \u001b[38;5;28;01mreturn\u001b[39;00m \u001b[43mfunc\u001b[49m\u001b[43m(\u001b[49m\u001b[38;5;241;43m*\u001b[39;49m\u001b[43margs\u001b[49m\u001b[43m,\u001b[49m\u001b[43m \u001b[49m\u001b[38;5;241;43m*\u001b[39;49m\u001b[38;5;241;43m*\u001b[39;49m\u001b[43mkwargs\u001b[49m\u001b[43m)\u001b[49m\n",
      "File \u001b[1;32mC:\\ProgramData\\anaconda3\\Lib\\site-packages\\pandas\\core\\frame.py:3118\u001b[0m, in \u001b[0;36mDataFrame.to_parquet\u001b[1;34m(self, path, engine, compression, index, partition_cols, storage_options, **kwargs)\u001b[0m\n\u001b[0;32m   3037\u001b[0m \u001b[38;5;250m\u001b[39m\u001b[38;5;124;03m\"\"\"\u001b[39;00m\n\u001b[0;32m   3038\u001b[0m \u001b[38;5;124;03mWrite a DataFrame to the binary parquet format.\u001b[39;00m\n\u001b[0;32m   3039\u001b[0m \n\u001b[1;32m   (...)\u001b[0m\n\u001b[0;32m   3114\u001b[0m \u001b[38;5;124;03m>>> content = f.read()\u001b[39;00m\n\u001b[0;32m   3115\u001b[0m \u001b[38;5;124;03m\"\"\"\u001b[39;00m\n\u001b[0;32m   3116\u001b[0m \u001b[38;5;28;01mfrom\u001b[39;00m\u001b[38;5;250m \u001b[39m\u001b[38;5;21;01mpandas\u001b[39;00m\u001b[38;5;21;01m.\u001b[39;00m\u001b[38;5;21;01mio\u001b[39;00m\u001b[38;5;21;01m.\u001b[39;00m\u001b[38;5;21;01mparquet\u001b[39;00m\u001b[38;5;250m \u001b[39m\u001b[38;5;28;01mimport\u001b[39;00m to_parquet\n\u001b[1;32m-> 3118\u001b[0m \u001b[38;5;28;01mreturn\u001b[39;00m \u001b[43mto_parquet\u001b[49m\u001b[43m(\u001b[49m\n\u001b[0;32m   3119\u001b[0m \u001b[43m    \u001b[49m\u001b[38;5;28;43mself\u001b[39;49m\u001b[43m,\u001b[49m\n\u001b[0;32m   3120\u001b[0m \u001b[43m    \u001b[49m\u001b[43mpath\u001b[49m\u001b[43m,\u001b[49m\n\u001b[0;32m   3121\u001b[0m \u001b[43m    \u001b[49m\u001b[43mengine\u001b[49m\u001b[43m,\u001b[49m\n\u001b[0;32m   3122\u001b[0m \u001b[43m    \u001b[49m\u001b[43mcompression\u001b[49m\u001b[38;5;241;43m=\u001b[39;49m\u001b[43mcompression\u001b[49m\u001b[43m,\u001b[49m\n\u001b[0;32m   3123\u001b[0m \u001b[43m    \u001b[49m\u001b[43mindex\u001b[49m\u001b[38;5;241;43m=\u001b[39;49m\u001b[43mindex\u001b[49m\u001b[43m,\u001b[49m\n\u001b[0;32m   3124\u001b[0m \u001b[43m    \u001b[49m\u001b[43mpartition_cols\u001b[49m\u001b[38;5;241;43m=\u001b[39;49m\u001b[43mpartition_cols\u001b[49m\u001b[43m,\u001b[49m\n\u001b[0;32m   3125\u001b[0m \u001b[43m    \u001b[49m\u001b[43mstorage_options\u001b[49m\u001b[38;5;241;43m=\u001b[39;49m\u001b[43mstorage_options\u001b[49m\u001b[43m,\u001b[49m\n\u001b[0;32m   3126\u001b[0m \u001b[43m    \u001b[49m\u001b[38;5;241;43m*\u001b[39;49m\u001b[38;5;241;43m*\u001b[39;49m\u001b[43mkwargs\u001b[49m\u001b[43m,\u001b[49m\n\u001b[0;32m   3127\u001b[0m \u001b[43m\u001b[49m\u001b[43m)\u001b[49m\n",
      "File \u001b[1;32mC:\\ProgramData\\anaconda3\\Lib\\site-packages\\pandas\\io\\parquet.py:482\u001b[0m, in \u001b[0;36mto_parquet\u001b[1;34m(df, path, engine, compression, index, storage_options, partition_cols, filesystem, **kwargs)\u001b[0m\n\u001b[0;32m    478\u001b[0m impl \u001b[38;5;241m=\u001b[39m get_engine(engine)\n\u001b[0;32m    480\u001b[0m path_or_buf: FilePath \u001b[38;5;241m|\u001b[39m WriteBuffer[\u001b[38;5;28mbytes\u001b[39m] \u001b[38;5;241m=\u001b[39m io\u001b[38;5;241m.\u001b[39mBytesIO() \u001b[38;5;28;01mif\u001b[39;00m path \u001b[38;5;129;01mis\u001b[39;00m \u001b[38;5;28;01mNone\u001b[39;00m \u001b[38;5;28;01melse\u001b[39;00m path\n\u001b[1;32m--> 482\u001b[0m \u001b[43mimpl\u001b[49m\u001b[38;5;241;43m.\u001b[39;49m\u001b[43mwrite\u001b[49m\u001b[43m(\u001b[49m\n\u001b[0;32m    483\u001b[0m \u001b[43m    \u001b[49m\u001b[43mdf\u001b[49m\u001b[43m,\u001b[49m\n\u001b[0;32m    484\u001b[0m \u001b[43m    \u001b[49m\u001b[43mpath_or_buf\u001b[49m\u001b[43m,\u001b[49m\n\u001b[0;32m    485\u001b[0m \u001b[43m    \u001b[49m\u001b[43mcompression\u001b[49m\u001b[38;5;241;43m=\u001b[39;49m\u001b[43mcompression\u001b[49m\u001b[43m,\u001b[49m\n\u001b[0;32m    486\u001b[0m \u001b[43m    \u001b[49m\u001b[43mindex\u001b[49m\u001b[38;5;241;43m=\u001b[39;49m\u001b[43mindex\u001b[49m\u001b[43m,\u001b[49m\n\u001b[0;32m    487\u001b[0m \u001b[43m    \u001b[49m\u001b[43mpartition_cols\u001b[49m\u001b[38;5;241;43m=\u001b[39;49m\u001b[43mpartition_cols\u001b[49m\u001b[43m,\u001b[49m\n\u001b[0;32m    488\u001b[0m \u001b[43m    \u001b[49m\u001b[43mstorage_options\u001b[49m\u001b[38;5;241;43m=\u001b[39;49m\u001b[43mstorage_options\u001b[49m\u001b[43m,\u001b[49m\n\u001b[0;32m    489\u001b[0m \u001b[43m    \u001b[49m\u001b[43mfilesystem\u001b[49m\u001b[38;5;241;43m=\u001b[39;49m\u001b[43mfilesystem\u001b[49m\u001b[43m,\u001b[49m\n\u001b[0;32m    490\u001b[0m \u001b[43m    \u001b[49m\u001b[38;5;241;43m*\u001b[39;49m\u001b[38;5;241;43m*\u001b[39;49m\u001b[43mkwargs\u001b[49m\u001b[43m,\u001b[49m\n\u001b[0;32m    491\u001b[0m \u001b[43m\u001b[49m\u001b[43m)\u001b[49m\n\u001b[0;32m    493\u001b[0m \u001b[38;5;28;01mif\u001b[39;00m path \u001b[38;5;129;01mis\u001b[39;00m \u001b[38;5;28;01mNone\u001b[39;00m:\n\u001b[0;32m    494\u001b[0m     \u001b[38;5;28;01massert\u001b[39;00m \u001b[38;5;28misinstance\u001b[39m(path_or_buf, io\u001b[38;5;241m.\u001b[39mBytesIO)\n",
      "File \u001b[1;32mC:\\ProgramData\\anaconda3\\Lib\\site-packages\\pandas\\io\\parquet.py:229\u001b[0m, in \u001b[0;36mPyArrowImpl.write\u001b[1;34m(self, df, path, compression, index, storage_options, partition_cols, filesystem, **kwargs)\u001b[0m\n\u001b[0;32m    219\u001b[0m         \u001b[38;5;28mself\u001b[39m\u001b[38;5;241m.\u001b[39mapi\u001b[38;5;241m.\u001b[39mparquet\u001b[38;5;241m.\u001b[39mwrite_to_dataset(\n\u001b[0;32m    220\u001b[0m             table,\n\u001b[0;32m    221\u001b[0m             path_or_handle,\n\u001b[1;32m   (...)\u001b[0m\n\u001b[0;32m    225\u001b[0m             \u001b[38;5;241m*\u001b[39m\u001b[38;5;241m*\u001b[39mkwargs,\n\u001b[0;32m    226\u001b[0m         )\n\u001b[0;32m    227\u001b[0m     \u001b[38;5;28;01melse\u001b[39;00m:\n\u001b[0;32m    228\u001b[0m         \u001b[38;5;66;03m# write to single output file\u001b[39;00m\n\u001b[1;32m--> 229\u001b[0m         \u001b[38;5;28;43mself\u001b[39;49m\u001b[38;5;241;43m.\u001b[39;49m\u001b[43mapi\u001b[49m\u001b[38;5;241;43m.\u001b[39;49m\u001b[43mparquet\u001b[49m\u001b[38;5;241;43m.\u001b[39;49m\u001b[43mwrite_table\u001b[49m\u001b[43m(\u001b[49m\n\u001b[0;32m    230\u001b[0m \u001b[43m            \u001b[49m\u001b[43mtable\u001b[49m\u001b[43m,\u001b[49m\n\u001b[0;32m    231\u001b[0m \u001b[43m            \u001b[49m\u001b[43mpath_or_handle\u001b[49m\u001b[43m,\u001b[49m\n\u001b[0;32m    232\u001b[0m \u001b[43m            \u001b[49m\u001b[43mcompression\u001b[49m\u001b[38;5;241;43m=\u001b[39;49m\u001b[43mcompression\u001b[49m\u001b[43m,\u001b[49m\n\u001b[0;32m    233\u001b[0m \u001b[43m            \u001b[49m\u001b[43mfilesystem\u001b[49m\u001b[38;5;241;43m=\u001b[39;49m\u001b[43mfilesystem\u001b[49m\u001b[43m,\u001b[49m\n\u001b[0;32m    234\u001b[0m \u001b[43m            \u001b[49m\u001b[38;5;241;43m*\u001b[39;49m\u001b[38;5;241;43m*\u001b[39;49m\u001b[43mkwargs\u001b[49m\u001b[43m,\u001b[49m\n\u001b[0;32m    235\u001b[0m \u001b[43m        \u001b[49m\u001b[43m)\u001b[49m\n\u001b[0;32m    236\u001b[0m \u001b[38;5;28;01mfinally\u001b[39;00m:\n\u001b[0;32m    237\u001b[0m     \u001b[38;5;28;01mif\u001b[39;00m handles \u001b[38;5;129;01mis\u001b[39;00m \u001b[38;5;129;01mnot\u001b[39;00m \u001b[38;5;28;01mNone\u001b[39;00m:\n",
      "File \u001b[1;32mC:\\ProgramData\\anaconda3\\Lib\\site-packages\\pyarrow\\parquet\\core.py:3127\u001b[0m, in \u001b[0;36mwrite_table\u001b[1;34m(table, where, row_group_size, version, use_dictionary, compression, write_statistics, use_deprecated_int96_timestamps, coerce_timestamps, allow_truncated_timestamps, data_page_size, flavor, filesystem, compression_level, use_byte_stream_split, column_encoding, data_page_version, use_compliant_nested_type, encryption_properties, write_batch_size, dictionary_pagesize_limit, store_schema, write_page_index, **kwargs)\u001b[0m\n\u001b[0;32m   3103\u001b[0m \u001b[38;5;28;01mtry\u001b[39;00m:\n\u001b[0;32m   3104\u001b[0m     \u001b[38;5;28;01mwith\u001b[39;00m ParquetWriter(\n\u001b[0;32m   3105\u001b[0m             where, table\u001b[38;5;241m.\u001b[39mschema,\n\u001b[0;32m   3106\u001b[0m             filesystem\u001b[38;5;241m=\u001b[39mfilesystem,\n\u001b[1;32m   (...)\u001b[0m\n\u001b[0;32m   3125\u001b[0m             write_page_index\u001b[38;5;241m=\u001b[39mwrite_page_index,\n\u001b[0;32m   3126\u001b[0m             \u001b[38;5;241m*\u001b[39m\u001b[38;5;241m*\u001b[39mkwargs) \u001b[38;5;28;01mas\u001b[39;00m writer:\n\u001b[1;32m-> 3127\u001b[0m         \u001b[43mwriter\u001b[49m\u001b[38;5;241;43m.\u001b[39;49m\u001b[43mwrite_table\u001b[49m\u001b[43m(\u001b[49m\u001b[43mtable\u001b[49m\u001b[43m,\u001b[49m\u001b[43m \u001b[49m\u001b[43mrow_group_size\u001b[49m\u001b[38;5;241;43m=\u001b[39;49m\u001b[43mrow_group_size\u001b[49m\u001b[43m)\u001b[49m\n\u001b[0;32m   3128\u001b[0m \u001b[38;5;28;01mexcept\u001b[39;00m \u001b[38;5;167;01mException\u001b[39;00m:\n\u001b[0;32m   3129\u001b[0m     \u001b[38;5;28;01mif\u001b[39;00m _is_path_like(where):\n",
      "File \u001b[1;32mC:\\ProgramData\\anaconda3\\Lib\\site-packages\\pyarrow\\parquet\\core.py:1108\u001b[0m, in \u001b[0;36mParquetWriter.write_table\u001b[1;34m(self, table, row_group_size)\u001b[0m\n\u001b[0;32m   1103\u001b[0m     msg \u001b[38;5;241m=\u001b[39m (\u001b[38;5;124m'\u001b[39m\u001b[38;5;124mTable schema does not match schema used to create file: \u001b[39m\u001b[38;5;124m'\u001b[39m\n\u001b[0;32m   1104\u001b[0m            \u001b[38;5;124m'\u001b[39m\u001b[38;5;130;01m\\n\u001b[39;00m\u001b[38;5;124mtable:\u001b[39m\u001b[38;5;130;01m\\n\u001b[39;00m\u001b[38;5;132;01m{!s}\u001b[39;00m\u001b[38;5;124m vs. \u001b[39m\u001b[38;5;130;01m\\n\u001b[39;00m\u001b[38;5;124mfile:\u001b[39m\u001b[38;5;130;01m\\n\u001b[39;00m\u001b[38;5;132;01m{!s}\u001b[39;00m\u001b[38;5;124m'\u001b[39m\n\u001b[0;32m   1105\u001b[0m            \u001b[38;5;241m.\u001b[39mformat(table\u001b[38;5;241m.\u001b[39mschema, \u001b[38;5;28mself\u001b[39m\u001b[38;5;241m.\u001b[39mschema))\n\u001b[0;32m   1106\u001b[0m     \u001b[38;5;28;01mraise\u001b[39;00m \u001b[38;5;167;01mValueError\u001b[39;00m(msg)\n\u001b[1;32m-> 1108\u001b[0m \u001b[38;5;28;43mself\u001b[39;49m\u001b[38;5;241;43m.\u001b[39;49m\u001b[43mwriter\u001b[49m\u001b[38;5;241;43m.\u001b[39;49m\u001b[43mwrite_table\u001b[49m\u001b[43m(\u001b[49m\u001b[43mtable\u001b[49m\u001b[43m,\u001b[49m\u001b[43m \u001b[49m\u001b[43mrow_group_size\u001b[49m\u001b[38;5;241;43m=\u001b[39;49m\u001b[43mrow_group_size\u001b[49m\u001b[43m)\u001b[49m\n",
      "\u001b[1;31mKeyboardInterrupt\u001b[0m: "
     ]
    }
   ],
   "source": [
    "import pandas as pd\n",
    "#df = pd.read_csv(r\"C:\\Users\\osadl\\Downloads\\98-401-X2021020CI_eng_CSV\\98-401-X2021020CI_English_CSV_data.csv\",encoding='windows-1252')\n",
    "#df = pd.read_csv(r\"C:\\!!!PERSONAL_DATA\\! Osama\\! Data Science Courses\\! 5-YCBS 299 - 47 Data Science Capstone Project\\OneDrive\\Census Canada Data& Workflows\\Census Tracts\\98-401-X2021007_eng_CSV\\98-401-X2021007_English_CSV_data.csv\",encoding='windows-1252')\n",
    "file_path=r\"C:\\!!!PERSONAL_DATA\\! Osama\\! Data Science Courses\\! 5-YCBS 299 - 47 Data Science Capstone Project\\OneDrive\\Census Canada Data& Workflows\\Census Tracts\\98-401-X2021007_eng_CSV\"\n",
    "csv_file_name = file_path+r\"\\98-401-X2021007_English_CSV_data.csv\"\n",
    "parquet_file_name = file_path+r\"\\census_data_asParquet.parquet\"\n",
    "\n",
    "pd.read_csv(csv_file_name,encoding='windows-1252',low_memory=False).to_parquet(parquet_file_name, index=False)"
   ]
  },
  {
   "cell_type": "code",
   "execution_count": 14,
   "id": "f5ceb1a6-3346-4f89-bbfd-7c2c5ddf5391",
   "metadata": {},
   "outputs": [
    {
     "data": {
      "text/html": [
       "<div>\n",
       "<style scoped>\n",
       "    .dataframe tbody tr th:only-of-type {\n",
       "        vertical-align: middle;\n",
       "    }\n",
       "\n",
       "    .dataframe tbody tr th {\n",
       "        vertical-align: top;\n",
       "    }\n",
       "\n",
       "    .dataframe thead th {\n",
       "        text-align: right;\n",
       "    }\n",
       "</style>\n",
       "<table border=\"1\" class=\"dataframe\">\n",
       "  <thead>\n",
       "    <tr style=\"text-align: right;\">\n",
       "      <th></th>\n",
       "      <th>CENSUS_YEAR</th>\n",
       "      <th>DGUID</th>\n",
       "      <th>ALT_GEO_CODE</th>\n",
       "      <th>GEO_LEVEL</th>\n",
       "      <th>GEO_NAME</th>\n",
       "      <th>TNR_SF</th>\n",
       "      <th>TNR_LF</th>\n",
       "      <th>DATA_QUALITY_FLAG</th>\n",
       "      <th>CHARACTERISTIC_ID</th>\n",
       "      <th>CHARACTERISTIC_NAME</th>\n",
       "      <th>...</th>\n",
       "      <th>C2_COUNT_MEN+</th>\n",
       "      <th>SYMBOL.1</th>\n",
       "      <th>C3_COUNT_WOMEN+</th>\n",
       "      <th>SYMBOL.2</th>\n",
       "      <th>C10_RATE_TOTAL</th>\n",
       "      <th>SYMBOL.3</th>\n",
       "      <th>C11_RATE_MEN+</th>\n",
       "      <th>SYMBOL.4</th>\n",
       "      <th>C12_RATE_WOMEN+</th>\n",
       "      <th>SYMBOL.5</th>\n",
       "    </tr>\n",
       "  </thead>\n",
       "  <tbody>\n",
       "    <tr>\n",
       "      <th>0</th>\n",
       "      <td>2021</td>\n",
       "      <td>2021S0503932</td>\n",
       "      <td>932.0</td>\n",
       "      <td>Census metropolitan area</td>\n",
       "      <td>Abbotsford - Mission</td>\n",
       "      <td>2.7</td>\n",
       "      <td>3.7</td>\n",
       "      <td>0</td>\n",
       "      <td>1</td>\n",
       "      <td>Population, 2021</td>\n",
       "      <td>...</td>\n",
       "      <td>NaN</td>\n",
       "      <td>...</td>\n",
       "      <td>NaN</td>\n",
       "      <td>...</td>\n",
       "      <td>NaN</td>\n",
       "      <td>...</td>\n",
       "      <td>NaN</td>\n",
       "      <td>...</td>\n",
       "      <td>NaN</td>\n",
       "      <td>...</td>\n",
       "    </tr>\n",
       "    <tr>\n",
       "      <th>1</th>\n",
       "      <td>2021</td>\n",
       "      <td>2021S0503932</td>\n",
       "      <td>932.0</td>\n",
       "      <td>Census metropolitan area</td>\n",
       "      <td>Abbotsford - Mission</td>\n",
       "      <td>2.7</td>\n",
       "      <td>3.7</td>\n",
       "      <td>0</td>\n",
       "      <td>2</td>\n",
       "      <td>Population, 2016</td>\n",
       "      <td>...</td>\n",
       "      <td>NaN</td>\n",
       "      <td>...</td>\n",
       "      <td>NaN</td>\n",
       "      <td>...</td>\n",
       "      <td>NaN</td>\n",
       "      <td>...</td>\n",
       "      <td>NaN</td>\n",
       "      <td>...</td>\n",
       "      <td>NaN</td>\n",
       "      <td>...</td>\n",
       "    </tr>\n",
       "    <tr>\n",
       "      <th>2</th>\n",
       "      <td>2021</td>\n",
       "      <td>2021S0503932</td>\n",
       "      <td>932.0</td>\n",
       "      <td>Census metropolitan area</td>\n",
       "      <td>Abbotsford - Mission</td>\n",
       "      <td>2.7</td>\n",
       "      <td>3.7</td>\n",
       "      <td>0</td>\n",
       "      <td>3</td>\n",
       "      <td>Population percentage change, 2016 to 2021</td>\n",
       "      <td>...</td>\n",
       "      <td>NaN</td>\n",
       "      <td>...</td>\n",
       "      <td>NaN</td>\n",
       "      <td>...</td>\n",
       "      <td>8.4</td>\n",
       "      <td>None</td>\n",
       "      <td>NaN</td>\n",
       "      <td>...</td>\n",
       "      <td>NaN</td>\n",
       "      <td>...</td>\n",
       "    </tr>\n",
       "    <tr>\n",
       "      <th>3</th>\n",
       "      <td>2021</td>\n",
       "      <td>2021S0503932</td>\n",
       "      <td>932.0</td>\n",
       "      <td>Census metropolitan area</td>\n",
       "      <td>Abbotsford - Mission</td>\n",
       "      <td>2.7</td>\n",
       "      <td>3.7</td>\n",
       "      <td>0</td>\n",
       "      <td>4</td>\n",
       "      <td>Total private dwellings</td>\n",
       "      <td>...</td>\n",
       "      <td>NaN</td>\n",
       "      <td>...</td>\n",
       "      <td>NaN</td>\n",
       "      <td>...</td>\n",
       "      <td>NaN</td>\n",
       "      <td>...</td>\n",
       "      <td>NaN</td>\n",
       "      <td>...</td>\n",
       "      <td>NaN</td>\n",
       "      <td>...</td>\n",
       "    </tr>\n",
       "    <tr>\n",
       "      <th>4</th>\n",
       "      <td>2021</td>\n",
       "      <td>2021S0503932</td>\n",
       "      <td>932.0</td>\n",
       "      <td>Census metropolitan area</td>\n",
       "      <td>Abbotsford - Mission</td>\n",
       "      <td>2.7</td>\n",
       "      <td>3.7</td>\n",
       "      <td>0</td>\n",
       "      <td>5</td>\n",
       "      <td>Private dwellings occupied by usual residents</td>\n",
       "      <td>...</td>\n",
       "      <td>NaN</td>\n",
       "      <td>...</td>\n",
       "      <td>NaN</td>\n",
       "      <td>...</td>\n",
       "      <td>NaN</td>\n",
       "      <td>...</td>\n",
       "      <td>NaN</td>\n",
       "      <td>...</td>\n",
       "      <td>NaN</td>\n",
       "      <td>...</td>\n",
       "    </tr>\n",
       "  </tbody>\n",
       "</table>\n",
       "<p>5 rows × 23 columns</p>\n",
       "</div>"
      ],
      "text/plain": [
       "   CENSUS_YEAR         DGUID  ALT_GEO_CODE                 GEO_LEVEL  \\\n",
       "0         2021  2021S0503932         932.0  Census metropolitan area   \n",
       "1         2021  2021S0503932         932.0  Census metropolitan area   \n",
       "2         2021  2021S0503932         932.0  Census metropolitan area   \n",
       "3         2021  2021S0503932         932.0  Census metropolitan area   \n",
       "4         2021  2021S0503932         932.0  Census metropolitan area   \n",
       "\n",
       "               GEO_NAME  TNR_SF  TNR_LF  DATA_QUALITY_FLAG  CHARACTERISTIC_ID  \\\n",
       "0  Abbotsford - Mission     2.7     3.7                  0                  1   \n",
       "1  Abbotsford - Mission     2.7     3.7                  0                  2   \n",
       "2  Abbotsford - Mission     2.7     3.7                  0                  3   \n",
       "3  Abbotsford - Mission     2.7     3.7                  0                  4   \n",
       "4  Abbotsford - Mission     2.7     3.7                  0                  5   \n",
       "\n",
       "                             CHARACTERISTIC_NAME  ...  C2_COUNT_MEN+  \\\n",
       "0                               Population, 2021  ...            NaN   \n",
       "1                               Population, 2016  ...            NaN   \n",
       "2     Population percentage change, 2016 to 2021  ...            NaN   \n",
       "3                        Total private dwellings  ...            NaN   \n",
       "4  Private dwellings occupied by usual residents  ...            NaN   \n",
       "\n",
       "   SYMBOL.1 C3_COUNT_WOMEN+  SYMBOL.2 C10_RATE_TOTAL  SYMBOL.3 C11_RATE_MEN+  \\\n",
       "0       ...             NaN       ...            NaN       ...           NaN   \n",
       "1       ...             NaN       ...            NaN       ...           NaN   \n",
       "2       ...             NaN       ...            8.4      None           NaN   \n",
       "3       ...             NaN       ...            NaN       ...           NaN   \n",
       "4       ...             NaN       ...            NaN       ...           NaN   \n",
       "\n",
       "   SYMBOL.4 C12_RATE_WOMEN+  SYMBOL.5  \n",
       "0       ...             NaN       ...  \n",
       "1       ...             NaN       ...  \n",
       "2       ...             NaN       ...  \n",
       "3       ...             NaN       ...  \n",
       "4       ...             NaN       ...  \n",
       "\n",
       "[5 rows x 23 columns]"
      ]
     },
     "execution_count": 14,
     "metadata": {},
     "output_type": "execute_result"
    }
   ],
   "source": [
    "#df = pd.read_parquet(r\"C:\\!!!PERSONAL_DATA\\! Osama\\! Data Science Courses\\! 5-YCBS 299 - 47 Data Science Capstone Project\\OneDrive\\Census Canada Data& Workflows\\Census Tracts\\98-401-X2021007_eng_CSV\\parquet_file.parquet\")\n",
    "df = pd.read_parquet(parquet_file_name)\n",
    "df.head()"
   ]
  },
  {
   "cell_type": "code",
   "execution_count": 16,
   "id": "08634314-1c08-4a62-849b-fb6178096b62",
   "metadata": {},
   "outputs": [
    {
     "name": "stdout",
     "output_type": "stream",
     "text": [
      "5262    2021S05079320002.00\n",
      "Name: DGUID, dtype: object\n",
      "7892    2021S05079320002.00\n",
      "Name: DGUID, dtype: object\n",
      "2631\n"
     ]
    }
   ],
   "source": [
    "# TEST ONLY TO BE DELETED\n",
    "val_to_search_for = ['2021S05079320002.00'] #,'2021S05079320001.00'\n",
    "col_to_search_in = 'DGUID'\n",
    "\n",
    "set_mask = df[col_to_search_in].isin(val_to_search_for)\n",
    "df_subset_set = df[set_mask]\n",
    "#print(df_set_mask[col_to_search_in])\n",
    "#type(df_subset_set)\n",
    "print(df_subset_set.head(1)['DGUID'] )\n",
    "print(df_subset_set.tail(1)['DGUID'] )\n",
    "print(df_subset_set.shape[0])"
   ]
  },
  {
   "cell_type": "code",
   "execution_count": null,
   "id": "6a646424-ecd5-4155-a02a-a953a1cc46f6",
   "metadata": {},
   "outputs": [],
   "source": [
    "df_montreal = df[]\n",
    "\n",
    "4809470 - 7450994"
   ]
  },
  {
   "cell_type": "code",
   "execution_count": 3,
   "id": "0ca94e52-01ae-4e4e-9e7c-1c1496e5dfee",
   "metadata": {},
   "outputs": [
    {
     "data": {
      "text/plain": [
       "Index(['Geo Code', 'Geo Name', 'Line Number'], dtype='object')"
      ]
     },
     "execution_count": 3,
     "metadata": {},
     "output_type": "execute_result"
    }
   ],
   "source": [
    "df.columns"
   ]
  },
  {
   "cell_type": "code",
   "execution_count": null,
   "id": "8b1ac177-a2e6-462b-a5ec-b1c49c4cf748",
   "metadata": {},
   "outputs": [],
   "source": [
    "x"
   ]
  },
  {
   "cell_type": "code",
   "execution_count": 22,
   "id": "5b3b6423-d869-466f-ae59-908752334d95",
   "metadata": {},
   "outputs": [
    {
     "name": "stdout",
     "output_type": "stream",
     "text": [
      "{'Saint-Ludger-de-Milot, Municipalité (MÉ)', 'Aguanish, Municipalité (MÉ)', 'Bolton-Est, Municipalité (MÉ)', 'Terrasse-Vaudreuil, Municipalité (MÉ)', 'Saint-Urbain, Paroisse (municipalité de) (PE)', 'Saint-Valérien, Paroisse (municipalité de) (PE)', 'Maliotenam, Indian reserve (IRI)', \"Baie-d'Hudson, Unorganized (NO)\", 'Côte-Nord-du-Golfe-du-Saint-Laurent, Municipalité (MÉ)', 'Mansfield-et-Pontefract, Municipalité (MÉ)', 'Rivière-Rouge, Ville (V)', 'Berry, Municipalité (MÉ)', 'Hudson, Ville (V)', 'Les Bergeronnes, Municipalité (MÉ)', 'Martinville, Municipalité (MÉ)', 'Bowman, Municipalité (MÉ)', 'Notre-Dame-du-Nord, Municipalité (MÉ)', 'Saint-Samuel, Municipalité (MÉ)', 'Brébeuf, Paroisse (municipalité de) (PE)', 'Saint-Claude, Municipalité (MÉ)', 'Manseau, Municipalité (MÉ)', 'Eastman, Municipalité (MÉ)', 'Sainte-Florence, Municipalité (MÉ)', 'Boischatel, Municipalité (MÉ)', 'Hemmingford, Village (VL)', 'Saint-Fortunat, Municipalité (MÉ)', 'Saint-André-de-Restigouche, Municipalité (MÉ)', 'Saints-Martyrs-Canadiens, Paroisse (municipalité de) (PE)', 'Baie-Saint-Paul, Ville (V)', \"Saint-Antoine-de-l'Isle-aux-Grues, Paroisse (municipalité de) (PE)\", 'Vaudreuil-sur-le-Lac, Village (VL)', 'Beaconsfield, Ville (V)', \"L'Anse-Saint-Jean, Municipalité (MÉ)\", 'Saint-Henri-de-Taillon, Municipalité (MÉ)', \"Saint-Félix-d'Otis, Municipalité (MÉ)\", 'Sainte-Angèle-de-Prémont, Municipalité (MÉ)', \"L'Île-Perrot, Ville (V)\", 'Dosquet, Municipalité (MÉ)', 'Saint-Adelphe, Paroisse (municipalité de) (PE)', 'Sacré-Coeur, Municipalité (MÉ)', 'Rivière-à-Pierre, Municipalité (MÉ)', 'Boucherville, Ville (V)', 'Béarn, Municipalité (MÉ)', 'Pont-Rouge, Ville (V)', 'Saint-Eugène-de-Guigues, Municipalité (MÉ)', 'Cap-Santé, Ville (V)', 'Saint-Stanislas-de-Kostka, Municipalité (MÉ)', 'Salluit, Village nordique (VN)', 'Saint-Raphaël, Municipalité (MÉ)', 'Rivière-Saint-Jean, Unorganized (NO)', 'Deux-Montagnes, Ville (V)', 'Mashteuiatsh, Indian reserve (IRI)', 'Rawdon, Municipalité (MÉ)', 'Sainte-Luce, Municipalité (MÉ)', 'Sainte-Julie, Ville (V)', 'Saint-Jérôme, Ville (V)', 'Sainte-Aurélie, Municipalité (MÉ)', 'Beauharnois, Ville (V)', 'Saint-Pascal, Ville (V)', 'Ascot Corner, Municipalité (MÉ)', 'Warwick, Ville (V)', 'Portneuf-sur-Mer, Municipalité (MÉ)', 'Sainte-Marie-de-Blandford, Municipalité (MÉ)', 'Terrebonne, Ville (V)', 'Saint-Denis-sur-Richelieu, Municipalité (MÉ)', 'Ferland-et-Boilleau, Municipalité (MÉ)', 'Beaulac-Garthby, Municipalité (MÉ)', 'Sainte-Clotilde-de-Beauce, Municipalité (MÉ)', 'Béthanie, Municipalité (MÉ)', 'Saint-Cyrille-de-Wendover, Municipalité (MÉ)', 'Saint-Gilles, Municipalité (MÉ)', 'La Prairie, Ville (V)', 'Entrelacs, Municipalité (MÉ)', 'Pointe-Calumet, Municipalité (MÉ)', 'Oka, Municipalité (MÉ)', 'Saint-Théophile, Municipalité (MÉ)', 'Caniapiscau, Unorganized (NO)', 'Longue-Rive, Municipalité (MÉ)', 'Saint-Jacques, Municipalité (MÉ)', 'Chute-Saint-Philippe, Municipalité (MÉ)', 'La Rédemption, Paroisse (municipalité de) (PE)', 'Lac-Pikauba, Unorganized (NO)', 'Saint-Elzéar-de-Témiscouata, Municipalité (MÉ)', 'Montréal-Ouest, Ville (V)', 'Lac-John, Indian reserve (IRI)', 'Saint-Simon-les-Mines, Municipalité (MÉ)', 'Saint-Hilaire-de-Dorset, Paroisse (municipalité de) (PE)', 'Saint-Tite, Ville (V)', 'Saint-Just-de-Bretenières, Municipalité (MÉ)', \"Saint-André-d'Argenteuil, Municipalité (MÉ)\", 'Saint-Gabriel-de-Rimouski, Municipalité (MÉ)', 'Sainte-Anne-de-Beaupré, Ville (V)', 'Saint-Hugues, Municipalité (MÉ)', 'Grande-Rivière, Ville (V)', 'Saint-Marc-de-Figuery, Paroisse (municipalité de) (PE)', 'Lac-Boulé, Unorganized (NO)', 'Lac-Tremblant-Nord, Municipalité (MÉ)', 'Ripon, Municipalité (MÉ)', 'Lac-des-Seize-Îles, Municipalité (MÉ)', 'Saint-Joachim, Paroisse (municipalité de) (PE)', 'Mingan, Indian reserve (IRI)', 'Salluit, Terre inuite (TI)', 'Akwesasne, Indian reserve (IRI)', 'Saint-Victor, Municipalité (MÉ)', 'Saint-Bernard-de-Lacolle, Municipalité (MÉ)', 'Saint-Étienne-de-Beauharnois, Municipalité (MÉ)', 'Sorel-Tracy, Ville (V)', 'Saint-Paul, Municipalité (MÉ)', 'Sheenboro, Municipalité (MÉ)', 'Saint-Mathias-sur-Richelieu, Municipalité (MÉ)', 'Saint-Paul-de-la-Croix, Paroisse (municipalité de) (PE)', 'Baie-Sainte-Catherine, Municipalité (MÉ)', 'Sainte-Lucie-des-Laurentides, Municipalité (MÉ)', 'Saint-Gérard-Majella, Paroisse (municipalité de) (PE)', 'Sainte-Angèle-de-Monnoir, Municipalité (MÉ)', 'Saint-Blaise-sur-Richelieu, Municipalité (MÉ)', 'Trécesson, Canton (municipalité de) (CT)', \"Saint-Jean-de-l'Île-d'Orléans, Municipalité (MÉ)\", 'Lac-Matawin, Unorganized (NO)', 'Saint-Étienne-des-Grès, Paroisse (municipalité de) (PE)', 'Saint-Sylvère, Municipalité (MÉ)', \"L'Ange-Gardien, Municipalité (MÉ)\", 'Dupuy, Municipalité (MÉ)', 'Piopolis, Municipalité (MÉ)', 'Saint-Lazare-de-Bellechasse, Municipalité (MÉ)', 'Dudswell, Municipalité (MÉ)', 'Waswanipi, Village cri (VC)', 'Chisasibi, Village cri (VC)', 'Noyan, Municipalité (MÉ)', 'La Conception, Municipalité (MÉ)', 'Côte-Saint-Luc, Ville (V)', 'Weedon, Municipalité (MÉ)', 'Rochebaucourt, Municipalité (MÉ)', 'Contrecoeur, Ville (V)', 'Notre-Dame-de-la-Merci, Municipalité (MÉ)', \"L'Ascension-de-Patapédia, Municipalité (MÉ)\", 'Petit-Saguenay, Municipalité (MÉ)', 'Mont-Saint-Michel, Municipalité (MÉ)', 'Notre-Dame-de-Stanbridge, Municipalité (MÉ)', \"La Visitation-de-l'Île-Dupas, Municipalité (MÉ)\", 'Saint-Jules, Paroisse (municipalité de) (PE)', 'Baie-Trinité, Village (VL)', 'Normétal, Municipalité (MÉ)', 'Stanbridge East, Municipalité (MÉ)', 'Launay, Canton (municipalité de) (CT)', 'Marieville, Ville (V)', 'La Trinité-des-Monts, Paroisse (municipalité de) (PE)', 'Sainte-Marie-Salomé, Municipalité (MÉ)', 'Lac-Juillet, Unorganized (NO)', 'Mont-Carmel, Municipalité (MÉ)', \"Saint-Paul-d'Abbotsford, Municipalité (MÉ)\", 'Notre-Dame-de-Montauban, Municipalité (MÉ)', 'Lac-Devenyns, Unorganized (NO)', 'Chisasibi, Terres réservées aux Cris (TC)', 'Sainte-Brigitte-de-Laval, Ville (V)', \"Baie-D'Urfé, Ville (V)\", 'Alleyn-et-Cawood, Municipalité (MÉ)', 'Saint-Isidore, Municipalité (MÉ)', 'La Motte, Municipalité (MÉ)', 'Sainte-Anne-de-la-Pocatière, Paroisse (municipalité de) (PE)', 'Petite-Rivière-Saint-François, Municipalité (MÉ)', 'Beloeil, Ville (V)', 'Waskaganish, Terres réservées aux Cris (TC)', 'Saint-Marcellin, Paroisse (municipalité de) (PE)', 'Ivujivik, Village nordique (VN)', 'Sainte-Geneviève-de-Batiscan, Paroisse (municipalité de) (PE)', 'La Durantaye, Paroisse (municipalité de) (PE)', 'Saint-Isidore, Paroisse (municipalité de) (PE)', 'Uashat 27, Indian reserve (IRI)', \"Saint-Norbert-d'Arthabaska, Municipalité (MÉ)\", 'Kawawachikamach, Village naskapi (VK)', 'Grosse-Île, Municipalité (MÉ)', 'Lac-Lapeyrère, Unorganized (NO)', 'Courcelles, Municipalité (MÉ)', 'Les Cèdres, Municipalité (MÉ)', 'Saint-Flavien, Municipalité (MÉ)', 'Grand-Remous, Municipalité (MÉ)', 'Mont-Saint-Grégoire, Municipalité (MÉ)', 'La Corne, Municipalité (MÉ)', 'Leclercville, Municipalité (MÉ)', 'Sainte-Marthe-sur-le-Lac, Ville (V)', 'Sainte-Claire, Municipalité (MÉ)', 'Saint-Côme, Municipalité (MÉ)', 'Saint-Ubalde, Municipalité (MÉ)', 'Baie-Obaoca, Unorganized (NO)', 'North Hatley, Village (VL)', 'Saint-Marcel, Municipalité (MÉ)', 'Sainte-Paule, Municipalité (MÉ)', 'Saint-Sylvestre, Municipalité (MÉ)', 'Cayamant, Municipalité (MÉ)', 'Bonaventure, Ville (V)', 'Saint-Anselme, Municipalité (MÉ)', 'Coteau-du-Lac, Ville (V)', \"Saint-François-de-l'Île-d'Orléans, Municipalité (MÉ)\", 'Val-des-Bois, Municipalité (MÉ)', 'Granby, Ville (V)', 'Saint-Charles-de-Bourget, Municipalité (MÉ)', 'Hatley, Municipalité (MÉ)', 'Saint-Edmond-de-Grantham, Paroisse (municipalité de) (PE)', 'Saint-Gabriel, Ville (V)', 'Lac-Normand, Unorganized (NO)', \"Sainte-Émélie-de-l'Énergie, Municipalité (MÉ)\", 'Saint-Césaire, Ville (V)', 'Sutton, Ville (V)', 'Saint-Raymond, Ville (V)', 'Montréal, Ville (V)', \"Saint-Mathieu-d'Harricana, Municipalité (MÉ)\", 'Lac-des-Eaux-Mortes, Unorganized (NO)', 'Rivière-Mistassini, Unorganized (NO)', 'Rivière-au-Tonnerre, Municipalité (MÉ)', 'Montmagny, Ville (V)', 'Senneterre, Ville (V)', 'Pointe-Lebel, Village (VL)', 'Rivière-Éternité, Municipalité (MÉ)', 'Fassett, Municipalité (MÉ)', 'Beaumont, Municipalité (MÉ)', 'Notre-Dame-des-Sept-Douleurs, Paroisse (municipalité de) (PE)', 'Saint-Hyacinthe, Ville (V)', 'Lac-Poulin, Village (VL)', 'Waterville, Ville (V)', 'Lac-Blanc, Unorganized (NO)', 'Saint-René, Paroisse (municipalité de) (PE)', 'Ristigouche-Partie-Sud-Est, Canton (municipalité de) (CT)', 'Matapédia, Municipalité (MÉ)', 'Péribonka, Municipalité (MÉ)', 'Saint-Denis-De La Bouteillerie, Municipalité (MÉ)', 'Saint-Godefroi, Canton (municipalité de) (CT)', 'Saint-Germain-de-Grantham, Municipalité (MÉ)', 'Notre-Dame-de-Lorette, Municipalité (MÉ)', 'Notre-Dame-du-Bon-Conseil, Paroisse (municipalité de) (PE)', 'Saint-Damien, Paroisse (municipalité de) (PE)', 'Lac-Édouard, Municipalité (MÉ)', 'Lorrainville, Municipalité (MÉ)', 'Saint-Athanase, Municipalité (MÉ)', 'Lochaber-Partie-Ouest, Canton (municipalité de) (CT)', 'Henryville, Municipalité (MÉ)', 'La Macaza, Municipalité (MÉ)', 'Blue Sea, Municipalité (MÉ)', 'Les Lacs-du-Témiscamingue, Unorganized (NO)', 'Mille-Isles, Municipalité (MÉ)', 'Sainte-Apolline-de-Patton, Paroisse (municipalité de) (PE)', 'Notre-Dame-Auxiliatrice-de-Buckland, Paroisse (municipalité de) (PE)', 'Ferme-Neuve, Municipalité (MÉ)', 'Saint-Charles-Borromée, Ville (V)', 'Saint-Zotique, Municipalité (MÉ)', 'Saint-Simon, Municipalité (MÉ)', 'Richelieu, Ville (V)', 'Kingsbury, Village (VL)', \"Notre-Dame-de-l'Île-Perrot, Ville (V)\", \"L'Ascension-de-Notre-Seigneur, Paroisse (municipalité de) (PE)\", 'Vallée-Jonction, Municipalité (MÉ)', 'Tadoussac, Village (VL)', 'Brossard, Ville (V)', 'Saint-Valérien-de-Milton, Municipalité (MÉ)', 'Amherst, Canton (municipalité de) (CT)', 'Saint-Liboire, Municipalité (MÉ)', 'Marsoui, Village (VL)', 'Pikogan, Indian reserve (IRI)', 'Saint-Irénée, Paroisse (municipalité de) (PE)', 'Aupaluk, Village nordique (VN)', 'Saint-Cyrille-de-Lessard, Paroisse (municipalité de) (PE)', 'Rigaud, Ville (V)', 'Milan, Municipalité (MÉ)', 'Lalemant, Unorganized (NO)', 'Saint-Pierre-Baptiste, Paroisse (municipalité de) (PE)', 'Saint-Mathieu-de-Beloeil, Municipalité (MÉ)', 'Scotstown, Ville (V)', 'Bristol, Municipalité (MÉ)', 'Champneuf, Municipalité (MÉ)', 'Low, Canton (municipalité de) (CT)', 'Maddington Falls, Municipalité (MÉ)', 'Pointe-Claire, Ville (V)', \"Saint-Eugène-d'Argentenay, Municipalité (MÉ)\", 'Belleterre, Ville (V)', 'Val-Saint-Gilles, Municipalité (MÉ)', 'Saint-Eustache, Ville (V)', 'Saint-Jean-de-Matha, Municipalité (MÉ)', 'Saint-Venant-de-Paquette, Municipalité (MÉ)', 'Waskaganish, Village cri (VC)', 'Authier-Nord, Municipalité (MÉ)', 'Ruisseau-Ferguson, Unorganized (NO)', 'Lac-Moncouche, Unorganized (NO)', 'Saint-Lambert-de-Lauzon, Municipalité (MÉ)', 'Dollard-Des Ormeaux, Ville (V)', 'Grosses-Roches, Municipalité (MÉ)', 'Cleveland, Canton (municipalité de) (CT)', 'Saint-Joseph-de-Coleraine, Municipalité (MÉ)', 'Saint-Charles-de-Bellechasse, Municipalité (MÉ)', 'Saint-Michel-de-Bellechasse, Municipalité (MÉ)', 'Auclair, Municipalité (MÉ)', 'Hinchinbrooke, Municipalité (MÉ)', 'Les Escoumins, Municipalité (MÉ)', 'Saint-Siméon, Municipalité (MÉ)', 'Lac-Etchemin, Municipalité (MÉ)', 'Sainte-Hélène-de-Mancebourg, Paroisse (municipalité de) (PE)', 'Bois-Franc, Municipalité (MÉ)', 'Lac-Croche, Unorganized (NO)', 'Saint-Nazaire-de-Dorchester, Paroisse (municipalité de) (PE)', 'Saint-Honoré, Ville (V)', 'Waltham, Municipalité (MÉ)', 'Lac-Cabasta, Unorganized (NO)', 'Ivujivik, Terre inuite (TI)', 'Trois-Rives, Municipalité (MÉ)', 'Sainte-Clotilde-de-Horton, Municipalité (MÉ)', 'Communauté de Wemotaci, Indian reserve (IRI)', 'Brome, Village (VL)', 'Landrienne, Canton (municipalité de) (CT)', 'Paspébiac, Ville (V)', \"Sainte-Jeanne-d'Arc, Village (VL)\", 'Hemmingford, Canton (municipalité de) (CT)', 'Saint-Alexandre-des-Lacs, Paroisse (municipalité de) (PE)', 'Elgin, Municipalité (MÉ)', 'Notre-Dame-des-Monts, Municipalité (MÉ)', 'Blanc-Sablon, Municipalité (MÉ)', 'Nutashkuan, Indian reserve (IRI)', 'Saint-Alexis-des-Monts, Paroisse (municipalité de) (PE)', 'Val-des-Lacs, Municipalité (MÉ)', 'Aupaluk, Terre inuite (TI)', 'Sainte-Cécile-de-Lévrard, Paroisse (municipalité de) (PE)', 'Percé, Ville (V)', 'Saint-Augustin, Municipalité (MÉ)', 'Causapscal, Ville (V)', 'Trois-Pistoles, Ville (V)', 'Ruisseau-des-Mineurs, Unorganized (NO)', 'Saint-Jude, Municipalité (MÉ)', 'Rosemère, Ville (V)', 'Thurso, Ville (V)', 'Sainte-Ursule, Municipalité (MÉ)', 'Hope Town, Municipalité (MÉ)', 'Kiamika, Municipalité (MÉ)', 'Mont-Joli, Ville (V)', 'Sainte-Anne-de-Sorel, Municipalité (MÉ)', 'Joliette, Ville (V)', \"Val-d'Or, Ville (V)\", \"Saint-Adolphe-d'Howard, Municipalité (MÉ)\", 'Saint-Basile, Ville (V)', 'Lac-des-Aigles, Municipalité (MÉ)', 'Saint-Georges-de-Windsor, Municipalité (MÉ)', 'Montcalm, Municipalité (MÉ)', \"Notre-Dame-du-Sacré-Coeur-d'Issoudun, Paroisse (municipalité de) (PE)\", 'Saint-Eugène, Municipalité (MÉ)', 'Saint-Constant, Ville (V)', 'Cowansville, Ville (V)', 'Rivière-Vaseuse, Unorganized (NO)', 'Lac-Sainte-Marie, Municipalité (MÉ)', 'Amqui, Ville (V)', 'Saint-Urbain-Premier, Municipalité (MÉ)', 'Notre-Dame-des-Neiges, Municipalité (MÉ)', 'Rivière-de-la-Savane, Unorganized (NO)', 'Saint-Célestin, Municipalité (MÉ)', 'Saint-Justin, Municipalité (MÉ)', 'Wôlinak, Indian reserve (IRI)', 'Mont-Albert, Unorganized (NO)', 'Saint-Alban, Municipalité (MÉ)', \"L'Île-d'Anticosti, Municipalité (MÉ)\", 'Saint-Apollinaire, Municipalité (MÉ)', 'Saint-Éphrem-de-Beauce, Municipalité (MÉ)', 'Saint-Élie-de-Caxton, Municipalité (MÉ)', 'Saint-Cyprien, Municipalité (MÉ)', 'Saint-Marc-du-Lac-Long, Paroisse (municipalité de) (PE)', 'Rivière-à-Claude, Municipalité (MÉ)', 'Métis-sur-Mer, Ville (V)', 'Sainte-Victoire-de-Sorel, Municipalité (MÉ)', 'Clermont, Ville (V)', \"Saint-Paul-de-l'Île-aux-Noix, Municipalité (MÉ)\", 'Gatineau, Ville (V)', 'Lac-Achouakan, Unorganized (NO)', 'Kuujjuaq, Village nordique (VN)', 'Prévost, Ville (V)', 'Farnham, Ville (V)', 'Stanstead, Canton (municipalité de) (CT)', 'Lac Simon, Indian reserve (IRI)', 'Arundel, Canton (municipalité de) (CT)', 'Chambly, Ville (V)', 'Saint-Omer, Municipalité (MÉ)', 'La Visitation-de-Yamaska, Municipalité (MÉ)', 'Saint-Félix-de-Kingsey, Municipalité (MÉ)', 'Val-Joli, Municipalité (MÉ)', 'Sainte-Anne-de-Sabrevois, Paroisse (municipalité de) (PE)', 'Inukjuak, Terre inuite (TI)', 'Danville, Ville (V)', 'Malartic, Ville (V)', 'Bryson, Municipalité (MÉ)', 'Fugèreville, Municipalité (MÉ)', 'Clarendon, Municipalité (MÉ)', 'Sainte-Agathe-de-Lotbinière, Municipalité (MÉ)', 'Berthier-sur-Mer, Municipalité (MÉ)', 'Notre-Dame-de-la-Paix, Municipalité (MÉ)', 'Saint-Joachim-de-Shefford, Municipalité (MÉ)', 'Sainte-Sabine, Paroisse (municipalité de) (PE)', 'Chelsea, Municipalité (MÉ)', 'Montcerf-Lytton, Municipalité (MÉ)', 'Grenville, Village (VL)', 'Sagard, Unorganized (NO)', 'Senneville, Village (VL)', 'Saint-Aimé, Municipalité (MÉ)', 'Notre-Dame-de-Ham, Municipalité (MÉ)', 'Gallichan, Municipalité (MÉ)', 'Nouvelle, Municipalité (MÉ)', 'Saint-Thomas-Didyme, Municipalité (MÉ)', 'Notre-Dame-de-la-Salette, Municipalité (MÉ)', 'Saint-Didace, Paroisse (municipalité de) (PE)', 'Charette, Municipalité (MÉ)', 'Yamaska, Municipalité (MÉ)', 'Lac-Sergent, Ville (V)', 'Papineauville, Municipalité (MÉ)', 'Umiujaq, Village nordique (VN)', 'Saint-Médard, Municipalité (MÉ)', 'Saint-Barthélemy, Paroisse (municipalité de) (PE)', 'Massueville, Village (VL)', 'Saint-Sixte, Municipalité (MÉ)', 'Rivière-Bleue, Municipalité (MÉ)', 'Les Îles-de-la-Madeleine, Municipalité (MÉ)', 'Saint-Étienne-de-Bolton, Municipalité (MÉ)', \"L'Île-Cadieux, Ville (V)\", 'Saint-Benoît-Labre, Municipalité (MÉ)', 'Saint-David, Municipalité (MÉ)', 'Saint-Calixte, Municipalité (MÉ)', 'Saint-Cyprien, Paroisse (municipalité de) (PE)', 'Rémigny, Municipalité (MÉ)', 'Duhamel, Municipalité (MÉ)', 'Lac-de-la-Pomme, Unorganized (NO)', 'Saint-Luc-de-Bellechasse, Municipalité (MÉ)', 'Sainte-Catherine, Ville (V)', 'Roquemaure, Municipalité (MÉ)', 'Laniel, Unorganized (NO)', 'Hébertville-Station, Village (VL)', 'Longueuil, Ville (V)', 'Larouche, Municipalité (MÉ)', 'Saint-Félix-de-Valois, Municipalité (MÉ)', 'La Tuque, Ville (V)', \"L'Islet, Municipalité (MÉ)\", 'Sainte-Geneviève-de-Berthier, Municipalité (MÉ)', 'Lac-Huron, Unorganized (NO)', 'Gesgapegiag, Indian reserve (IRI)', 'Saint-Zénon-du-Lac-Humqui, Paroisse (municipalité de) (PE)', 'Saint-Cléophas-de-Brandon, Municipalité (MÉ)', 'Trois-Rivières, Ville (V)', 'Cap-Chat, Ville (V)', 'Lac-aux-Sables, Paroisse (municipalité de) (PE)', 'Daveluyville, Ville (V)', 'Sainte-Anne-des-Plaines, Ville (V)', 'Notre-Dame-des-Anges, Paroisse (municipalité de) (PE)', 'Ogden, Municipalité (MÉ)', 'Saint-Nérée-de-Bellechasse, Municipalité (MÉ)', 'Saint-Léon-le-Grand, Paroisse (municipalité de) (PE)', 'Kawawachikamach, Terres réservées aux Naskapis (TK)', 'Sainte-Justine-de-Newton, Municipalité (MÉ)', 'Rivière-Koksoak, Unorganized (NO)', 'Sainte-Justine, Municipalité (MÉ)', 'Lac-Bazinet, Unorganized (NO)', 'Sainte-Marie, Ville (V)', 'Témiscaming, Ville (V)', 'Disraeli, Ville (V)', 'Hope, Canton (municipalité de) (CT)', 'Sainte-Catherine-de-la-Jacques-Cartier, Ville (V)', 'Frampton, Municipalité (MÉ)', 'Richmond, Ville (V)', 'Lochaber, Canton (municipalité de) (CT)', 'Saint-François-Xavier-de-Viger, Municipalité (MÉ)', 'Kebaowek, Indian reserve (IRI)', 'Sainte-Julienne, Municipalité (MÉ)', 'Saint-Bruno-de-Guigues, Municipalité (MÉ)', 'Huberdeau, Municipalité (MÉ)', 'Varennes, Ville (V)', 'Saint-Mathieu-de-Rioux, Municipalité (MÉ)', 'Sainte-Thérèse-de-Gaspé, Municipalité (MÉ)', 'Sainte-Louise, Paroisse (municipalité de) (PE)', 'Sainte-Marguerite-Marie, Municipalité (MÉ)', 'Coulée-des-Adolphe, Unorganized (NO)', 'Latulipe-et-Gaboury, Cantons unis (municipalité de) (CU)', 'Rivière-Ojima, Unorganized (NO)', 'Adstock, Municipalité (MÉ)', 'Nemaska, Terres réservées aux Cris (TC)', 'Kangirsuk, Village nordique (VN)', 'Mont-Tremblant, Ville (V)', 'Sept-Îles, Ville (V)', 'Saint-Octave-de-Métis, Paroisse (municipalité de) (PE)', 'Stanbridge Station, Municipalité (MÉ)', \"L'Isle-aux-Allumettes, Municipalité (MÉ)\", 'Litchfield, Municipalité (MÉ)', 'Saint-André-du-Lac-Saint-Jean, Village (VL)', 'Lac-Despinassy, Unorganized (NO)', 'Saint-Malachie, Paroisse (municipalité de) (PE)', 'Saint-Eusèbe, Paroisse (municipalité de) (PE)', 'Villeroy, Municipalité (MÉ)', 'Chénéville, Municipalité (MÉ)', 'Newport, Municipalité (MÉ)', 'Tourville, Municipalité (MÉ)', 'Fossambault-sur-le-Lac, Ville (V)', 'Sainte-Marcelline-de-Kildare, Municipalité (MÉ)', 'Saint-René-de-Matane, Municipalité (MÉ)', 'Lac-Ministuk, Unorganized (NO)', 'Kahnawake, Indian reserve (IRI)', 'Saint-Aimé-des-Lacs, Municipalité (MÉ)', 'Saint-Ours, Ville (V)', 'Beauceville, Ville (V)', 'Laurier-Station, Village (VL)', 'Sainte-Séraphine, Paroisse (municipalité de) (PE)', 'Mulgrave-et-Derry, Municipalité (MÉ)', 'Charlemagne, Ville (V)', 'Stoneham-et-Tewkesbury, Cantons unis (municipalité de) (CU)', 'Saint-Pie-de-Guire, Paroisse (municipalité de) (PE)', \"L'Île-Dorval, Ville (V)\", 'Ange-Gardien, Municipalité (MÉ)', 'Saint-Lambert, Ville (V)', 'Lac-Simon, Municipalité (MÉ)', 'Mont-Apica, Unorganized (NO)', 'Saint-Simon-de-Rimouski, Municipalité (MÉ)', 'Puvirnituq, Village nordique (VN)', 'Saint-Cuthbert, Municipalité (MÉ)', 'Saint-Bruno, Municipalité (MÉ)', 'Saint-Benjamin, Municipalité (MÉ)', 'Saint-Louis-du-Ha! Ha!, Paroisse (municipalité de) (PE)', 'Mirabel, Ville (V)', 'Saint-Épiphane, Municipalité (MÉ)', 'Messines, Municipalité (MÉ)', 'Saint-Édouard-de-Maskinongé, Municipalité (MÉ)', 'Frelighsburg, Municipalité (MÉ)', 'Boisbriand, Ville (V)', 'Lac-Walker, Unorganized (NO)', 'Bedford, Ville (V)', 'Baie-de-la-Bouteille, Unorganized (NO)', 'Saint-Sauveur, Ville (V)', 'Lemieux, Municipalité (MÉ)', 'Yamachiche, Municipalité (MÉ)', 'Saint-Marc-des-Carrières, Ville (V)', 'Saint-Prime, Municipalité (MÉ)', 'Plaisance, Municipalité (MÉ)', 'Roberval, Ville (V)', 'La Sarre, Ville (V)', 'Picard, Unorganized (NO)', 'Saint-Jean-Baptiste, Municipalité (MÉ)', 'Quaqtaq, Village nordique (VN)', 'Deschambault-Grondines, Municipalité (MÉ)', 'Rivière-du-Loup, Ville (V)', 'Bromont, Ville (V)', 'Eastmain, Village cri (VC)', 'Notre-Dame-de-Lourdes, Paroisse (municipalité de) (PE)', 'Château-Richer, Ville (V)', 'Saint-Prosper, Municipalité (MÉ)', \"Saint-Onésime-d'Ixworth, Municipalité (MÉ)\", \"Hunter's Point, Indian settlement (S-É)\", 'Notre-Dame-du-Mont-Carmel, Paroisse (municipalité de) (PE)', 'Montréal-Est, Ville (V)', 'Saint-Léandre, Paroisse (municipalité de) (PE)', 'Saint-Hubert-de-Rivière-du-Loup, Municipalité (MÉ)', 'Dunham, Ville (V)', 'Rougemont, Municipalité (MÉ)', 'Saint-Camille, Canton (municipalité de) (CT)', 'Lac-Brome, Ville (V)', 'Saint-Clet, Municipalité (MÉ)', 'Kuujjuarapik, Terre inuite (TI)', 'Lac-Bouchette, Municipalité (MÉ)', 'Saint-Philippe-de-Néri, Paroisse (municipalité de) (PE)', 'Saint-Guillaume-Nord, Unorganized (NO)', 'Saint-Esprit, Municipalité (MÉ)', 'Matagami, Ville (V)', 'Très-Saint-Sacrement, Paroisse (municipalité de) (PE)', 'Saint-Denis-de-Brompton, Municipalité (MÉ)', 'Stanstead, Ville (V)', 'Saint-Adelme, Paroisse (municipalité de) (PE)', 'Lac-Douaire, Unorganized (NO)', 'Sayabec, Municipalité (MÉ)', 'Bois-des-Filion, Ville (V)', 'Normandin, Ville (V)', 'New Carlisle, Municipalité (MÉ)', 'Kitigan Zibi, Indian reserve (IRI)', 'Lac-Metei, Unorganized (NO)', 'Sainte-Rose-de-Watford, Municipalité (MÉ)', \"L'Isle-aux-Coudres, Municipalité (MÉ)\", 'Saint-Côme--Linière, Municipalité (MÉ)', 'Notre-Dame-du-Portage, Municipalité (MÉ)', 'Tring-Jonction, Village (VL)', 'Lac-de-la-Maison-de-Pierre, Unorganized (NO)', 'Sainte-Anne-de-Bellevue, Ville (V)', 'Barnston-Ouest, Municipalité (MÉ)', 'Kanesatake, Indian settlement (S-É)', 'Saint-Joseph-de-Lepage, Paroisse (municipalité de) (PE)', 'Saint-Adrien, Municipalité (MÉ)', 'Saint-Félicien, Ville (V)', 'Saint-Damien-de-Buckland, Paroisse (municipalité de) (PE)', 'Lac-Supérieur, Municipalité (MÉ)', 'Pohénégamook, Ville (V)', 'Rivière-Ouelle, Municipalité (MÉ)', 'Petite-Vallée, Municipalité (MÉ)', 'Sainte-Adèle, Ville (V)', 'Grandes-Piles, Village (VL)', 'Saint-Juste-du-Lac, Municipalité (MÉ)', 'Dixville, Municipalité (MÉ)', 'Saint-Rémi, Ville (V)', 'Saint-François-Xavier-de-Brompton, Municipalité (MÉ)', 'Deschaillons-sur-Saint-Laurent, Municipalité (MÉ)', 'Saint-Émile-de-Suffolk, Municipalité (MÉ)', 'Kuujjuaq, Terre inuite (TI)', 'Saint-Fabien-de-Panet, Paroisse (municipalité de) (PE)', \"Saint-Laurent-de-l'Île-d'Orléans, Municipalité (MÉ)\", \"Campbell's Bay, Municipalité (MÉ)\", 'Saint-Dominique-du-Rosaire, Municipalité (MÉ)', 'Montebello, Municipalité (MÉ)', 'Mont-Élie, Unorganized (NO)', 'Tingwick, Municipalité (MÉ)', \"Sainte-Jeanne-d'Arc, Paroisse (municipalité de) (PE)\", 'Sainte-Madeleine-de-la-Rivière-Madeleine, Municipalité (MÉ)', 'Baie-des-Sables, Municipalité (MÉ)', 'Wentworth-Nord, Municipalité (MÉ)', 'Les Méchins, Municipalité (MÉ)', 'Saint-Faustin--Lac-Carré, Municipalité (MÉ)', 'Saint-Louis-de-Gonzague, Municipalité (MÉ)', 'Sault-au-Cochon, Unorganized (NO)', 'Saint-Ferdinand, Municipalité (MÉ)', 'Winneway, Indian settlement (S-É)', 'Saint-Damase, Paroisse (municipalité de) (PE)', 'Moffet, Municipalité (MÉ)', 'Lingwick, Canton (municipalité de) (CT)', 'Biencourt, Municipalité (MÉ)', 'Sainte-Thérèse, Ville (V)', 'Mont-Royal, Ville (V)', 'Petit-Lac-Sainte-Anne, Unorganized (NO)', 'Lefebvre, Municipalité (MÉ)', 'Saint-Ambroise-de-Kildare, Municipalité (MÉ)', 'Repentigny, Ville (V)', 'Plessisville, Paroisse (municipalité de) (PE)', 'Saint-Guillaume, Municipalité (MÉ)', 'Saint-Michel-du-Squatec, Municipalité (MÉ)', 'Saint-Noël, Village (VL)', 'Lac-Pythonga, Unorganized (NO)', 'Godbout, Village (VL)', 'Aumond, Canton (municipalité de) (CT)', 'Nemaska, Village cri (VC)', 'Laforce, Municipalité (MÉ)', 'Lavaltrie, Ville (V)', 'Saint-Alphonse-de-Granby, Municipalité (MÉ)', 'Saint-Patrice-de-Sherrington, Municipalité (MÉ)', 'Collines-du-Basque, Unorganized (NO)', \"L'Ancienne-Lorette, Ville (V)\", 'Sainte-Françoise, Paroisse (municipalité de) (PE)', 'Shawinigan, Ville (V)', 'Fermont, Ville (V)', 'Chertsey, Municipalité (MÉ)', 'Franklin, Municipalité (MÉ)', 'Sainte-Barbe, Municipalité (MÉ)', 'Saint-Paulin, Municipalité (MÉ)', 'Natashquan, Municipalité (MÉ)', 'Grand-Saint-Esprit, Municipalité (MÉ)', 'Sainte-Euphémie-sur-Rivière-du-Sud, Municipalité (MÉ)', 'Saint-Colomban, Ville (V)', 'Kangiqsualujjuaq, Village nordique (VN)', 'Aston-Jonction, Municipalité (MÉ)', 'Notre-Dame-des-Pins, Paroisse (municipalité de) (PE)', 'Lambton, Municipalité (MÉ)', 'Lac-De La Bidière, Unorganized (NO)', 'East Broughton, Municipalité (MÉ)', 'Sainte-Élizabeth-de-Warwick, Municipalité (MÉ)', 'New Richmond, Ville (V)', 'Saint-Magloire, Municipalité (MÉ)', 'Saint-Joseph-du-Lac, Municipalité (MÉ)', 'Blainville, Ville (V)', 'La Bostonnais, Municipalité (MÉ)', 'Saint-Augustin, Paroisse (municipalité de) (PE)', 'Sainte-Monique, Municipalité (MÉ)', 'Saint-Majorique-de-Grantham, Paroisse (municipalité de) (PE)', 'Saint-Lazare, Ville (V)', 'Matane, Ville (V)', 'Saint-Herménégilde, Municipalité (MÉ)', 'Pierreville, Municipalité (MÉ)', 'Saint-Romain, Municipalité (MÉ)', 'Sainte-Hedwidge, Municipalité (MÉ)', 'Disraeli, Paroisse (municipalité de) (PE)', 'Kirkland, Ville (V)', 'Saint-Jacques-de-Leeds, Municipalité (MÉ)', 'Déléage, Municipalité (MÉ)', 'Namur, Municipalité (MÉ)', 'Plessisville, Ville (V)', 'Shefford, Canton (municipalité de) (CT)', 'Laval, Ville (V)', 'Lac-du-Cerf, Municipalité (MÉ)', 'Saint-Narcisse-de-Rimouski, Paroisse (municipalité de) (PE)', 'Saint-Gabriel-Lalemant, Municipalité (MÉ)', 'Grand-Métis, Municipalité (MÉ)', 'Saint-Gabriel-de-Valcartier, Municipalité (MÉ)', 'Sainte-Perpétue, Municipalité (MÉ)', 'Boileau, Municipalité (MÉ)', 'Sherbrooke, Ville (V)', 'Irlande, Municipalité (MÉ)', 'Saint-Roch-de-Mékinac, Paroisse (municipalité de) (PE)', 'Pike River, Municipalité (MÉ)', 'Sainte-Cécile-de-Milton, Municipalité (MÉ)', 'Saint-Frédéric, Paroisse (municipalité de) (PE)', 'Saint-Maurice, Paroisse (municipalité de) (PE)', 'Eastmain, Terres réservées aux Cris (TC)', 'Saint-Joseph-de-Beauce, Ville (V)', 'Saint-Charles-Garnier, Paroisse (municipalité de) (PE)', 'Saint-Louis-de-Blandford, Municipalité (MÉ)', 'Saint-Bruno-de-Kamouraska, Municipalité (MÉ)', 'Warden, Village (VL)', 'Rapides-des-Joachims, Municipalité (MÉ)', 'Mont-Valin, Unorganized (NO)', 'Saint-Aimé-du-Lac-des-Îles, Municipalité (MÉ)', 'La Doré, Paroisse (municipalité de) (PE)', 'Sainte-Catherine-de-Hatley, Municipalité (MÉ)', 'Rivière-aux-Outardes, Unorganized (NO)', 'Petit-Mécatina, Unorganized (NO)', 'Honfleur, Municipalité (MÉ)', 'Sainte-Anne-de-la-Rochelle, Municipalité (MÉ)', 'Morin-Heights, Municipalité (MÉ)', 'Orford, Canton (municipalité de) (CT)', 'Godmanchester, Canton (municipalité de) (CT)', 'Saint-Gédéon, Municipalité (MÉ)', 'Laurierville, Municipalité (MÉ)', 'Rivière-Patapédia-Est, Unorganized (NO)', 'Sainte-Madeleine, Village (VL)', 'Chute-aux-Outardes, Village (VL)', 'Saint-André-Avellin, Municipalité (MÉ)', 'Sainte-Élisabeth, Municipalité (MÉ)', 'Thetford Mines, Ville (V)', 'Saint-Michel, Municipalité (MÉ)', 'Pointe-aux-Outardes, Village (VL)', 'Saint-Pierre-de-la-Rivière-du-Sud, Paroisse (municipalité de) (PE)', 'Sainte-Agathe-des-Monts, Ville (V)', 'Léry, Ville (V)', 'Saint-Lambert, Paroisse (municipalité de) (PE)', 'Saint-Michel-des-Saints, Municipalité (MÉ)', 'Saint-Jacques-le-Mineur, Municipalité (MÉ)', 'Saint-Amable, Ville (V)', 'Carleton-sur-Mer, Ville (V)', 'Saint-Léonard-de-Portneuf, Municipalité (MÉ)', 'Mandeville, Municipalité (MÉ)', 'Kangirsuk, Terre inuite (TI)', \"Saint-Pierre-de-l'Île-d'Orléans, Municipalité (MÉ)\", 'La Présentation, Municipalité (MÉ)', 'Lac-Boisbouscache, Unorganized (NO)', 'Saint-Chrysostome, Municipalité (MÉ)', 'Saint-Thuribe, Paroisse (municipalité de) (PE)', 'Saint-Arsène, Paroisse (municipalité de) (PE)', 'Saint-Vianney, Municipalité (MÉ)', 'Brigham, Municipalité (MÉ)', 'Saint-Philippe, Ville (V)', 'Saint-Alexis, Municipalité (MÉ)', 'Chandler, Ville (V)', 'Saint-Joseph-des-Érables, Municipalité (MÉ)', 'Saint-Paul-de-Montminy, Municipalité (MÉ)', 'Lanoraie, Municipalité (MÉ)', 'Ivry-sur-le-Lac, Municipalité (MÉ)', 'Saint-Rémi-de-Tingwick, Municipalité (MÉ)', 'Saint-Fabien, Paroisse (municipalité de) (PE)', 'Saint-Éloi, Paroisse (municipalité de) (PE)', 'East Angus, Ville (V)', 'Timiskaming, Indian reserve (IRI)', 'Saint-François-du-Lac, Municipalité (MÉ)', 'Bonsecours, Municipalité (MÉ)', 'Lac-Masketsi, Unorganized (NO)', 'Grande-Vallée, Municipalité (MÉ)', 'Maricourt, Municipalité (MÉ)', 'Saint-Gédéon-de-Beauce, Municipalité (MÉ)', 'Saint-Hippolyte, Municipalité (MÉ)', 'Eeyou Istchee Baie-James, Gouvernement régional (GR)', \"Sainte-Sophie-d'Halifax, Municipalité (MÉ)\", 'Saint-Jean-de-Cherbourg, Paroisse (municipalité de) (PE)', 'Saint-Basile-le-Grand, Ville (V)', 'Pincourt, Ville (V)', 'Saint-Roch-de-Richelieu, Municipalité (MÉ)', 'Quaqtaq, Terre inuite (TI)', 'Durham-Sud, Municipalité (MÉ)', 'Saint-François-de-la-Rivière-du-Sud, Municipalité (MÉ)', 'Rivière-Beaudette, Municipalité (MÉ)', 'Lac-Ashuapmushuan, Unorganized (NO)', 'Sainte-Croix, Municipalité (MÉ)', 'Stukely-Sud, Village (VL)', 'Portage-du-Fort, Village (VL)', \"Sainte-Christine-d'Auvergne, Municipalité (MÉ)\", 'Saint-Jean-de-Dieu, Municipalité (MÉ)', 'Mistissini, Village cri (VC)', 'Sainte-Hélène-de-Kamouraska, Municipalité (MÉ)', 'Sainte-Marguerite, Paroisse (municipalité de) (PE)', 'Carignan, Ville (V)', 'Batiscan, Municipalité (MÉ)', 'Saguenay, Ville (V)', 'Pakuashipi, Indian settlement (S-É)', 'Saint-Georges-de-Clarenceville, Municipalité (MÉ)', 'Akulivik, Village nordique (VN)', 'Dorval, Ville (V)', 'Ham-Nord, Canton (municipalité de) (CT)', 'Mercier, Ville (V)', 'Saint-Patrice-de-Beaurivage, Municipalité (MÉ)', 'Saint-Gabriel-de-Brandon, Municipalité (MÉ)', 'Saint-Joseph-de-Sorel, Ville (V)', \"Saint-Damase-de-L'Islet, Municipalité (MÉ)\", 'Val-Racine, Municipalité (MÉ)', 'Pontiac, Municipalité (MÉ)', 'Val-des-Monts, Municipalité (MÉ)', 'Communauté Atikamekw de Manawan, Indian reserve (IRI)', 'Salaberry-de-Valleyfield, Ville (V)', 'Saint-Nazaire, Municipalité (MÉ)', 'La Reine, Municipalité (MÉ)', 'Sainte-Françoise, Municipalité (MÉ)', 'Saint-Jean-sur-Richelieu, Ville (V)', \"Saint-Théodore-d'Acton, Municipalité (MÉ)\", 'Mascouche, Ville (V)', 'Beaupré, Ville (V)', 'Les Hauteurs, Municipalité (MÉ)', 'Saint-Odilon-de-Cranbourne, Paroisse (municipalité de) (PE)', 'Saint-Antoine-de-Tilly, Municipalité (MÉ)', 'Saint-Jacques-le-Majeur-de-Wolfestown, Paroisse (municipalité de) (PE)', 'Saint-Adalbert, Municipalité (MÉ)', 'Lac-Moselle, Unorganized (NO)', 'Notre-Dame-des-Prairies, Ville (V)', 'Howick, Municipalité (MÉ)', \"Ayer's Cliff, Village (VL)\", 'Saint-Barnabé, Paroisse (municipalité de) (PE)', \"Sainte-Brigide-d'Iberville, Municipalité (MÉ)\", 'Barraute, Municipalité (MÉ)', 'Sainte-Edwidge-de-Clifton, Canton (municipalité de) (CT)', 'Québec, Ville (V)', 'Saint-Séverin, Paroisse (municipalité de) (PE)', 'Murdochville, Ville (V)', 'Albertville, Municipalité (MÉ)', 'Saint-Lin--Laurentides, Ville (V)', 'Essipit, Indian reserve (IRI)', 'Sainte-Cécile-de-Whitton, Municipalité (MÉ)', 'Forestville, Ville (V)', 'Saint-Narcisse, Paroisse (municipalité de) (PE)', 'Fortierville, Municipalité (MÉ)', 'Saint-Liguori, Municipalité (MÉ)', 'Saint-Antonin, Municipalité (MÉ)', 'Kamouraska, Municipalité (MÉ)', 'Sainte-Thérèse-de-la-Gatineau, Municipalité (MÉ)', 'Saint-Prosper-de-Champlain, Municipalité (MÉ)', 'Saint-Aubert, Municipalité (MÉ)', 'Baie-des-Chaloupes, Unorganized (NO)', 'Saint-Philibert, Municipalité (MÉ)', 'Lorraine, Ville (V)', 'Saint-Sébastien, Municipalité (MÉ)', 'Inukjuak, Village nordique (VN)', 'Sainte-Perpétue, Paroisse (municipalité de) (PE)', 'Kangiqsualujjuaq, Terre inuite (TI)', 'Saint-Marcel-de-Richelieu, Municipalité (MÉ)', 'Saint-Luc-de-Vincennes, Municipalité (MÉ)', 'Victoriaville, Ville (V)', 'Saint-Cyprien-de-Napierville, Municipalité (MÉ)', 'Ville-Marie, Ville (V)', 'Saint-Valère, Municipalité (MÉ)', 'Lac-Minaki, Unorganized (NO)', 'Frontenac, Municipalité (MÉ)', \"L'Épiphanie, Ville (V)\", 'Brownsburg-Chatham, Ville (V)', 'Shannon, Ville (V)', 'Saint-Benoît-du-Lac, Municipalité (MÉ)', 'Saint-Pacôme, Municipalité (MÉ)', 'Saint-Boniface, Municipalité (MÉ)', 'Saint-Antoine-sur-Richelieu, Municipalité (MÉ)', 'La Patrie, Municipalité (MÉ)', 'Havre-Saint-Pierre, Municipalité (MÉ)', 'Saint-Armand, Municipalité (MÉ)', 'Sainte-Félicité, Municipalité (MÉ)', 'Odanak, Indian reserve (IRI)', 'Piedmont, Municipalité (MÉ)', 'Saint-Barnabé-Sud, Municipalité (MÉ)', 'Notre-Dame-des-Bois, Municipalité (MÉ)', 'Très-Saint-Rédempteur, Municipalité (MÉ)', 'Saint-Donat, Paroisse (municipalité de) (PE)', 'Les Éboulements, Municipalité (MÉ)', 'Bury, Municipalité (MÉ)', 'Coaticook, Ville (V)', 'Doncaster, Indian reserve (IRI)', 'Huntingdon, Ville (V)', 'Lac-des-Dix-Milles, Unorganized (NO)', 'Chambord, Municipalité (MÉ)', 'Sainte-Sophie, Municipalité (MÉ)', \"Saint-Nazaire-d'Acton, Paroisse (municipalité de) (PE)\", 'Champlain, Municipalité (MÉ)', 'Saint-Pierre-de-Broughton, Municipalité (MÉ)', 'Nominingue, Municipalité (MÉ)', 'Potton, Canton (municipalité de) (CT)', 'Macamic, Ville (V)', 'Sainte-Flavie, Paroisse (municipalité de) (PE)', 'Notre-Dame-du-Bon-Conseil, Village (VL)', 'Saint-Alphonse, Municipalité (MÉ)', 'Windsor, Ville (V)', 'Lac-Oscar, Unorganized (NO)', 'Bonne-Espérance, Municipalité (MÉ)', \"L'Ascension, Municipalité (MÉ)\", 'Saint-Tite-des-Caps, Municipalité (MÉ)', 'Saint-Robert-Bellarmin, Municipalité (MÉ)', 'Valcourt, Canton (municipalité de) (CT)', 'Saint-Elzéar, Municipalité (MÉ)', 'Saint-Donat, Municipalité (MÉ)', 'Dégelis, Ville (V)', \"Saint-Christophe-d'Arthabaska, Paroisse (municipalité de) (PE)\", 'Saint-Tharcisius, Paroisse (municipalité de) (PE)', 'Châteauguay, Ville (V)', 'East Farnham, Municipalité (MÉ)', 'Louiseville, Ville (V)', 'Matimekosh, Indian reserve (IRI)', 'Donnacona, Ville (V)', 'Sainte-Martine, Municipalité (MÉ)', 'Saint-Sulpice, Paroisse (municipalité de) (PE)', 'Saint-Hilarion, Paroisse (municipalité de) (PE)', 'Sainte-Thècle, Municipalité (MÉ)', 'Port-Daniel--Gascons, Municipalité (MÉ)', 'Routhierville, Unorganized (NO)', 'Saint-Honoré-de-Shenley, Municipalité (MÉ)', 'Chapais, Ville (V)', 'Escuminac, Municipalité (MÉ)', 'Lantier, Municipalité (MÉ)', 'Delson, Ville (V)', \"Kinnear's Mills, Municipalité (MÉ)\", 'Sainte-Clotilde, Municipalité (MÉ)', 'Saint-Bernard, Municipalité (MÉ)', 'Gracefield, Ville (V)', 'Sainte-Praxède, Paroisse (municipalité de) (PE)', 'Passes-Dangereuses, Unorganized (NO)', 'Magog, Ville (V)', 'Esprit-Saint, Municipalité (MÉ)', 'Venise-en-Québec, Municipalité (MÉ)', 'Candiac, Ville (V)', 'Chibougamau, Ville (V)', 'Wemindji, Terres réservées aux Cris (TC)', 'Lac-Frontière, Municipalité (MÉ)', 'Upton, Municipalité (MÉ)', 'Saint-Polycarpe, Municipalité (MÉ)', 'Sainte-Marie-Madeleine, Paroisse (municipalité de) (PE)', 'Kitcisakik, Indian settlement (S-É)', 'Sainte-Anne-des-Lacs, Paroisse (municipalité de) (PE)', 'Saint-Fulgence, Municipalité (MÉ)', 'Saint-Édouard, Municipalité (MÉ)', 'Akulivik, Terre inuite (TI)', 'Kuujjuarapik, Village nordique (VN)', 'Rimouski, Ville (V)', 'Val-Alain, Municipalité (MÉ)', 'Sainte-Anne-des-Monts, Ville (V)', 'Poularies, Municipalité (MÉ)', 'La Martre, Municipalité (MÉ)', 'Havelock, Canton (municipalité de) (CT)', 'Kipawa, Municipalité (MÉ)', 'Duhamel-Ouest, Municipalité (MÉ)', 'La Minerve, Municipalité (MÉ)', 'Stornoway, Municipalité (MÉ)', 'Ham-Sud, Municipalité (MÉ)', 'Saint-Wenceslas, Municipalité (MÉ)', 'Saint-François-de-Sales, Municipalité (MÉ)', 'Wendake, Indian reserve (IRI)', \"Sainte-Famille-de-l'Île-d'Orléans, Municipalité (MÉ)\", 'Saint-Jean-de-Brébeuf, Municipalité (MÉ)', 'Abercorn, Village (VL)', 'Saint-Alphonse-Rodriguez, Municipalité (MÉ)', 'Longue-Pointe-de-Mingan, Municipalité (MÉ)', 'Saint-Alexandre, Municipalité (MÉ)', 'Chazel, Municipalité (MÉ)', 'Lac-Delage, Ville (V)', 'Oujé-Bougoumou, Terres réservées aux Cris (TC)', 'Saint-Norbert, Paroisse (municipalité de) (PE)', 'Val-David, Village (VL)', 'Valcourt, Ville (V)', 'Bécancour, Ville (V)', 'Réservoir-Dozois, Unorganized (NO)', 'Belcourt, Municipalité (MÉ)', 'Duparquet, Ville (V)', 'Kangiqsujuaq, Village nordique (VN)', 'Saint-Clément, Municipalité (MÉ)', 'Sainte-Marthe, Municipalité (MÉ)', 'Sainte-Angèle-de-Mérici, Municipalité (MÉ)', 'Saint-Ulric, Municipalité (MÉ)', 'Sainte-Eulalie, Municipalité (MÉ)', 'Saint-Mathieu, Municipalité (MÉ)', 'Saint-Bonaventure, Municipalité (MÉ)', 'Saint-Dominique, Municipalité (MÉ)', 'Saint-Pie, Ville (V)', 'Saint-Bruno-de-Montarville, Ville (V)', 'Denholm, Municipalité (MÉ)', 'Nantes, Municipalité (MÉ)', 'Saint-Louis-de-Gonzague-du-Cap-Tourmente, Paroisse (municipalité de) (PE)', 'Sainte-Rita, Municipalité (MÉ)', 'Lac-Mégantic, Ville (V)', 'Lac-Granet, Unorganized (NO)', 'Sainte-Mélanie, Municipalité (MÉ)', 'Lac-Lenôtre, Unorganized (NO)', 'Saint-Célestin, Village (VL)', 'Padoue, Municipalité (MÉ)', 'Rivière-Héva, Municipalité (MÉ)', 'Hérouxville, Paroisse (municipalité de) (PE)', 'Lac-Matapédia, Unorganized (NO)', 'Authier, Municipalité (MÉ)', 'Neuville, Ville (V)', 'Sainte-Rose-du-Nord, Paroisse (municipalité de) (PE)', 'Lac-à-la-Croix, Unorganized (NO)', 'Dolbeau-Mistassini, Ville (V)', 'Waswanipi, Terres réservées aux Cris (TC)', 'Gaspé, Ville (V)', 'Schefferville, Ville (V)', 'Pointe-Fortune, Village (VL)', 'Roxton, Canton (municipalité de) (CT)', 'Sainte-Brigitte-des-Saults, Paroisse (municipalité de) (PE)', 'Saint-Évariste-de-Forsyth, Municipalité (MÉ)', 'Saint-Pierre, Village (VL)', 'Saint-Thomas, Municipalité (MÉ)', 'Lachute, Ville (V)', 'Saint-Modeste, Municipalité (MÉ)', 'Kingsey Falls, Ville (V)', 'Roxton Falls, Village (VL)', 'Saint-Marc-sur-Richelieu, Municipalité (MÉ)', 'Price, Village (VL)', 'Saint-Camille-de-Lellis, Paroisse (municipalité de) (PE)', 'Saint-Narcisse-de-Beaurivage, Paroisse (municipalité de) (PE)', 'Inverness, Municipalité (MÉ)', 'Senneterre, Paroisse (municipalité de) (PE)', 'Saint-Ignace-de-Stanbridge, Municipalité (MÉ)', 'Sainte-Gertrude-Manneville, Municipalité (MÉ)', 'Sainte-Hélène-de-Bagot, Municipalité (MÉ)', 'Saint-Sévère, Paroisse (municipalité de) (PE)', 'Saint-Louis, Municipalité (MÉ)', 'McMasterville, Municipalité (MÉ)', 'Wemindji, Village cri (VC)', 'Lebel-sur-Quévillon, Ville (V)', 'Taschereau, Municipalité (MÉ)', 'Saint-Pierre-de-Lamy, Municipalité (MÉ)', 'Armagh, Municipalité (MÉ)', 'Westbury, Canton (municipalité de) (CT)', 'Shawville, Municipalité (MÉ)', 'Saint-Édouard-de-Fabre, Paroisse (municipalité de) (PE)', 'Hampden, Canton (municipalité de) (CT)', 'Labelle, Municipalité (MÉ)', 'Maria, Municipalité (MÉ)', 'Chartierville, Municipalité (MÉ)', 'Whapmagoostui, Village cri (VC)', 'Saint-Siméon, Paroisse (municipalité de) (PE)', 'Saint-Roch-des-Aulnaies, Municipalité (MÉ)', 'Crabtree, Municipalité (MÉ)', 'Lac-Casault, Unorganized (NO)', 'Colombier, Municipalité (MÉ)', 'Notre-Dame-de-Pontmain, Municipalité (MÉ)', 'Sainte-Sabine, Municipalité (MÉ)', 'Otterburn Park, Ville (V)', \"Saint-Roch-de-l'Achigan, Municipalité (MÉ)\", 'Saint-Édouard-de-Lotbinière, Paroisse (municipalité de) (PE)', 'Saint-André-de-Kamouraska, Municipalité (MÉ)', 'Saint-Cléophas, Paroisse (municipalité de) (PE)', 'Sainte-Christine, Paroisse (municipalité de) (PE)', 'Lac-Alfred, Unorganized (NO)', 'Saint-Julien, Municipalité (MÉ)', 'Sainte-Lucie-de-Beauregard, Municipalité (MÉ)', 'Clerval, Municipalité (MÉ)', 'Sainte-Irène, Paroisse (municipalité de) (PE)', 'Saint-Philémon, Paroisse (municipalité de) (PE)', 'Sainte-Anne-de-la-Pérade, Municipalité (MÉ)', 'Saint-Jean-de-la-Lande, Municipalité (MÉ)', 'Saint-Eugène-de-Ladrière, Paroisse (municipalité de) (PE)', 'Saint-Zénon, Municipalité (MÉ)', 'Notre-Dame-du-Laus, Municipalité (MÉ)', 'Cascades-Malignes, Unorganized (NO)', 'Saint-Mathieu-du-Parc, Municipalité (MÉ)', 'Cantley, Municipalité (MÉ)', 'Saint-Ferréol-les-Neiges, Municipalité (MÉ)', 'Berthierville, Ville (V)', 'Gore, Canton (municipalité de) (CT)', 'Lamarche, Municipalité (MÉ)', 'Lac-Duparquet, Unorganized (NO)', 'Sainte-Pétronille, Village (VL)', 'Sainte-Hélène-de-Chester, Municipalité (MÉ)', 'Listuguj, Indian reserve (IRI)', 'Saint-Zacharie, Municipalité (MÉ)', 'Clermont, Canton (municipalité de) (CT)', 'Hébertville, Municipalité (MÉ)', 'Whapmagoostui, Terres réservées aux Cris (TC)', 'Sainte-Hénédine, Paroisse (municipalité de) (PE)', 'Témiscouata-sur-le-Lac, Ville (V)', 'Grenville-sur-la-Rouge, Municipalité (MÉ)', 'Verchères, Municipalité (MÉ)', 'Notre-Dame-de-Bonsecours, Municipalité (MÉ)', 'Westmount, Ville (V)', 'Mayo, Municipalité (MÉ)', 'Saint-Alexis-de-Matapédia, Municipalité (MÉ)', 'Lac-Jacques-Cartier, Unorganized (NO)', 'Saint-Gervais, Municipalité (MÉ)', 'Mont-Saint-Pierre, Village (VL)', 'Albanel, Municipalité (MÉ)', 'Mont-Saint-Hilaire, Ville (V)', 'Saint-Zéphirin-de-Courval, Paroisse (municipalité de) (PE)', 'Lac-Beauport, Municipalité (MÉ)', 'Ulverton, Municipalité (MÉ)', 'Saint-Joseph-de-Kamouraska, Paroisse (municipalité de) (PE)', 'Obedjiwan 28, Indian reserve (IRI)', 'Saint-Elphège, Paroisse (municipalité de) (PE)', 'Saint-Edmond-les-Plaines, Municipalité (MÉ)', 'Sainte-Germaine-Boulé, Municipalité (MÉ)', 'Amos, Ville (V)', 'Saint-Jean-Port-Joli, Municipalité (MÉ)', 'Saint-Roch-Ouest, Municipalité (MÉ)', 'Napierville, Municipalité (MÉ)', 'Wotton, Municipalité (MÉ)', 'Lac-Akonapwehikan, Unorganized (NO)', 'Saint-Alexandre-de-Kamouraska, Municipalité (MÉ)', 'Nédélec, Canton (municipalité de) (CT)', 'Egan-Sud, Municipalité (MÉ)', 'Otter Lake, Municipalité (MÉ)', 'Matchi-Manitou, Unorganized (NO)', \"L'Isle-Verte, Municipalité (MÉ)\", 'Compton, Municipalité (MÉ)', 'Shigawake, Municipalité (MÉ)', 'Bedford, Canton (municipalité de) (CT)', 'Baie-du-Febvre, Municipalité (MÉ)', 'Métabetchouan--Lac-à-la-Croix, Ville (V)', 'Parisville, Paroisse (municipalité de) (PE)', 'Lac-Chicobi, Unorganized (NO)', 'Stanstead-Est, Municipalité (MÉ)', 'Saint-Lucien, Municipalité (MÉ)', 'Chichester, Canton (municipalité de) (CT)', 'Labrecque, Municipalité (MÉ)', 'Chesterville, Municipalité (MÉ)', 'Wickham, Municipalité (MÉ)', 'Lac-Rapide, Indian reserve (IRI)', 'Estérel, Ville (V)', 'Lac-Legendre, Unorganized (NO)', 'Belle-Rivière, Unorganized (NO)', \"L'Assomption, Ville (V)\", 'Lac-Nilgaut, Unorganized (NO)', 'Lévis, Ville (V)', 'Lyster, Municipalité (MÉ)', 'Cascapédia--Saint-Jules, Municipalité (MÉ)', 'Cacouna, Municipalité (MÉ)', 'Saint-Placide, Municipalité (MÉ)', 'Lac-Wagwabika, Unorganized (NO)', 'Saint-Pierre-les-Becquets, Municipalité (MÉ)', 'Saint-Télesphore, Municipalité (MÉ)', 'Ragueneau, Paroisse (municipalité de) (PE)', 'La Pocatière, Ville (V)', 'Mont-Alexandre, Unorganized (NO)', 'Ormstown, Municipalité (MÉ)', 'Saint-Anaclet-de-Lessard, Paroisse (municipalité de) (PE)', 'Port-Cartier, Ville (V)', 'Saint-Léon-de-Standon, Paroisse (municipalité de) (PE)', 'Desbiens, Ville (V)', 'Saint-Augustin-de-Desmaures, Ville (V)', 'Saint-Anicet, Municipalité (MÉ)', 'Tasiujaq, Village nordique (VN)', 'Racine, Municipalité (MÉ)', 'Sainte-Anne-du-Lac, Municipalité (MÉ)', 'Umiujaq, Terre inuite (TI)', 'Mont-Laurier, Ville (V)', 'Saint-Ludger, Municipalité (MÉ)', 'Lac-au-Saumon, Municipalité (MÉ)', 'Wentworth, Canton (municipalité de) (CT)', 'Lac-Saint-Joseph, Ville (V)', 'La Guadeloupe, Village (VL)', 'Lac-des-Plages, Municipalité (MÉ)', 'Lac-Ernest, Unorganized (NO)', 'Saint-Georges, Ville (V)', 'Cloridorme, Canton (municipalité de) (CT)', 'Lac-Marguerite, Unorganized (NO)', 'Portneuf, Ville (V)', 'Roxton Pond, Municipalité (MÉ)', 'Kazabazua, Municipalité (MÉ)', 'Saint-Louis-de-Gonzague, Paroisse (municipalité de) (PE)', 'Saint-Rosaire, Paroisse (municipalité de) (PE)', 'Saint-Ambroise, Municipalité (MÉ)', 'Acton Vale, Ville (V)', \"Saint-Léonard-d'Aston, Municipalité (MÉ)\", 'Austin, Municipalité (MÉ)', 'Sacré-Coeur-de-Jésus, Paroisse (municipalité de) (PE)', 'Baie-Comeau, Ville (V)', 'Princeville, Ville (V)', 'Saint-Gilbert, Paroisse (municipalité de) (PE)', 'Montpellier, Municipalité (MÉ)', 'Hatley, Canton (municipalité de) (CT)', 'Rivière-Nouvelle, Unorganized (NO)', 'Bolton-Ouest, Municipalité (MÉ)', \"Saint-François-d'Assise, Municipalité (MÉ)\", 'Girardville, Municipalité (MÉ)', 'Notre-Dame-du-Rosaire, Municipalité (MÉ)', 'Dépôt-Échouani, Unorganized (NO)', 'Lac-Jérôme, Unorganized (NO)', 'Les Coteaux, Municipalité (MÉ)', 'Barkmere, Ville (V)', 'Gros-Mécatina, Municipalité (MÉ)', \"Saint-Adrien-d'Irlande, Municipalité (MÉ)\", 'Kangiqsujuaq, Terre inuite (TI)', 'Saint-Honoré-de-Témiscouata, Municipalité (MÉ)', 'Lejeune, Municipalité (MÉ)', 'Thorne, Municipalité (MÉ)', 'Sainte-Béatrix, Municipalité (MÉ)', 'Saint-Moïse, Paroisse (municipalité de) (PE)', 'Nicolet, Ville (V)', 'Saint-Augustin-de-Woburn, Paroisse (municipalité de) (PE)', 'Saint-Robert, Municipalité (MÉ)', 'Saint-Charles-sur-Richelieu, Municipalité (MÉ)', 'Franquelin, Municipalité (MÉ)', 'Audet, Municipalité (MÉ)', 'Hampstead, Ville (V)', 'Rivière-Saint-Jean, Municipalité (MÉ)', 'Saint-Malo, Municipalité (MÉ)', 'Lac-Santé, Unorganized (NO)', 'Maniwaki, Ville (V)', 'Marston, Canton (municipalité de) (CT)', 'Melbourne, Canton (municipalité de) (CT)', 'Lac-Saguay, Village (VL)', 'Stoke, Municipalité (MÉ)', 'Vaudreuil-Dorion, Ville (V)', 'Saint-Agapit, Municipalité (MÉ)', 'Alma, Ville (V)', 'Rivière-Nipissis, Unorganized (NO)', 'Bégin, Municipalité (MÉ)', 'La Malbaie, Ville (V)', 'Saint-Damase, Municipalité (MÉ)', 'Rivière-Mouchalagane, Unorganized (NO)', 'Lacolle, Municipalité (MÉ)', 'Rivière-Bonaventure, Unorganized (NO)', 'Saint-Alfred, Municipalité (MÉ)', 'Sainte-Sophie-de-Lévrard, Paroisse (municipalité de) (PE)', 'Romaine 2, Indian reserve (IRI)', 'Saint-Maxime-du-Mont-Louis, Municipalité (MÉ)', 'Baie-Johan-Beetz, Municipalité (MÉ)', 'Saint-Vallier, Municipalité (MÉ)', 'Saint-David-de-Falardeau, Municipalité (MÉ)', 'Guérin, Canton (municipalité de) (CT)', \"L'Île-du-Grand-Calumet, Municipalité (MÉ)\", 'Saint-Valentin, Municipalité (MÉ)', 'Sainte-Marguerite-du-Lac-Masson, Ville (V)', 'Lac-Vacher, Unorganized (NO)', 'Saint-Guy, Municipalité (MÉ)', 'Palmarolle, Municipalité (MÉ)', 'Saint-Isidore-de-Clifton, Municipalité (MÉ)', 'Harrington, Canton (municipalité de) (CT)', 'Fort-Coulonge, Village (VL)', 'Lac-Saint-Paul, Municipalité (MÉ)', 'Maskinongé, Municipalité (MÉ)', 'Saint-Félix-de-Dalquier, Municipalité (MÉ)', 'Lotbinière, Municipalité (MÉ)', 'Saint-Henri, Municipalité (MÉ)', 'Saint-Casimir, Municipalité (MÉ)', 'Dundee, Canton (municipalité de) (CT)', 'Mistissini, Terres réservées aux Cris (TC)', 'Pointe-des-Cascades, Village (VL)', 'Tasiujaq, Terre inuite (TI)', \"L'Avenir, Municipalité (MÉ)\", 'Saint-Janvier-de-Joly, Municipalité (MÉ)', 'Saint-Albert, Municipalité (MÉ)', 'Lac-des-Écorces, Municipalité (MÉ)', 'Caplan, Municipalité (MÉ)', 'Val-Morin, Municipalité (MÉ)', 'Bouchette, Municipalité (MÉ)', 'Calixa-Lavallée, Municipalité (MÉ)', 'Baie-Atibenne, Unorganized (NO)', 'Rapide-Danseur, Municipalité (MÉ)', 'Stratford, Canton (municipalité de) (CT)', 'Lac-Drolet, Municipalité (MÉ)', 'Saints-Anges, Paroisse (municipalité de) (PE)', 'East Hereford, Municipalité (MÉ)', 'Linton, Unorganized (NO)', 'Saint-Stanislas, Municipalité (MÉ)', 'La Pêche, Municipalité (MÉ)', 'Laverlochère-Angliers, Municipalité (MÉ)', 'Lac-au-Brochet, Unorganized (NO)', 'Rivière-Bonjour, Unorganized (NO)', 'Cap-Saint-Ignace, Municipalité (MÉ)', 'Packington, Paroisse (municipalité de) (PE)', 'Saint-Germain, Paroisse (municipalité de) (PE)', 'Saint-Pamphile, Ville (V)', 'Cookshire-Eaton, Ville (V)', 'Preissac, Municipalité (MÉ)', 'Notre-Dame-de-Lourdes, Municipalité (MÉ)', 'Waterloo, Ville (V)', 'Pessamit, Indian reserve (IRI)', 'La Morandière, Municipalité (MÉ)', 'Drummondville, Ville (V)', 'Pointe-à-la-Croix, Municipalité (MÉ)', 'Saint-Ignace-de-Loyola, Municipalité (MÉ)', 'Scott, Municipalité (MÉ)', 'Saint-Bernard-de-Michaudville, Municipalité (MÉ)', 'Lawrenceville, Village (VL)', 'Val-des-Sources, Ville (V)', 'Saint-Martin, Paroisse (municipalité de) (PE)', 'Lac-du-Taureau, Unorganized (NO)', 'Rouyn-Noranda, Ville (V)', 'Val-Brillant, Municipalité (MÉ)'}\n",
      "{'(VK', '(TI', '(TC', '(VN', '(VL', '(CU', '(PE', '(TK', ' (V', '(NO', '(VC', '(CT', '(GR', 'IRI', '(MÉ', 'S-É'}\n"
     ]
    }
   ],
   "source": [
    "lst,lst2 = df['GEO_NAME'].unique(),[]\n",
    "st = ()\n",
    "for x in lst:\n",
    "    #print(x.split(\"(\")[1].split(\")\")[0])\n",
    "    lst2.append(x[-4:-1])\n",
    "#print( lst[0].split(\"(\")[1].split(\")\")[0] )\n",
    "st=set(lst)\n",
    "st2=set(lst2)\n",
    "print(st)\n",
    "print(st2)"
   ]
  },
  {
   "cell_type": "code",
   "execution_count": null,
   "id": "f147fc29-ed72-4470-b0d6-574f7c8f7c75",
   "metadata": {},
   "outputs": [],
   "source": [
    "'VK', 'TI', 'TC', 'VN', 'VL', 'CU', 'PE', 'TK', ' V', 'NO', 'VC', 'CT', 'GR', 'IRI', 'MÉ', 'S-É'"
   ]
  },
  {
   "cell_type": "code",
   "execution_count": null,
   "id": "3d456a97-8716-4d43-ad8a-19f5bf2be6ca",
   "metadata": {},
   "outputs": [],
   "source": [
    "# 4809470 - 7450994"
   ]
  }
 ],
 "metadata": {
  "kernelspec": {
   "display_name": "Python [conda env:base] *",
   "language": "python",
   "name": "conda-base-py"
  },
  "language_info": {
   "codemirror_mode": {
    "name": "ipython",
    "version": 3
   },
   "file_extension": ".py",
   "mimetype": "text/x-python",
   "name": "python",
   "nbconvert_exporter": "python",
   "pygments_lexer": "ipython3",
   "version": "3.11.13"
  }
 },
 "nbformat": 4,
 "nbformat_minor": 5
}
