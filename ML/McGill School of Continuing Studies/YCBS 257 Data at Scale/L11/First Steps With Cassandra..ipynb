﻿{
  "metadata": {
    "name": "First Steps With Cassandra",
    "kernelspec": {
      "language": "scala",
      "name": "spark2-scala"
    },
    "language_info": {
      "codemirror_mode": "text/x-scala",
      "file_extension": ".scala",
      "mimetype": "text/x-scala",
      "name": "scala",
      "pygments_lexer": "scala"
    }
  },
  "nbformat": 4,
  "nbformat_minor": 2,
  "cells": [
    {
      "cell_type": "markdown",
      "metadata": {},
      "source": "\u003ccenter\u003e\u003cimg src\u003d\"http://localhost/images/first-steps-with-cassandra.jpg\" alt\u003d\"First Steps With Cassandra\" style\u003d\"text-align: center; width:960px; height:540px;\"/\u003e\u003c/center\u003e"
    },
    {
      "cell_type": "markdown",
      "metadata": {},
      "source": "# KeySpaces and Tables\n"
    },
    {
      "cell_type": "code",
      "execution_count": 2,
      "metadata": {
        "autoscroll": "auto"
      },
      "outputs": [],
      "source": "%cassandra\n# Show all keyspaces\n\ndesc keyspaces;"
    },
    {
      "cell_type": "code",
      "execution_count": 3,
      "metadata": {
        "autoscroll": "auto"
      },
      "outputs": [],
      "source": "%cassandra\n// Keyspace creation for videos \twebsite \n\nCREATE KEYSPACE IF NOT EXISTS tutorial \nWITH REPLICATION \u003d {\n  \u0027class\u0027 : \u0027SimpleStrategy\u0027,\n  \u0027replication_factor\u0027: 1\n};"
    },
    {
      "cell_type": "code",
      "execution_count": 4,
      "metadata": {
        "autoscroll": "auto"
      },
      "outputs": [],
      "source": "%cassandra\n// Change to tutorial Keyspace\n\nUse tutorial;"
    },
    {
      "cell_type": "code",
      "execution_count": 5,
      "metadata": {
        "autoscroll": "auto"
      },
      "outputs": [],
      "source": "%cassandra\n// Videos table creation\n\nCREATE TABLE IF NOT EXISTS videos (\n    video_id TIMEUUID,\n    added_date TIMESTAMP,\n    description TEXT,\n    title TEXT,\n    user_id UUID,\n    PRIMARY KEY(video_id)\n);"
    },
    {
      "cell_type": "code",
      "execution_count": 6,
      "metadata": {
        "autoscroll": "auto"
      },
      "outputs": [],
      "source": "%sh\n# Load videos.csv into videos table\n\ncqlsh -e \"COPY tutorial.videos (video_id, added_date, description, title, user_id) FROM \u0027/home/training/Data/videos.csv\u0027 WITH HEADER\u003dtrue;\""
    },
    {
      "cell_type": "code",
      "execution_count": 7,
      "metadata": {
        "autoscroll": "auto"
      },
      "outputs": [],
      "source": "%cassandra\n# Check the data is loaded \n\nselect * from videos limit 10;"
    },
    {
      "cell_type": "code",
      "execution_count": 8,
      "metadata": {
        "autoscroll": "auto"
      },
      "outputs": [],
      "source": "%cassandra\n// Get the number of rows \n\nselect count(*) from videos;"
    },
    {
      "cell_type": "code",
      "execution_count": 9,
      "metadata": {
        "autoscroll": "auto"
      },
      "outputs": [],
      "source": "%cassandra\n// select video by title\n\nselect * from videos where title \u003d \u0027Become An Internet Enterprise\u0027;"
    },
    {
      "cell_type": "markdown",
      "metadata": {},
      "source": "# Tables With Compound Key\n"
    },
    {
      "cell_type": "code",
      "execution_count": 11,
      "metadata": {
        "autoscroll": "auto"
      },
      "outputs": [],
      "source": "%cassandra\n// Create the new table\n\nCREATE TABLE IF NOT EXISTS tutorial.videos_by_title_year (\n    title TEXT,    \n    added_year INT,\n    added_date TIMESTAMP,\n    description TEXT,\n    user_id UUID,\n    video_id UUID,\n    PRIMARY KEY(title, added_year) // for querying by title and added_year we need composite key\n);"
    },
    {
      "cell_type": "code",
      "execution_count": 12,
      "metadata": {
        "autoscroll": "auto"
      },
      "outputs": [],
      "source": "%sh\n# Load the data into the table\n\ncqlsh -e \"copy tutorial.videos_by_title_year from \u0027/home/training/Data/videos_by_title_year.csv\u0027 WITH DELIMITER \u003d \u0027,\u0027 AND HEADER \u003d true and DATETIMEFORMAT\u003d\u0027%d/%m/%Y\u0027;\""
    },
    {
      "cell_type": "code",
      "execution_count": 13,
      "metadata": {
        "autoscroll": "auto"
      },
      "outputs": [],
      "source": "%cassandra\n// select video by title and added_year\n\nselect * from videos_by_title_year where title \u003d \u0027Introduction To Apache Cassandra\u0027 and added_year \u003d 2014;"
    },
    {
      "cell_type": "code",
      "execution_count": 14,
      "metadata": {
        "autoscroll": "auto"
      },
      "outputs": [],
      "source": "%cassandra\n\n// Drop the existing table\n\ndrop table videos_by_title_year;"
    },
    {
      "cell_type": "code",
      "execution_count": 15,
      "metadata": {
        "autoscroll": "auto"
      },
      "outputs": [],
      "source": "%cassandra\n// create the table again with compound key\n\nCREATE TABLE IF NOT EXISTS videos_by_title_year (\n    title TEXT,    \n    added_year INT,\n    added_date TIMESTAMP,\n    description TEXT,\n    user_id UUID,\n    video_id UUID,\n    PRIMARY KEY((title, added_year)) // for querying by title and added_year we need composite key\n);"
    },
    {
      "cell_type": "code",
      "execution_count": 16,
      "metadata": {
        "autoscroll": "auto"
      },
      "outputs": [],
      "source": "%sh\n# Load the data again into the table\n\ncqlsh -e \"copy tutorial.videos_by_title_year from \u0027/home/training/Data/videos_by_title_year.csv\u0027 WITH DELIMITER \u003d \u0027,\u0027 AND HEADER \u003d true and DATETIMEFORMAT\u003d\u0027%d/%m/%Y\u0027;\""
    },
    {
      "cell_type": "code",
      "execution_count": 17,
      "metadata": {
        "autoscroll": "auto"
      },
      "outputs": [],
      "source": "%cassandra\n// select video by title and added_year\n\nselect * from videos_by_title_year where title \u003d \u0027Introduction To Apache Cassandra\u0027 ;"
    },
    {
      "cell_type": "code",
      "execution_count": 18,
      "metadata": {
        "autoscroll": "auto"
      },
      "outputs": [],
      "source": "%cassandra\n// select video by title and added_year\n\nselect * from videos_by_title_year where title \u003d \u0027Introduction To Apache Cassandra\u0027 and added_year \u003d 2014;"
    },
    {
      "cell_type": "markdown",
      "metadata": {},
      "source": "# Clustering Columns\n"
    },
    {
      "cell_type": "code",
      "execution_count": 20,
      "metadata": {
        "autoscroll": "auto"
      },
      "outputs": [],
      "source": "%cassandra\n\ndrop table videos_by_tag_year;\n"
    },
    {
      "cell_type": "code",
      "execution_count": 21,
      "metadata": {
        "autoscroll": "auto"
      },
      "outputs": [],
      "source": "%cassandra\n// Create table\n\nCREATE TABLE videos_by_tag_year (\n    tag text,\n    added_year int,\n    video_id timeuuid,\n    added_date timestamp,\n    description text,\n    title text,\n    user_id uuid,\n    PRIMARY KEY ((tag), added_year, video_id)\n) WITH CLUSTERING ORDER BY (added_year desc, video_id asc);"
    },
    {
      "cell_type": "code",
      "execution_count": 22,
      "metadata": {
        "autoscroll": "auto"
      },
      "outputs": [],
      "source": "%sh\n# Load the data again into the table\n\ncqlsh -e \"copy tutorial.videos_by_tag_year (video_id, added_year, added_date, description, tag, title, user_id) FROM \u0027/home/training/Data/videos_and_tags.csv\u0027 WITH HEADER\u003dtrue;\""
    },
    {
      "cell_type": "code",
      "execution_count": 23,
      "metadata": {
        "autoscroll": "auto"
      },
      "outputs": [],
      "source": "%cassandra\n// Query the table \n\nselect * from videos_by_tag_year \n    WHERE tag \u003d \u0027azure\u0027 \n    and added_year \u003e 2012 \n    and added_year \u003c 2016 \nORDER BY added_year;"
    },
    {
      "cell_type": "markdown",
      "metadata": {},
      "source": "# User Defined Type\n"
    },
    {
      "cell_type": "code",
      "execution_count": 25,
      "metadata": {
        "autoscroll": "auto"
      },
      "outputs": [],
      "source": "%cassandra\n// Create User Defined Type\n\nCREATE TYPE video_encoding (\n    encoding TEXT,\n    height INT,\n    width INT,\n    bit_rates SET \u003cTEXT\u003e\n);"
    },
    {
      "cell_type": "code",
      "execution_count": 26,
      "metadata": {
        "autoscroll": "auto"
      },
      "outputs": [],
      "source": "%cassandra\n\nTRUNCATE Table videos;"
    },
    {
      "cell_type": "code",
      "execution_count": 27,
      "metadata": {
        "autoscroll": "auto"
      },
      "outputs": [],
      "source": "%cassandra\n// Add a new column to the table\n\nALTER TABLE videos ADD tags SET\u003cTEXT\u003e;"
    },
    {
      "cell_type": "code",
      "execution_count": 28,
      "metadata": {
        "autoscroll": "auto"
      },
      "outputs": [],
      "source": "%sh\n# Load tags into videos table\n\ncqlsh -e \"COPY tutorial.videos (video_id, added_date, description, tags, title, user_id) FROM \u0027/home/training/Data/videos_and_tags_set.csv\u0027 WITH HEADER\u003dtrue;\""
    },
    {
      "cell_type": "code",
      "execution_count": 29,
      "metadata": {
        "autoscroll": "auto"
      },
      "outputs": [],
      "source": "%cassandra\n// Add encoding UDT to the table\n\nALTER TABLE videos ADD encoding FROZEN\u003cvideo_encoding\u003e;"
    },
    {
      "cell_type": "code",
      "execution_count": 30,
      "metadata": {
        "autoscroll": "auto"
      },
      "outputs": [],
      "source": "%sh\n# Load videos_encodings.csv into videos table\n\ncqlsh -e \"COPY tutorial.videos (video_id, encoding) FROM \u0027/home/training/Data/videos_encoding.csv\u0027 WITH HEADER\u003dtrue;\""
    },
    {
      "cell_type": "code",
      "execution_count": 31,
      "metadata": {
        "autoscroll": "auto"
      },
      "outputs": [],
      "source": "%cassandra\n// Retrieve the first 10 rows of the videos table.\n\nSELECT * FROM videos LIMIT 10;"
    },
    {
      "cell_type": "raw",
      "metadata": {
        "format": "text/plain"
      },
      "source": "%cassandra\n"
    }
  ]
}