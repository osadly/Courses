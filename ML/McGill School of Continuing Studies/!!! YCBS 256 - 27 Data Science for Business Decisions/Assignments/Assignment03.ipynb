{
 "cells": [
  {
   "cell_type": "markdown",
   "metadata": {
    "colab_type": "text",
    "id": "g2unLOmVzsBK"
   },
   "source": [
    "\n",
    "# Assignment 3  <font color=\"blue\"> (15 points) </font>\n",
    " \n",
    "***\n",
    "\n",
    "### Notes and Instructions\n",
    "  + You may need additional libraries besides the Python standard library to solve some questions. Import only necessary libraries. \n",
    "  + If more than one library exist for a same purpose, choose the one you wish as long as it does the task properly. \n",
    "  + If we want you to use a specific library, then we will state it clearly. \n",
    "  + Use the exact variable names asked in the questions. When no clear instructions given, feel free to do it the way you would like to.\n",
    "  + After each question, add the needed number of new cells and place your answers inside the cells. \n",
    "  + Use text cells for explanations. Use explanation and plain text as much as possible. \n",
    "  + Do not remove or modify the original cells provided by the instructor.\n",
    "  + In the following cell you will find some extra options to make your code more readable, including output colors RED, OKBLUE, or output text styles like BOLD or UNDERLINE that. Do not hesitate to use them. As an example, one may output text in red as follows: \n",
    "  ```python\n",
    "     print(bcolors.RED + \"your text\" + bcolors.ENDC)\n",
    "  ```\n",
    "  + Comment your code whenever needed using # sign at the beginning of the row.\n",
    "  + In some questions some of the details needed for solving the problem are **purposely** omitted to encourage additional self-directed research. This, especially, helps you develop some search skills for coding in Python (which is inevitable due to the inconsistent syntax of Python).\n",
    "  + Do not hesitate to communicate your questions to the TA's or instructors. \n",
    "    \n",
    "  Good luck! "
   ]
  },
  {
   "cell_type": "code",
   "execution_count": 6,
   "metadata": {
    "colab": {},
    "colab_type": "code",
    "id": "aOt20LC3zsBN"
   },
   "outputs": [],
   "source": [
    "# The following piece of code gives the opportunity to show multiple outputs\n",
    "# in one cell:\n",
    "from IPython.core.interactiveshell import InteractiveShell\n",
    "InteractiveShell.ast_node_interactivity = \"all\"\n",
    "\n",
    "\n",
    "# Colorful outputs\n",
    "class bcolors:\n",
    "    RED       = '\\033[91m'\n",
    "    OKBLUE    = '\\033[94m'\n",
    "    BOLD      = '\\033[1m'\n",
    "    UNDERLINE = '\\033[4m'\n",
    "    ENDC      = '\\033[0m'"
   ]
  },
  {
   "cell_type": "markdown",
   "metadata": {
    "colab_type": "text",
    "id": "JhunulGDzsBS"
   },
   "source": []
  },
  {
   "cell_type": "markdown",
   "metadata": {
    "colab_type": "text",
    "id": "PI8k_3Wp2qVH"
   },
   "source": [
    "## **Part A** <font color=\"blue\">(5 points)</font>\n",
    "\n",
    "1. **<font color=\"blue\">(1 point)</font>** Generate 100 points equally distanced from $-20$ to $20$ and save them in a `numpy` array `x1`. Now, create $4$ more `numpy` arrays by raising `x1` to the power of $2,3,4,5$, and call them `x2`, `x3`, `x4` and `x5`, respectively. \n",
    "3. **<font color=\"blue\">(1 point)</font>** Create your response `y`, a new `numpy` array, defined as $y= 1.75 + 5 x_1 + 0.05 x_3 - 10.3 x_5 + \\varepsilon$, where $\\varepsilon \\sim \\mathcal{N}(0, 4)$.\n",
    "4. **<font color=\"blue\">(2 points)</font>** Using $5$-fold cross-validation, with a reasonable train-test proportion, train a **lasso** regression model including all $x_1, x_2, x_3 , x_4 , x_5$, and for $10$ different  pre-determined tuning parameters. \n",
    "5. **<font color=\"blue\">(1 point)</font>** Plot the **cross-validated mean squared errors** vs the tuning parameter's values\n",
    " and chose the best tuning parameter based on the plot. Does the best model chosen perform **variable selection**?"
   ]
  },
  {
   "cell_type": "markdown",
   "metadata": {},
   "source": [
    "#### A.1.1. Generate 100 points equally distanced from  −20 to 20 and save them in a numpy array x1."
   ]
  },
  {
   "cell_type": "code",
   "execution_count": 17,
   "metadata": {},
   "outputs": [],
   "source": [
    "import numpy as np\n",
    "frm,to,cnt=-20,20,100\n",
    "stp = (to-frm)/(cnt+1)\n",
    "x1 = np.arange(frm+stp,to,stp)\n",
    "#print(min(x1), max(x1), len(x1))\n",
    "\n",
    "#check points are eaually distant: subtract each point from the previous\n",
    "#dist=[]\n",
    "#for i in range(len(x1)-1):\n",
    "#    dist.append(x1[i+1]-x1[i])\n",
    "#print(min(dist),max(dist),min(dist)-max(dist), len(dist))"
   ]
  },
  {
   "cell_type": "markdown",
   "metadata": {},
   "source": [
    "#### A.1.2. Now, create  4  more numpy arrays by raising x1 to the power of  2,3,4,5 , and call them x2, x3, x4 and x5, respectively."
   ]
  },
  {
   "cell_type": "code",
   "execution_count": 39,
   "metadata": {},
   "outputs": [],
   "source": [
    "# X is a numpy array of \n",
    "\n",
    "X = np.empty(shape=(6,100))\n",
    "X[0].fill(0)\n",
    "X[1] = x1\n",
    "\n",
    "for i in range(4):\n",
    "    X[i+2,:] = [pow(e,i+2) for e in x1]\n",
    "\n",
    "X=np.array(X)\n",
    "\n",
    "#print(type(x1))\n",
    "#print(x1.ndim)\n",
    "#print(x1.shape)\n",
    "#print(x1[0])\n",
    "\n",
    "#print(type(X))\n",
    "#print(X.ndim)\n",
    "#print(X.shape)\n",
    "#print(X[:,0])\n",
    "\n",
    "# creating variables with exact variable names asked in the questions\n",
    "x2 = X[2] #np.array([pow(z,2) for z in x1])\n",
    "x3 = X[3] #np.array([pow(z,3) for z in x1])\n",
    "x4 = X[4] #np.array([pow(z,4) for z in x1])\n",
    "x5 = X[5] #np.array([pow(z,5) for z in x1])\n",
    "\n",
    "#for i in range(100):\n",
    "#    if X[0][i] != 0 and X[1][i] != x1[i] and X[2][i] != x2[i] and X[3][i] != x3[i] and X[4][i] != x4[i] and X[5][i] != x5[i]:\n",
    "#        print(\"error\")\n",
    "        \n",
    "#    print(X[0][i] - 0 + X[1][i] - x1[i] + X[2][i] - x2[i] + X[3][i] - x3[i] + X[4][i] - x4[i] + X[5][i] - x5[i])\n",
    "\n",
    "#for i in range(4):\n",
    "#print(min(x1), max(x1), len(x1))\n",
    "#print(min(x2), max(x2), len(x2))\n",
    "#print(min(x3), max(x3), len(x3))\n",
    "#print(min(x4), max(x4), len(x4))\n",
    "#print(min(x5), max(x5), len(x5))\n",
    "#type(x2), type(x3), type(x4) , type(x5)"
   ]
  },
  {
   "cell_type": "markdown",
   "metadata": {},
   "source": [
    "#### A.2. Create your response y, a new numpy array, defined as  𝑦=1.75+5𝑥1+0.05𝑥3−10.3𝑥5+𝜀  , where  𝜀∼N(0,4)"
   ]
  },
  {
   "cell_type": "code",
   "execution_count": 9,
   "metadata": {},
   "outputs": [],
   "source": [
    "b0 = 1.75\n",
    "b1 = 5\n",
    "b3 = 0.05\n",
    "b5 = -10.3\n",
    "##------------------------------------------------------------------------\n",
    "# generate epsilon : eps\n",
    "mu, sigma = 0, 4 # mean and standard deviation\n",
    "#eps = np.random.normal(mu, sigma, 10000000)\n",
    "eps = np.random.normal(mu, sigma, 100)\n",
    "#eps\n",
    "#print(abs( np.mean(eps)))\n",
    "#print(abs(np.std(eps)))\n",
    "##------------------------------------------------------------------------\n",
    "y = b0 + b1*x1 + b3*x3 + b5*x5 + eps\n",
    "#y"
   ]
  },
  {
   "cell_type": "code",
   "execution_count": 54,
   "metadata": {},
   "outputs": [
    {
     "name": "stdout",
     "output_type": "stream",
     "text": [
      "Index(['x0', 'x1', 'x2', 'x3', 'x4', 'x5'], dtype='object')\n"
     ]
    },
    {
     "data": {
      "text/html": [
       "<div>\n",
       "<style scoped>\n",
       "    .dataframe tbody tr th:only-of-type {\n",
       "        vertical-align: middle;\n",
       "    }\n",
       "\n",
       "    .dataframe tbody tr th {\n",
       "        vertical-align: top;\n",
       "    }\n",
       "\n",
       "    .dataframe thead th {\n",
       "        text-align: right;\n",
       "    }\n",
       "</style>\n",
       "<table border=\"1\" class=\"dataframe\">\n",
       "  <thead>\n",
       "    <tr style=\"text-align: right;\">\n",
       "      <th></th>\n",
       "      <th>x0</th>\n",
       "      <th>x1</th>\n",
       "      <th>x2</th>\n",
       "      <th>x3</th>\n",
       "      <th>x4</th>\n",
       "      <th>x5</th>\n",
       "    </tr>\n",
       "    <tr>\n",
       "      <th>Index</th>\n",
       "      <th></th>\n",
       "      <th></th>\n",
       "      <th></th>\n",
       "      <th></th>\n",
       "      <th></th>\n",
       "      <th></th>\n",
       "    </tr>\n",
       "  </thead>\n",
       "  <tbody>\n",
       "    <tr>\n",
       "      <th>0</th>\n",
       "      <td>0.0</td>\n",
       "      <td>-19.603960</td>\n",
       "      <td>384.315263</td>\n",
       "      <td>-7534.101200</td>\n",
       "      <td>147698.221536</td>\n",
       "      <td>-2.895470e+06</td>\n",
       "    </tr>\n",
       "    <tr>\n",
       "      <th>1</th>\n",
       "      <td>0.0</td>\n",
       "      <td>-19.207921</td>\n",
       "      <td>368.944221</td>\n",
       "      <td>-7086.651377</td>\n",
       "      <td>136119.838324</td>\n",
       "      <td>-2.614579e+06</td>\n",
       "    </tr>\n",
       "    <tr>\n",
       "      <th>2</th>\n",
       "      <td>0.0</td>\n",
       "      <td>-18.811881</td>\n",
       "      <td>353.886874</td>\n",
       "      <td>-6657.277825</td>\n",
       "      <td>125235.919473</td>\n",
       "      <td>-2.355923e+06</td>\n",
       "    </tr>\n",
       "    <tr>\n",
       "      <th>3</th>\n",
       "      <td>0.0</td>\n",
       "      <td>-18.415842</td>\n",
       "      <td>339.143221</td>\n",
       "      <td>-6245.607837</td>\n",
       "      <td>115018.124522</td>\n",
       "      <td>-2.118156e+06</td>\n",
       "    </tr>\n",
       "    <tr>\n",
       "      <th>4</th>\n",
       "      <td>0.0</td>\n",
       "      <td>-18.019802</td>\n",
       "      <td>324.713263</td>\n",
       "      <td>-5851.268707</td>\n",
       "      <td>105438.703431</td>\n",
       "      <td>-1.899985e+06</td>\n",
       "    </tr>\n",
       "  </tbody>\n",
       "</table>\n",
       "</div>"
      ],
      "text/plain": [
       "        x0         x1          x2           x3             x4            x5\n",
       "Index                                                                      \n",
       "0      0.0 -19.603960  384.315263 -7534.101200  147698.221536 -2.895470e+06\n",
       "1      0.0 -19.207921  368.944221 -7086.651377  136119.838324 -2.614579e+06\n",
       "2      0.0 -18.811881  353.886874 -6657.277825  125235.919473 -2.355923e+06\n",
       "3      0.0 -18.415842  339.143221 -6245.607837  115018.124522 -2.118156e+06\n",
       "4      0.0 -18.019802  324.713263 -5851.268707  105438.703431 -1.899985e+06"
      ]
     },
     "execution_count": 54,
     "metadata": {},
     "output_type": "execute_result"
    },
    {
     "data": {
      "text/plain": [
       "(100, 6)"
      ]
     },
     "execution_count": 54,
     "metadata": {},
     "output_type": "execute_result"
    }
   ],
   "source": [
    "# convert numpy array to pandas data frame\n",
    "\n",
    "import pandas as pd\n",
    "\n",
    "# transpose X\n",
    "X_trnsps = np.transpose(X)\n",
    "\n",
    "df = pd.DataFrame(data=X_trnsps[:,:]) #,    # values\n",
    "            #index=data[1:,0],    # 1st column as index\n",
    "            #columns=data[0,1:]) \n",
    "\n",
    "# rename column names\n",
    "for i in range(6):\n",
    "    df.rename({df.columns[i]:\"x\"+str(i)},axis=1,inplace=True)\n",
    "    \n",
    "df.index.names = ['Index']\n",
    "\n",
    "print(df.keys())\n",
    "df.head()\n",
    "df.shape"
   ]
  },
  {
   "cell_type": "markdown",
   "metadata": {},
   "source": [
    "#### A.3. Using  5-fold cross-validation, with a reasonable train-test proportion, train a lasso regression model including all 𝑥1,𝑥2,𝑥3,𝑥4,𝑥5, and for  10  different pre-determined tuning parameters."
   ]
  },
  {
   "cell_type": "code",
   "execution_count": 10,
   "metadata": {},
   "outputs": [],
   "source": [
    "# Standardize/normalize Data first - check code in python L4 or L5"
   ]
  },
  {
   "cell_type": "code",
   "execution_count": 14,
   "metadata": {},
   "outputs": [],
   "source": [
    "# 5-fold cross-validation\n",
    "from sklearn.model_selection import cross_val_score, KFold\n",
    "from sklearn.model_selection import train_test_split\n",
    "\n",
    "k=5 # five folds as requested\n",
    "kf = KFold(n_splits=k, shuffle=True, random_state=47)"
   ]
  },
  {
   "cell_type": "code",
   "execution_count": 12,
   "metadata": {},
   "outputs": [],
   "source": [
    "# train a lasso regression model\n",
    "\n",
    "# how to come up with alpha in the parameters for lasso - check lecture & python for (Lec4 or Lec5) ?\n",
    "\n",
    "# including all 𝑥1,𝑥2,𝑥3,𝑥4,𝑥5 [but only x1,x3,x5 are used in creating y]\n",
    "# what is for 10 different pre-determined tuning parameters.??\n",
    "\n",
    "\n",
    "from sklearn import linear_model\n",
    "lasso_rg = linear_model.Lasso(alpha=0.1)"
   ]
  },
  {
   "cell_type": "markdown",
   "metadata": {},
   "source": [
    "#### A.4. Plot the cross-validated mean squared errors vs the tuning parameter's values and chose the best tuning parameter based on the plot. Does the best model chosen perform variable selection?"
   ]
  },
  {
   "cell_type": "code",
   "execution_count": null,
   "metadata": {},
   "outputs": [],
   "source": []
  },
  {
   "cell_type": "markdown",
   "metadata": {
    "colab_type": "text",
    "id": "lKnyVWq21kZ9"
   },
   "source": [
    "## **Part B** <font color=\"blue\">(3 points)</font>\n",
    "For this part upload `Wage.csv`.\n",
    "\n",
    "1. **<font color=\"blue\">(2 points)</font>** Perform polynomial regression to predict `wage` using `age`. Use cross-validation to select the optimal degree $d$ for the polynomial. What degree was chosen? Make a plot of\n",
    "the resulting polynomial fit to the data. \n",
    "2. **<font color=\"blue\">(1 point)</font>** Fit a step function to predict `wage` using `age` , and perform cross-validation to choose the optimal number of cuts. Make a plot of the fit obtained.\n"
   ]
  },
  {
   "cell_type": "markdown",
   "metadata": {
    "colab_type": "text",
    "id": "7GLQakVZ41gL"
   },
   "source": [
    "\n",
    "## **Part C** <font color=\"blue\">(4 points)</font>\n",
    "Apply SVM and random forests to a data set of your choice. Be sure to fit the models on a training set and to evaluate their performance on a test set. How accurate are the results compared to each other? Which of them yields the best performance?\n"
   ]
  },
  {
   "cell_type": "markdown",
   "metadata": {
    "colab_type": "text",
    "id": "JUCsQMN0UV5m"
   },
   "source": [
    "## **Part D** <font color=\"blue\">(3 points)</font>\n",
    "\n",
    "1. **<font color=\"blue\">(1 point)</font>** Generate $2$-dimentional data with $500$ observations from $3$ Gaussian clusters. \n",
    "2. **<font color=\"blue\">(0.5 points)</font>** Use a scatterplot to visualize the produced data. \n",
    "3. **<font color=\"blue\">(1 point)</font>** Shuffle the data and use $K$-means, with $K=2,3,4$ to cluster the data.\n",
    "4. **<font color=\"blue\">(0.5 points)</font>** Visualize the results, separately.  \n"
   ]
  }
 ],
 "metadata": {
  "colab": {
   "collapsed_sections": [],
   "name": "assignment03.ipynb",
   "provenance": []
  },
  "kernelspec": {
   "display_name": "Python 3 (ipykernel)",
   "language": "python",
   "name": "python3"
  },
  "language_info": {
   "codemirror_mode": {
    "name": "ipython",
    "version": 3
   },
   "file_extension": ".py",
   "mimetype": "text/x-python",
   "name": "python",
   "nbconvert_exporter": "python",
   "pygments_lexer": "ipython3",
   "version": "3.11.5"
  },
  "toc": {
   "base_numbering": 1,
   "nav_menu": {},
   "number_sections": true,
   "sideBar": true,
   "skip_h1_title": false,
   "title_cell": "Table of Contents",
   "title_sidebar": "Contents",
   "toc_cell": false,
   "toc_position": {},
   "toc_section_display": true,
   "toc_window_display": false
  }
 },
 "nbformat": 4,
 "nbformat_minor": 1
}
