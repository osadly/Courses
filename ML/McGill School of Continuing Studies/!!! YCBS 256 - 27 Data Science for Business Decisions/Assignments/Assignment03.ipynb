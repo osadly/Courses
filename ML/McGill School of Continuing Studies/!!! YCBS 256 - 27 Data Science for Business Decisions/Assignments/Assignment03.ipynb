{
  "nbformat": 4,
  "nbformat_minor": 0,
  "metadata": {
    "colab": {
      "name": "assignment03.ipynb",
      "provenance": [],
      "collapsed_sections": []
    },
    "kernelspec": {
      "display_name": "Python 3",
      "language": "python",
      "name": "python3"
    },
    "language_info": {
      "codemirror_mode": {
        "name": "ipython",
        "version": 3
      },
      "file_extension": ".py",
      "mimetype": "text/x-python",
      "name": "python",
      "nbconvert_exporter": "python",
      "pygments_lexer": "ipython3",
      "version": "3.6.4"
    },
    "toc": {
      "base_numbering": 1,
      "nav_menu": {},
      "number_sections": true,
      "sideBar": true,
      "skip_h1_title": false,
      "title_cell": "Table of Contents",
      "title_sidebar": "Contents",
      "toc_cell": false,
      "toc_position": {},
      "toc_section_display": true,
      "toc_window_display": false
    }
  },
  "cells": [
    {
      "cell_type": "markdown",
      "metadata": {
        "colab_type": "text",
        "id": "g2unLOmVzsBK"
      },
      "source": [
        "\n",
        "# Assignment 3  <font color=\"blue\"> (15 points) </font>\n",
        " \n",
        "***\n",
        "\n",
        "### Notes and Instructions\n",
        "  + You may need additional libraries besides the Python standard library to solve some questions. Import only necessary libraries. \n",
        "  + If more than one library exist for a same purpose, choose the one you wish as long as it does the task properly. \n",
        "  + If we want you to use a specific library, then we will state it clearly. \n",
        "  + Use the exact variable names asked in the questions. When no clear instructions given, feel free to do it the way you would like to.\n",
        "  + After each question, add the needed number of new cells and place your answers inside the cells. \n",
        "  + Use text cells for explanations. Use explanation and plain text as much as possible. \n",
        "  + Do not remove or modify the original cells provided by the instructor.\n",
        "  + In the following cell you will find some extra options to make your code more readable, including output colors RED, OKBLUE, or output text styles like BOLD or UNDERLINE that. Do not hesitate to use them. As an example, one may output text in red as follows: \n",
        "  ```python\n",
        "     print(bcolors.RED + \"your text\" + bcolors.ENDC)\n",
        "  ```\n",
        "  + Comment your code whenever needed using # sign at the beginning of the row.\n",
        "  + In some questions some of the details needed for solving the problem are **purposely** omitted to encourage additional self-directed research. This, especially, helps you develop some search skills for coding in Python (which is inevitable due to the inconsistent syntax of Python).\n",
        "  + Do not hesitate to communicate your questions to the TA's or instructors. \n",
        "    \n",
        "  Good luck! "
      ]
    },
    {
      "cell_type": "code",
      "metadata": {
        "colab_type": "code",
        "id": "aOt20LC3zsBN",
        "colab": {}
      },
      "source": [
        "# The following piece of code gives the opportunity to show multiple outputs\n",
        "# in one cell:\n",
        "from IPython.core.interactiveshell import InteractiveShell\n",
        "InteractiveShell.ast_node_interactivity = \"all\"\n",
        "\n",
        "\n",
        "# Colorful outputs\n",
        "class bcolors:\n",
        "    RED       = '\\033[91m'\n",
        "    OKBLUE    = '\\033[94m'\n",
        "    BOLD      = '\\033[1m'\n",
        "    UNDERLINE = '\\033[4m'\n",
        "    ENDC      = '\\033[0m'"
      ],
      "execution_count": 0,
      "outputs": []
    },
    {
      "cell_type": "markdown",
      "metadata": {
        "colab_type": "text",
        "id": "JhunulGDzsBS"
      },
      "source": [
        ""
      ]
    },
    {
      "cell_type": "markdown",
      "metadata": {
        "colab_type": "text",
        "id": "PI8k_3Wp2qVH"
      },
      "source": [
        "## **Part A** <font color=\"blue\">(5 points)</font>\n",
        "\n",
        "1. **<font color=\"blue\">(1 point)</font>** Generate 100 points equally distanced from $-20$ to $20$ and save them in a `numpy` array `x1`. Now, create $4$ more `numpy` arrays by raising `x1` to the power of $2,3,4,5$, and call them `x2`, `x3`, `x4` and `x5`, respectively. \n",
        "3. **<font color=\"blue\">(1 point)</font>** Create your response `y`, a new `numpy` array, defined as $y= 1.75 + 5 x_1 + 0.05 x_3 - 10.3 x_5 + \\varepsilon$, where $\\varepsilon \\sim \\mathcal{N}(0, 4)$.\n",
        "4. **<font color=\"blue\">(2 points)</font>** Using $5$-fold cross-validation, with a reasonable train-test proportion, train a **lasso** regression model including all $x_1, x_2, x_3 , x_4 , x_5$, and for $10$ different  pre-determined tuning parameters. \n",
        "5. **<font color=\"blue\">(1 point)</font>** Plot the **cross-validated mean squared errors** vs the tuning parameter's values\n",
        " and chose the best tuning parameter based on the plot. Does the best model chosen perform **variable selection**?"
      ]
    },
    {
      "cell_type": "markdown",
      "metadata": {
        "id": "lKnyVWq21kZ9",
        "colab_type": "text"
      },
      "source": [
        "## **Part B** <font color=\"blue\">(3 points)</font>\n",
        "For this part upload `Wage.csv`.\n",
        "\n",
        "1. **<font color=\"blue\">(2 points)</font>** Perform polynomial regression to predict `wage` using `age`. Use cross-validation to select the optimal degree $d$ for the polynomial. What degree was chosen? Make a plot of\n",
        "the resulting polynomial fit to the data. \n",
        "2. **<font color=\"blue\">(1 point)</font>** Fit a step function to predict `wage` using `age` , and perform cross-validation to choose the optimal number of cuts. Make a plot of the fit obtained.\n"
      ]
    },
    {
      "cell_type": "markdown",
      "metadata": {
        "id": "7GLQakVZ41gL",
        "colab_type": "text"
      },
      "source": [
        "\n",
        "## **Part C** <font color=\"blue\">(4 points)</font>\n",
        "Apply SVM and random forests to a data set of your choice. Be sure to fit the models on a training set and to evaluate their performance on a test set. How accurate are the results compared to each other? Which of them yields the best performance?\n"
      ]
    },
    {
      "cell_type": "markdown",
      "metadata": {
        "colab_type": "text",
        "id": "JUCsQMN0UV5m"
      },
      "source": [
        "## **Part D** <font color=\"blue\">(3 points)</font>\n",
        "\n",
        "1. **<font color=\"blue\">(1 point)</font>** Generate $2$-dimentional data with $500$ observations from $3$ Gaussian clusters. \n",
        "2. **<font color=\"blue\">(0.5 points)</font>** Use a scatterplot to visualize the produced data. \n",
        "3. **<font color=\"blue\">(1 point)</font>** Shuffle the data and use $K$-means, with $K=2,3,4$ to cluster the data.\n",
        "4. **<font color=\"blue\">(0.5 points)</font>** Visualize the results, separately.  \n"
      ]
    }
  ]
}