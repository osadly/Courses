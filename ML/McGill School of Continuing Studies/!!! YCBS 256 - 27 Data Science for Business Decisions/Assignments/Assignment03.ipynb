{
 "cells": [
  {
   "cell_type": "markdown",
   "metadata": {
    "colab_type": "text",
    "id": "g2unLOmVzsBK"
   },
   "source": [
    "\n",
    "# Assignment 3  <font color=\"blue\"> (15 points) </font>\n",
    " \n",
    "***\n",
    "\n",
    "### Notes and Instructions\n",
    "  + You may need additional libraries besides the Python standard library to solve some questions. Import only necessary libraries. \n",
    "  + If more than one library exist for a same purpose, choose the one you wish as long as it does the task properly. \n",
    "  + If we want you to use a specific library, then we will state it clearly. \n",
    "  + Use the exact variable names asked in the questions. When no clear instructions given, feel free to do it the way you would like to.\n",
    "  + After each question, add the needed number of new cells and place your answers inside the cells. \n",
    "  + Use text cells for explanations. Use explanation and plain text as much as possible. \n",
    "  + Do not remove or modify the original cells provided by the instructor.\n",
    "  + In the following cell you will find some extra options to make your code more readable, including output colors RED, OKBLUE, or output text styles like BOLD or UNDERLINE that. Do not hesitate to use them. As an example, one may output text in red as follows: \n",
    "  ```python\n",
    "     print(bcolors.RED + \"your text\" + bcolors.ENDC)\n",
    "  ```\n",
    "  + Comment your code whenever needed using # sign at the beginning of the row.\n",
    "  + In some questions some of the details needed for solving the problem are **purposely** omitted to encourage additional self-directed research. This, especially, helps you develop some search skills for coding in Python (which is inevitable due to the inconsistent syntax of Python).\n",
    "  + Do not hesitate to communicate your questions to the TA's or instructors. \n",
    "    \n",
    "  Good luck! "
   ]
  },
  {
   "cell_type": "code",
   "execution_count": 0,
   "metadata": {
    "colab": {},
    "colab_type": "code",
    "id": "aOt20LC3zsBN"
   },
   "outputs": [],
   "source": [
    "# The following piece of code gives the opportunity to show multiple outputs\n",
    "# in one cell:\n",
    "from IPython.core.interactiveshell import InteractiveShell\n",
    "InteractiveShell.ast_node_interactivity = \"all\"\n",
    "\n",
    "\n",
    "# Colorful outputs\n",
    "class bcolors:\n",
    "    RED       = '\\033[91m'\n",
    "    OKBLUE    = '\\033[94m'\n",
    "    BOLD      = '\\033[1m'\n",
    "    UNDERLINE = '\\033[4m'\n",
    "    ENDC      = '\\033[0m'"
   ]
  },
  {
   "cell_type": "markdown",
   "metadata": {
    "colab_type": "text",
    "id": "JhunulGDzsBS"
   },
   "source": []
  },
  {
   "cell_type": "markdown",
   "metadata": {
    "colab_type": "text",
    "id": "PI8k_3Wp2qVH"
   },
   "source": [
    "## **Part A** <font color=\"blue\">(5 points)</font>\n",
    "\n",
    "1. **<font color=\"blue\">(1 point)</font>** Generate 100 points equally distanced from $-20$ to $20$ and save them in a `numpy` array `x1`. Now, create $4$ more `numpy` arrays by raising `x1` to the power of $2,3,4,5$, and call them `x2`, `x3`, `x4` and `x5`, respectively. \n",
    "3. **<font color=\"blue\">(1 point)</font>** Create your response `y`, a new `numpy` array, defined as $y= 1.75 + 5 x_1 + 0.05 x_3 - 10.3 x_5 + \\varepsilon$, where $\\varepsilon \\sim \\mathcal{N}(0, 4)$.\n",
    "4. **<font color=\"blue\">(2 points)</font>** Using $5$-fold cross-validation, with a reasonable train-test proportion, train a **lasso** regression model including all $x_1, x_2, x_3 , x_4 , x_5$, and for $10$ different  pre-determined tuning parameters. \n",
    "5. **<font color=\"blue\">(1 point)</font>** Plot the **cross-validated mean squared errors** vs the tuning parameter's values\n",
    " and chose the best tuning parameter based on the plot. Does the best model chosen perform **variable selection**?"
   ]
  },
  {
   "cell_type": "markdown",
   "metadata": {},
   "source": [
    "#### A.1.1. Generate 100 points equally distanced from  −20 to 20 and save them in a numpy array x1."
   ]
  },
  {
   "cell_type": "code",
   "execution_count": 79,
   "metadata": {},
   "outputs": [
    {
     "name": "stdout",
     "output_type": "stream",
     "text": [
      "-19.603960396039604 19.60396039603964 100\n",
      "0.3960396039603964 0.3960396039603964 0.0 99\n"
     ]
    }
   ],
   "source": [
    "import numpy as np\n",
    "frm,to,cnt=-20,20,100\n",
    "stp = (to-frm)/(cnt+1)\n",
    "x1 = np.arange(frm+stp,to,stp)\n",
    "print(min(x1), max(x1), len(x1))\n",
    "\n",
    "#check points are eaually distant: subtract each point from the previous\n",
    "dist=[]\n",
    "for i in range(len(x1)-1):\n",
    "    dist.append(x1[i+1]-x1[i])\n",
    "print(min(dist),max(dist),min(dist)-max(dist), len(dist))"
   ]
  },
  {
   "cell_type": "markdown",
   "metadata": {},
   "source": [
    "#### A.1.2. Now, create  4  more numpy arrays by raising x1 to the power of  2,3,4,5 , and call them x2, x3, x4 and x5, respectively."
   ]
  },
  {
   "cell_type": "code",
   "execution_count": 71,
   "metadata": {},
   "outputs": [
    {
     "name": "stdout",
     "output_type": "stream",
     "text": [
      "-19.603960396039604 19.60396039603964 100\n",
      "0.03921184197626987 384.31526320949064 100\n",
      "-7534.101199552363 7534.101199552404 100\n",
      "0.0015375685511719599 147698.22153578006 100\n",
      "-2895470.0855528954 2895470.0855529215 100\n"
     ]
    },
    {
     "data": {
      "text/plain": [
       "(numpy.ndarray, numpy.ndarray, numpy.ndarray, numpy.ndarray)"
      ]
     },
     "execution_count": 71,
     "metadata": {},
     "output_type": "execute_result"
    }
   ],
   "source": [
    "x2 = np.array([pow(z,2) for z in x1])\n",
    "x3 = np.array([pow(z,3) for z in x1])\n",
    "x4 = np.array([pow(z,4) for z in x1])\n",
    "x5 = np.array([pow(z,5) for z in x1])\n",
    "#for i in range(4):\n",
    "print(min(x1), max(x1), len(x1))\n",
    "print(min(x2), max(x2), len(x2))\n",
    "print(min(x3), max(x3), len(x3))\n",
    "print(min(x4), max(x4), len(x4))\n",
    "print(min(x5), max(x5), len(x5))\n",
    "type(x2), type(x3), type(x4) , type(x5)"
   ]
  },
  {
   "cell_type": "markdown",
   "metadata": {},
   "source": [
    "#### A.2. Create your response y, a new numpy array, defined as  𝑦=1.75+5𝑥1+0.05𝑥3−10.3𝑥5+𝜀  , where  𝜀∼N(0,4)"
   ]
  },
  {
   "cell_type": "code",
   "execution_count": 78,
   "metadata": {},
   "outputs": [
    {
     "data": {
      "text/plain": [
       "array([ 2.98228710e+07,  2.69297094e+07,  2.42655831e+07,  2.18165949e+07,\n",
       "        1.95694607e+07,  1.75114210e+07,  1.56302917e+07,  1.39144124e+07,\n",
       "        1.23526490e+07,  1.09343792e+07,  9.64947894e+06,  8.48831188e+06,\n",
       "        7.44171219e+06,  6.50099843e+06,  5.65791107e+06,  4.90465661e+06,\n",
       "        4.23385147e+06,  3.63853273e+06,  3.11215469e+06,  2.64853585e+06,\n",
       "        2.24188354e+06,  1.88679190e+06,  1.57819799e+06,  1.31136595e+06,\n",
       "        1.08190610e+06,  8.85761632e+05,  7.19148010e+05,  5.78607043e+05,\n",
       "        4.60951113e+05,  3.63259595e+05,  2.82884613e+05,  2.17413735e+05,\n",
       "        1.64661883e+05,  1.22688428e+05,  8.97382099e+04,  6.42896373e+04,\n",
       "        4.49541937e+04,  3.05927608e+04,  2.01677393e+04,  1.27895185e+04,\n",
       "        7.74792543e+03,  4.43516844e+03,  2.36934406e+03,  1.14116227e+03,\n",
       "        4.95137541e+02,  1.75191412e+02,  4.21777438e+01,  1.31662120e+01,\n",
       "       -2.54156703e+00, -3.81256373e+00, -4.36920746e+00,  5.00413884e+00,\n",
       "        6.81721036e-01, -4.49615095e+01, -1.74028936e+02, -4.93490319e+02,\n",
       "       -1.14738126e+03, -2.35791350e+03, -4.43236406e+03, -7.74317791e+03,\n",
       "       -1.27873995e+04, -2.01605714e+04, -3.05918349e+04, -4.49606895e+04,\n",
       "       -6.42914026e+04, -8.97383260e+04, -1.22676269e+05, -1.64658732e+05,\n",
       "       -2.17401033e+05, -2.82878844e+05, -3.63261115e+05, -4.60950266e+05,\n",
       "       -5.78608224e+05, -7.19147396e+05, -8.85751351e+05, -1.08190421e+06,\n",
       "       -1.31135720e+06, -1.57820036e+06, -1.88678642e+06, -2.24188603e+06,\n",
       "       -2.64852730e+06, -3.11214691e+06, -3.63853559e+06, -4.23384618e+06,\n",
       "       -4.90465887e+06, -5.65791420e+06, -6.50099446e+06, -7.44170910e+06,\n",
       "       -8.48830586e+06, -9.64947329e+06, -1.09343783e+07, -1.23526459e+07,\n",
       "       -1.39144179e+07, -1.56302936e+07, -1.75114254e+07, -1.95694549e+07,\n",
       "       -2.18165982e+07, -2.42655801e+07, -2.69297151e+07, -2.98228647e+07])"
      ]
     },
     "execution_count": 78,
     "metadata": {},
     "output_type": "execute_result"
    }
   ],
   "source": [
    "b0 = 1.75\n",
    "b1 = 5\n",
    "b3 = 0.05\n",
    "b5 = -10.3\n",
    "##------------------------------------------------------------------------\n",
    "# generate epsilon : eps\n",
    "mu, sigma = 0, 4 # mean and standard deviation\n",
    "#eps = np.random.normal(mu, sigma, 10000000)\n",
    "eps = np.random.normal(mu, sigma, 100)\n",
    "#eps\n",
    "#print(abs( np.mean(eps)))\n",
    "#print(abs(np.std(eps)))\n",
    "##------------------------------------------------------------------------\n",
    "y = b0 + b1*x1 + b3*x3 + b5*x5 + eps\n",
    "y"
   ]
  },
  {
   "cell_type": "markdown",
   "metadata": {},
   "source": [
    "#### A.3. Using  5-fold cross-validation, with a reasonable train-test proportion, train a lasso regression model including all 𝑥1,𝑥2,𝑥3,𝑥4,𝑥5, and for  10  different pre-determined tuning parameters."
   ]
  },
  {
   "cell_type": "code",
   "execution_count": null,
   "metadata": {},
   "outputs": [],
   "source": []
  },
  {
   "cell_type": "markdown",
   "metadata": {},
   "source": [
    "#### A.4. Plot the cross-validated mean squared errors vs the tuning parameter's values and chose the best tuning parameter based on the plot. Does the best model chosen perform variable selection?"
   ]
  },
  {
   "cell_type": "code",
   "execution_count": null,
   "metadata": {},
   "outputs": [],
   "source": []
  },
  {
   "cell_type": "markdown",
   "metadata": {
    "colab_type": "text",
    "id": "lKnyVWq21kZ9"
   },
   "source": [
    "## **Part B** <font color=\"blue\">(3 points)</font>\n",
    "For this part upload `Wage.csv`.\n",
    "\n",
    "1. **<font color=\"blue\">(2 points)</font>** Perform polynomial regression to predict `wage` using `age`. Use cross-validation to select the optimal degree $d$ for the polynomial. What degree was chosen? Make a plot of\n",
    "the resulting polynomial fit to the data. \n",
    "2. **<font color=\"blue\">(1 point)</font>** Fit a step function to predict `wage` using `age` , and perform cross-validation to choose the optimal number of cuts. Make a plot of the fit obtained.\n"
   ]
  },
  {
   "cell_type": "markdown",
   "metadata": {
    "colab_type": "text",
    "id": "7GLQakVZ41gL"
   },
   "source": [
    "\n",
    "## **Part C** <font color=\"blue\">(4 points)</font>\n",
    "Apply SVM and random forests to a data set of your choice. Be sure to fit the models on a training set and to evaluate their performance on a test set. How accurate are the results compared to each other? Which of them yields the best performance?\n"
   ]
  },
  {
   "cell_type": "markdown",
   "metadata": {
    "colab_type": "text",
    "id": "JUCsQMN0UV5m"
   },
   "source": [
    "## **Part D** <font color=\"blue\">(3 points)</font>\n",
    "\n",
    "1. **<font color=\"blue\">(1 point)</font>** Generate $2$-dimentional data with $500$ observations from $3$ Gaussian clusters. \n",
    "2. **<font color=\"blue\">(0.5 points)</font>** Use a scatterplot to visualize the produced data. \n",
    "3. **<font color=\"blue\">(1 point)</font>** Shuffle the data and use $K$-means, with $K=2,3,4$ to cluster the data.\n",
    "4. **<font color=\"blue\">(0.5 points)</font>** Visualize the results, separately.  \n"
   ]
  }
 ],
 "metadata": {
  "colab": {
   "collapsed_sections": [],
   "name": "assignment03.ipynb",
   "provenance": []
  },
  "kernelspec": {
   "display_name": "Python 3 (ipykernel)",
   "language": "python",
   "name": "python3"
  },
  "language_info": {
   "codemirror_mode": {
    "name": "ipython",
    "version": 3
   },
   "file_extension": ".py",
   "mimetype": "text/x-python",
   "name": "python",
   "nbconvert_exporter": "python",
   "pygments_lexer": "ipython3",
   "version": "3.11.5"
  },
  "toc": {
   "base_numbering": 1,
   "nav_menu": {},
   "number_sections": true,
   "sideBar": true,
   "skip_h1_title": false,
   "title_cell": "Table of Contents",
   "title_sidebar": "Contents",
   "toc_cell": false,
   "toc_position": {},
   "toc_section_display": true,
   "toc_window_display": false
  }
 },
 "nbformat": 4,
 "nbformat_minor": 1
}
