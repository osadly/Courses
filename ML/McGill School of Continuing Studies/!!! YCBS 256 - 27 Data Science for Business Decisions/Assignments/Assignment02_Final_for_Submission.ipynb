{
  "cells": [
    {
      "cell_type": "markdown",
      "metadata": {
        "id": "BQu32icXDMSj"
      },
      "source": [
        "\n",
        "# Assignment 2  <font color=\"blue\"> (15 points) </font>\n",
        "\n",
        "***\n",
        "\n",
        "### General Instructions\n",
        "  + You may need additional libraries besides the Python standard library to solve some questions. Import only necessary libraries.\n",
        "  + If more than one library exist for a same purpose, choose the one you wish as long as it does the task properly.\n",
        "  + If we want you to use a specific library, then we will state it clearly.\n",
        "  + Use the exact variable names asked in the questions. When no clear instructions given, feel free to do it the way you would like to.\n",
        "  + After each question, add the needed number of new cells and place your answers inside the cells.\n",
        "  + Use text cells for explanations. Use explanation and plain text as much as possible.\n",
        "  + Do not remove or modify the original cells provided by the instructor.\n",
        "  + In the following cell you will find some extra options to make your code more readable, including output colors RED, OKBLUE, or output text styles like BOLD or UNDERLINE that. Do not hesitate to use them. As an example, one may output text in red as follows:\n",
        "  ```python\n",
        "     print(bcolors.RED + \"your text\" + bcolors.ENDC)\n",
        "  ```\n",
        "  + Comment your code whenever needed using # sign at the beginning of the row.\n",
        "  + In some questions some of the details needed for solving the problem are **purposely** omitted to encourage additional self-directed research. This, especially, helps you develop some search skills for coding in Python (which is inevitable due to the inconsistent syntax of Python).\n",
        "  + Do not hesitate to communicate your questions to the TA's or instructors.\n",
        "    \n",
        "  Good luck!"
      ]
    },
    {
      "cell_type": "code",
      "execution_count": 1,
      "metadata": {
        "id": "KJ3ey5VeDMSr"
      },
      "outputs": [],
      "source": [
        "\n",
        "# The following piece of code gives the opportunity to show multiple outputs\n",
        "# in one cell:\n",
        "from IPython.core.interactiveshell import InteractiveShell\n",
        "InteractiveShell.ast_node_interactivity = \"all\"\n",
        "\n",
        "\n",
        "# Colorful outputs\n",
        "class bcolors:\n",
        "    RED       = '\\033[91m'\n",
        "    OKBLUE    = '\\033[94m'\n",
        "    BOLD      = '\\033[1m'\n",
        "    UNDERLINE = '\\033[4m'\n",
        "    ENDC      = '\\033[0m'"
      ]
    },
    {
      "cell_type": "markdown",
      "metadata": {
        "id": "fn7Hdf97DMS0"
      },
      "source": [
        "## **Part A** <font color=\"blue\">(7 points)</font>\n",
        "\n",
        "1. **<font color=blue> (1 point) </font>** Download `Credit.csv` from <http://www.statlearning.com/resources-first-edition> and upload it into this notebook. Print the first $5$ rows of the data. Using appropriate descriptive statistics or visualization methods describe the variables and possible association amongst them. Interpret the results.\n",
        "2. **<font color=blue> (0.5 points)</font>** Keep only `Income`, `Limit`, `Rating`, `Cards`, `Age`, `Education`, and `Balance` as your variables and throw the rest of variables away. Print the dimension of this new dataset.\n",
        "3.  **<font color=blue> (0.5 points) </font>** Create a binary variable `Balance_1500` which equals $1$ for the observations with `Balance` $> 1500$, and equals $0$ otherwise.\n",
        "4. **<font color=blue> (3 points) </font>** Model `Balance_1500` by the explanatory variables `Income`, `Limit`, `Rating`, `Cards`, `Age`, `Education` using the following models:\n",
        "    + logistic regression,\n",
        "    + linear discriminant, and\n",
        "    + quadratic discriminant.\n",
        "8. **<font color=blue> (0.5 points) </font>** Find the probability of (`Balance` $> 1500$), for the following values, using all three aforementionned methods:\n",
        "\n",
        "|    Income    |    Limit     |     Rating     |    Cards     |      Age        |   Education   |\n",
        "|--------------|--------------|----------------|--------------|-----------------|---------------|\n",
        "|      63      |    8100      |     600        |      4       |       30        |      13       |\n",
        "|     186      |    13414     |     950        |      2       |       41        |      13       |\n",
        "\n",
        "</br>\n",
        "Compare the probabilities and comment.\n",
        "    \n",
        "9. **<font color=blue> (1.5 points) </font>** For each method, print the confusion matrix, the accuracy score and the AUC using all observations. Compare these metrics and comment."
      ]
    },
    {
      "cell_type": "markdown",
      "source": [
        "## Answer to **Part A** <font color=\"blue\"></font>"
      ],
      "metadata": {
        "id": "iQ4lZ7qV83tI"
      }
    },
    {
      "cell_type": "markdown",
      "source": [
        "#### **A.1.1. Import Needed Libraries**"
      ],
      "metadata": {
        "id": "GWSy7uWC69gb"
      }
    },
    {
      "cell_type": "code",
      "source": [
        "# Import Pandas\n",
        "import pandas as pd\n",
        "import numpy as np\n",
        "import seaborn as sns\n",
        "import matplotlib.pyplot as plt\n",
        "#from sklearn.preprocessing import scale"
      ],
      "metadata": {
        "id": "gOAJLT_Z9Qxe"
      },
      "execution_count": 2,
      "outputs": []
    },
    {
      "cell_type": "markdown",
      "source": [
        "#### **A.1.2. Load Data and Print the first  5  rows of the data**"
      ],
      "metadata": {
        "id": "rgpy4AOO8Har"
      }
    },
    {
      "cell_type": "code",
      "source": [
        "credit_original_df = pd.read_csv(filepath_or_buffer=r'Credit.csv')\n",
        "\n",
        "# create a copy of the original dataframe - needed later\n",
        "credit_df = credit_original_df.copy(deep=True)\n",
        "\n",
        "# Use .head() to Print the first 5 rows of the data.\n",
        "credit_df.head()"
      ],
      "metadata": {
        "colab": {
          "base_uri": "https://localhost:8080/",
          "height": 206
        },
        "id": "2XCfpP-m8nwr",
        "outputId": "14df41bf-9811-456f-beaa-b90f857adb90"
      },
      "execution_count": 3,
      "outputs": [
        {
          "output_type": "execute_result",
          "data": {
            "text/plain": [
              "    Income  Limit  Rating  Cards  Age  Education  Own Student Married Region  \\\n",
              "0   14.891   3606     283      2   34         11   No      No     Yes  South   \n",
              "1  106.025   6645     483      3   82         15  Yes     Yes     Yes   West   \n",
              "2  104.593   7075     514      4   71         11   No      No      No   West   \n",
              "3  148.924   9504     681      3   36         11  Yes      No      No   West   \n",
              "4   55.882   4897     357      2   68         16   No      No     Yes  South   \n",
              "\n",
              "   Balance  \n",
              "0      333  \n",
              "1      903  \n",
              "2      580  \n",
              "3      964  \n",
              "4      331  "
            ],
            "text/html": [
              "\n",
              "  <div id=\"df-f0544127-bc0b-44f2-acdd-0c132a0c7931\" class=\"colab-df-container\">\n",
              "    <div>\n",
              "<style scoped>\n",
              "    .dataframe tbody tr th:only-of-type {\n",
              "        vertical-align: middle;\n",
              "    }\n",
              "\n",
              "    .dataframe tbody tr th {\n",
              "        vertical-align: top;\n",
              "    }\n",
              "\n",
              "    .dataframe thead th {\n",
              "        text-align: right;\n",
              "    }\n",
              "</style>\n",
              "<table border=\"1\" class=\"dataframe\">\n",
              "  <thead>\n",
              "    <tr style=\"text-align: right;\">\n",
              "      <th></th>\n",
              "      <th>Income</th>\n",
              "      <th>Limit</th>\n",
              "      <th>Rating</th>\n",
              "      <th>Cards</th>\n",
              "      <th>Age</th>\n",
              "      <th>Education</th>\n",
              "      <th>Own</th>\n",
              "      <th>Student</th>\n",
              "      <th>Married</th>\n",
              "      <th>Region</th>\n",
              "      <th>Balance</th>\n",
              "    </tr>\n",
              "  </thead>\n",
              "  <tbody>\n",
              "    <tr>\n",
              "      <th>0</th>\n",
              "      <td>14.891</td>\n",
              "      <td>3606</td>\n",
              "      <td>283</td>\n",
              "      <td>2</td>\n",
              "      <td>34</td>\n",
              "      <td>11</td>\n",
              "      <td>No</td>\n",
              "      <td>No</td>\n",
              "      <td>Yes</td>\n",
              "      <td>South</td>\n",
              "      <td>333</td>\n",
              "    </tr>\n",
              "    <tr>\n",
              "      <th>1</th>\n",
              "      <td>106.025</td>\n",
              "      <td>6645</td>\n",
              "      <td>483</td>\n",
              "      <td>3</td>\n",
              "      <td>82</td>\n",
              "      <td>15</td>\n",
              "      <td>Yes</td>\n",
              "      <td>Yes</td>\n",
              "      <td>Yes</td>\n",
              "      <td>West</td>\n",
              "      <td>903</td>\n",
              "    </tr>\n",
              "    <tr>\n",
              "      <th>2</th>\n",
              "      <td>104.593</td>\n",
              "      <td>7075</td>\n",
              "      <td>514</td>\n",
              "      <td>4</td>\n",
              "      <td>71</td>\n",
              "      <td>11</td>\n",
              "      <td>No</td>\n",
              "      <td>No</td>\n",
              "      <td>No</td>\n",
              "      <td>West</td>\n",
              "      <td>580</td>\n",
              "    </tr>\n",
              "    <tr>\n",
              "      <th>3</th>\n",
              "      <td>148.924</td>\n",
              "      <td>9504</td>\n",
              "      <td>681</td>\n",
              "      <td>3</td>\n",
              "      <td>36</td>\n",
              "      <td>11</td>\n",
              "      <td>Yes</td>\n",
              "      <td>No</td>\n",
              "      <td>No</td>\n",
              "      <td>West</td>\n",
              "      <td>964</td>\n",
              "    </tr>\n",
              "    <tr>\n",
              "      <th>4</th>\n",
              "      <td>55.882</td>\n",
              "      <td>4897</td>\n",
              "      <td>357</td>\n",
              "      <td>2</td>\n",
              "      <td>68</td>\n",
              "      <td>16</td>\n",
              "      <td>No</td>\n",
              "      <td>No</td>\n",
              "      <td>Yes</td>\n",
              "      <td>South</td>\n",
              "      <td>331</td>\n",
              "    </tr>\n",
              "  </tbody>\n",
              "</table>\n",
              "</div>\n",
              "    <div class=\"colab-df-buttons\">\n",
              "\n",
              "  <div class=\"colab-df-container\">\n",
              "    <button class=\"colab-df-convert\" onclick=\"convertToInteractive('df-f0544127-bc0b-44f2-acdd-0c132a0c7931')\"\n",
              "            title=\"Convert this dataframe to an interactive table.\"\n",
              "            style=\"display:none;\">\n",
              "\n",
              "  <svg xmlns=\"http://www.w3.org/2000/svg\" height=\"24px\" viewBox=\"0 -960 960 960\">\n",
              "    <path d=\"M120-120v-720h720v720H120Zm60-500h600v-160H180v160Zm220 220h160v-160H400v160Zm0 220h160v-160H400v160ZM180-400h160v-160H180v160Zm440 0h160v-160H620v160ZM180-180h160v-160H180v160Zm440 0h160v-160H620v160Z\"/>\n",
              "  </svg>\n",
              "    </button>\n",
              "\n",
              "  <style>\n",
              "    .colab-df-container {\n",
              "      display:flex;\n",
              "      gap: 12px;\n",
              "    }\n",
              "\n",
              "    .colab-df-convert {\n",
              "      background-color: #E8F0FE;\n",
              "      border: none;\n",
              "      border-radius: 50%;\n",
              "      cursor: pointer;\n",
              "      display: none;\n",
              "      fill: #1967D2;\n",
              "      height: 32px;\n",
              "      padding: 0 0 0 0;\n",
              "      width: 32px;\n",
              "    }\n",
              "\n",
              "    .colab-df-convert:hover {\n",
              "      background-color: #E2EBFA;\n",
              "      box-shadow: 0px 1px 2px rgba(60, 64, 67, 0.3), 0px 1px 3px 1px rgba(60, 64, 67, 0.15);\n",
              "      fill: #174EA6;\n",
              "    }\n",
              "\n",
              "    .colab-df-buttons div {\n",
              "      margin-bottom: 4px;\n",
              "    }\n",
              "\n",
              "    [theme=dark] .colab-df-convert {\n",
              "      background-color: #3B4455;\n",
              "      fill: #D2E3FC;\n",
              "    }\n",
              "\n",
              "    [theme=dark] .colab-df-convert:hover {\n",
              "      background-color: #434B5C;\n",
              "      box-shadow: 0px 1px 3px 1px rgba(0, 0, 0, 0.15);\n",
              "      filter: drop-shadow(0px 1px 2px rgba(0, 0, 0, 0.3));\n",
              "      fill: #FFFFFF;\n",
              "    }\n",
              "  </style>\n",
              "\n",
              "    <script>\n",
              "      const buttonEl =\n",
              "        document.querySelector('#df-f0544127-bc0b-44f2-acdd-0c132a0c7931 button.colab-df-convert');\n",
              "      buttonEl.style.display =\n",
              "        google.colab.kernel.accessAllowed ? 'block' : 'none';\n",
              "\n",
              "      async function convertToInteractive(key) {\n",
              "        const element = document.querySelector('#df-f0544127-bc0b-44f2-acdd-0c132a0c7931');\n",
              "        const dataTable =\n",
              "          await google.colab.kernel.invokeFunction('convertToInteractive',\n",
              "                                                    [key], {});\n",
              "        if (!dataTable) return;\n",
              "\n",
              "        const docLinkHtml = 'Like what you see? Visit the ' +\n",
              "          '<a target=\"_blank\" href=https://colab.research.google.com/notebooks/data_table.ipynb>data table notebook</a>'\n",
              "          + ' to learn more about interactive tables.';\n",
              "        element.innerHTML = '';\n",
              "        dataTable['output_type'] = 'display_data';\n",
              "        await google.colab.output.renderOutput(dataTable, element);\n",
              "        const docLink = document.createElement('div');\n",
              "        docLink.innerHTML = docLinkHtml;\n",
              "        element.appendChild(docLink);\n",
              "      }\n",
              "    </script>\n",
              "  </div>\n",
              "\n",
              "\n",
              "<div id=\"df-aebfaa6f-5e17-4caf-89bd-01cbcd845da2\">\n",
              "  <button class=\"colab-df-quickchart\" onclick=\"quickchart('df-aebfaa6f-5e17-4caf-89bd-01cbcd845da2')\"\n",
              "            title=\"Suggest charts\"\n",
              "            style=\"display:none;\">\n",
              "\n",
              "<svg xmlns=\"http://www.w3.org/2000/svg\" height=\"24px\"viewBox=\"0 0 24 24\"\n",
              "     width=\"24px\">\n",
              "    <g>\n",
              "        <path d=\"M19 3H5c-1.1 0-2 .9-2 2v14c0 1.1.9 2 2 2h14c1.1 0 2-.9 2-2V5c0-1.1-.9-2-2-2zM9 17H7v-7h2v7zm4 0h-2V7h2v10zm4 0h-2v-4h2v4z\"/>\n",
              "    </g>\n",
              "</svg>\n",
              "  </button>\n",
              "\n",
              "<style>\n",
              "  .colab-df-quickchart {\n",
              "      --bg-color: #E8F0FE;\n",
              "      --fill-color: #1967D2;\n",
              "      --hover-bg-color: #E2EBFA;\n",
              "      --hover-fill-color: #174EA6;\n",
              "      --disabled-fill-color: #AAA;\n",
              "      --disabled-bg-color: #DDD;\n",
              "  }\n",
              "\n",
              "  [theme=dark] .colab-df-quickchart {\n",
              "      --bg-color: #3B4455;\n",
              "      --fill-color: #D2E3FC;\n",
              "      --hover-bg-color: #434B5C;\n",
              "      --hover-fill-color: #FFFFFF;\n",
              "      --disabled-bg-color: #3B4455;\n",
              "      --disabled-fill-color: #666;\n",
              "  }\n",
              "\n",
              "  .colab-df-quickchart {\n",
              "    background-color: var(--bg-color);\n",
              "    border: none;\n",
              "    border-radius: 50%;\n",
              "    cursor: pointer;\n",
              "    display: none;\n",
              "    fill: var(--fill-color);\n",
              "    height: 32px;\n",
              "    padding: 0;\n",
              "    width: 32px;\n",
              "  }\n",
              "\n",
              "  .colab-df-quickchart:hover {\n",
              "    background-color: var(--hover-bg-color);\n",
              "    box-shadow: 0 1px 2px rgba(60, 64, 67, 0.3), 0 1px 3px 1px rgba(60, 64, 67, 0.15);\n",
              "    fill: var(--button-hover-fill-color);\n",
              "  }\n",
              "\n",
              "  .colab-df-quickchart-complete:disabled,\n",
              "  .colab-df-quickchart-complete:disabled:hover {\n",
              "    background-color: var(--disabled-bg-color);\n",
              "    fill: var(--disabled-fill-color);\n",
              "    box-shadow: none;\n",
              "  }\n",
              "\n",
              "  .colab-df-spinner {\n",
              "    border: 2px solid var(--fill-color);\n",
              "    border-color: transparent;\n",
              "    border-bottom-color: var(--fill-color);\n",
              "    animation:\n",
              "      spin 1s steps(1) infinite;\n",
              "  }\n",
              "\n",
              "  @keyframes spin {\n",
              "    0% {\n",
              "      border-color: transparent;\n",
              "      border-bottom-color: var(--fill-color);\n",
              "      border-left-color: var(--fill-color);\n",
              "    }\n",
              "    20% {\n",
              "      border-color: transparent;\n",
              "      border-left-color: var(--fill-color);\n",
              "      border-top-color: var(--fill-color);\n",
              "    }\n",
              "    30% {\n",
              "      border-color: transparent;\n",
              "      border-left-color: var(--fill-color);\n",
              "      border-top-color: var(--fill-color);\n",
              "      border-right-color: var(--fill-color);\n",
              "    }\n",
              "    40% {\n",
              "      border-color: transparent;\n",
              "      border-right-color: var(--fill-color);\n",
              "      border-top-color: var(--fill-color);\n",
              "    }\n",
              "    60% {\n",
              "      border-color: transparent;\n",
              "      border-right-color: var(--fill-color);\n",
              "    }\n",
              "    80% {\n",
              "      border-color: transparent;\n",
              "      border-right-color: var(--fill-color);\n",
              "      border-bottom-color: var(--fill-color);\n",
              "    }\n",
              "    90% {\n",
              "      border-color: transparent;\n",
              "      border-bottom-color: var(--fill-color);\n",
              "    }\n",
              "  }\n",
              "</style>\n",
              "\n",
              "  <script>\n",
              "    async function quickchart(key) {\n",
              "      const quickchartButtonEl =\n",
              "        document.querySelector('#' + key + ' button');\n",
              "      quickchartButtonEl.disabled = true;  // To prevent multiple clicks.\n",
              "      quickchartButtonEl.classList.add('colab-df-spinner');\n",
              "      try {\n",
              "        const charts = await google.colab.kernel.invokeFunction(\n",
              "            'suggestCharts', [key], {});\n",
              "      } catch (error) {\n",
              "        console.error('Error during call to suggestCharts:', error);\n",
              "      }\n",
              "      quickchartButtonEl.classList.remove('colab-df-spinner');\n",
              "      quickchartButtonEl.classList.add('colab-df-quickchart-complete');\n",
              "    }\n",
              "    (() => {\n",
              "      let quickchartButtonEl =\n",
              "        document.querySelector('#df-aebfaa6f-5e17-4caf-89bd-01cbcd845da2 button');\n",
              "      quickchartButtonEl.style.display =\n",
              "        google.colab.kernel.accessAllowed ? 'block' : 'none';\n",
              "    })();\n",
              "  </script>\n",
              "</div>\n",
              "\n",
              "    </div>\n",
              "  </div>\n"
            ],
            "application/vnd.google.colaboratory.intrinsic+json": {
              "type": "dataframe",
              "variable_name": "credit_df",
              "summary": "{\n  \"name\": \"credit_df\",\n  \"rows\": 400,\n  \"fields\": [\n    {\n      \"column\": \"Income\",\n      \"properties\": {\n        \"dtype\": \"number\",\n        \"std\": 35.244273165070524,\n        \"min\": 10.354,\n        \"max\": 186.634,\n        \"num_unique_values\": 399,\n        \"samples\": [\n          27.349,\n          48.577,\n          31.367\n        ],\n        \"semantic_type\": \"\",\n        \"description\": \"\"\n      }\n    },\n    {\n      \"column\": \"Limit\",\n      \"properties\": {\n        \"dtype\": \"number\",\n        \"std\": 2308,\n        \"min\": 855,\n        \"max\": 13913,\n        \"num_unique_values\": 387,\n        \"samples\": [\n          3096,\n          1362,\n          6040\n        ],\n        \"semantic_type\": \"\",\n        \"description\": \"\"\n      }\n    },\n    {\n      \"column\": \"Rating\",\n      \"properties\": {\n        \"dtype\": \"number\",\n        \"std\": 154,\n        \"min\": 93,\n        \"max\": 982,\n        \"num_unique_values\": 283,\n        \"samples\": [\n          491,\n          329,\n          214\n        ],\n        \"semantic_type\": \"\",\n        \"description\": \"\"\n      }\n    },\n    {\n      \"column\": \"Cards\",\n      \"properties\": {\n        \"dtype\": \"number\",\n        \"std\": 1,\n        \"min\": 1,\n        \"max\": 9,\n        \"num_unique_values\": 9,\n        \"samples\": [\n          8,\n          3,\n          6\n        ],\n        \"semantic_type\": \"\",\n        \"description\": \"\"\n      }\n    },\n    {\n      \"column\": \"Age\",\n      \"properties\": {\n        \"dtype\": \"number\",\n        \"std\": 17,\n        \"min\": 23,\n        \"max\": 98,\n        \"num_unique_values\": 68,\n        \"samples\": [\n          52,\n          69,\n          68\n        ],\n        \"semantic_type\": \"\",\n        \"description\": \"\"\n      }\n    },\n    {\n      \"column\": \"Education\",\n      \"properties\": {\n        \"dtype\": \"number\",\n        \"std\": 3,\n        \"min\": 5,\n        \"max\": 20,\n        \"num_unique_values\": 16,\n        \"samples\": [\n          11,\n          15,\n          9\n        ],\n        \"semantic_type\": \"\",\n        \"description\": \"\"\n      }\n    },\n    {\n      \"column\": \"Own\",\n      \"properties\": {\n        \"dtype\": \"category\",\n        \"num_unique_values\": 2,\n        \"samples\": [\n          \"Yes\",\n          \"No\"\n        ],\n        \"semantic_type\": \"\",\n        \"description\": \"\"\n      }\n    },\n    {\n      \"column\": \"Student\",\n      \"properties\": {\n        \"dtype\": \"category\",\n        \"num_unique_values\": 2,\n        \"samples\": [\n          \"Yes\",\n          \"No\"\n        ],\n        \"semantic_type\": \"\",\n        \"description\": \"\"\n      }\n    },\n    {\n      \"column\": \"Married\",\n      \"properties\": {\n        \"dtype\": \"category\",\n        \"num_unique_values\": 2,\n        \"samples\": [\n          \"No\",\n          \"Yes\"\n        ],\n        \"semantic_type\": \"\",\n        \"description\": \"\"\n      }\n    },\n    {\n      \"column\": \"Region\",\n      \"properties\": {\n        \"dtype\": \"category\",\n        \"num_unique_values\": 3,\n        \"samples\": [\n          \"South\",\n          \"West\"\n        ],\n        \"semantic_type\": \"\",\n        \"description\": \"\"\n      }\n    },\n    {\n      \"column\": \"Balance\",\n      \"properties\": {\n        \"dtype\": \"number\",\n        \"std\": 459,\n        \"min\": 0,\n        \"max\": 1999,\n        \"num_unique_values\": 284,\n        \"samples\": [\n          1350,\n          1405\n        ],\n        \"semantic_type\": \"\",\n        \"description\": \"\"\n      }\n    }\n  ]\n}"
            }
          },
          "metadata": {},
          "execution_count": 3
        }
      ]
    },
    {
      "cell_type": "markdown",
      "source": [
        "#### **A.1.3. Using appropriate descriptive statistics or visualization methods describe the variables and possible association amongst them**"
      ],
      "metadata": {
        "id": "EDRtRdUwHGsr"
      }
    },
    {
      "cell_type": "code",
      "source": [
        "credit_df.describe()"
      ],
      "metadata": {
        "colab": {
          "base_uri": "https://localhost:8080/",
          "height": 300
        },
        "id": "iJFV_XEG_Q7O",
        "outputId": "8831f675-aa51-4583-cf58-408e788faae8"
      },
      "execution_count": 4,
      "outputs": [
        {
          "output_type": "execute_result",
          "data": {
            "text/plain": [
              "           Income         Limit      Rating       Cards         Age  \\\n",
              "count  400.000000    400.000000  400.000000  400.000000  400.000000   \n",
              "mean    45.218885   4735.600000  354.940000    2.957500   55.667500   \n",
              "std     35.244273   2308.198848  154.724143    1.371275   17.249807   \n",
              "min     10.354000    855.000000   93.000000    1.000000   23.000000   \n",
              "25%     21.007250   3088.000000  247.250000    2.000000   41.750000   \n",
              "50%     33.115500   4622.500000  344.000000    3.000000   56.000000   \n",
              "75%     57.470750   5872.750000  437.250000    4.000000   70.000000   \n",
              "max    186.634000  13913.000000  982.000000    9.000000   98.000000   \n",
              "\n",
              "        Education      Balance  \n",
              "count  400.000000   400.000000  \n",
              "mean    13.450000   520.015000  \n",
              "std      3.125207   459.758877  \n",
              "min      5.000000     0.000000  \n",
              "25%     11.000000    68.750000  \n",
              "50%     14.000000   459.500000  \n",
              "75%     16.000000   863.000000  \n",
              "max     20.000000  1999.000000  "
            ],
            "text/html": [
              "\n",
              "  <div id=\"df-bcab817d-70ad-4cfb-873f-9af3021a9dd3\" class=\"colab-df-container\">\n",
              "    <div>\n",
              "<style scoped>\n",
              "    .dataframe tbody tr th:only-of-type {\n",
              "        vertical-align: middle;\n",
              "    }\n",
              "\n",
              "    .dataframe tbody tr th {\n",
              "        vertical-align: top;\n",
              "    }\n",
              "\n",
              "    .dataframe thead th {\n",
              "        text-align: right;\n",
              "    }\n",
              "</style>\n",
              "<table border=\"1\" class=\"dataframe\">\n",
              "  <thead>\n",
              "    <tr style=\"text-align: right;\">\n",
              "      <th></th>\n",
              "      <th>Income</th>\n",
              "      <th>Limit</th>\n",
              "      <th>Rating</th>\n",
              "      <th>Cards</th>\n",
              "      <th>Age</th>\n",
              "      <th>Education</th>\n",
              "      <th>Balance</th>\n",
              "    </tr>\n",
              "  </thead>\n",
              "  <tbody>\n",
              "    <tr>\n",
              "      <th>count</th>\n",
              "      <td>400.000000</td>\n",
              "      <td>400.000000</td>\n",
              "      <td>400.000000</td>\n",
              "      <td>400.000000</td>\n",
              "      <td>400.000000</td>\n",
              "      <td>400.000000</td>\n",
              "      <td>400.000000</td>\n",
              "    </tr>\n",
              "    <tr>\n",
              "      <th>mean</th>\n",
              "      <td>45.218885</td>\n",
              "      <td>4735.600000</td>\n",
              "      <td>354.940000</td>\n",
              "      <td>2.957500</td>\n",
              "      <td>55.667500</td>\n",
              "      <td>13.450000</td>\n",
              "      <td>520.015000</td>\n",
              "    </tr>\n",
              "    <tr>\n",
              "      <th>std</th>\n",
              "      <td>35.244273</td>\n",
              "      <td>2308.198848</td>\n",
              "      <td>154.724143</td>\n",
              "      <td>1.371275</td>\n",
              "      <td>17.249807</td>\n",
              "      <td>3.125207</td>\n",
              "      <td>459.758877</td>\n",
              "    </tr>\n",
              "    <tr>\n",
              "      <th>min</th>\n",
              "      <td>10.354000</td>\n",
              "      <td>855.000000</td>\n",
              "      <td>93.000000</td>\n",
              "      <td>1.000000</td>\n",
              "      <td>23.000000</td>\n",
              "      <td>5.000000</td>\n",
              "      <td>0.000000</td>\n",
              "    </tr>\n",
              "    <tr>\n",
              "      <th>25%</th>\n",
              "      <td>21.007250</td>\n",
              "      <td>3088.000000</td>\n",
              "      <td>247.250000</td>\n",
              "      <td>2.000000</td>\n",
              "      <td>41.750000</td>\n",
              "      <td>11.000000</td>\n",
              "      <td>68.750000</td>\n",
              "    </tr>\n",
              "    <tr>\n",
              "      <th>50%</th>\n",
              "      <td>33.115500</td>\n",
              "      <td>4622.500000</td>\n",
              "      <td>344.000000</td>\n",
              "      <td>3.000000</td>\n",
              "      <td>56.000000</td>\n",
              "      <td>14.000000</td>\n",
              "      <td>459.500000</td>\n",
              "    </tr>\n",
              "    <tr>\n",
              "      <th>75%</th>\n",
              "      <td>57.470750</td>\n",
              "      <td>5872.750000</td>\n",
              "      <td>437.250000</td>\n",
              "      <td>4.000000</td>\n",
              "      <td>70.000000</td>\n",
              "      <td>16.000000</td>\n",
              "      <td>863.000000</td>\n",
              "    </tr>\n",
              "    <tr>\n",
              "      <th>max</th>\n",
              "      <td>186.634000</td>\n",
              "      <td>13913.000000</td>\n",
              "      <td>982.000000</td>\n",
              "      <td>9.000000</td>\n",
              "      <td>98.000000</td>\n",
              "      <td>20.000000</td>\n",
              "      <td>1999.000000</td>\n",
              "    </tr>\n",
              "  </tbody>\n",
              "</table>\n",
              "</div>\n",
              "    <div class=\"colab-df-buttons\">\n",
              "\n",
              "  <div class=\"colab-df-container\">\n",
              "    <button class=\"colab-df-convert\" onclick=\"convertToInteractive('df-bcab817d-70ad-4cfb-873f-9af3021a9dd3')\"\n",
              "            title=\"Convert this dataframe to an interactive table.\"\n",
              "            style=\"display:none;\">\n",
              "\n",
              "  <svg xmlns=\"http://www.w3.org/2000/svg\" height=\"24px\" viewBox=\"0 -960 960 960\">\n",
              "    <path d=\"M120-120v-720h720v720H120Zm60-500h600v-160H180v160Zm220 220h160v-160H400v160Zm0 220h160v-160H400v160ZM180-400h160v-160H180v160Zm440 0h160v-160H620v160ZM180-180h160v-160H180v160Zm440 0h160v-160H620v160Z\"/>\n",
              "  </svg>\n",
              "    </button>\n",
              "\n",
              "  <style>\n",
              "    .colab-df-container {\n",
              "      display:flex;\n",
              "      gap: 12px;\n",
              "    }\n",
              "\n",
              "    .colab-df-convert {\n",
              "      background-color: #E8F0FE;\n",
              "      border: none;\n",
              "      border-radius: 50%;\n",
              "      cursor: pointer;\n",
              "      display: none;\n",
              "      fill: #1967D2;\n",
              "      height: 32px;\n",
              "      padding: 0 0 0 0;\n",
              "      width: 32px;\n",
              "    }\n",
              "\n",
              "    .colab-df-convert:hover {\n",
              "      background-color: #E2EBFA;\n",
              "      box-shadow: 0px 1px 2px rgba(60, 64, 67, 0.3), 0px 1px 3px 1px rgba(60, 64, 67, 0.15);\n",
              "      fill: #174EA6;\n",
              "    }\n",
              "\n",
              "    .colab-df-buttons div {\n",
              "      margin-bottom: 4px;\n",
              "    }\n",
              "\n",
              "    [theme=dark] .colab-df-convert {\n",
              "      background-color: #3B4455;\n",
              "      fill: #D2E3FC;\n",
              "    }\n",
              "\n",
              "    [theme=dark] .colab-df-convert:hover {\n",
              "      background-color: #434B5C;\n",
              "      box-shadow: 0px 1px 3px 1px rgba(0, 0, 0, 0.15);\n",
              "      filter: drop-shadow(0px 1px 2px rgba(0, 0, 0, 0.3));\n",
              "      fill: #FFFFFF;\n",
              "    }\n",
              "  </style>\n",
              "\n",
              "    <script>\n",
              "      const buttonEl =\n",
              "        document.querySelector('#df-bcab817d-70ad-4cfb-873f-9af3021a9dd3 button.colab-df-convert');\n",
              "      buttonEl.style.display =\n",
              "        google.colab.kernel.accessAllowed ? 'block' : 'none';\n",
              "\n",
              "      async function convertToInteractive(key) {\n",
              "        const element = document.querySelector('#df-bcab817d-70ad-4cfb-873f-9af3021a9dd3');\n",
              "        const dataTable =\n",
              "          await google.colab.kernel.invokeFunction('convertToInteractive',\n",
              "                                                    [key], {});\n",
              "        if (!dataTable) return;\n",
              "\n",
              "        const docLinkHtml = 'Like what you see? Visit the ' +\n",
              "          '<a target=\"_blank\" href=https://colab.research.google.com/notebooks/data_table.ipynb>data table notebook</a>'\n",
              "          + ' to learn more about interactive tables.';\n",
              "        element.innerHTML = '';\n",
              "        dataTable['output_type'] = 'display_data';\n",
              "        await google.colab.output.renderOutput(dataTable, element);\n",
              "        const docLink = document.createElement('div');\n",
              "        docLink.innerHTML = docLinkHtml;\n",
              "        element.appendChild(docLink);\n",
              "      }\n",
              "    </script>\n",
              "  </div>\n",
              "\n",
              "\n",
              "<div id=\"df-395506a4-89f5-4b27-9d73-7443c3b1a321\">\n",
              "  <button class=\"colab-df-quickchart\" onclick=\"quickchart('df-395506a4-89f5-4b27-9d73-7443c3b1a321')\"\n",
              "            title=\"Suggest charts\"\n",
              "            style=\"display:none;\">\n",
              "\n",
              "<svg xmlns=\"http://www.w3.org/2000/svg\" height=\"24px\"viewBox=\"0 0 24 24\"\n",
              "     width=\"24px\">\n",
              "    <g>\n",
              "        <path d=\"M19 3H5c-1.1 0-2 .9-2 2v14c0 1.1.9 2 2 2h14c1.1 0 2-.9 2-2V5c0-1.1-.9-2-2-2zM9 17H7v-7h2v7zm4 0h-2V7h2v10zm4 0h-2v-4h2v4z\"/>\n",
              "    </g>\n",
              "</svg>\n",
              "  </button>\n",
              "\n",
              "<style>\n",
              "  .colab-df-quickchart {\n",
              "      --bg-color: #E8F0FE;\n",
              "      --fill-color: #1967D2;\n",
              "      --hover-bg-color: #E2EBFA;\n",
              "      --hover-fill-color: #174EA6;\n",
              "      --disabled-fill-color: #AAA;\n",
              "      --disabled-bg-color: #DDD;\n",
              "  }\n",
              "\n",
              "  [theme=dark] .colab-df-quickchart {\n",
              "      --bg-color: #3B4455;\n",
              "      --fill-color: #D2E3FC;\n",
              "      --hover-bg-color: #434B5C;\n",
              "      --hover-fill-color: #FFFFFF;\n",
              "      --disabled-bg-color: #3B4455;\n",
              "      --disabled-fill-color: #666;\n",
              "  }\n",
              "\n",
              "  .colab-df-quickchart {\n",
              "    background-color: var(--bg-color);\n",
              "    border: none;\n",
              "    border-radius: 50%;\n",
              "    cursor: pointer;\n",
              "    display: none;\n",
              "    fill: var(--fill-color);\n",
              "    height: 32px;\n",
              "    padding: 0;\n",
              "    width: 32px;\n",
              "  }\n",
              "\n",
              "  .colab-df-quickchart:hover {\n",
              "    background-color: var(--hover-bg-color);\n",
              "    box-shadow: 0 1px 2px rgba(60, 64, 67, 0.3), 0 1px 3px 1px rgba(60, 64, 67, 0.15);\n",
              "    fill: var(--button-hover-fill-color);\n",
              "  }\n",
              "\n",
              "  .colab-df-quickchart-complete:disabled,\n",
              "  .colab-df-quickchart-complete:disabled:hover {\n",
              "    background-color: var(--disabled-bg-color);\n",
              "    fill: var(--disabled-fill-color);\n",
              "    box-shadow: none;\n",
              "  }\n",
              "\n",
              "  .colab-df-spinner {\n",
              "    border: 2px solid var(--fill-color);\n",
              "    border-color: transparent;\n",
              "    border-bottom-color: var(--fill-color);\n",
              "    animation:\n",
              "      spin 1s steps(1) infinite;\n",
              "  }\n",
              "\n",
              "  @keyframes spin {\n",
              "    0% {\n",
              "      border-color: transparent;\n",
              "      border-bottom-color: var(--fill-color);\n",
              "      border-left-color: var(--fill-color);\n",
              "    }\n",
              "    20% {\n",
              "      border-color: transparent;\n",
              "      border-left-color: var(--fill-color);\n",
              "      border-top-color: var(--fill-color);\n",
              "    }\n",
              "    30% {\n",
              "      border-color: transparent;\n",
              "      border-left-color: var(--fill-color);\n",
              "      border-top-color: var(--fill-color);\n",
              "      border-right-color: var(--fill-color);\n",
              "    }\n",
              "    40% {\n",
              "      border-color: transparent;\n",
              "      border-right-color: var(--fill-color);\n",
              "      border-top-color: var(--fill-color);\n",
              "    }\n",
              "    60% {\n",
              "      border-color: transparent;\n",
              "      border-right-color: var(--fill-color);\n",
              "    }\n",
              "    80% {\n",
              "      border-color: transparent;\n",
              "      border-right-color: var(--fill-color);\n",
              "      border-bottom-color: var(--fill-color);\n",
              "    }\n",
              "    90% {\n",
              "      border-color: transparent;\n",
              "      border-bottom-color: var(--fill-color);\n",
              "    }\n",
              "  }\n",
              "</style>\n",
              "\n",
              "  <script>\n",
              "    async function quickchart(key) {\n",
              "      const quickchartButtonEl =\n",
              "        document.querySelector('#' + key + ' button');\n",
              "      quickchartButtonEl.disabled = true;  // To prevent multiple clicks.\n",
              "      quickchartButtonEl.classList.add('colab-df-spinner');\n",
              "      try {\n",
              "        const charts = await google.colab.kernel.invokeFunction(\n",
              "            'suggestCharts', [key], {});\n",
              "      } catch (error) {\n",
              "        console.error('Error during call to suggestCharts:', error);\n",
              "      }\n",
              "      quickchartButtonEl.classList.remove('colab-df-spinner');\n",
              "      quickchartButtonEl.classList.add('colab-df-quickchart-complete');\n",
              "    }\n",
              "    (() => {\n",
              "      let quickchartButtonEl =\n",
              "        document.querySelector('#df-395506a4-89f5-4b27-9d73-7443c3b1a321 button');\n",
              "      quickchartButtonEl.style.display =\n",
              "        google.colab.kernel.accessAllowed ? 'block' : 'none';\n",
              "    })();\n",
              "  </script>\n",
              "</div>\n",
              "\n",
              "    </div>\n",
              "  </div>\n"
            ],
            "application/vnd.google.colaboratory.intrinsic+json": {
              "type": "dataframe",
              "summary": "{\n  \"name\": \"credit_df\",\n  \"rows\": 8,\n  \"fields\": [\n    {\n      \"column\": \"Income\",\n      \"properties\": {\n        \"dtype\": \"number\",\n        \"std\": 133.76058331938674,\n        \"min\": 10.354,\n        \"max\": 400.0,\n        \"num_unique_values\": 8,\n        \"samples\": [\n          45.218885,\n          33.1155,\n          400.0\n        ],\n        \"semantic_type\": \"\",\n        \"description\": \"\"\n      }\n    },\n    {\n      \"column\": \"Limit\",\n      \"properties\": {\n        \"dtype\": \"number\",\n        \"std\": 4266.94999539734,\n        \"min\": 400.0,\n        \"max\": 13913.0,\n        \"num_unique_values\": 8,\n        \"samples\": [\n          4735.6,\n          4622.5,\n          400.0\n        ],\n        \"semantic_type\": \"\",\n        \"description\": \"\"\n      }\n    },\n    {\n      \"column\": \"Rating\",\n      \"properties\": {\n        \"dtype\": \"number\",\n        \"std\": 272.2016899616029,\n        \"min\": 93.0,\n        \"max\": 982.0,\n        \"num_unique_values\": 8,\n        \"samples\": [\n          354.94,\n          344.0,\n          400.0\n        ],\n        \"semantic_type\": \"\",\n        \"description\": \"\"\n      }\n    },\n    {\n      \"column\": \"Cards\",\n      \"properties\": {\n        \"dtype\": \"number\",\n        \"std\": 140.26542224761624,\n        \"min\": 1.0,\n        \"max\": 400.0,\n        \"num_unique_values\": 8,\n        \"samples\": [\n          2.9575,\n          3.0,\n          400.0\n        ],\n        \"semantic_type\": \"\",\n        \"description\": \"\"\n      }\n    },\n    {\n      \"column\": \"Age\",\n      \"properties\": {\n        \"dtype\": \"number\",\n        \"std\": 125.8067413114172,\n        \"min\": 17.24980676220268,\n        \"max\": 400.0,\n        \"num_unique_values\": 8,\n        \"samples\": [\n          55.6675,\n          56.0,\n          400.0\n        ],\n        \"semantic_type\": \"\",\n        \"description\": \"\"\n      }\n    },\n    {\n      \"column\": \"Education\",\n      \"properties\": {\n        \"dtype\": \"number\",\n        \"std\": 137.36230281623423,\n        \"min\": 3.1252067600773366,\n        \"max\": 400.0,\n        \"num_unique_values\": 8,\n        \"samples\": [\n          13.45,\n          14.0,\n          400.0\n        ],\n        \"semantic_type\": \"\",\n        \"description\": \"\"\n      }\n    },\n    {\n      \"column\": \"Balance\",\n      \"properties\": {\n        \"dtype\": \"number\",\n        \"std\": 627.2718326446039,\n        \"min\": 0.0,\n        \"max\": 1999.0,\n        \"num_unique_values\": 8,\n        \"samples\": [\n          520.015,\n          459.5,\n          400.0\n        ],\n        \"semantic_type\": \"\",\n        \"description\": \"\"\n      }\n    }\n  ]\n}"
            }
          },
          "metadata": {},
          "execution_count": 4
        }
      ]
    },
    {
      "cell_type": "code",
      "source": [
        "credit_df.shape"
      ],
      "metadata": {
        "colab": {
          "base_uri": "https://localhost:8080/"
        },
        "id": "4sBp_xt7ICFI",
        "outputId": "dbfeea96-2bb9-4308-b61e-11e41c783431"
      },
      "execution_count": 5,
      "outputs": [
        {
          "output_type": "execute_result",
          "data": {
            "text/plain": [
              "(400, 11)"
            ]
          },
          "metadata": {},
          "execution_count": 5
        }
      ]
    },
    {
      "cell_type": "code",
      "source": [
        "credit_df.info()"
      ],
      "metadata": {
        "colab": {
          "base_uri": "https://localhost:8080/"
        },
        "id": "amDIITx1IKpT",
        "outputId": "c3fbf138-86b6-4c93-8a44-8cc5d3806cdc"
      },
      "execution_count": 6,
      "outputs": [
        {
          "output_type": "stream",
          "name": "stdout",
          "text": [
            "<class 'pandas.core.frame.DataFrame'>\n",
            "RangeIndex: 400 entries, 0 to 399\n",
            "Data columns (total 11 columns):\n",
            " #   Column     Non-Null Count  Dtype  \n",
            "---  ------     --------------  -----  \n",
            " 0   Income     400 non-null    float64\n",
            " 1   Limit      400 non-null    int64  \n",
            " 2   Rating     400 non-null    int64  \n",
            " 3   Cards      400 non-null    int64  \n",
            " 4   Age        400 non-null    int64  \n",
            " 5   Education  400 non-null    int64  \n",
            " 6   Own        400 non-null    object \n",
            " 7   Student    400 non-null    object \n",
            " 8   Married    400 non-null    object \n",
            " 9   Region     400 non-null    object \n",
            " 10  Balance    400 non-null    int64  \n",
            "dtypes: float64(1), int64(6), object(4)\n",
            "memory usage: 34.5+ KB\n"
          ]
        }
      ]
    },
    {
      "cell_type": "code",
      "source": [
        "# from credit_df.info(), there are no missing(Non-Null) values\n",
        "# confirm there are no missing values by running isnull() for all columns and check if/number of records with NaN values\n",
        "credit_df_na = credit_df[credit_df.isnull().any(axis=1)]\n",
        "credit_df_na.shape[0]"
      ],
      "metadata": {
        "colab": {
          "base_uri": "https://localhost:8080/"
        },
        "id": "wIG-GjOJFVFB",
        "outputId": "e6fd2ea8-503f-4516-c39e-3184c4fffe16"
      },
      "execution_count": 7,
      "outputs": [
        {
          "output_type": "execute_result",
          "data": {
            "text/plain": [
              "0"
            ]
          },
          "metadata": {},
          "execution_count": 7
        }
      ]
    },
    {
      "cell_type": "code",
      "source": [
        "# for each column, display column name & its distinct contents ONLY in case the column has less than 6 unique values\n",
        "\n",
        "str_=\"\"\n",
        "for column in credit_df:\n",
        "    columnSeriesObj = credit_df[column]\n",
        "    str_ = 'Column Name: ' + column + ', Column Type: ' + str(credit_df[column].dtype)\n",
        "    if len(columnSeriesObj.unique()) <= 5:\n",
        "      str_ = str_ + ', Column Contents : '\n",
        "      for val in columnSeriesObj.unique():\n",
        "        str_ = str_  + str(val) + \",\"\n",
        "      str_ = str_[:len(str_)-1]\n",
        "    print(str_)"
      ],
      "metadata": {
        "colab": {
          "base_uri": "https://localhost:8080/"
        },
        "id": "bJIsqgG2dQNK",
        "outputId": "c14fe499-51e7-4071-93bb-c1b70ebbf362"
      },
      "execution_count": 8,
      "outputs": [
        {
          "output_type": "stream",
          "name": "stdout",
          "text": [
            "Column Name: Income, Column Type: float64\n",
            "Column Name: Limit, Column Type: int64\n",
            "Column Name: Rating, Column Type: int64\n",
            "Column Name: Cards, Column Type: int64\n",
            "Column Name: Age, Column Type: int64\n",
            "Column Name: Education, Column Type: int64\n",
            "Column Name: Own, Column Type: object, Column Contents : No,Yes\n",
            "Column Name: Student, Column Type: object, Column Contents : No,Yes\n",
            "Column Name: Married, Column Type: object, Column Contents : Yes,No\n",
            "Column Name: Region, Column Type: object, Column Contents : South,West,East\n",
            "Column Name: Balance, Column Type: int64\n"
          ]
        }
      ]
    },
    {
      "cell_type": "code",
      "source": [
        "# Detect missing values\n",
        "credit_df.isnull().values.any()"
      ],
      "metadata": {
        "colab": {
          "base_uri": "https://localhost:8080/"
        },
        "id": "zdFGMAzsvYbo",
        "outputId": "1e18ee09-c8a0-46b7-fb13-a641715c8c71"
      },
      "execution_count": 9,
      "outputs": [
        {
          "output_type": "execute_result",
          "data": {
            "text/plain": [
              "False"
            ]
          },
          "metadata": {},
          "execution_count": 9
        }
      ]
    },
    {
      "cell_type": "markdown",
      "source": [
        "#### **A.1.4. Describing the variables in credit_df dataframe:**\n",
        "\n",
        "\n",
        "1.  *credit_df* has 11 columns: [Income,Limit,Rating,Cards,Age,Education,Own,Student,Married,Region,Balance]\n",
        "2.  The data type for four columns are of type *Object*  - details:\n",
        "\n",
        "*   Three columns *Own, Student, and Married*  each one has only two distinct values: Yes & No.\n",
        "*   One column *Region* with three distinct values: South,West,East.\n",
        "\n",
        "For above columns, we can use *df[col]*.factorize() to encode as an enumerated type or categorical variable\n",
        "\n",
        "\n",
        "3.  There is no values as *NaN* in any of the columns\n",
        "\n",
        "\n",
        "\n",
        "\n",
        "\n",
        "\n"
      ],
      "metadata": {
        "id": "kQTrQcwTtRFf"
      }
    },
    {
      "cell_type": "code",
      "source": [
        "# create a copy of the original dataframe\n",
        "# credit_df2 is a temp data set not used in next step\n",
        "credit_df2 = credit_df.copy(deep=True)\n",
        "\n",
        "credit_df2[\"Own_Factor\"] = credit_df2[\"Own\"].factorize()[0]\n",
        "credit_df2[\"Student_Factor\"] = credit_df2[\"Student\"].factorize()[0]\n",
        "credit_df2[\"Married_Factor\"] = credit_df2[\"Married\"].factorize()[0]\n",
        "credit_df2[\"Region_Factor\"] = credit_df2[\"Region\"].factorize()[0]\n",
        "\n",
        "credit_df2.head()"
      ],
      "metadata": {
        "colab": {
          "base_uri": "https://localhost:8080/",
          "height": 206
        },
        "id": "BmepGLzuj3C6",
        "outputId": "f3f082b1-3ab2-4c6f-e7cf-d060e60c7a9d"
      },
      "execution_count": 10,
      "outputs": [
        {
          "output_type": "execute_result",
          "data": {
            "text/plain": [
              "    Income  Limit  Rating  Cards  Age  Education  Own Student Married Region  \\\n",
              "0   14.891   3606     283      2   34         11   No      No     Yes  South   \n",
              "1  106.025   6645     483      3   82         15  Yes     Yes     Yes   West   \n",
              "2  104.593   7075     514      4   71         11   No      No      No   West   \n",
              "3  148.924   9504     681      3   36         11  Yes      No      No   West   \n",
              "4   55.882   4897     357      2   68         16   No      No     Yes  South   \n",
              "\n",
              "   Balance  Own_Factor  Student_Factor  Married_Factor  Region_Factor  \n",
              "0      333           0               0               0              0  \n",
              "1      903           1               1               0              1  \n",
              "2      580           0               0               1              1  \n",
              "3      964           1               0               1              1  \n",
              "4      331           0               0               0              0  "
            ],
            "text/html": [
              "\n",
              "  <div id=\"df-205dd1f2-50b0-44bd-8dec-d4eacdeefa18\" class=\"colab-df-container\">\n",
              "    <div>\n",
              "<style scoped>\n",
              "    .dataframe tbody tr th:only-of-type {\n",
              "        vertical-align: middle;\n",
              "    }\n",
              "\n",
              "    .dataframe tbody tr th {\n",
              "        vertical-align: top;\n",
              "    }\n",
              "\n",
              "    .dataframe thead th {\n",
              "        text-align: right;\n",
              "    }\n",
              "</style>\n",
              "<table border=\"1\" class=\"dataframe\">\n",
              "  <thead>\n",
              "    <tr style=\"text-align: right;\">\n",
              "      <th></th>\n",
              "      <th>Income</th>\n",
              "      <th>Limit</th>\n",
              "      <th>Rating</th>\n",
              "      <th>Cards</th>\n",
              "      <th>Age</th>\n",
              "      <th>Education</th>\n",
              "      <th>Own</th>\n",
              "      <th>Student</th>\n",
              "      <th>Married</th>\n",
              "      <th>Region</th>\n",
              "      <th>Balance</th>\n",
              "      <th>Own_Factor</th>\n",
              "      <th>Student_Factor</th>\n",
              "      <th>Married_Factor</th>\n",
              "      <th>Region_Factor</th>\n",
              "    </tr>\n",
              "  </thead>\n",
              "  <tbody>\n",
              "    <tr>\n",
              "      <th>0</th>\n",
              "      <td>14.891</td>\n",
              "      <td>3606</td>\n",
              "      <td>283</td>\n",
              "      <td>2</td>\n",
              "      <td>34</td>\n",
              "      <td>11</td>\n",
              "      <td>No</td>\n",
              "      <td>No</td>\n",
              "      <td>Yes</td>\n",
              "      <td>South</td>\n",
              "      <td>333</td>\n",
              "      <td>0</td>\n",
              "      <td>0</td>\n",
              "      <td>0</td>\n",
              "      <td>0</td>\n",
              "    </tr>\n",
              "    <tr>\n",
              "      <th>1</th>\n",
              "      <td>106.025</td>\n",
              "      <td>6645</td>\n",
              "      <td>483</td>\n",
              "      <td>3</td>\n",
              "      <td>82</td>\n",
              "      <td>15</td>\n",
              "      <td>Yes</td>\n",
              "      <td>Yes</td>\n",
              "      <td>Yes</td>\n",
              "      <td>West</td>\n",
              "      <td>903</td>\n",
              "      <td>1</td>\n",
              "      <td>1</td>\n",
              "      <td>0</td>\n",
              "      <td>1</td>\n",
              "    </tr>\n",
              "    <tr>\n",
              "      <th>2</th>\n",
              "      <td>104.593</td>\n",
              "      <td>7075</td>\n",
              "      <td>514</td>\n",
              "      <td>4</td>\n",
              "      <td>71</td>\n",
              "      <td>11</td>\n",
              "      <td>No</td>\n",
              "      <td>No</td>\n",
              "      <td>No</td>\n",
              "      <td>West</td>\n",
              "      <td>580</td>\n",
              "      <td>0</td>\n",
              "      <td>0</td>\n",
              "      <td>1</td>\n",
              "      <td>1</td>\n",
              "    </tr>\n",
              "    <tr>\n",
              "      <th>3</th>\n",
              "      <td>148.924</td>\n",
              "      <td>9504</td>\n",
              "      <td>681</td>\n",
              "      <td>3</td>\n",
              "      <td>36</td>\n",
              "      <td>11</td>\n",
              "      <td>Yes</td>\n",
              "      <td>No</td>\n",
              "      <td>No</td>\n",
              "      <td>West</td>\n",
              "      <td>964</td>\n",
              "      <td>1</td>\n",
              "      <td>0</td>\n",
              "      <td>1</td>\n",
              "      <td>1</td>\n",
              "    </tr>\n",
              "    <tr>\n",
              "      <th>4</th>\n",
              "      <td>55.882</td>\n",
              "      <td>4897</td>\n",
              "      <td>357</td>\n",
              "      <td>2</td>\n",
              "      <td>68</td>\n",
              "      <td>16</td>\n",
              "      <td>No</td>\n",
              "      <td>No</td>\n",
              "      <td>Yes</td>\n",
              "      <td>South</td>\n",
              "      <td>331</td>\n",
              "      <td>0</td>\n",
              "      <td>0</td>\n",
              "      <td>0</td>\n",
              "      <td>0</td>\n",
              "    </tr>\n",
              "  </tbody>\n",
              "</table>\n",
              "</div>\n",
              "    <div class=\"colab-df-buttons\">\n",
              "\n",
              "  <div class=\"colab-df-container\">\n",
              "    <button class=\"colab-df-convert\" onclick=\"convertToInteractive('df-205dd1f2-50b0-44bd-8dec-d4eacdeefa18')\"\n",
              "            title=\"Convert this dataframe to an interactive table.\"\n",
              "            style=\"display:none;\">\n",
              "\n",
              "  <svg xmlns=\"http://www.w3.org/2000/svg\" height=\"24px\" viewBox=\"0 -960 960 960\">\n",
              "    <path d=\"M120-120v-720h720v720H120Zm60-500h600v-160H180v160Zm220 220h160v-160H400v160Zm0 220h160v-160H400v160ZM180-400h160v-160H180v160Zm440 0h160v-160H620v160ZM180-180h160v-160H180v160Zm440 0h160v-160H620v160Z\"/>\n",
              "  </svg>\n",
              "    </button>\n",
              "\n",
              "  <style>\n",
              "    .colab-df-container {\n",
              "      display:flex;\n",
              "      gap: 12px;\n",
              "    }\n",
              "\n",
              "    .colab-df-convert {\n",
              "      background-color: #E8F0FE;\n",
              "      border: none;\n",
              "      border-radius: 50%;\n",
              "      cursor: pointer;\n",
              "      display: none;\n",
              "      fill: #1967D2;\n",
              "      height: 32px;\n",
              "      padding: 0 0 0 0;\n",
              "      width: 32px;\n",
              "    }\n",
              "\n",
              "    .colab-df-convert:hover {\n",
              "      background-color: #E2EBFA;\n",
              "      box-shadow: 0px 1px 2px rgba(60, 64, 67, 0.3), 0px 1px 3px 1px rgba(60, 64, 67, 0.15);\n",
              "      fill: #174EA6;\n",
              "    }\n",
              "\n",
              "    .colab-df-buttons div {\n",
              "      margin-bottom: 4px;\n",
              "    }\n",
              "\n",
              "    [theme=dark] .colab-df-convert {\n",
              "      background-color: #3B4455;\n",
              "      fill: #D2E3FC;\n",
              "    }\n",
              "\n",
              "    [theme=dark] .colab-df-convert:hover {\n",
              "      background-color: #434B5C;\n",
              "      box-shadow: 0px 1px 3px 1px rgba(0, 0, 0, 0.15);\n",
              "      filter: drop-shadow(0px 1px 2px rgba(0, 0, 0, 0.3));\n",
              "      fill: #FFFFFF;\n",
              "    }\n",
              "  </style>\n",
              "\n",
              "    <script>\n",
              "      const buttonEl =\n",
              "        document.querySelector('#df-205dd1f2-50b0-44bd-8dec-d4eacdeefa18 button.colab-df-convert');\n",
              "      buttonEl.style.display =\n",
              "        google.colab.kernel.accessAllowed ? 'block' : 'none';\n",
              "\n",
              "      async function convertToInteractive(key) {\n",
              "        const element = document.querySelector('#df-205dd1f2-50b0-44bd-8dec-d4eacdeefa18');\n",
              "        const dataTable =\n",
              "          await google.colab.kernel.invokeFunction('convertToInteractive',\n",
              "                                                    [key], {});\n",
              "        if (!dataTable) return;\n",
              "\n",
              "        const docLinkHtml = 'Like what you see? Visit the ' +\n",
              "          '<a target=\"_blank\" href=https://colab.research.google.com/notebooks/data_table.ipynb>data table notebook</a>'\n",
              "          + ' to learn more about interactive tables.';\n",
              "        element.innerHTML = '';\n",
              "        dataTable['output_type'] = 'display_data';\n",
              "        await google.colab.output.renderOutput(dataTable, element);\n",
              "        const docLink = document.createElement('div');\n",
              "        docLink.innerHTML = docLinkHtml;\n",
              "        element.appendChild(docLink);\n",
              "      }\n",
              "    </script>\n",
              "  </div>\n",
              "\n",
              "\n",
              "<div id=\"df-5be4a1e5-f5b5-4c23-8c12-cfb641168a0f\">\n",
              "  <button class=\"colab-df-quickchart\" onclick=\"quickchart('df-5be4a1e5-f5b5-4c23-8c12-cfb641168a0f')\"\n",
              "            title=\"Suggest charts\"\n",
              "            style=\"display:none;\">\n",
              "\n",
              "<svg xmlns=\"http://www.w3.org/2000/svg\" height=\"24px\"viewBox=\"0 0 24 24\"\n",
              "     width=\"24px\">\n",
              "    <g>\n",
              "        <path d=\"M19 3H5c-1.1 0-2 .9-2 2v14c0 1.1.9 2 2 2h14c1.1 0 2-.9 2-2V5c0-1.1-.9-2-2-2zM9 17H7v-7h2v7zm4 0h-2V7h2v10zm4 0h-2v-4h2v4z\"/>\n",
              "    </g>\n",
              "</svg>\n",
              "  </button>\n",
              "\n",
              "<style>\n",
              "  .colab-df-quickchart {\n",
              "      --bg-color: #E8F0FE;\n",
              "      --fill-color: #1967D2;\n",
              "      --hover-bg-color: #E2EBFA;\n",
              "      --hover-fill-color: #174EA6;\n",
              "      --disabled-fill-color: #AAA;\n",
              "      --disabled-bg-color: #DDD;\n",
              "  }\n",
              "\n",
              "  [theme=dark] .colab-df-quickchart {\n",
              "      --bg-color: #3B4455;\n",
              "      --fill-color: #D2E3FC;\n",
              "      --hover-bg-color: #434B5C;\n",
              "      --hover-fill-color: #FFFFFF;\n",
              "      --disabled-bg-color: #3B4455;\n",
              "      --disabled-fill-color: #666;\n",
              "  }\n",
              "\n",
              "  .colab-df-quickchart {\n",
              "    background-color: var(--bg-color);\n",
              "    border: none;\n",
              "    border-radius: 50%;\n",
              "    cursor: pointer;\n",
              "    display: none;\n",
              "    fill: var(--fill-color);\n",
              "    height: 32px;\n",
              "    padding: 0;\n",
              "    width: 32px;\n",
              "  }\n",
              "\n",
              "  .colab-df-quickchart:hover {\n",
              "    background-color: var(--hover-bg-color);\n",
              "    box-shadow: 0 1px 2px rgba(60, 64, 67, 0.3), 0 1px 3px 1px rgba(60, 64, 67, 0.15);\n",
              "    fill: var(--button-hover-fill-color);\n",
              "  }\n",
              "\n",
              "  .colab-df-quickchart-complete:disabled,\n",
              "  .colab-df-quickchart-complete:disabled:hover {\n",
              "    background-color: var(--disabled-bg-color);\n",
              "    fill: var(--disabled-fill-color);\n",
              "    box-shadow: none;\n",
              "  }\n",
              "\n",
              "  .colab-df-spinner {\n",
              "    border: 2px solid var(--fill-color);\n",
              "    border-color: transparent;\n",
              "    border-bottom-color: var(--fill-color);\n",
              "    animation:\n",
              "      spin 1s steps(1) infinite;\n",
              "  }\n",
              "\n",
              "  @keyframes spin {\n",
              "    0% {\n",
              "      border-color: transparent;\n",
              "      border-bottom-color: var(--fill-color);\n",
              "      border-left-color: var(--fill-color);\n",
              "    }\n",
              "    20% {\n",
              "      border-color: transparent;\n",
              "      border-left-color: var(--fill-color);\n",
              "      border-top-color: var(--fill-color);\n",
              "    }\n",
              "    30% {\n",
              "      border-color: transparent;\n",
              "      border-left-color: var(--fill-color);\n",
              "      border-top-color: var(--fill-color);\n",
              "      border-right-color: var(--fill-color);\n",
              "    }\n",
              "    40% {\n",
              "      border-color: transparent;\n",
              "      border-right-color: var(--fill-color);\n",
              "      border-top-color: var(--fill-color);\n",
              "    }\n",
              "    60% {\n",
              "      border-color: transparent;\n",
              "      border-right-color: var(--fill-color);\n",
              "    }\n",
              "    80% {\n",
              "      border-color: transparent;\n",
              "      border-right-color: var(--fill-color);\n",
              "      border-bottom-color: var(--fill-color);\n",
              "    }\n",
              "    90% {\n",
              "      border-color: transparent;\n",
              "      border-bottom-color: var(--fill-color);\n",
              "    }\n",
              "  }\n",
              "</style>\n",
              "\n",
              "  <script>\n",
              "    async function quickchart(key) {\n",
              "      const quickchartButtonEl =\n",
              "        document.querySelector('#' + key + ' button');\n",
              "      quickchartButtonEl.disabled = true;  // To prevent multiple clicks.\n",
              "      quickchartButtonEl.classList.add('colab-df-spinner');\n",
              "      try {\n",
              "        const charts = await google.colab.kernel.invokeFunction(\n",
              "            'suggestCharts', [key], {});\n",
              "      } catch (error) {\n",
              "        console.error('Error during call to suggestCharts:', error);\n",
              "      }\n",
              "      quickchartButtonEl.classList.remove('colab-df-spinner');\n",
              "      quickchartButtonEl.classList.add('colab-df-quickchart-complete');\n",
              "    }\n",
              "    (() => {\n",
              "      let quickchartButtonEl =\n",
              "        document.querySelector('#df-5be4a1e5-f5b5-4c23-8c12-cfb641168a0f button');\n",
              "      quickchartButtonEl.style.display =\n",
              "        google.colab.kernel.accessAllowed ? 'block' : 'none';\n",
              "    })();\n",
              "  </script>\n",
              "</div>\n",
              "\n",
              "    </div>\n",
              "  </div>\n"
            ],
            "application/vnd.google.colaboratory.intrinsic+json": {
              "type": "dataframe",
              "variable_name": "credit_df2",
              "summary": "{\n  \"name\": \"credit_df2\",\n  \"rows\": 400,\n  \"fields\": [\n    {\n      \"column\": \"Income\",\n      \"properties\": {\n        \"dtype\": \"number\",\n        \"std\": 35.244273165070524,\n        \"min\": 10.354,\n        \"max\": 186.634,\n        \"num_unique_values\": 399,\n        \"samples\": [\n          27.349,\n          48.577,\n          31.367\n        ],\n        \"semantic_type\": \"\",\n        \"description\": \"\"\n      }\n    },\n    {\n      \"column\": \"Limit\",\n      \"properties\": {\n        \"dtype\": \"number\",\n        \"std\": 2308,\n        \"min\": 855,\n        \"max\": 13913,\n        \"num_unique_values\": 387,\n        \"samples\": [\n          3096,\n          1362,\n          6040\n        ],\n        \"semantic_type\": \"\",\n        \"description\": \"\"\n      }\n    },\n    {\n      \"column\": \"Rating\",\n      \"properties\": {\n        \"dtype\": \"number\",\n        \"std\": 154,\n        \"min\": 93,\n        \"max\": 982,\n        \"num_unique_values\": 283,\n        \"samples\": [\n          491,\n          329,\n          214\n        ],\n        \"semantic_type\": \"\",\n        \"description\": \"\"\n      }\n    },\n    {\n      \"column\": \"Cards\",\n      \"properties\": {\n        \"dtype\": \"number\",\n        \"std\": 1,\n        \"min\": 1,\n        \"max\": 9,\n        \"num_unique_values\": 9,\n        \"samples\": [\n          8,\n          3,\n          6\n        ],\n        \"semantic_type\": \"\",\n        \"description\": \"\"\n      }\n    },\n    {\n      \"column\": \"Age\",\n      \"properties\": {\n        \"dtype\": \"number\",\n        \"std\": 17,\n        \"min\": 23,\n        \"max\": 98,\n        \"num_unique_values\": 68,\n        \"samples\": [\n          52,\n          69,\n          68\n        ],\n        \"semantic_type\": \"\",\n        \"description\": \"\"\n      }\n    },\n    {\n      \"column\": \"Education\",\n      \"properties\": {\n        \"dtype\": \"number\",\n        \"std\": 3,\n        \"min\": 5,\n        \"max\": 20,\n        \"num_unique_values\": 16,\n        \"samples\": [\n          11,\n          15,\n          9\n        ],\n        \"semantic_type\": \"\",\n        \"description\": \"\"\n      }\n    },\n    {\n      \"column\": \"Own\",\n      \"properties\": {\n        \"dtype\": \"category\",\n        \"num_unique_values\": 2,\n        \"samples\": [\n          \"Yes\",\n          \"No\"\n        ],\n        \"semantic_type\": \"\",\n        \"description\": \"\"\n      }\n    },\n    {\n      \"column\": \"Student\",\n      \"properties\": {\n        \"dtype\": \"category\",\n        \"num_unique_values\": 2,\n        \"samples\": [\n          \"Yes\",\n          \"No\"\n        ],\n        \"semantic_type\": \"\",\n        \"description\": \"\"\n      }\n    },\n    {\n      \"column\": \"Married\",\n      \"properties\": {\n        \"dtype\": \"category\",\n        \"num_unique_values\": 2,\n        \"samples\": [\n          \"No\",\n          \"Yes\"\n        ],\n        \"semantic_type\": \"\",\n        \"description\": \"\"\n      }\n    },\n    {\n      \"column\": \"Region\",\n      \"properties\": {\n        \"dtype\": \"category\",\n        \"num_unique_values\": 3,\n        \"samples\": [\n          \"South\",\n          \"West\"\n        ],\n        \"semantic_type\": \"\",\n        \"description\": \"\"\n      }\n    },\n    {\n      \"column\": \"Balance\",\n      \"properties\": {\n        \"dtype\": \"number\",\n        \"std\": 459,\n        \"min\": 0,\n        \"max\": 1999,\n        \"num_unique_values\": 284,\n        \"samples\": [\n          1350,\n          1405\n        ],\n        \"semantic_type\": \"\",\n        \"description\": \"\"\n      }\n    },\n    {\n      \"column\": \"Own_Factor\",\n      \"properties\": {\n        \"dtype\": \"number\",\n        \"std\": 0,\n        \"min\": 0,\n        \"max\": 1,\n        \"num_unique_values\": 2,\n        \"samples\": [\n          1,\n          0\n        ],\n        \"semantic_type\": \"\",\n        \"description\": \"\"\n      }\n    },\n    {\n      \"column\": \"Student_Factor\",\n      \"properties\": {\n        \"dtype\": \"number\",\n        \"std\": 0,\n        \"min\": 0,\n        \"max\": 1,\n        \"num_unique_values\": 2,\n        \"samples\": [\n          1,\n          0\n        ],\n        \"semantic_type\": \"\",\n        \"description\": \"\"\n      }\n    },\n    {\n      \"column\": \"Married_Factor\",\n      \"properties\": {\n        \"dtype\": \"number\",\n        \"std\": 0,\n        \"min\": 0,\n        \"max\": 1,\n        \"num_unique_values\": 2,\n        \"samples\": [\n          1,\n          0\n        ],\n        \"semantic_type\": \"\",\n        \"description\": \"\"\n      }\n    },\n    {\n      \"column\": \"Region_Factor\",\n      \"properties\": {\n        \"dtype\": \"number\",\n        \"std\": 0,\n        \"min\": 0,\n        \"max\": 2,\n        \"num_unique_values\": 3,\n        \"samples\": [\n          0,\n          1\n        ],\n        \"semantic_type\": \"\",\n        \"description\": \"\"\n      }\n    }\n  ]\n}"
            }
          },
          "metadata": {},
          "execution_count": 10
        }
      ]
    },
    {
      "cell_type": "code",
      "source": [
        "credit_df2.info()"
      ],
      "metadata": {
        "colab": {
          "base_uri": "https://localhost:8080/"
        },
        "id": "htExOOsF2zNU",
        "outputId": "69bb63ea-6abc-406f-fab6-41da75b07645"
      },
      "execution_count": 11,
      "outputs": [
        {
          "output_type": "stream",
          "name": "stdout",
          "text": [
            "<class 'pandas.core.frame.DataFrame'>\n",
            "RangeIndex: 400 entries, 0 to 399\n",
            "Data columns (total 15 columns):\n",
            " #   Column          Non-Null Count  Dtype  \n",
            "---  ------          --------------  -----  \n",
            " 0   Income          400 non-null    float64\n",
            " 1   Limit           400 non-null    int64  \n",
            " 2   Rating          400 non-null    int64  \n",
            " 3   Cards           400 non-null    int64  \n",
            " 4   Age             400 non-null    int64  \n",
            " 5   Education       400 non-null    int64  \n",
            " 6   Own             400 non-null    object \n",
            " 7   Student         400 non-null    object \n",
            " 8   Married         400 non-null    object \n",
            " 9   Region          400 non-null    object \n",
            " 10  Balance         400 non-null    int64  \n",
            " 11  Own_Factor      400 non-null    int64  \n",
            " 12  Student_Factor  400 non-null    int64  \n",
            " 13  Married_Factor  400 non-null    int64  \n",
            " 14  Region_Factor   400 non-null    int64  \n",
            "dtypes: float64(1), int64(10), object(4)\n",
            "memory usage: 47.0+ KB\n"
          ]
        }
      ]
    },
    {
      "cell_type": "markdown",
      "source": [
        "#### **A.1.5_1. Using appropriate descriptive statistics or visualization methods describe the variables and possible association amongst them. Interpret the results**"
      ],
      "metadata": {
        "id": "9zrsuqHr65GP"
      }
    },
    {
      "cell_type": "code",
      "source": [
        "# Please note the below is done here is for the sake of exploring possible association amongst the featurs for the whole dataset\n",
        "# (after encoding the 4 object columns as per above step and then dropping the 4 columns of type object\n",
        "\n",
        "# That is performed again with an updated dataset as requested in A.2.\n",
        "\n",
        "# drop columns of type object\n",
        "credit_df2 = credit_df2.drop(columns=['Own','Student','Married','Region'])\n",
        "\n",
        "col_corr2 = credit_df2.corr()\n",
        "\n",
        "# check Correlation with heatmaps\n",
        "plt.subplots(figsize=(10,10))\n",
        "sns.heatmap(col_corr2, xticklabels=col_corr2.columns,yticklabels=col_corr2.columns,annot=True)"
      ],
      "metadata": {
        "colab": {
          "base_uri": "https://localhost:8080/",
          "height": 961
        },
        "id": "8jiN0sRg4sT3",
        "outputId": "fac2240e-8a7c-45dd-9d70-875aab2e4016"
      },
      "execution_count": 12,
      "outputs": [
        {
          "output_type": "execute_result",
          "data": {
            "text/plain": [
              "(<Figure size 1000x1000 with 1 Axes>, <Axes: >)"
            ]
          },
          "metadata": {},
          "execution_count": 12
        },
        {
          "output_type": "execute_result",
          "data": {
            "text/plain": [
              "<Axes: >"
            ]
          },
          "metadata": {},
          "execution_count": 12
        },
        {
          "output_type": "display_data",
          "data": {
            "text/plain": [
              "<Figure size 1000x1000 with 2 Axes>"
            ],
            "image/png": "[encoded data removed]"
          },
          "metadata": {}
        }
      ]
    },
    {
      "cell_type": "markdown",
      "source": [
        "2. **<font color=blue> (0.5 points)</font>** Keep only `Income`, `Limit`, `Rating`, `Cards`, `Age`, `Education`, and `Balance` as your variables and throw the rest of variables away. Print the dimension of this new dataset."
      ],
      "metadata": {
        "id": "ExAP9I2_Qi5s"
      }
    },
    {
      "cell_type": "markdown",
      "source": [
        "**#### A.2.1.Keep only Income, Limit, Rating, Cards, Age, Education, and Balance as your variables and throw the rest of variables away.**"
      ],
      "metadata": {
        "id": "tlE9mhOY345A"
      }
    },
    {
      "cell_type": "code",
      "source": [
        "credit_df = credit_df.drop(columns=['Own','Student','Married','Region'])"
      ],
      "metadata": {
        "id": "bXSznbjf1Vb3"
      },
      "execution_count": 13,
      "outputs": []
    },
    {
      "cell_type": "markdown",
      "source": [
        "#### A.2.2.Print the dimension of this new dataset"
      ],
      "metadata": {
        "id": "gRiSmQ0k4DpE"
      }
    },
    {
      "cell_type": "code",
      "source": [
        "# using The shape property to get the dimension of credit_df dataframe\n",
        "credit_df.shape"
      ],
      "metadata": {
        "colab": {
          "base_uri": "https://localhost:8080/"
        },
        "id": "t_CAz_Az4HQL",
        "outputId": "b3a6ef50-3cd0-46b5-ad13-45810330e355"
      },
      "execution_count": 14,
      "outputs": [
        {
          "output_type": "execute_result",
          "data": {
            "text/plain": [
              "(400, 7)"
            ]
          },
          "metadata": {},
          "execution_count": 14
        }
      ]
    },
    {
      "cell_type": "markdown",
      "source": [
        "#### A.1.5_2. ***(repeated for the data frame with required features/columns ONLY)*** Using appropriate descriptive statistics & visualization methods describe the variables and possible association amongst them (for *credit_df* with ONLY the 7 columns [*Income, Limit, Rating, Cards, Age, Education, and Balance*] as requested in #2)."
      ],
      "metadata": {
        "id": "0HvxaGVg7lcn"
      }
    },
    {
      "cell_type": "code",
      "source": [
        "col_corr = credit_df.corr()\n",
        "\n",
        "plt.subplots(figsize=(10,10))\n",
        "sns.heatmap(col_corr, xticklabels=col_corr.columns,yticklabels=col_corr.columns,annot=True)"
      ],
      "metadata": {
        "colab": {
          "base_uri": "https://localhost:8080/",
          "height": 871
        },
        "id": "5etI7GXzfVBB",
        "outputId": "06510ff4-ad80-4c98-ffe9-5b2d276dd4c8"
      },
      "execution_count": 15,
      "outputs": [
        {
          "output_type": "execute_result",
          "data": {
            "text/plain": [
              "(<Figure size 1000x1000 with 1 Axes>, <Axes: >)"
            ]
          },
          "metadata": {},
          "execution_count": 15
        },
        {
          "output_type": "execute_result",
          "data": {
            "text/plain": [
              "<Axes: >"
            ]
          },
          "metadata": {},
          "execution_count": 15
        },
        {
          "output_type": "display_data",
          "data": {
            "text/plain": [
              "<Figure size 1000x1000 with 2 Axes>"
            ],
            "image/png": "[encoded data removed]"
          },
          "metadata": {}
        }
      ]
    },
    {
      "cell_type": "markdown",
      "source": [
        "##### From on the above heatmap chart, we observe that:  \n",
        "**Strong Correlation:**\n",
        "*   Limit and Rating (=1)\n",
        "*   Balance and Limit\n",
        "*   Balance and Rating\n",
        "*   Income and Limit\n",
        "*   Income and Rating\n",
        "\n",
        "**Moderate Correlations:**\n",
        "* Balance and Income\n",
        "\n",
        "\n",
        "\n",
        "Other Correlations are of **Weak Correlation** as it is close to zero"
      ],
      "metadata": {
        "id": "z7PuKUs578mE"
      }
    },
    {
      "cell_type": "markdown",
      "source": [
        "**#### A.3.1. Create a binary variable Balance_1500 which equals  1  for the observations with Balance  >1500 , and equals  0  otherwise.**"
      ],
      "metadata": {
        "id": "kWf8kAKLmx-B"
      }
    },
    {
      "cell_type": "code",
      "source": [
        "credit_df[\"Balance_1500\"] = (credit_df[\"Balance\"]>1500).factorize() [0]\n",
        "#credit_df[credit_df[\"Balance_1500\"]].unique()\n",
        "credit_df[\"Balance_1500\"].unique()"
      ],
      "metadata": {
        "id": "0AIBmc0Pm3o2",
        "colab": {
          "base_uri": "https://localhost:8080/"
        },
        "outputId": "c99aae5d-84e2-469e-889a-c705067b033e"
      },
      "execution_count": 16,
      "outputs": [
        {
          "output_type": "execute_result",
          "data": {
            "text/plain": [
              "array([0, 1])"
            ]
          },
          "metadata": {},
          "execution_count": 16
        }
      ]
    },
    {
      "cell_type": "code",
      "source": [
        "credit_df[credit_df[\"Balance_1500\"]==1]"
      ],
      "metadata": {
        "colab": {
          "base_uri": "https://localhost:8080/",
          "height": 331
        },
        "id": "l-7DTrki9Kj7",
        "outputId": "f58cdf1c-ec55-4ecf-f740-8de348bc8cf1"
      },
      "execution_count": 17,
      "outputs": [
        {
          "output_type": "execute_result",
          "data": {
            "text/plain": [
              "      Income  Limit  Rating  Cards  Age  Education  Balance  Balance_1500\n",
              "28   186.634  13414     949      2   41         14     1809             1\n",
              "85   152.298  12066     828      4   41         12     1779             1\n",
              "102   68.713   7582     531      2   56         16     1587             1\n",
              "139  107.841  10384     728      3   87          7     1597             1\n",
              "174  121.834  10673     750      3   54         16     1573             1\n",
              "191  124.290   9560     701      3   52         17     1687             1\n",
              "222   33.437   6207     451      4   44          9     1549             1\n",
              "293  140.672  11200     817      7   46          9     1677             1\n",
              "323  182.728  13913     982      4   98         17     1999             1"
            ],
            "text/html": [
              "\n",
              "  <div id=\"df-d068ca9b-cdd2-424b-b5aa-03be2bbf7500\" class=\"colab-df-container\">\n",
              "    <div>\n",
              "<style scoped>\n",
              "    .dataframe tbody tr th:only-of-type {\n",
              "        vertical-align: middle;\n",
              "    }\n",
              "\n",
              "    .dataframe tbody tr th {\n",
              "        vertical-align: top;\n",
              "    }\n",
              "\n",
              "    .dataframe thead th {\n",
              "        text-align: right;\n",
              "    }\n",
              "</style>\n",
              "<table border=\"1\" class=\"dataframe\">\n",
              "  <thead>\n",
              "    <tr style=\"text-align: right;\">\n",
              "      <th></th>\n",
              "      <th>Income</th>\n",
              "      <th>Limit</th>\n",
              "      <th>Rating</th>\n",
              "      <th>Cards</th>\n",
              "      <th>Age</th>\n",
              "      <th>Education</th>\n",
              "      <th>Balance</th>\n",
              "      <th>Balance_1500</th>\n",
              "    </tr>\n",
              "  </thead>\n",
              "  <tbody>\n",
              "    <tr>\n",
              "      <th>28</th>\n",
              "      <td>186.634</td>\n",
              "      <td>13414</td>\n",
              "      <td>949</td>\n",
              "      <td>2</td>\n",
              "      <td>41</td>\n",
              "      <td>14</td>\n",
              "      <td>1809</td>\n",
              "      <td>1</td>\n",
              "    </tr>\n",
              "    <tr>\n",
              "      <th>85</th>\n",
              "      <td>152.298</td>\n",
              "      <td>12066</td>\n",
              "      <td>828</td>\n",
              "      <td>4</td>\n",
              "      <td>41</td>\n",
              "      <td>12</td>\n",
              "      <td>1779</td>\n",
              "      <td>1</td>\n",
              "    </tr>\n",
              "    <tr>\n",
              "      <th>102</th>\n",
              "      <td>68.713</td>\n",
              "      <td>7582</td>\n",
              "      <td>531</td>\n",
              "      <td>2</td>\n",
              "      <td>56</td>\n",
              "      <td>16</td>\n",
              "      <td>1587</td>\n",
              "      <td>1</td>\n",
              "    </tr>\n",
              "    <tr>\n",
              "      <th>139</th>\n",
              "      <td>107.841</td>\n",
              "      <td>10384</td>\n",
              "      <td>728</td>\n",
              "      <td>3</td>\n",
              "      <td>87</td>\n",
              "      <td>7</td>\n",
              "      <td>1597</td>\n",
              "      <td>1</td>\n",
              "    </tr>\n",
              "    <tr>\n",
              "      <th>174</th>\n",
              "      <td>121.834</td>\n",
              "      <td>10673</td>\n",
              "      <td>750</td>\n",
              "      <td>3</td>\n",
              "      <td>54</td>\n",
              "      <td>16</td>\n",
              "      <td>1573</td>\n",
              "      <td>1</td>\n",
              "    </tr>\n",
              "    <tr>\n",
              "      <th>191</th>\n",
              "      <td>124.290</td>\n",
              "      <td>9560</td>\n",
              "      <td>701</td>\n",
              "      <td>3</td>\n",
              "      <td>52</td>\n",
              "      <td>17</td>\n",
              "      <td>1687</td>\n",
              "      <td>1</td>\n",
              "    </tr>\n",
              "    <tr>\n",
              "      <th>222</th>\n",
              "      <td>33.437</td>\n",
              "      <td>6207</td>\n",
              "      <td>451</td>\n",
              "      <td>4</td>\n",
              "      <td>44</td>\n",
              "      <td>9</td>\n",
              "      <td>1549</td>\n",
              "      <td>1</td>\n",
              "    </tr>\n",
              "    <tr>\n",
              "      <th>293</th>\n",
              "      <td>140.672</td>\n",
              "      <td>11200</td>\n",
              "      <td>817</td>\n",
              "      <td>7</td>\n",
              "      <td>46</td>\n",
              "      <td>9</td>\n",
              "      <td>1677</td>\n",
              "      <td>1</td>\n",
              "    </tr>\n",
              "    <tr>\n",
              "      <th>323</th>\n",
              "      <td>182.728</td>\n",
              "      <td>13913</td>\n",
              "      <td>982</td>\n",
              "      <td>4</td>\n",
              "      <td>98</td>\n",
              "      <td>17</td>\n",
              "      <td>1999</td>\n",
              "      <td>1</td>\n",
              "    </tr>\n",
              "  </tbody>\n",
              "</table>\n",
              "</div>\n",
              "    <div class=\"colab-df-buttons\">\n",
              "\n",
              "  <div class=\"colab-df-container\">\n",
              "    <button class=\"colab-df-convert\" onclick=\"convertToInteractive('df-d068ca9b-cdd2-424b-b5aa-03be2bbf7500')\"\n",
              "            title=\"Convert this dataframe to an interactive table.\"\n",
              "            style=\"display:none;\">\n",
              "\n",
              "  <svg xmlns=\"http://www.w3.org/2000/svg\" height=\"24px\" viewBox=\"0 -960 960 960\">\n",
              "    <path d=\"M120-120v-720h720v720H120Zm60-500h600v-160H180v160Zm220 220h160v-160H400v160Zm0 220h160v-160H400v160ZM180-400h160v-160H180v160Zm440 0h160v-160H620v160ZM180-180h160v-160H180v160Zm440 0h160v-160H620v160Z\"/>\n",
              "  </svg>\n",
              "    </button>\n",
              "\n",
              "  <style>\n",
              "    .colab-df-container {\n",
              "      display:flex;\n",
              "      gap: 12px;\n",
              "    }\n",
              "\n",
              "    .colab-df-convert {\n",
              "      background-color: #E8F0FE;\n",
              "      border: none;\n",
              "      border-radius: 50%;\n",
              "      cursor: pointer;\n",
              "      display: none;\n",
              "      fill: #1967D2;\n",
              "      height: 32px;\n",
              "      padding: 0 0 0 0;\n",
              "      width: 32px;\n",
              "    }\n",
              "\n",
              "    .colab-df-convert:hover {\n",
              "      background-color: #E2EBFA;\n",
              "      box-shadow: 0px 1px 2px rgba(60, 64, 67, 0.3), 0px 1px 3px 1px rgba(60, 64, 67, 0.15);\n",
              "      fill: #174EA6;\n",
              "    }\n",
              "\n",
              "    .colab-df-buttons div {\n",
              "      margin-bottom: 4px;\n",
              "    }\n",
              "\n",
              "    [theme=dark] .colab-df-convert {\n",
              "      background-color: #3B4455;\n",
              "      fill: #D2E3FC;\n",
              "    }\n",
              "\n",
              "    [theme=dark] .colab-df-convert:hover {\n",
              "      background-color: #434B5C;\n",
              "      box-shadow: 0px 1px 3px 1px rgba(0, 0, 0, 0.15);\n",
              "      filter: drop-shadow(0px 1px 2px rgba(0, 0, 0, 0.3));\n",
              "      fill: #FFFFFF;\n",
              "    }\n",
              "  </style>\n",
              "\n",
              "    <script>\n",
              "      const buttonEl =\n",
              "        document.querySelector('#df-d068ca9b-cdd2-424b-b5aa-03be2bbf7500 button.colab-df-convert');\n",
              "      buttonEl.style.display =\n",
              "        google.colab.kernel.accessAllowed ? 'block' : 'none';\n",
              "\n",
              "      async function convertToInteractive(key) {\n",
              "        const element = document.querySelector('#df-d068ca9b-cdd2-424b-b5aa-03be2bbf7500');\n",
              "        const dataTable =\n",
              "          await google.colab.kernel.invokeFunction('convertToInteractive',\n",
              "                                                    [key], {});\n",
              "        if (!dataTable) return;\n",
              "\n",
              "        const docLinkHtml = 'Like what you see? Visit the ' +\n",
              "          '<a target=\"_blank\" href=https://colab.research.google.com/notebooks/data_table.ipynb>data table notebook</a>'\n",
              "          + ' to learn more about interactive tables.';\n",
              "        element.innerHTML = '';\n",
              "        dataTable['output_type'] = 'display_data';\n",
              "        await google.colab.output.renderOutput(dataTable, element);\n",
              "        const docLink = document.createElement('div');\n",
              "        docLink.innerHTML = docLinkHtml;\n",
              "        element.appendChild(docLink);\n",
              "      }\n",
              "    </script>\n",
              "  </div>\n",
              "\n",
              "\n",
              "<div id=\"df-923e7583-a7c7-481f-979d-9aaf951d476b\">\n",
              "  <button class=\"colab-df-quickchart\" onclick=\"quickchart('df-923e7583-a7c7-481f-979d-9aaf951d476b')\"\n",
              "            title=\"Suggest charts\"\n",
              "            style=\"display:none;\">\n",
              "\n",
              "<svg xmlns=\"http://www.w3.org/2000/svg\" height=\"24px\"viewBox=\"0 0 24 24\"\n",
              "     width=\"24px\">\n",
              "    <g>\n",
              "        <path d=\"M19 3H5c-1.1 0-2 .9-2 2v14c0 1.1.9 2 2 2h14c1.1 0 2-.9 2-2V5c0-1.1-.9-2-2-2zM9 17H7v-7h2v7zm4 0h-2V7h2v10zm4 0h-2v-4h2v4z\"/>\n",
              "    </g>\n",
              "</svg>\n",
              "  </button>\n",
              "\n",
              "<style>\n",
              "  .colab-df-quickchart {\n",
              "      --bg-color: #E8F0FE;\n",
              "      --fill-color: #1967D2;\n",
              "      --hover-bg-color: #E2EBFA;\n",
              "      --hover-fill-color: #174EA6;\n",
              "      --disabled-fill-color: #AAA;\n",
              "      --disabled-bg-color: #DDD;\n",
              "  }\n",
              "\n",
              "  [theme=dark] .colab-df-quickchart {\n",
              "      --bg-color: #3B4455;\n",
              "      --fill-color: #D2E3FC;\n",
              "      --hover-bg-color: #434B5C;\n",
              "      --hover-fill-color: #FFFFFF;\n",
              "      --disabled-bg-color: #3B4455;\n",
              "      --disabled-fill-color: #666;\n",
              "  }\n",
              "\n",
              "  .colab-df-quickchart {\n",
              "    background-color: var(--bg-color);\n",
              "    border: none;\n",
              "    border-radius: 50%;\n",
              "    cursor: pointer;\n",
              "    display: none;\n",
              "    fill: var(--fill-color);\n",
              "    height: 32px;\n",
              "    padding: 0;\n",
              "    width: 32px;\n",
              "  }\n",
              "\n",
              "  .colab-df-quickchart:hover {\n",
              "    background-color: var(--hover-bg-color);\n",
              "    box-shadow: 0 1px 2px rgba(60, 64, 67, 0.3), 0 1px 3px 1px rgba(60, 64, 67, 0.15);\n",
              "    fill: var(--button-hover-fill-color);\n",
              "  }\n",
              "\n",
              "  .colab-df-quickchart-complete:disabled,\n",
              "  .colab-df-quickchart-complete:disabled:hover {\n",
              "    background-color: var(--disabled-bg-color);\n",
              "    fill: var(--disabled-fill-color);\n",
              "    box-shadow: none;\n",
              "  }\n",
              "\n",
              "  .colab-df-spinner {\n",
              "    border: 2px solid var(--fill-color);\n",
              "    border-color: transparent;\n",
              "    border-bottom-color: var(--fill-color);\n",
              "    animation:\n",
              "      spin 1s steps(1) infinite;\n",
              "  }\n",
              "\n",
              "  @keyframes spin {\n",
              "    0% {\n",
              "      border-color: transparent;\n",
              "      border-bottom-color: var(--fill-color);\n",
              "      border-left-color: var(--fill-color);\n",
              "    }\n",
              "    20% {\n",
              "      border-color: transparent;\n",
              "      border-left-color: var(--fill-color);\n",
              "      border-top-color: var(--fill-color);\n",
              "    }\n",
              "    30% {\n",
              "      border-color: transparent;\n",
              "      border-left-color: var(--fill-color);\n",
              "      border-top-color: var(--fill-color);\n",
              "      border-right-color: var(--fill-color);\n",
              "    }\n",
              "    40% {\n",
              "      border-color: transparent;\n",
              "      border-right-color: var(--fill-color);\n",
              "      border-top-color: var(--fill-color);\n",
              "    }\n",
              "    60% {\n",
              "      border-color: transparent;\n",
              "      border-right-color: var(--fill-color);\n",
              "    }\n",
              "    80% {\n",
              "      border-color: transparent;\n",
              "      border-right-color: var(--fill-color);\n",
              "      border-bottom-color: var(--fill-color);\n",
              "    }\n",
              "    90% {\n",
              "      border-color: transparent;\n",
              "      border-bottom-color: var(--fill-color);\n",
              "    }\n",
              "  }\n",
              "</style>\n",
              "\n",
              "  <script>\n",
              "    async function quickchart(key) {\n",
              "      const quickchartButtonEl =\n",
              "        document.querySelector('#' + key + ' button');\n",
              "      quickchartButtonEl.disabled = true;  // To prevent multiple clicks.\n",
              "      quickchartButtonEl.classList.add('colab-df-spinner');\n",
              "      try {\n",
              "        const charts = await google.colab.kernel.invokeFunction(\n",
              "            'suggestCharts', [key], {});\n",
              "      } catch (error) {\n",
              "        console.error('Error during call to suggestCharts:', error);\n",
              "      }\n",
              "      quickchartButtonEl.classList.remove('colab-df-spinner');\n",
              "      quickchartButtonEl.classList.add('colab-df-quickchart-complete');\n",
              "    }\n",
              "    (() => {\n",
              "      let quickchartButtonEl =\n",
              "        document.querySelector('#df-923e7583-a7c7-481f-979d-9aaf951d476b button');\n",
              "      quickchartButtonEl.style.display =\n",
              "        google.colab.kernel.accessAllowed ? 'block' : 'none';\n",
              "    })();\n",
              "  </script>\n",
              "</div>\n",
              "\n",
              "    </div>\n",
              "  </div>\n"
            ],
            "application/vnd.google.colaboratory.intrinsic+json": {
              "type": "dataframe",
              "summary": "{\n  \"name\": \"credit_df[credit_df[\\\"Balance_1500\\\"]==1]\",\n  \"rows\": 9,\n  \"fields\": [\n    {\n      \"column\": \"Income\",\n      \"properties\": {\n        \"dtype\": \"number\",\n        \"std\": 49.96781625567712,\n        \"min\": 33.437,\n        \"max\": 186.634,\n        \"num_unique_values\": 9,\n        \"samples\": [\n          140.672,\n          152.298,\n          124.29\n        ],\n        \"semantic_type\": \"\",\n        \"description\": \"\"\n      }\n    },\n    {\n      \"column\": \"Limit\",\n      \"properties\": {\n        \"dtype\": \"number\",\n        \"std\": 2523,\n        \"min\": 6207,\n        \"max\": 13913,\n        \"num_unique_values\": 9,\n        \"samples\": [\n          11200,\n          12066,\n          9560\n        ],\n        \"semantic_type\": \"\",\n        \"description\": \"\"\n      }\n    },\n    {\n      \"column\": \"Rating\",\n      \"properties\": {\n        \"dtype\": \"number\",\n        \"std\": 174,\n        \"min\": 451,\n        \"max\": 982,\n        \"num_unique_values\": 9,\n        \"samples\": [\n          817,\n          828,\n          701\n        ],\n        \"semantic_type\": \"\",\n        \"description\": \"\"\n      }\n    },\n    {\n      \"column\": \"Cards\",\n      \"properties\": {\n        \"dtype\": \"number\",\n        \"std\": 1,\n        \"min\": 2,\n        \"max\": 7,\n        \"num_unique_values\": 4,\n        \"samples\": [\n          4,\n          7,\n          2\n        ],\n        \"semantic_type\": \"\",\n        \"description\": \"\"\n      }\n    },\n    {\n      \"column\": \"Age\",\n      \"properties\": {\n        \"dtype\": \"number\",\n        \"std\": 20,\n        \"min\": 41,\n        \"max\": 98,\n        \"num_unique_values\": 8,\n        \"samples\": [\n          56,\n          44,\n          41\n        ],\n        \"semantic_type\": \"\",\n        \"description\": \"\"\n      }\n    },\n    {\n      \"column\": \"Education\",\n      \"properties\": {\n        \"dtype\": \"number\",\n        \"std\": 3,\n        \"min\": 7,\n        \"max\": 17,\n        \"num_unique_values\": 6,\n        \"samples\": [\n          14,\n          12,\n          9\n        ],\n        \"semantic_type\": \"\",\n        \"description\": \"\"\n      }\n    },\n    {\n      \"column\": \"Balance\",\n      \"properties\": {\n        \"dtype\": \"number\",\n        \"std\": 145,\n        \"min\": 1549,\n        \"max\": 1999,\n        \"num_unique_values\": 9,\n        \"samples\": [\n          1677,\n          1779,\n          1687\n        ],\n        \"semantic_type\": \"\",\n        \"description\": \"\"\n      }\n    },\n    {\n      \"column\": \"Balance_1500\",\n      \"properties\": {\n        \"dtype\": \"number\",\n        \"std\": 0,\n        \"min\": 1,\n        \"max\": 1,\n        \"num_unique_values\": 1,\n        \"samples\": [\n          1\n        ],\n        \"semantic_type\": \"\",\n        \"description\": \"\"\n      }\n    }\n  ]\n}"
            }
          },
          "metadata": {},
          "execution_count": 17
        }
      ]
    },
    {
      "cell_type": "code",
      "source": [
        "credit_df[credit_df[\"Balance_1500\"]==0]"
      ],
      "metadata": {
        "colab": {
          "base_uri": "https://localhost:8080/",
          "height": 423
        },
        "id": "VubXtGksDg43",
        "outputId": "061210df-a397-4c51-80d6-bc3a5d72a69b"
      },
      "execution_count": 18,
      "outputs": [
        {
          "output_type": "execute_result",
          "data": {
            "text/plain": [
              "      Income  Limit  Rating  Cards  Age  Education  Balance  Balance_1500\n",
              "0     14.891   3606     283      2   34         11      333             0\n",
              "1    106.025   6645     483      3   82         15      903             0\n",
              "2    104.593   7075     514      4   71         11      580             0\n",
              "3    148.924   9504     681      3   36         11      964             0\n",
              "4     55.882   4897     357      2   68         16      331             0\n",
              "..       ...    ...     ...    ...  ...        ...      ...           ...\n",
              "395   12.096   4100     307      3   32         13      560             0\n",
              "396   13.364   3838     296      5   65         17      480             0\n",
              "397   57.872   4171     321      5   67         12      138             0\n",
              "398   37.728   2525     192      1   44         13        0             0\n",
              "399   18.701   5524     415      5   64          7      966             0\n",
              "\n",
              "[391 rows x 8 columns]"
            ],
            "text/html": [
              "\n",
              "  <div id=\"df-72414a0e-63ca-483f-951b-cdd5f9a65ca8\" class=\"colab-df-container\">\n",
              "    <div>\n",
              "<style scoped>\n",
              "    .dataframe tbody tr th:only-of-type {\n",
              "        vertical-align: middle;\n",
              "    }\n",
              "\n",
              "    .dataframe tbody tr th {\n",
              "        vertical-align: top;\n",
              "    }\n",
              "\n",
              "    .dataframe thead th {\n",
              "        text-align: right;\n",
              "    }\n",
              "</style>\n",
              "<table border=\"1\" class=\"dataframe\">\n",
              "  <thead>\n",
              "    <tr style=\"text-align: right;\">\n",
              "      <th></th>\n",
              "      <th>Income</th>\n",
              "      <th>Limit</th>\n",
              "      <th>Rating</th>\n",
              "      <th>Cards</th>\n",
              "      <th>Age</th>\n",
              "      <th>Education</th>\n",
              "      <th>Balance</th>\n",
              "      <th>Balance_1500</th>\n",
              "    </tr>\n",
              "  </thead>\n",
              "  <tbody>\n",
              "    <tr>\n",
              "      <th>0</th>\n",
              "      <td>14.891</td>\n",
              "      <td>3606</td>\n",
              "      <td>283</td>\n",
              "      <td>2</td>\n",
              "      <td>34</td>\n",
              "      <td>11</td>\n",
              "      <td>333</td>\n",
              "      <td>0</td>\n",
              "    </tr>\n",
              "    <tr>\n",
              "      <th>1</th>\n",
              "      <td>106.025</td>\n",
              "      <td>6645</td>\n",
              "      <td>483</td>\n",
              "      <td>3</td>\n",
              "      <td>82</td>\n",
              "      <td>15</td>\n",
              "      <td>903</td>\n",
              "      <td>0</td>\n",
              "    </tr>\n",
              "    <tr>\n",
              "      <th>2</th>\n",
              "      <td>104.593</td>\n",
              "      <td>7075</td>\n",
              "      <td>514</td>\n",
              "      <td>4</td>\n",
              "      <td>71</td>\n",
              "      <td>11</td>\n",
              "      <td>580</td>\n",
              "      <td>0</td>\n",
              "    </tr>\n",
              "    <tr>\n",
              "      <th>3</th>\n",
              "      <td>148.924</td>\n",
              "      <td>9504</td>\n",
              "      <td>681</td>\n",
              "      <td>3</td>\n",
              "      <td>36</td>\n",
              "      <td>11</td>\n",
              "      <td>964</td>\n",
              "      <td>0</td>\n",
              "    </tr>\n",
              "    <tr>\n",
              "      <th>4</th>\n",
              "      <td>55.882</td>\n",
              "      <td>4897</td>\n",
              "      <td>357</td>\n",
              "      <td>2</td>\n",
              "      <td>68</td>\n",
              "      <td>16</td>\n",
              "      <td>331</td>\n",
              "      <td>0</td>\n",
              "    </tr>\n",
              "    <tr>\n",
              "      <th>...</th>\n",
              "      <td>...</td>\n",
              "      <td>...</td>\n",
              "      <td>...</td>\n",
              "      <td>...</td>\n",
              "      <td>...</td>\n",
              "      <td>...</td>\n",
              "      <td>...</td>\n",
              "      <td>...</td>\n",
              "    </tr>\n",
              "    <tr>\n",
              "      <th>395</th>\n",
              "      <td>12.096</td>\n",
              "      <td>4100</td>\n",
              "      <td>307</td>\n",
              "      <td>3</td>\n",
              "      <td>32</td>\n",
              "      <td>13</td>\n",
              "      <td>560</td>\n",
              "      <td>0</td>\n",
              "    </tr>\n",
              "    <tr>\n",
              "      <th>396</th>\n",
              "      <td>13.364</td>\n",
              "      <td>3838</td>\n",
              "      <td>296</td>\n",
              "      <td>5</td>\n",
              "      <td>65</td>\n",
              "      <td>17</td>\n",
              "      <td>480</td>\n",
              "      <td>0</td>\n",
              "    </tr>\n",
              "    <tr>\n",
              "      <th>397</th>\n",
              "      <td>57.872</td>\n",
              "      <td>4171</td>\n",
              "      <td>321</td>\n",
              "      <td>5</td>\n",
              "      <td>67</td>\n",
              "      <td>12</td>\n",
              "      <td>138</td>\n",
              "      <td>0</td>\n",
              "    </tr>\n",
              "    <tr>\n",
              "      <th>398</th>\n",
              "      <td>37.728</td>\n",
              "      <td>2525</td>\n",
              "      <td>192</td>\n",
              "      <td>1</td>\n",
              "      <td>44</td>\n",
              "      <td>13</td>\n",
              "      <td>0</td>\n",
              "      <td>0</td>\n",
              "    </tr>\n",
              "    <tr>\n",
              "      <th>399</th>\n",
              "      <td>18.701</td>\n",
              "      <td>5524</td>\n",
              "      <td>415</td>\n",
              "      <td>5</td>\n",
              "      <td>64</td>\n",
              "      <td>7</td>\n",
              "      <td>966</td>\n",
              "      <td>0</td>\n",
              "    </tr>\n",
              "  </tbody>\n",
              "</table>\n",
              "<p>391 rows × 8 columns</p>\n",
              "</div>\n",
              "    <div class=\"colab-df-buttons\">\n",
              "\n",
              "  <div class=\"colab-df-container\">\n",
              "    <button class=\"colab-df-convert\" onclick=\"convertToInteractive('df-72414a0e-63ca-483f-951b-cdd5f9a65ca8')\"\n",
              "            title=\"Convert this dataframe to an interactive table.\"\n",
              "            style=\"display:none;\">\n",
              "\n",
              "  <svg xmlns=\"http://www.w3.org/2000/svg\" height=\"24px\" viewBox=\"0 -960 960 960\">\n",
              "    <path d=\"M120-120v-720h720v720H120Zm60-500h600v-160H180v160Zm220 220h160v-160H400v160Zm0 220h160v-160H400v160ZM180-400h160v-160H180v160Zm440 0h160v-160H620v160ZM180-180h160v-160H180v160Zm440 0h160v-160H620v160Z\"/>\n",
              "  </svg>\n",
              "    </button>\n",
              "\n",
              "  <style>\n",
              "    .colab-df-container {\n",
              "      display:flex;\n",
              "      gap: 12px;\n",
              "    }\n",
              "\n",
              "    .colab-df-convert {\n",
              "      background-color: #E8F0FE;\n",
              "      border: none;\n",
              "      border-radius: 50%;\n",
              "      cursor: pointer;\n",
              "      display: none;\n",
              "      fill: #1967D2;\n",
              "      height: 32px;\n",
              "      padding: 0 0 0 0;\n",
              "      width: 32px;\n",
              "    }\n",
              "\n",
              "    .colab-df-convert:hover {\n",
              "      background-color: #E2EBFA;\n",
              "      box-shadow: 0px 1px 2px rgba(60, 64, 67, 0.3), 0px 1px 3px 1px rgba(60, 64, 67, 0.15);\n",
              "      fill: #174EA6;\n",
              "    }\n",
              "\n",
              "    .colab-df-buttons div {\n",
              "      margin-bottom: 4px;\n",
              "    }\n",
              "\n",
              "    [theme=dark] .colab-df-convert {\n",
              "      background-color: #3B4455;\n",
              "      fill: #D2E3FC;\n",
              "    }\n",
              "\n",
              "    [theme=dark] .colab-df-convert:hover {\n",
              "      background-color: #434B5C;\n",
              "      box-shadow: 0px 1px 3px 1px rgba(0, 0, 0, 0.15);\n",
              "      filter: drop-shadow(0px 1px 2px rgba(0, 0, 0, 0.3));\n",
              "      fill: #FFFFFF;\n",
              "    }\n",
              "  </style>\n",
              "\n",
              "    <script>\n",
              "      const buttonEl =\n",
              "        document.querySelector('#df-72414a0e-63ca-483f-951b-cdd5f9a65ca8 button.colab-df-convert');\n",
              "      buttonEl.style.display =\n",
              "        google.colab.kernel.accessAllowed ? 'block' : 'none';\n",
              "\n",
              "      async function convertToInteractive(key) {\n",
              "        const element = document.querySelector('#df-72414a0e-63ca-483f-951b-cdd5f9a65ca8');\n",
              "        const dataTable =\n",
              "          await google.colab.kernel.invokeFunction('convertToInteractive',\n",
              "                                                    [key], {});\n",
              "        if (!dataTable) return;\n",
              "\n",
              "        const docLinkHtml = 'Like what you see? Visit the ' +\n",
              "          '<a target=\"_blank\" href=https://colab.research.google.com/notebooks/data_table.ipynb>data table notebook</a>'\n",
              "          + ' to learn more about interactive tables.';\n",
              "        element.innerHTML = '';\n",
              "        dataTable['output_type'] = 'display_data';\n",
              "        await google.colab.output.renderOutput(dataTable, element);\n",
              "        const docLink = document.createElement('div');\n",
              "        docLink.innerHTML = docLinkHtml;\n",
              "        element.appendChild(docLink);\n",
              "      }\n",
              "    </script>\n",
              "  </div>\n",
              "\n",
              "\n",
              "<div id=\"df-656c887b-a115-489a-8f11-8531b0c0eced\">\n",
              "  <button class=\"colab-df-quickchart\" onclick=\"quickchart('df-656c887b-a115-489a-8f11-8531b0c0eced')\"\n",
              "            title=\"Suggest charts\"\n",
              "            style=\"display:none;\">\n",
              "\n",
              "<svg xmlns=\"http://www.w3.org/2000/svg\" height=\"24px\"viewBox=\"0 0 24 24\"\n",
              "     width=\"24px\">\n",
              "    <g>\n",
              "        <path d=\"M19 3H5c-1.1 0-2 .9-2 2v14c0 1.1.9 2 2 2h14c1.1 0 2-.9 2-2V5c0-1.1-.9-2-2-2zM9 17H7v-7h2v7zm4 0h-2V7h2v10zm4 0h-2v-4h2v4z\"/>\n",
              "    </g>\n",
              "</svg>\n",
              "  </button>\n",
              "\n",
              "<style>\n",
              "  .colab-df-quickchart {\n",
              "      --bg-color: #E8F0FE;\n",
              "      --fill-color: #1967D2;\n",
              "      --hover-bg-color: #E2EBFA;\n",
              "      --hover-fill-color: #174EA6;\n",
              "      --disabled-fill-color: #AAA;\n",
              "      --disabled-bg-color: #DDD;\n",
              "  }\n",
              "\n",
              "  [theme=dark] .colab-df-quickchart {\n",
              "      --bg-color: #3B4455;\n",
              "      --fill-color: #D2E3FC;\n",
              "      --hover-bg-color: #434B5C;\n",
              "      --hover-fill-color: #FFFFFF;\n",
              "      --disabled-bg-color: #3B4455;\n",
              "      --disabled-fill-color: #666;\n",
              "  }\n",
              "\n",
              "  .colab-df-quickchart {\n",
              "    background-color: var(--bg-color);\n",
              "    border: none;\n",
              "    border-radius: 50%;\n",
              "    cursor: pointer;\n",
              "    display: none;\n",
              "    fill: var(--fill-color);\n",
              "    height: 32px;\n",
              "    padding: 0;\n",
              "    width: 32px;\n",
              "  }\n",
              "\n",
              "  .colab-df-quickchart:hover {\n",
              "    background-color: var(--hover-bg-color);\n",
              "    box-shadow: 0 1px 2px rgba(60, 64, 67, 0.3), 0 1px 3px 1px rgba(60, 64, 67, 0.15);\n",
              "    fill: var(--button-hover-fill-color);\n",
              "  }\n",
              "\n",
              "  .colab-df-quickchart-complete:disabled,\n",
              "  .colab-df-quickchart-complete:disabled:hover {\n",
              "    background-color: var(--disabled-bg-color);\n",
              "    fill: var(--disabled-fill-color);\n",
              "    box-shadow: none;\n",
              "  }\n",
              "\n",
              "  .colab-df-spinner {\n",
              "    border: 2px solid var(--fill-color);\n",
              "    border-color: transparent;\n",
              "    border-bottom-color: var(--fill-color);\n",
              "    animation:\n",
              "      spin 1s steps(1) infinite;\n",
              "  }\n",
              "\n",
              "  @keyframes spin {\n",
              "    0% {\n",
              "      border-color: transparent;\n",
              "      border-bottom-color: var(--fill-color);\n",
              "      border-left-color: var(--fill-color);\n",
              "    }\n",
              "    20% {\n",
              "      border-color: transparent;\n",
              "      border-left-color: var(--fill-color);\n",
              "      border-top-color: var(--fill-color);\n",
              "    }\n",
              "    30% {\n",
              "      border-color: transparent;\n",
              "      border-left-color: var(--fill-color);\n",
              "      border-top-color: var(--fill-color);\n",
              "      border-right-color: var(--fill-color);\n",
              "    }\n",
              "    40% {\n",
              "      border-color: transparent;\n",
              "      border-right-color: var(--fill-color);\n",
              "      border-top-color: var(--fill-color);\n",
              "    }\n",
              "    60% {\n",
              "      border-color: transparent;\n",
              "      border-right-color: var(--fill-color);\n",
              "    }\n",
              "    80% {\n",
              "      border-color: transparent;\n",
              "      border-right-color: var(--fill-color);\n",
              "      border-bottom-color: var(--fill-color);\n",
              "    }\n",
              "    90% {\n",
              "      border-color: transparent;\n",
              "      border-bottom-color: var(--fill-color);\n",
              "    }\n",
              "  }\n",
              "</style>\n",
              "\n",
              "  <script>\n",
              "    async function quickchart(key) {\n",
              "      const quickchartButtonEl =\n",
              "        document.querySelector('#' + key + ' button');\n",
              "      quickchartButtonEl.disabled = true;  // To prevent multiple clicks.\n",
              "      quickchartButtonEl.classList.add('colab-df-spinner');\n",
              "      try {\n",
              "        const charts = await google.colab.kernel.invokeFunction(\n",
              "            'suggestCharts', [key], {});\n",
              "      } catch (error) {\n",
              "        console.error('Error during call to suggestCharts:', error);\n",
              "      }\n",
              "      quickchartButtonEl.classList.remove('colab-df-spinner');\n",
              "      quickchartButtonEl.classList.add('colab-df-quickchart-complete');\n",
              "    }\n",
              "    (() => {\n",
              "      let quickchartButtonEl =\n",
              "        document.querySelector('#df-656c887b-a115-489a-8f11-8531b0c0eced button');\n",
              "      quickchartButtonEl.style.display =\n",
              "        google.colab.kernel.accessAllowed ? 'block' : 'none';\n",
              "    })();\n",
              "  </script>\n",
              "</div>\n",
              "\n",
              "    </div>\n",
              "  </div>\n"
            ],
            "application/vnd.google.colaboratory.intrinsic+json": {
              "type": "dataframe",
              "summary": "{\n  \"name\": \"credit_df[credit_df[\\\"Balance_1500\\\"]==0]\",\n  \"rows\": 391,\n  \"fields\": [\n    {\n      \"column\": \"Income\",\n      \"properties\": {\n        \"dtype\": \"number\",\n        \"std\": 32.74251025797241,\n        \"min\": 10.354,\n        \"max\": 180.682,\n        \"num_unique_values\": 390,\n        \"samples\": [\n          71.061,\n          36.929,\n          20.15\n        ],\n        \"semantic_type\": \"\",\n        \"description\": \"\"\n      }\n    },\n    {\n      \"column\": \"Limit\",\n      \"properties\": {\n        \"dtype\": \"number\",\n        \"std\": 2126,\n        \"min\": 855,\n        \"max\": 11966,\n        \"num_unique_values\": 378,\n        \"samples\": [\n          3526,\n          10748,\n          3922\n        ],\n        \"semantic_type\": \"\",\n        \"description\": \"\"\n      }\n    },\n    {\n      \"column\": \"Rating\",\n      \"properties\": {\n        \"dtype\": \"number\",\n        \"std\": 142,\n        \"min\": 93,\n        \"max\": 832,\n        \"num_unique_values\": 274,\n        \"samples\": [\n          210,\n          321,\n          93\n        ],\n        \"semantic_type\": \"\",\n        \"description\": \"\"\n      }\n    },\n    {\n      \"column\": \"Cards\",\n      \"properties\": {\n        \"dtype\": \"number\",\n        \"std\": 1,\n        \"min\": 1,\n        \"max\": 9,\n        \"num_unique_values\": 9,\n        \"samples\": [\n          8,\n          3,\n          6\n        ],\n        \"semantic_type\": \"\",\n        \"description\": \"\"\n      }\n    },\n    {\n      \"column\": \"Age\",\n      \"properties\": {\n        \"dtype\": \"number\",\n        \"std\": 17,\n        \"min\": 23,\n        \"max\": 91,\n        \"num_unique_values\": 67,\n        \"samples\": [\n          81,\n          69,\n          68\n        ],\n        \"semantic_type\": \"\",\n        \"description\": \"\"\n      }\n    },\n    {\n      \"column\": \"Education\",\n      \"properties\": {\n        \"dtype\": \"number\",\n        \"std\": 3,\n        \"min\": 5,\n        \"max\": 20,\n        \"num_unique_values\": 16,\n        \"samples\": [\n          11,\n          15,\n          9\n        ],\n        \"semantic_type\": \"\",\n        \"description\": \"\"\n      }\n    },\n    {\n      \"column\": \"Balance\",\n      \"properties\": {\n        \"dtype\": \"number\",\n        \"std\": 428,\n        \"min\": 0,\n        \"max\": 1448,\n        \"num_unique_values\": 275,\n        \"samples\": [\n          531,\n          1411,\n          541\n        ],\n        \"semantic_type\": \"\",\n        \"description\": \"\"\n      }\n    },\n    {\n      \"column\": \"Balance_1500\",\n      \"properties\": {\n        \"dtype\": \"number\",\n        \"std\": 0,\n        \"min\": 0,\n        \"max\": 0,\n        \"num_unique_values\": 1,\n        \"samples\": [\n          0\n        ],\n        \"semantic_type\": \"\",\n        \"description\": \"\"\n      }\n    }\n  ]\n}"
            }
          },
          "metadata": {},
          "execution_count": 18
        }
      ]
    },
    {
      "cell_type": "code",
      "source": [
        "credit_df.head()"
      ],
      "metadata": {
        "colab": {
          "base_uri": "https://localhost:8080/",
          "height": 206
        },
        "id": "sGWqRPgB8ygb",
        "outputId": "fe09d7a2-fee3-443a-d709-8ebf1d35cd42"
      },
      "execution_count": 19,
      "outputs": [
        {
          "output_type": "execute_result",
          "data": {
            "text/plain": [
              "    Income  Limit  Rating  Cards  Age  Education  Balance  Balance_1500\n",
              "0   14.891   3606     283      2   34         11      333             0\n",
              "1  106.025   6645     483      3   82         15      903             0\n",
              "2  104.593   7075     514      4   71         11      580             0\n",
              "3  148.924   9504     681      3   36         11      964             0\n",
              "4   55.882   4897     357      2   68         16      331             0"
            ],
            "text/html": [
              "\n",
              "  <div id=\"df-29b12acf-e0ce-463e-acdf-9b6f26e61e0a\" class=\"colab-df-container\">\n",
              "    <div>\n",
              "<style scoped>\n",
              "    .dataframe tbody tr th:only-of-type {\n",
              "        vertical-align: middle;\n",
              "    }\n",
              "\n",
              "    .dataframe tbody tr th {\n",
              "        vertical-align: top;\n",
              "    }\n",
              "\n",
              "    .dataframe thead th {\n",
              "        text-align: right;\n",
              "    }\n",
              "</style>\n",
              "<table border=\"1\" class=\"dataframe\">\n",
              "  <thead>\n",
              "    <tr style=\"text-align: right;\">\n",
              "      <th></th>\n",
              "      <th>Income</th>\n",
              "      <th>Limit</th>\n",
              "      <th>Rating</th>\n",
              "      <th>Cards</th>\n",
              "      <th>Age</th>\n",
              "      <th>Education</th>\n",
              "      <th>Balance</th>\n",
              "      <th>Balance_1500</th>\n",
              "    </tr>\n",
              "  </thead>\n",
              "  <tbody>\n",
              "    <tr>\n",
              "      <th>0</th>\n",
              "      <td>14.891</td>\n",
              "      <td>3606</td>\n",
              "      <td>283</td>\n",
              "      <td>2</td>\n",
              "      <td>34</td>\n",
              "      <td>11</td>\n",
              "      <td>333</td>\n",
              "      <td>0</td>\n",
              "    </tr>\n",
              "    <tr>\n",
              "      <th>1</th>\n",
              "      <td>106.025</td>\n",
              "      <td>6645</td>\n",
              "      <td>483</td>\n",
              "      <td>3</td>\n",
              "      <td>82</td>\n",
              "      <td>15</td>\n",
              "      <td>903</td>\n",
              "      <td>0</td>\n",
              "    </tr>\n",
              "    <tr>\n",
              "      <th>2</th>\n",
              "      <td>104.593</td>\n",
              "      <td>7075</td>\n",
              "      <td>514</td>\n",
              "      <td>4</td>\n",
              "      <td>71</td>\n",
              "      <td>11</td>\n",
              "      <td>580</td>\n",
              "      <td>0</td>\n",
              "    </tr>\n",
              "    <tr>\n",
              "      <th>3</th>\n",
              "      <td>148.924</td>\n",
              "      <td>9504</td>\n",
              "      <td>681</td>\n",
              "      <td>3</td>\n",
              "      <td>36</td>\n",
              "      <td>11</td>\n",
              "      <td>964</td>\n",
              "      <td>0</td>\n",
              "    </tr>\n",
              "    <tr>\n",
              "      <th>4</th>\n",
              "      <td>55.882</td>\n",
              "      <td>4897</td>\n",
              "      <td>357</td>\n",
              "      <td>2</td>\n",
              "      <td>68</td>\n",
              "      <td>16</td>\n",
              "      <td>331</td>\n",
              "      <td>0</td>\n",
              "    </tr>\n",
              "  </tbody>\n",
              "</table>\n",
              "</div>\n",
              "    <div class=\"colab-df-buttons\">\n",
              "\n",
              "  <div class=\"colab-df-container\">\n",
              "    <button class=\"colab-df-convert\" onclick=\"convertToInteractive('df-29b12acf-e0ce-463e-acdf-9b6f26e61e0a')\"\n",
              "            title=\"Convert this dataframe to an interactive table.\"\n",
              "            style=\"display:none;\">\n",
              "\n",
              "  <svg xmlns=\"http://www.w3.org/2000/svg\" height=\"24px\" viewBox=\"0 -960 960 960\">\n",
              "    <path d=\"M120-120v-720h720v720H120Zm60-500h600v-160H180v160Zm220 220h160v-160H400v160Zm0 220h160v-160H400v160ZM180-400h160v-160H180v160Zm440 0h160v-160H620v160ZM180-180h160v-160H180v160Zm440 0h160v-160H620v160Z\"/>\n",
              "  </svg>\n",
              "    </button>\n",
              "\n",
              "  <style>\n",
              "    .colab-df-container {\n",
              "      display:flex;\n",
              "      gap: 12px;\n",
              "    }\n",
              "\n",
              "    .colab-df-convert {\n",
              "      background-color: #E8F0FE;\n",
              "      border: none;\n",
              "      border-radius: 50%;\n",
              "      cursor: pointer;\n",
              "      display: none;\n",
              "      fill: #1967D2;\n",
              "      height: 32px;\n",
              "      padding: 0 0 0 0;\n",
              "      width: 32px;\n",
              "    }\n",
              "\n",
              "    .colab-df-convert:hover {\n",
              "      background-color: #E2EBFA;\n",
              "      box-shadow: 0px 1px 2px rgba(60, 64, 67, 0.3), 0px 1px 3px 1px rgba(60, 64, 67, 0.15);\n",
              "      fill: #174EA6;\n",
              "    }\n",
              "\n",
              "    .colab-df-buttons div {\n",
              "      margin-bottom: 4px;\n",
              "    }\n",
              "\n",
              "    [theme=dark] .colab-df-convert {\n",
              "      background-color: #3B4455;\n",
              "      fill: #D2E3FC;\n",
              "    }\n",
              "\n",
              "    [theme=dark] .colab-df-convert:hover {\n",
              "      background-color: #434B5C;\n",
              "      box-shadow: 0px 1px 3px 1px rgba(0, 0, 0, 0.15);\n",
              "      filter: drop-shadow(0px 1px 2px rgba(0, 0, 0, 0.3));\n",
              "      fill: #FFFFFF;\n",
              "    }\n",
              "  </style>\n",
              "\n",
              "    <script>\n",
              "      const buttonEl =\n",
              "        document.querySelector('#df-29b12acf-e0ce-463e-acdf-9b6f26e61e0a button.colab-df-convert');\n",
              "      buttonEl.style.display =\n",
              "        google.colab.kernel.accessAllowed ? 'block' : 'none';\n",
              "\n",
              "      async function convertToInteractive(key) {\n",
              "        const element = document.querySelector('#df-29b12acf-e0ce-463e-acdf-9b6f26e61e0a');\n",
              "        const dataTable =\n",
              "          await google.colab.kernel.invokeFunction('convertToInteractive',\n",
              "                                                    [key], {});\n",
              "        if (!dataTable) return;\n",
              "\n",
              "        const docLinkHtml = 'Like what you see? Visit the ' +\n",
              "          '<a target=\"_blank\" href=https://colab.research.google.com/notebooks/data_table.ipynb>data table notebook</a>'\n",
              "          + ' to learn more about interactive tables.';\n",
              "        element.innerHTML = '';\n",
              "        dataTable['output_type'] = 'display_data';\n",
              "        await google.colab.output.renderOutput(dataTable, element);\n",
              "        const docLink = document.createElement('div');\n",
              "        docLink.innerHTML = docLinkHtml;\n",
              "        element.appendChild(docLink);\n",
              "      }\n",
              "    </script>\n",
              "  </div>\n",
              "\n",
              "\n",
              "<div id=\"df-77d36d6b-392f-4fbb-896a-2e33b50919c8\">\n",
              "  <button class=\"colab-df-quickchart\" onclick=\"quickchart('df-77d36d6b-392f-4fbb-896a-2e33b50919c8')\"\n",
              "            title=\"Suggest charts\"\n",
              "            style=\"display:none;\">\n",
              "\n",
              "<svg xmlns=\"http://www.w3.org/2000/svg\" height=\"24px\"viewBox=\"0 0 24 24\"\n",
              "     width=\"24px\">\n",
              "    <g>\n",
              "        <path d=\"M19 3H5c-1.1 0-2 .9-2 2v14c0 1.1.9 2 2 2h14c1.1 0 2-.9 2-2V5c0-1.1-.9-2-2-2zM9 17H7v-7h2v7zm4 0h-2V7h2v10zm4 0h-2v-4h2v4z\"/>\n",
              "    </g>\n",
              "</svg>\n",
              "  </button>\n",
              "\n",
              "<style>\n",
              "  .colab-df-quickchart {\n",
              "      --bg-color: #E8F0FE;\n",
              "      --fill-color: #1967D2;\n",
              "      --hover-bg-color: #E2EBFA;\n",
              "      --hover-fill-color: #174EA6;\n",
              "      --disabled-fill-color: #AAA;\n",
              "      --disabled-bg-color: #DDD;\n",
              "  }\n",
              "\n",
              "  [theme=dark] .colab-df-quickchart {\n",
              "      --bg-color: #3B4455;\n",
              "      --fill-color: #D2E3FC;\n",
              "      --hover-bg-color: #434B5C;\n",
              "      --hover-fill-color: #FFFFFF;\n",
              "      --disabled-bg-color: #3B4455;\n",
              "      --disabled-fill-color: #666;\n",
              "  }\n",
              "\n",
              "  .colab-df-quickchart {\n",
              "    background-color: var(--bg-color);\n",
              "    border: none;\n",
              "    border-radius: 50%;\n",
              "    cursor: pointer;\n",
              "    display: none;\n",
              "    fill: var(--fill-color);\n",
              "    height: 32px;\n",
              "    padding: 0;\n",
              "    width: 32px;\n",
              "  }\n",
              "\n",
              "  .colab-df-quickchart:hover {\n",
              "    background-color: var(--hover-bg-color);\n",
              "    box-shadow: 0 1px 2px rgba(60, 64, 67, 0.3), 0 1px 3px 1px rgba(60, 64, 67, 0.15);\n",
              "    fill: var(--button-hover-fill-color);\n",
              "  }\n",
              "\n",
              "  .colab-df-quickchart-complete:disabled,\n",
              "  .colab-df-quickchart-complete:disabled:hover {\n",
              "    background-color: var(--disabled-bg-color);\n",
              "    fill: var(--disabled-fill-color);\n",
              "    box-shadow: none;\n",
              "  }\n",
              "\n",
              "  .colab-df-spinner {\n",
              "    border: 2px solid var(--fill-color);\n",
              "    border-color: transparent;\n",
              "    border-bottom-color: var(--fill-color);\n",
              "    animation:\n",
              "      spin 1s steps(1) infinite;\n",
              "  }\n",
              "\n",
              "  @keyframes spin {\n",
              "    0% {\n",
              "      border-color: transparent;\n",
              "      border-bottom-color: var(--fill-color);\n",
              "      border-left-color: var(--fill-color);\n",
              "    }\n",
              "    20% {\n",
              "      border-color: transparent;\n",
              "      border-left-color: var(--fill-color);\n",
              "      border-top-color: var(--fill-color);\n",
              "    }\n",
              "    30% {\n",
              "      border-color: transparent;\n",
              "      border-left-color: var(--fill-color);\n",
              "      border-top-color: var(--fill-color);\n",
              "      border-right-color: var(--fill-color);\n",
              "    }\n",
              "    40% {\n",
              "      border-color: transparent;\n",
              "      border-right-color: var(--fill-color);\n",
              "      border-top-color: var(--fill-color);\n",
              "    }\n",
              "    60% {\n",
              "      border-color: transparent;\n",
              "      border-right-color: var(--fill-color);\n",
              "    }\n",
              "    80% {\n",
              "      border-color: transparent;\n",
              "      border-right-color: var(--fill-color);\n",
              "      border-bottom-color: var(--fill-color);\n",
              "    }\n",
              "    90% {\n",
              "      border-color: transparent;\n",
              "      border-bottom-color: var(--fill-color);\n",
              "    }\n",
              "  }\n",
              "</style>\n",
              "\n",
              "  <script>\n",
              "    async function quickchart(key) {\n",
              "      const quickchartButtonEl =\n",
              "        document.querySelector('#' + key + ' button');\n",
              "      quickchartButtonEl.disabled = true;  // To prevent multiple clicks.\n",
              "      quickchartButtonEl.classList.add('colab-df-spinner');\n",
              "      try {\n",
              "        const charts = await google.colab.kernel.invokeFunction(\n",
              "            'suggestCharts', [key], {});\n",
              "      } catch (error) {\n",
              "        console.error('Error during call to suggestCharts:', error);\n",
              "      }\n",
              "      quickchartButtonEl.classList.remove('colab-df-spinner');\n",
              "      quickchartButtonEl.classList.add('colab-df-quickchart-complete');\n",
              "    }\n",
              "    (() => {\n",
              "      let quickchartButtonEl =\n",
              "        document.querySelector('#df-77d36d6b-392f-4fbb-896a-2e33b50919c8 button');\n",
              "      quickchartButtonEl.style.display =\n",
              "        google.colab.kernel.accessAllowed ? 'block' : 'none';\n",
              "    })();\n",
              "  </script>\n",
              "</div>\n",
              "\n",
              "    </div>\n",
              "  </div>\n"
            ],
            "application/vnd.google.colaboratory.intrinsic+json": {
              "type": "dataframe",
              "variable_name": "credit_df",
              "summary": "{\n  \"name\": \"credit_df\",\n  \"rows\": 400,\n  \"fields\": [\n    {\n      \"column\": \"Income\",\n      \"properties\": {\n        \"dtype\": \"number\",\n        \"std\": 35.244273165070524,\n        \"min\": 10.354,\n        \"max\": 186.634,\n        \"num_unique_values\": 399,\n        \"samples\": [\n          27.349,\n          48.577,\n          31.367\n        ],\n        \"semantic_type\": \"\",\n        \"description\": \"\"\n      }\n    },\n    {\n      \"column\": \"Limit\",\n      \"properties\": {\n        \"dtype\": \"number\",\n        \"std\": 2308,\n        \"min\": 855,\n        \"max\": 13913,\n        \"num_unique_values\": 387,\n        \"samples\": [\n          3096,\n          1362,\n          6040\n        ],\n        \"semantic_type\": \"\",\n        \"description\": \"\"\n      }\n    },\n    {\n      \"column\": \"Rating\",\n      \"properties\": {\n        \"dtype\": \"number\",\n        \"std\": 154,\n        \"min\": 93,\n        \"max\": 982,\n        \"num_unique_values\": 283,\n        \"samples\": [\n          491,\n          329,\n          214\n        ],\n        \"semantic_type\": \"\",\n        \"description\": \"\"\n      }\n    },\n    {\n      \"column\": \"Cards\",\n      \"properties\": {\n        \"dtype\": \"number\",\n        \"std\": 1,\n        \"min\": 1,\n        \"max\": 9,\n        \"num_unique_values\": 9,\n        \"samples\": [\n          8,\n          3,\n          6\n        ],\n        \"semantic_type\": \"\",\n        \"description\": \"\"\n      }\n    },\n    {\n      \"column\": \"Age\",\n      \"properties\": {\n        \"dtype\": \"number\",\n        \"std\": 17,\n        \"min\": 23,\n        \"max\": 98,\n        \"num_unique_values\": 68,\n        \"samples\": [\n          52,\n          69,\n          68\n        ],\n        \"semantic_type\": \"\",\n        \"description\": \"\"\n      }\n    },\n    {\n      \"column\": \"Education\",\n      \"properties\": {\n        \"dtype\": \"number\",\n        \"std\": 3,\n        \"min\": 5,\n        \"max\": 20,\n        \"num_unique_values\": 16,\n        \"samples\": [\n          11,\n          15,\n          9\n        ],\n        \"semantic_type\": \"\",\n        \"description\": \"\"\n      }\n    },\n    {\n      \"column\": \"Balance\",\n      \"properties\": {\n        \"dtype\": \"number\",\n        \"std\": 459,\n        \"min\": 0,\n        \"max\": 1999,\n        \"num_unique_values\": 284,\n        \"samples\": [\n          1350,\n          1405,\n          52\n        ],\n        \"semantic_type\": \"\",\n        \"description\": \"\"\n      }\n    },\n    {\n      \"column\": \"Balance_1500\",\n      \"properties\": {\n        \"dtype\": \"number\",\n        \"std\": 0,\n        \"min\": 0,\n        \"max\": 1,\n        \"num_unique_values\": 2,\n        \"samples\": [\n          1,\n          0\n        ],\n        \"semantic_type\": \"\",\n        \"description\": \"\"\n      }\n    }\n  ]\n}"
            }
          },
          "metadata": {},
          "execution_count": 19
        }
      ]
    },
    {
      "cell_type": "markdown",
      "source": [
        "#### A.4.1. Model Balance_1500 by the explanatory variables Income, Limit, Rating, Cards, Age, Education using ***logistic regression***, ***linear discriminant***, and ***quadratic discriminant***"
      ],
      "metadata": {
        "id": "1N7BkChom4Og"
      }
    },
    {
      "cell_type": "code",
      "source": [
        "# prepare X (input/features),y(output/to be predicted), and X_pred labels to be used for prediction of probability as requested\n",
        "X = credit_df[['Income','Limit','Rating','Cards','Age','Education']]\n",
        "y = credit_df['Balance_1500']\n",
        "\n",
        "X_pred=[[63,8100,600,4,30,13],[186,13414,950,2,41,13]]\n",
        "\n",
        "print(\"X.shape: \", X.shape)\n",
        "print(\"y.shape: \", y.shape)\n",
        "print(\"X_pred.shape: \", np.array(X_pred).shape)"
      ],
      "metadata": {
        "colab": {
          "base_uri": "https://localhost:8080/"
        },
        "id": "pavIYanXQ4Hy",
        "outputId": "bf70da45-0ceb-4fdd-d8b1-d9002b8e63bd"
      },
      "execution_count": 20,
      "outputs": [
        {
          "output_type": "stream",
          "name": "stdout",
          "text": [
            "X.shape:  (400, 6)\n",
            "y.shape:  (400,)\n",
            "X_pred.shape:  (2, 6)\n"
          ]
        }
      ]
    },
    {
      "cell_type": "code",
      "source": [
        "# 1- using logistic regression,\n",
        "from sklearn.linear_model import LogisticRegression\n",
        "\n",
        "logreg = LogisticRegression() #solver = 'liblinear', multi_class=\"auto\"\n",
        "\n",
        "logreg.fit(X, y)\n",
        "\n",
        "print(\"logreg.intercept_ :\", logreg.intercept_)\n",
        "print(\"logreg.coef_ :\",logreg.coef_)"
      ],
      "metadata": {
        "id": "Rworh3DpnJGp",
        "colab": {
          "base_uri": "https://localhost:8080/",
          "height": 248
        },
        "outputId": "24ae6754-69f6-47ed-e087-8f987839f524"
      },
      "execution_count": 21,
      "outputs": [
        {
          "output_type": "stream",
          "name": "stderr",
          "text": [
            "/usr/local/lib/python3.10/dist-packages/sklearn/linear_model/_logistic.py:458: ConvergenceWarning: lbfgs failed to converge (status=1):\n",
            "STOP: TOTAL NO. of ITERATIONS REACHED LIMIT.\n",
            "\n",
            "Increase the number of iterations (max_iter) or scale the data as shown in:\n",
            "    https://scikit-learn.org/stable/modules/preprocessing.html\n",
            "Please also refer to the documentation for alternative solver options:\n",
            "    https://scikit-learn.org/stable/modules/linear_model.html#logistic-regression\n",
            "  n_iter_i = _check_optimize_result(\n"
          ]
        },
        {
          "output_type": "execute_result",
          "data": {
            "text/plain": [
              "LogisticRegression()"
            ],
            "text/html": [
              "<style>#sk-container-id-1 {color: black;background-color: white;}#sk-container-id-1 pre{padding: 0;}#sk-container-id-1 div.sk-toggleable {background-color: white;}#sk-container-id-1 label.sk-toggleable__label {cursor: pointer;display: block;width: 100%;margin-bottom: 0;padding: 0.3em;box-sizing: border-box;text-align: center;}#sk-container-id-1 label.sk-toggleable__label-arrow:before {content: \"▸\";float: left;margin-right: 0.25em;color: #696969;}#sk-container-id-1 label.sk-toggleable__label-arrow:hover:before {color: black;}#sk-container-id-1 div.sk-estimator:hover label.sk-toggleable__label-arrow:before {color: black;}#sk-container-id-1 div.sk-toggleable__content {max-height: 0;max-width: 0;overflow: hidden;text-align: left;background-color: #f0f8ff;}#sk-container-id-1 div.sk-toggleable__content pre {margin: 0.2em;color: black;border-radius: 0.25em;background-color: #f0f8ff;}#sk-container-id-1 input.sk-toggleable__control:checked~div.sk-toggleable__content {max-height: 200px;max-width: 100%;overflow: auto;}#sk-container-id-1 input.sk-toggleable__control:checked~label.sk-toggleable__label-arrow:before {content: \"▾\";}#sk-container-id-1 div.sk-estimator input.sk-toggleable__control:checked~label.sk-toggleable__label {background-color: #d4ebff;}#sk-container-id-1 div.sk-label input.sk-toggleable__control:checked~label.sk-toggleable__label {background-color: #d4ebff;}#sk-container-id-1 input.sk-hidden--visually {border: 0;clip: rect(1px 1px 1px 1px);clip: rect(1px, 1px, 1px, 1px);height: 1px;margin: -1px;overflow: hidden;padding: 0;position: absolute;width: 1px;}#sk-container-id-1 div.sk-estimator {font-family: monospace;background-color: #f0f8ff;border: 1px dotted black;border-radius: 0.25em;box-sizing: border-box;margin-bottom: 0.5em;}#sk-container-id-1 div.sk-estimator:hover {background-color: #d4ebff;}#sk-container-id-1 div.sk-parallel-item::after {content: \"\";width: 100%;border-bottom: 1px solid gray;flex-grow: 1;}#sk-container-id-1 div.sk-label:hover label.sk-toggleable__label {background-color: #d4ebff;}#sk-container-id-1 div.sk-serial::before {content: \"\";position: absolute;border-left: 1px solid gray;box-sizing: border-box;top: 0;bottom: 0;left: 50%;z-index: 0;}#sk-container-id-1 div.sk-serial {display: flex;flex-direction: column;align-items: center;background-color: white;padding-right: 0.2em;padding-left: 0.2em;position: relative;}#sk-container-id-1 div.sk-item {position: relative;z-index: 1;}#sk-container-id-1 div.sk-parallel {display: flex;align-items: stretch;justify-content: center;background-color: white;position: relative;}#sk-container-id-1 div.sk-item::before, #sk-container-id-1 div.sk-parallel-item::before {content: \"\";position: absolute;border-left: 1px solid gray;box-sizing: border-box;top: 0;bottom: 0;left: 50%;z-index: -1;}#sk-container-id-1 div.sk-parallel-item {display: flex;flex-direction: column;z-index: 1;position: relative;background-color: white;}#sk-container-id-1 div.sk-parallel-item:first-child::after {align-self: flex-end;width: 50%;}#sk-container-id-1 div.sk-parallel-item:last-child::after {align-self: flex-start;width: 50%;}#sk-container-id-1 div.sk-parallel-item:only-child::after {width: 0;}#sk-container-id-1 div.sk-dashed-wrapped {border: 1px dashed gray;margin: 0 0.4em 0.5em 0.4em;box-sizing: border-box;padding-bottom: 0.4em;background-color: white;}#sk-container-id-1 div.sk-label label {font-family: monospace;font-weight: bold;display: inline-block;line-height: 1.2em;}#sk-container-id-1 div.sk-label-container {text-align: center;}#sk-container-id-1 div.sk-container {/* jupyter's `normalize.less` sets `[hidden] { display: none; }` but bootstrap.min.css set `[hidden] { display: none !important; }` so we also need the `!important` here to be able to override the default hidden behavior on the sphinx rendered scikit-learn.org. See: https://github.com/scikit-learn/scikit-learn/issues/21755 */display: inline-block !important;position: relative;}#sk-container-id-1 div.sk-text-repr-fallback {display: none;}</style><div id=\"sk-container-id-1\" class=\"sk-top-container\"><div class=\"sk-text-repr-fallback\"><pre>LogisticRegression()</pre><b>In a Jupyter environment, please rerun this cell to show the HTML representation or trust the notebook. <br />On GitHub, the HTML representation is unable to render, please try loading this page with nbviewer.org.</b></div><div class=\"sk-container\" hidden><div class=\"sk-item\"><div class=\"sk-estimator sk-toggleable\"><input class=\"sk-toggleable__control sk-hidden--visually\" id=\"sk-estimator-id-1\" type=\"checkbox\" checked><label for=\"sk-estimator-id-1\" class=\"sk-toggleable__label sk-toggleable__label-arrow\">LogisticRegression</label><div class=\"sk-toggleable__content\"><pre>LogisticRegression()</pre></div></div></div></div></div>"
            ]
          },
          "metadata": {},
          "execution_count": 21
        },
        {
          "output_type": "stream",
          "name": "stdout",
          "text": [
            "logreg.intercept_ : [-0.47986794]\n",
            "logreg.coef_ : [[-0.00226872  0.00489371 -0.05896355  0.28953066 -0.06980691 -0.37412095]]\n"
          ]
        }
      ]
    },
    {
      "cell_type": "code",
      "source": [
        "# 2- using linear discriminant,\n",
        "from sklearn.discriminant_analysis import LinearDiscriminantAnalysis\n",
        "\n",
        "LnrDscAnl = LinearDiscriminantAnalysis()\n",
        "\n",
        "LnrDscAnl.fit(X, y)\n",
        "\n",
        "print(\"LnrDscAnl.intercept_ :\", LnrDscAnl.intercept_)\n",
        "print(\"LnrDscAnl.coef_ :\",LnrDscAnl.coef_)"
      ],
      "metadata": {
        "id": "abyt04mYnUuR",
        "colab": {
          "base_uri": "https://localhost:8080/",
          "height": 126
        },
        "outputId": "88260247-845a-4c7e-d8fb-8c7b91adef47"
      },
      "execution_count": 22,
      "outputs": [
        {
          "output_type": "execute_result",
          "data": {
            "text/plain": [
              "LinearDiscriminantAnalysis()"
            ],
            "text/html": [
              "<style>#sk-container-id-2 {color: black;background-color: white;}#sk-container-id-2 pre{padding: 0;}#sk-container-id-2 div.sk-toggleable {background-color: white;}#sk-container-id-2 label.sk-toggleable__label {cursor: pointer;display: block;width: 100%;margin-bottom: 0;padding: 0.3em;box-sizing: border-box;text-align: center;}#sk-container-id-2 label.sk-toggleable__label-arrow:before {content: \"▸\";float: left;margin-right: 0.25em;color: #696969;}#sk-container-id-2 label.sk-toggleable__label-arrow:hover:before {color: black;}#sk-container-id-2 div.sk-estimator:hover label.sk-toggleable__label-arrow:before {color: black;}#sk-container-id-2 div.sk-toggleable__content {max-height: 0;max-width: 0;overflow: hidden;text-align: left;background-color: #f0f8ff;}#sk-container-id-2 div.sk-toggleable__content pre {margin: 0.2em;color: black;border-radius: 0.25em;background-color: #f0f8ff;}#sk-container-id-2 input.sk-toggleable__control:checked~div.sk-toggleable__content {max-height: 200px;max-width: 100%;overflow: auto;}#sk-container-id-2 input.sk-toggleable__control:checked~label.sk-toggleable__label-arrow:before {content: \"▾\";}#sk-container-id-2 div.sk-estimator input.sk-toggleable__control:checked~label.sk-toggleable__label {background-color: #d4ebff;}#sk-container-id-2 div.sk-label input.sk-toggleable__control:checked~label.sk-toggleable__label {background-color: #d4ebff;}#sk-container-id-2 input.sk-hidden--visually {border: 0;clip: rect(1px 1px 1px 1px);clip: rect(1px, 1px, 1px, 1px);height: 1px;margin: -1px;overflow: hidden;padding: 0;position: absolute;width: 1px;}#sk-container-id-2 div.sk-estimator {font-family: monospace;background-color: #f0f8ff;border: 1px dotted black;border-radius: 0.25em;box-sizing: border-box;margin-bottom: 0.5em;}#sk-container-id-2 div.sk-estimator:hover {background-color: #d4ebff;}#sk-container-id-2 div.sk-parallel-item::after {content: \"\";width: 100%;border-bottom: 1px solid gray;flex-grow: 1;}#sk-container-id-2 div.sk-label:hover label.sk-toggleable__label {background-color: #d4ebff;}#sk-container-id-2 div.sk-serial::before {content: \"\";position: absolute;border-left: 1px solid gray;box-sizing: border-box;top: 0;bottom: 0;left: 50%;z-index: 0;}#sk-container-id-2 div.sk-serial {display: flex;flex-direction: column;align-items: center;background-color: white;padding-right: 0.2em;padding-left: 0.2em;position: relative;}#sk-container-id-2 div.sk-item {position: relative;z-index: 1;}#sk-container-id-2 div.sk-parallel {display: flex;align-items: stretch;justify-content: center;background-color: white;position: relative;}#sk-container-id-2 div.sk-item::before, #sk-container-id-2 div.sk-parallel-item::before {content: \"\";position: absolute;border-left: 1px solid gray;box-sizing: border-box;top: 0;bottom: 0;left: 50%;z-index: -1;}#sk-container-id-2 div.sk-parallel-item {display: flex;flex-direction: column;z-index: 1;position: relative;background-color: white;}#sk-container-id-2 div.sk-parallel-item:first-child::after {align-self: flex-end;width: 50%;}#sk-container-id-2 div.sk-parallel-item:last-child::after {align-self: flex-start;width: 50%;}#sk-container-id-2 div.sk-parallel-item:only-child::after {width: 0;}#sk-container-id-2 div.sk-dashed-wrapped {border: 1px dashed gray;margin: 0 0.4em 0.5em 0.4em;box-sizing: border-box;padding-bottom: 0.4em;background-color: white;}#sk-container-id-2 div.sk-label label {font-family: monospace;font-weight: bold;display: inline-block;line-height: 1.2em;}#sk-container-id-2 div.sk-label-container {text-align: center;}#sk-container-id-2 div.sk-container {/* jupyter's `normalize.less` sets `[hidden] { display: none; }` but bootstrap.min.css set `[hidden] { display: none !important; }` so we also need the `!important` here to be able to override the default hidden behavior on the sphinx rendered scikit-learn.org. See: https://github.com/scikit-learn/scikit-learn/issues/21755 */display: inline-block !important;position: relative;}#sk-container-id-2 div.sk-text-repr-fallback {display: none;}</style><div id=\"sk-container-id-2\" class=\"sk-top-container\"><div class=\"sk-text-repr-fallback\"><pre>LinearDiscriminantAnalysis()</pre><b>In a Jupyter environment, please rerun this cell to show the HTML representation or trust the notebook. <br />On GitHub, the HTML representation is unable to render, please try loading this page with nbviewer.org.</b></div><div class=\"sk-container\" hidden><div class=\"sk-item\"><div class=\"sk-estimator sk-toggleable\"><input class=\"sk-toggleable__control sk-hidden--visually\" id=\"sk-estimator-id-2\" type=\"checkbox\" checked><label for=\"sk-estimator-id-2\" class=\"sk-toggleable__label sk-toggleable__label-arrow\">LinearDiscriminantAnalysis</label><div class=\"sk-toggleable__content\"><pre>LinearDiscriminantAnalysis()</pre></div></div></div></div></div>"
            ]
          },
          "metadata": {},
          "execution_count": 22
        },
        {
          "output_type": "stream",
          "name": "stdout",
          "text": [
            "LnrDscAnl.intercept_ : [-14.25754044]\n",
            "LnrDscAnl.coef_ : [[ 2.50503328e-02 -2.46350024e-04  1.90771457e-02  2.92958512e-01\n",
            "  -1.61624107e-02 -1.68504978e-02]]\n"
          ]
        }
      ]
    },
    {
      "cell_type": "markdown",
      "source": [
        "#### A.4.3. Model Balance_1500 by the explanatory variables Income, Limit, Rating, Cards, Age, Education using ***quadratic discriminant***"
      ],
      "metadata": {
        "id": "HkPlVA5JnVIh"
      }
    },
    {
      "cell_type": "code",
      "source": [
        "# 3- using quadratic discriminant\n",
        "from sklearn.discriminant_analysis import QuadraticDiscriminantAnalysis\n",
        "\n",
        "QdrDscAnl = QuadraticDiscriminantAnalysis()\n",
        "\n",
        "QdrDscAnl.fit(X, y)"
      ],
      "metadata": {
        "id": "s_Y8lH1fnZSY",
        "colab": {
          "base_uri": "https://localhost:8080/",
          "height": 74
        },
        "outputId": "c1363d9e-f124-4475-bf8e-06c11c28db63"
      },
      "execution_count": 23,
      "outputs": [
        {
          "output_type": "execute_result",
          "data": {
            "text/plain": [
              "QuadraticDiscriminantAnalysis()"
            ],
            "text/html": [
              "<style>#sk-container-id-3 {color: black;background-color: white;}#sk-container-id-3 pre{padding: 0;}#sk-container-id-3 div.sk-toggleable {background-color: white;}#sk-container-id-3 label.sk-toggleable__label {cursor: pointer;display: block;width: 100%;margin-bottom: 0;padding: 0.3em;box-sizing: border-box;text-align: center;}#sk-container-id-3 label.sk-toggleable__label-arrow:before {content: \"▸\";float: left;margin-right: 0.25em;color: #696969;}#sk-container-id-3 label.sk-toggleable__label-arrow:hover:before {color: black;}#sk-container-id-3 div.sk-estimator:hover label.sk-toggleable__label-arrow:before {color: black;}#sk-container-id-3 div.sk-toggleable__content {max-height: 0;max-width: 0;overflow: hidden;text-align: left;background-color: #f0f8ff;}#sk-container-id-3 div.sk-toggleable__content pre {margin: 0.2em;color: black;border-radius: 0.25em;background-color: #f0f8ff;}#sk-container-id-3 input.sk-toggleable__control:checked~div.sk-toggleable__content {max-height: 200px;max-width: 100%;overflow: auto;}#sk-container-id-3 input.sk-toggleable__control:checked~label.sk-toggleable__label-arrow:before {content: \"▾\";}#sk-container-id-3 div.sk-estimator input.sk-toggleable__control:checked~label.sk-toggleable__label {background-color: #d4ebff;}#sk-container-id-3 div.sk-label input.sk-toggleable__control:checked~label.sk-toggleable__label {background-color: #d4ebff;}#sk-container-id-3 input.sk-hidden--visually {border: 0;clip: rect(1px 1px 1px 1px);clip: rect(1px, 1px, 1px, 1px);height: 1px;margin: -1px;overflow: hidden;padding: 0;position: absolute;width: 1px;}#sk-container-id-3 div.sk-estimator {font-family: monospace;background-color: #f0f8ff;border: 1px dotted black;border-radius: 0.25em;box-sizing: border-box;margin-bottom: 0.5em;}#sk-container-id-3 div.sk-estimator:hover {background-color: #d4ebff;}#sk-container-id-3 div.sk-parallel-item::after {content: \"\";width: 100%;border-bottom: 1px solid gray;flex-grow: 1;}#sk-container-id-3 div.sk-label:hover label.sk-toggleable__label {background-color: #d4ebff;}#sk-container-id-3 div.sk-serial::before {content: \"\";position: absolute;border-left: 1px solid gray;box-sizing: border-box;top: 0;bottom: 0;left: 50%;z-index: 0;}#sk-container-id-3 div.sk-serial {display: flex;flex-direction: column;align-items: center;background-color: white;padding-right: 0.2em;padding-left: 0.2em;position: relative;}#sk-container-id-3 div.sk-item {position: relative;z-index: 1;}#sk-container-id-3 div.sk-parallel {display: flex;align-items: stretch;justify-content: center;background-color: white;position: relative;}#sk-container-id-3 div.sk-item::before, #sk-container-id-3 div.sk-parallel-item::before {content: \"\";position: absolute;border-left: 1px solid gray;box-sizing: border-box;top: 0;bottom: 0;left: 50%;z-index: -1;}#sk-container-id-3 div.sk-parallel-item {display: flex;flex-direction: column;z-index: 1;position: relative;background-color: white;}#sk-container-id-3 div.sk-parallel-item:first-child::after {align-self: flex-end;width: 50%;}#sk-container-id-3 div.sk-parallel-item:last-child::after {align-self: flex-start;width: 50%;}#sk-container-id-3 div.sk-parallel-item:only-child::after {width: 0;}#sk-container-id-3 div.sk-dashed-wrapped {border: 1px dashed gray;margin: 0 0.4em 0.5em 0.4em;box-sizing: border-box;padding-bottom: 0.4em;background-color: white;}#sk-container-id-3 div.sk-label label {font-family: monospace;font-weight: bold;display: inline-block;line-height: 1.2em;}#sk-container-id-3 div.sk-label-container {text-align: center;}#sk-container-id-3 div.sk-container {/* jupyter's `normalize.less` sets `[hidden] { display: none; }` but bootstrap.min.css set `[hidden] { display: none !important; }` so we also need the `!important` here to be able to override the default hidden behavior on the sphinx rendered scikit-learn.org. See: https://github.com/scikit-learn/scikit-learn/issues/21755 */display: inline-block !important;position: relative;}#sk-container-id-3 div.sk-text-repr-fallback {display: none;}</style><div id=\"sk-container-id-3\" class=\"sk-top-container\"><div class=\"sk-text-repr-fallback\"><pre>QuadraticDiscriminantAnalysis()</pre><b>In a Jupyter environment, please rerun this cell to show the HTML representation or trust the notebook. <br />On GitHub, the HTML representation is unable to render, please try loading this page with nbviewer.org.</b></div><div class=\"sk-container\" hidden><div class=\"sk-item\"><div class=\"sk-estimator sk-toggleable\"><input class=\"sk-toggleable__control sk-hidden--visually\" id=\"sk-estimator-id-3\" type=\"checkbox\" checked><label for=\"sk-estimator-id-3\" class=\"sk-toggleable__label sk-toggleable__label-arrow\">QuadraticDiscriminantAnalysis</label><div class=\"sk-toggleable__content\"><pre>QuadraticDiscriminantAnalysis()</pre></div></div></div></div></div>"
            ]
          },
          "metadata": {},
          "execution_count": 23
        }
      ]
    },
    {
      "cell_type": "markdown",
      "source": [
        "#### A.5.1. Find the probability of (Balance  >1500 ), for the following values, using ***logistic regression***\n",
        "|    Income    |    Limit     |     Rating     |    Cards     |      Age        |   Education   |\n",
        "|--------------|--------------|----------------|--------------|-----------------|---------------|\n",
        "|      63      |    8100      |     600        |      4       |       30        |      13       |\n",
        "|     186      |    13414     |     950        |      2       |       41        |      13       |"
      ],
      "metadata": {
        "id": "dZECm6T9o6cX"
      }
    },
    {
      "cell_type": "code",
      "source": [
        "# using logistic regression\n",
        "y_pred_probs_logreg = logreg.predict_proba(X_pred)\n",
        "\n",
        "print(y_pred_probs_logreg.shape) # expected 2 by 2 array as it has prediction of probability =0 and =1 for each of\n",
        "# the two  given list of values\n",
        "print(y_pred_probs_logreg)\n",
        "print(y_pred_probs_logreg[:, 1])"
      ],
      "metadata": {
        "colab": {
          "base_uri": "https://localhost:8080/"
        },
        "id": "lO0NzClcC8-r",
        "outputId": "84e52ff1-9440-44ea-a1fe-1d1adb006856"
      },
      "execution_count": 24,
      "outputs": [
        {
          "output_type": "stream",
          "name": "stdout",
          "text": [
            "(2, 2)\n",
            "[[0.89674322 0.10325678]\n",
            " [0.17074154 0.82925846]]\n",
            "[0.10325678 0.82925846]\n"
          ]
        },
        {
          "output_type": "stream",
          "name": "stderr",
          "text": [
            "/usr/local/lib/python3.10/dist-packages/sklearn/base.py:439: UserWarning: X does not have valid feature names, but LogisticRegression was fitted with feature names\n",
            "  warnings.warn(\n"
          ]
        }
      ]
    },
    {
      "cell_type": "code",
      "source": [
        "print(\"Probability of (Balance >1500 ), for the given values, using logistic regression are as following:\")\n",
        "print(y_pred_probs_logreg[0, 1], \"for the first list of values and\",y_pred_probs_logreg[1, 1],\"for the second list of values\")"
      ],
      "metadata": {
        "colab": {
          "base_uri": "https://localhost:8080/"
        },
        "id": "61elv7jpjx3i",
        "outputId": "1dda09fe-b522-4f83-a705-53662432da3e"
      },
      "execution_count": 25,
      "outputs": [
        {
          "output_type": "stream",
          "name": "stdout",
          "text": [
            "Probability of (Balance >1500 ), for the given values, using logistic regression are as following:\n",
            "0.10325678157065321 for the first list of values and 0.8292584564672354 for the second list of values\n"
          ]
        }
      ]
    },
    {
      "cell_type": "markdown",
      "source": [
        "#### A.5.2. Find the probability of (Balance  >1500 ), for the following values, using ***linear discriminant***\n",
        "|    Income    |    Limit     |     Rating     |    Cards     |      Age        |   Education   |\n",
        "|--------------|--------------|----------------|--------------|-----------------|---------------|\n",
        "|      63      |    8100      |     600        |      4       |       30        |      13       |\n",
        "|     186      |    13414     |     950        |      2       |       41        |      13       |"
      ],
      "metadata": {
        "id": "A-qa7sxyo7i-"
      }
    },
    {
      "cell_type": "code",
      "source": [
        "#X_pred=[[63,8100,600,4,30,13],[186,13414,950,2,41,13]]\n",
        "\n",
        "y_pred_probs_LnrDscAnl = LnrDscAnl.predict_proba(X_pred)\n",
        "\n",
        "print(y_pred_probs_LnrDscAnl.shape) # expected 2 by 2 array as it has prediction of probability =0 and =1 for both list of values given\n",
        "print(y_pred_probs_LnrDscAnl)\n",
        "print(y_pred_probs_LnrDscAnl[:, 1])\n",
        "\n",
        "print(\"Probability of (Balance >1500 ), for the given values, using logistic regression are as following:\")\n",
        "print(y_pred_probs_LnrDscAnl[0, 1], \"for the first list of values and\",y_pred_probs_LnrDscAnl[1, 1],\"for the second list of values\")"
      ],
      "metadata": {
        "id": "Aocjx5vbo7Rf",
        "colab": {
          "base_uri": "https://localhost:8080/"
        },
        "outputId": "5895e6d3-8e0a-4694-99fe-095749633550"
      },
      "execution_count": 26,
      "outputs": [
        {
          "output_type": "stream",
          "name": "stdout",
          "text": [
            "(2, 2)\n",
            "[[0.94050988 0.05949012]\n",
            " [0.00721199 0.99278801]]\n",
            "[0.05949012 0.99278801]\n",
            "Probability of (Balance >1500 ), for the given values, using logistic regression are as following:\n",
            "0.05949011519242823 for the first list of values and 0.9927880109254117 for the second list of values\n"
          ]
        },
        {
          "output_type": "stream",
          "name": "stderr",
          "text": [
            "/usr/local/lib/python3.10/dist-packages/sklearn/base.py:439: UserWarning: X does not have valid feature names, but LinearDiscriminantAnalysis was fitted with feature names\n",
            "  warnings.warn(\n"
          ]
        }
      ]
    },
    {
      "cell_type": "markdown",
      "source": [
        "#### A.5.3. Find the probability of (Balance  >1500 ), for the following values, using ***quadratic discriminant***\n",
        "|    Income    |    Limit     |     Rating     |    Cards     |      Age        |   Education   |\n",
        "|--------------|--------------|----------------|--------------|-----------------|---------------|\n",
        "|      63      |    8100      |     600        |      4       |       30        |      13       |\n",
        "|     186      |    13414     |     950        |      2       |       41        |      13       |"
      ],
      "metadata": {
        "id": "PAx5wjAso8j3"
      }
    },
    {
      "cell_type": "code",
      "source": [
        "#X_pred=[[63,8100,600,4,30,13],[186,13414,950,2,41,13]]\n",
        "\n",
        "y_pred_probs_QdrDscAnl = QdrDscAnl.predict_proba(X_pred)\n",
        "\n",
        "print(y_pred_probs_QdrDscAnl.shape) # expected 2 by 2 array as it has prediction of probability =0 and =1 for both list of values given\n",
        "print(y_pred_probs_QdrDscAnl)\n",
        "print(y_pred_probs_QdrDscAnl[:, 1])\n",
        "\n",
        "print(\"Probability of (Balance >1500 ), for the given values, using logistic regression are as following:\")\n",
        "print(y_pred_probs_QdrDscAnl[0, 1], \"for the first list of values and\",y_pred_probs_QdrDscAnl[1, 1],\"for the second list of values\")"
      ],
      "metadata": {
        "id": "TsWtshxIo9tI",
        "colab": {
          "base_uri": "https://localhost:8080/"
        },
        "outputId": "3d5744c5-7b62-4f4f-bee9-885975b5100b"
      },
      "execution_count": 27,
      "outputs": [
        {
          "output_type": "stream",
          "name": "stdout",
          "text": [
            "(2, 2)\n",
            "[[9.99999995e-01 4.93626009e-09]\n",
            " [7.83057752e-04 9.99216942e-01]]\n",
            "[4.93626009e-09 9.99216942e-01]\n",
            "Probability of (Balance >1500 ), for the given values, using logistic regression are as following:\n",
            "4.9362600942105824e-09 for the first list of values and 0.9992169422475801 for the second list of values\n"
          ]
        },
        {
          "output_type": "stream",
          "name": "stderr",
          "text": [
            "/usr/local/lib/python3.10/dist-packages/sklearn/base.py:439: UserWarning: X does not have valid feature names, but QuadraticDiscriminantAnalysis was fitted with feature names\n",
            "  warnings.warn(\n"
          ]
        }
      ]
    },
    {
      "cell_type": "code",
      "source": [
        "print('* Probability of (Balance > 1500 ) for the [Income,Limit,Rating,Cards,Age,Education]=',X_pred[0])\n",
        "print(\"1- In case of logistic regression is \",y_pred_probs_logreg[0, 1])\n",
        "print(\"2- In case of linear discriminant is \",y_pred_probs_LnrDscAnl[0, 1])\n",
        "print(\"3- In case of quadratic discriminant is \",y_pred_probs_QdrDscAnl[0, 1])\n",
        "print(\"***********************************************************************************************************\")\n",
        "print('* Probability of (Balance > 1500 ) for the [Income,Limit,Rating,Cards,Age,Education]=',X_pred[1])\n",
        "print(\"1- In case of logistic regression is \",y_pred_probs_logreg[1, 1])\n",
        "print(\"2- In case of linear discriminant is \",y_pred_probs_LnrDscAnl[1, 1])\n",
        "print(\"3- In case of quadratic discriminant is \",y_pred_probs_QdrDscAnl[1, 1])"
      ],
      "metadata": {
        "colab": {
          "base_uri": "https://localhost:8080/"
        },
        "id": "rSG0VcCWWH0T",
        "outputId": "7a4060dc-5810-4d78-de4f-c77799869727"
      },
      "execution_count": 28,
      "outputs": [
        {
          "output_type": "stream",
          "name": "stdout",
          "text": [
            "* Probability of (Balance > 1500 ) for the [Income,Limit,Rating,Cards,Age,Education]= [63, 8100, 600, 4, 30, 13]\n",
            "1- In case of logistic regression is  0.10325678157065321\n",
            "2- In case of linear discriminant is  0.05949011519242823\n",
            "3- In case of quadratic discriminant is  4.9362600942105824e-09\n",
            "***********************************************************************************************************\n",
            "* Probability of (Balance > 1500 ) for the [Income,Limit,Rating,Cards,Age,Education]= [186, 13414, 950, 2, 41, 13]\n",
            "1- In case of logistic regression is  0.8292584564672354\n",
            "2- In case of linear discriminant is  0.9927880109254117\n",
            "3- In case of quadratic discriminant is  0.9992169422475801\n"
          ]
        }
      ]
    },
    {
      "cell_type": "markdown",
      "source": [
        "#### A.5.4. Compare the probabilities and comment."
      ],
      "metadata": {
        "id": "THHydBybpR-g"
      }
    },
    {
      "cell_type": "markdown",
      "source": [
        "1- Using the three models low value for the probability is predicted for the first set of values of [Income,Limit,Rating,Cards,Age,Education] = [63, 8100, 600, 4, 30, 13].\n",
        "\n",
        "2- Using the three models high value for the probability is predicted for the first set of values of [Income,Limit,Rating,Cards,Age,Education] = [186,13414,950,2,41,13].\n",
        "\n",
        "3- This agrees with the strong correlation between \"Balance and Limit\" and between \"Balance and Rating\" - as higher balance and rating are in the 2nd set of values so it is expected to have the higher probability prediction for the models with higher balance\n",
        "\n",
        "4- **For the first set of values [63, 8100, 600, 4, 30, 13]** : Prediction of the Probability given by  the ***quadratic discriminant*** model  is very low (the lowest) compared to the other two models. ***logistic regression*** model gives (the highest probability) compared to the other two models.\n",
        "\n",
        "5- **For the second set of values [186, 13414, 950, 2, 41, 13]** : Prediction of the Probability given by  the ***quadratic discriminant*** model is (the highest) compared to the other two models and it is slighly higher than the prediction given by the **linear discriminant** model. ***logistic regression*** model gives the (the lowest probability) compared to the other two models.\n",
        "\n",
        "=> Also above results agrees with below screenshots from the data in ***Credit.csv***  [Data for features/columns that have strong positive relationship are highlighted in green]\n",
        "![image.png](data:image/png;base64,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)"
      ],
      "metadata": {
        "id": "MWG3CfpzXdBM"
      }
    },
    {
      "cell_type": "markdown",
      "source": [
        "#### A.6.1. For ***logistic regression***, print the confusion matrix, the accuracy score and the AUC using all observations."
      ],
      "metadata": {
        "id": "uz_pXX83pbIK"
      }
    },
    {
      "cell_type": "code",
      "source": [
        "#from sklearn import metrics\n",
        "from sklearn.metrics import confusion_matrix, classification_report, roc_auc_score\n",
        "\n",
        "print(\"*** For logistic regression ***\")\n",
        "\n",
        "y_pred_log = logreg.predict(X)\n",
        "conf_matrix_logreg = confusion_matrix(y, y_pred_log)\n",
        "print(\"* conf_matrix_logreg: \")\n",
        "print(conf_matrix_logreg)\n",
        "\n",
        "print(\"\\n* accuracy_score_logreg: \")\n",
        "print(np.trace(conf_matrix_logreg)/np.sum(conf_matrix_logreg))\n",
        "\n",
        "classification_report_logreg = classification_report(y, y_pred_log)\n",
        "print(\"\\n* classification_report_logreg: \")\n",
        "print(classification_report_logreg)\n",
        "\n",
        "print(\"\\n* roc_auc_score :\")\n",
        "y_pred_proba_all_log = logreg.predict_proba(X)[:,1]\n",
        "print(roc_auc_score(y, y_pred_proba_all_log))"
      ],
      "metadata": {
        "id": "-wS0dtNcqRG7",
        "colab": {
          "base_uri": "https://localhost:8080/"
        },
        "outputId": "ee9987c7-7ff9-46c7-a286-8756259ca572"
      },
      "execution_count": 29,
      "outputs": [
        {
          "output_type": "stream",
          "name": "stdout",
          "text": [
            "*** For logistic regression ***\n",
            "* conf_matrix_logreg: \n",
            "[[390   1]\n",
            " [  6   3]]\n",
            "\n",
            "* accuracy_score_logreg: \n",
            "0.9825\n",
            "\n",
            "* classification_report_logreg: \n",
            "              precision    recall  f1-score   support\n",
            "\n",
            "           0       0.98      1.00      0.99       391\n",
            "           1       0.75      0.33      0.46         9\n",
            "\n",
            "    accuracy                           0.98       400\n",
            "   macro avg       0.87      0.67      0.73       400\n",
            "weighted avg       0.98      0.98      0.98       400\n",
            "\n",
            "\n",
            "* roc_auc_score :\n",
            "0.9369138959931799\n"
          ]
        }
      ]
    },
    {
      "cell_type": "markdown",
      "source": [
        "#### A.6.2. For ***linear discriminant***, print the confusion matrix, the accuracy score and the AUC using all observations."
      ],
      "metadata": {
        "id": "0fzHZhLoqRdb"
      }
    },
    {
      "cell_type": "code",
      "source": [
        "print(\"*** For linear discriminant ***\")\n",
        "\n",
        "y_pred_lnrdsc = LnrDscAnl.predict(X)\n",
        "conf_matrix_lnrdsc = confusion_matrix(y, y_pred_lnrdsc)\n",
        "print(\"* conf_matrix_lnrdsc: \")\n",
        "print(conf_matrix_lnrdsc)\n",
        "\n",
        "print(\"\\n * accuracy_score_lnrdsc: \")\n",
        "print(np.trace(conf_matrix_lnrdsc)/np.sum(conf_matrix_lnrdsc))\n",
        "\n",
        "classification_report_lnrdsc = classification_report(y, y_pred_lnrdsc)\n",
        "print(\"\\n * classification_report_lnrdsc: \")\n",
        "print(classification_report_lnrdsc)\n",
        "\n",
        "print(\"\\n* roc_auc_score :\")\n",
        "y_pred_proba_all_lnrDsc = LnrDscAnl.predict_proba(X)[:,1]\n",
        "print(roc_auc_score(y, y_pred_proba_all_lnrDsc))"
      ],
      "metadata": {
        "id": "D1wzx1SuqSCz",
        "colab": {
          "base_uri": "https://localhost:8080/"
        },
        "outputId": "42eb8c20-a174-498b-cbb3-1df8f3830fe2"
      },
      "execution_count": 30,
      "outputs": [
        {
          "output_type": "stream",
          "name": "stdout",
          "text": [
            "*** For linear discriminant ***\n",
            "* conf_matrix_lnrdsc: \n",
            "[[383   8]\n",
            " [  4   5]]\n",
            "\n",
            " * accuracy_score_lnrdsc: \n",
            "0.97\n",
            "\n",
            " * classification_report_lnrdsc: \n",
            "              precision    recall  f1-score   support\n",
            "\n",
            "           0       0.99      0.98      0.98       391\n",
            "           1       0.38      0.56      0.45         9\n",
            "\n",
            "    accuracy                           0.97       400\n",
            "   macro avg       0.69      0.77      0.72       400\n",
            "weighted avg       0.98      0.97      0.97       400\n",
            "\n",
            "\n",
            "* roc_auc_score :\n",
            "0.9516908212560387\n"
          ]
        }
      ]
    },
    {
      "cell_type": "markdown",
      "source": [
        "#### A.6.3. For ***quadratic discriminant***, print the confusion matrix, the accuracy score and the AUC using all observations."
      ],
      "metadata": {
        "id": "6wkOSpOcqoEn"
      }
    },
    {
      "cell_type": "code",
      "source": [
        "print(\"*** For quadratic discriminant ***\")\n",
        "\n",
        "y_pred_qdrdsc = QdrDscAnl.predict(X)\n",
        "conf_matrix_qdrdsc = confusion_matrix(y, y_pred_qdrdsc)\n",
        "print(\"* conf_matrix_qdrdsc: \")\n",
        "print(conf_matrix_qdrdsc)\n",
        "\n",
        "print(\"\\n *accuracy_score_qdrdsc: \")\n",
        "print(np.trace(conf_matrix_qdrdsc)/np.sum(conf_matrix_qdrdsc))\n",
        "\n",
        "classification_report_qdrdsc = classification_report(y, y_pred_qdrdsc)\n",
        "print(\"\\n *classification_report_qdrdsc: \")\n",
        "print(classification_report_qdrdsc)\n",
        "\n",
        "print(\"\\n* roc_auc_score :\")\n",
        "y_pred_proba_all_qdrdsc = QdrDscAnl.predict_proba(X)[:,1]\n",
        "print(roc_auc_score(y, y_pred_proba_all_qdrdsc))"
      ],
      "metadata": {
        "id": "U2B02vpVqnQw",
        "colab": {
          "base_uri": "https://localhost:8080/"
        },
        "outputId": "cda6c5ca-e8e7-42a9-ddc7-a8cdba2dba0f"
      },
      "execution_count": 31,
      "outputs": [
        {
          "output_type": "stream",
          "name": "stdout",
          "text": [
            "*** For quadratic discriminant ***\n",
            "* conf_matrix_qdrdsc: \n",
            "[[390   1]\n",
            " [  2   7]]\n",
            "\n",
            " *accuracy_score_qdrdsc: \n",
            "0.9925\n",
            "\n",
            " *classification_report_qdrdsc: \n",
            "              precision    recall  f1-score   support\n",
            "\n",
            "           0       0.99      1.00      1.00       391\n",
            "           1       0.88      0.78      0.82         9\n",
            "\n",
            "    accuracy                           0.99       400\n",
            "   macro avg       0.93      0.89      0.91       400\n",
            "weighted avg       0.99      0.99      0.99       400\n",
            "\n",
            "\n",
            "* roc_auc_score :\n",
            "0.9948849104859335\n"
          ]
        }
      ]
    },
    {
      "cell_type": "markdown",
      "source": [
        "#### A.6.4. Compare these metrics and comment."
      ],
      "metadata": {
        "id": "yS76vOnPqSfj"
      }
    },
    {
      "cell_type": "markdown",
      "source": [
        "1- Above values for the confusion matrix and accuracy score in the above results show that  The ***quadratic discriminant model*** has highest accuarcy=0.9925 and best f1-score=1.00 for class 0 (Balance <= 1500) and best f1-score=0.82 for class 1 (Balance > 1500).\n",
        "\n",
        "\n",
        "2- Also, ***quadratic discriminant model*** has the highest AUC (0.995), which indicates that it is the best model at correctly classifying observations into categories (Balance <= 1500) and (Balance > 1500)."
      ],
      "metadata": {
        "id": "yS9lsV2XGSmy"
      }
    },
    {
      "cell_type": "markdown",
      "source": [
        "==============================================================================================================\n",
        "\n",
        "==============================================================================================================\n",
        "\n",
        "==============================================================================================================\n",
        "\n",
        "==============================================================================================================\n",
        "\n",
        "=============================================================================================================="
      ],
      "metadata": {
        "id": "wXaaXMetqxTH"
      }
    },
    {
      "cell_type": "markdown",
      "metadata": {
        "id": "5KzgIsCdn_ux"
      },
      "source": [
        "## **Part B** <font color=\"blue\">(8 points)</font>\n",
        "\n",
        "Donwload  `ziptrain.csv` and `ziptest.csv` datasets from  **Athena/Content/Data**. Save them and upload them here as **two separate datasets** and name them `ziptrain` and `ziptest`, respectively. Explore the data in order to understand it.\n",
        "\n",
        "  1. **<font color=\"blue\">(1 point)</font>** From `ziptrain` dataset select only the rows corresponding to digits $2$ and $7$ and save them in a new dataset called `binar_train`. Do the same thing in `ziptest` and call it `binar_test`.\n",
        "  2. **<font color=\"blue\">(1 point)</font>** Project `binar_train` onto the first **two principal components** and make a scatterplot of the data in the new space (two-dimensional space spanned by the frist two PCs). Use a different color (or marker) for each digit. Based on the plot do you think that these two digits can be separated well using only two PCs? Explain.\n",
        "  3. **<font color=\"blue\">(1 point)</font>** Fit a **logistic regression**, in the new space, to separate digits $2$ and $7$.\n",
        "  4. **<font color=\"blue\">(1 point)</font>** Evaluate the trainded model on `binar_test` using **accuracy**, and an **appropriate F-measure**.\n",
        "  5. **<font color=\"blue\">(0.5 points)</font>** Build and print a confusion matrix for your predictions.\n",
        "\n",
        "For the rest of the questions use the **whole training data**, i.e., `ziptrain` (**not** `binar_train`).\n",
        "\n",
        "  6. **<font color=\"blue\">(1 point)</font>** Project the whole data onto the first $m=2, 3, 4, 5$ principal components (one $m$ at a time).\n",
        "  7. **<font color=\"blue\">(1.5 points)</font>** For each $m$, and using **$5$-fold cross-validation**, train a **linear discriminant** classifier on `ziptrain`.\n",
        "  8. **<font color=\"blue\">(1 point)</font>** Based on **cross-validated accuracy**, select the best number of principal components $m$.\n"
      ]
    },
    {
      "cell_type": "markdown",
      "source": [
        "#### B.0.1 Donwload  `ziptrain.csv` and `ziptest.csv` datasets from  **Athena/Content/Data**. Save them and upload them here as **two separate datasets** and name them `ziptrain` and `ziptest`, respectively."
      ],
      "metadata": {
        "id": "OmSl6HS9xEbv"
      }
    },
    {
      "cell_type": "code",
      "source": [
        "ziptrain = pd.read_csv(filepath_or_buffer=r'ziptrain.csv')\n",
        "ziptest = pd.read_csv(filepath_or_buffer=r'ziptest.csv')"
      ],
      "metadata": {
        "id": "gMspOOU-hPa8"
      },
      "execution_count": 32,
      "outputs": []
    },
    {
      "cell_type": "markdown",
      "source": [
        "#### B.0.2. Explore the data in order to understand it."
      ],
      "metadata": {
        "id": "FcQxraWXx9pX"
      }
    },
    {
      "cell_type": "code",
      "source": [
        "ziptrain.head()"
      ],
      "metadata": {
        "colab": {
          "base_uri": "https://localhost:8080/",
          "height": 431
        },
        "id": "VoH8NXYaiOtX",
        "outputId": "6050dc46-66f3-40a8-95a1-7bbae9377bb4"
      },
      "execution_count": 33,
      "outputs": [
        {
          "output_type": "execute_result",
          "data": {
            "text/plain": [
              "  6.0000 -1.0000 -1.0000 -1.0000 -1.0000 -1.0000 -1.0000 -1.0000 -0.6310 0.8620 -0.1670 -1.0000 -1.0000 -1.0000 -1.0000 -1.0000 -1.0000 -1.0000 -1.0000 -1.0000 -1.0000 -1.0000 -1.0000 -0.9920 0.2970 1.0000 0.3070 -1.0000 -1.0000 -1.0000 -1.0000 -1.0000 -1.0000 -1.0000 -1.0000 -1.0000 -1.0000 -1.0000 -1.0000 -0.4100 1.0000 0.9860 -0.5650 -1.0000 -1.0000 -1.0000 -1.0000 -1.0000 -1.0000 -1.0000 -1.0000 -1.0000 -1.0000 -1.0000 -0.6830 0.8250 1.0000 0.5620 -1.0000 -1.0000 -1.0000 -1.0000 -1.0000 -1.0000 -1.0000 -1.0000 -1.0000 -1.0000 -1.0000 -0.9380 0.5400 1.0000 0.7780 -0.7150 -1.0000 -1.0000 -1.0000 -1.0000 -1.0000 -1.0000 -1.0000 -1.0000 -1.0000 -1.0000 -1.0000 0.1000 1.0000 0.9220 -0.4390 -1.0000 -1.0000 -1.0000 -1.0000 -1.0000 -1.0000 -1.0000 -1.0000 -1.0000 -1.0000 -1.0000 -0.2570 0.9500 1.0000 -0.1620 -1.0000 -1.0000 -1.0000 -0.9870 -0.7140 -0.8320 -1.0000 -1.0000 -1.0000 -1.0000 -1.0000 -0.7970 0.9090 1.0000 0.3000 -0.9610 -1.0000 -1.0000 -0.5500 0.4850 0.9960 0.8670 0.0920 -1.0000 -1.0000 -1.0000 -1.0000 0.2780 1.0000 0.8770 -0.8240 -1.0000 -0.9050 0.1450 0.9770 1.0000 1.0000 1.0000 0.9900 -0.7450 -1.0000 -1.0000 -0.9500 0.8470 1.0000 0.3270 -1.0000 -1.0000 0.3550 1.0000 0.6550 -0.1090 -0.1850 1.0000 0.9880 -0.7230 -1.0000 -1.0000 -0.6300 1.0000 1.0000 0.0680 -0.9250 0.1130 0.9600 0.3080 -0.8840 -1.0000 -0.0750 1.0000 0.6410 -0.9950 -1.0000 -1.0000 -0.6770 1.0000 1.0000 0.7530 0.3410 1.0000 0.7070 -0.9420 -1.0000 -1.0000 0.5450 1.0000 0.0270 -1.0000 -1.0000 -1.0000 -0.9030 0.7920 1.0000 1.0000 1.0000 1.0000 0.5360 0.1840 0.8120 0.8370 0.9780 0.8640 -0.6300 -1.0000 -1.0000 -1.0000 -1.0000 -0.4520 0.8280 1.0000 1.0000 1.0000 1.0000 1.0000 1.0000 1.0000 1.0000 0.1350 -1.0000 -1.0000 -1.0000 -1.0000 -1.0000 -1.0000 -0.4830 0.8130 1.0000 1.0000 1.0000 1.0000 1.0000 1.0000 0.2190 -0.9430 -1.0000 -1.0000 -1.0000 -1.0000 -1.0000 -1.0000 -1.0000 -0.9740 -0.4290 0.3040 0.8230 1.0000 0.4820 -0.4740 -0.9910 -1.0000 -1.0000 -1.0000 -1.0000 \n",
              "0  5.0000 -1.0000 -1.0000 -1.0000 -0.8130 -0.6710...                                                                                                                                                                                                                                                                                                                                                                                                                                                                                                                                                                                                                                                                                                                                                                                                                                                                                                                                                                                                                                                                                                                                                                                                                                                                                                                                                                                                                                                                                                                                                                                                                                                                                                                                                                                                                                                                                                                                                                                          \n",
              "1  4.0000 -1.0000 -1.0000 -1.0000 -1.0000 -1.0000...                                                                                                                                                                                                                                                                                                                                                                                                                                                                                                                                                                                                                                                                                                                                                                                                                                                                                                                                                                                                                                                                                                                                                                                                                                                                                                                                                                                                                                                                                                                                                                                                                                                                                                                                                                                                                                                                                                                                                                                          \n",
              "2  7.0000 -1.0000 -1.0000 -1.0000 -1.0000 -1.0000...                                                                                                                                                                                                                                                                                                                                                                                                                                                                                                                                                                                                                                                                                                                                                                                                                                                                                                                                                                                                                                                                                                                                                                                                                                                                                                                                                                                                                                                                                                                                                                                                                                                                                                                                                                                                                                                                                                                                                                                          \n",
              "3  3.0000 -1.0000 -1.0000 -1.0000 -1.0000 -1.0000...                                                                                                                                                                                                                                                                                                                                                                                                                                                                                                                                                                                                                                                                                                                                                                                                                                                                                                                                                                                                                                                                                                                                                                                                                                                                                                                                                                                                                                                                                                                                                                                                                                                                                                                                                                                                                                                                                                                                                                                          \n",
              "4  6.0000 -1.0000 -1.0000 -1.0000 -1.0000 -1.0000...                                                                                                                                                                                                                                                                                                                                                                                                                                                                                                                                                                                                                                                                                                                                                                                                                                                                                                                                                                                                                                                                                                                                                                                                                                                                                                                                                                                                                                                                                                                                                                                                                                                                                                                                                                                                                                                                                                                                                                                          "
            ],
            "text/html": [
              "\n",
              "  <div id=\"df-b5dfdacb-9cd0-4cdc-a7d9-7fe1fe03a6b3\" class=\"colab-df-container\">\n",
              "    <div>\n",
              "<style scoped>\n",
              "    .dataframe tbody tr th:only-of-type {\n",
              "        vertical-align: middle;\n",
              "    }\n",
              "\n",
              "    .dataframe tbody tr th {\n",
              "        vertical-align: top;\n",
              "    }\n",
              "\n",
              "    .dataframe thead th {\n",
              "        text-align: right;\n",
              "    }\n",
              "</style>\n",
              "<table border=\"1\" class=\"dataframe\">\n",
              "  <thead>\n",
              "    <tr style=\"text-align: right;\">\n",
              "      <th></th>\n",
              "      <th>6.0000 -1.0000 -1.0000 -1.0000 -1.0000 -1.0000 -1.0000 -1.0000 -0.6310 0.8620 -0.1670 -1.0000 -1.0000 -1.0000 -1.0000 -1.0000 -1.0000 -1.0000 -1.0000 -1.0000 -1.0000 -1.0000 -1.0000 -0.9920 0.2970 1.0000 0.3070 -1.0000 -1.0000 -1.0000 -1.0000 -1.0000 -1.0000 -1.0000 -1.0000 -1.0000 -1.0000 -1.0000 -1.0000 -0.4100 1.0000 0.9860 -0.5650 -1.0000 -1.0000 -1.0000 -1.0000 -1.0000 -1.0000 -1.0000 -1.0000 -1.0000 -1.0000 -1.0000 -0.6830 0.8250 1.0000 0.5620 -1.0000 -1.0000 -1.0000 -1.0000 -1.0000 -1.0000 -1.0000 -1.0000 -1.0000 -1.0000 -1.0000 -0.9380 0.5400 1.0000 0.7780 -0.7150 -1.0000 -1.0000 -1.0000 -1.0000 -1.0000 -1.0000 -1.0000 -1.0000 -1.0000 -1.0000 -1.0000 0.1000 1.0000 0.9220 -0.4390 -1.0000 -1.0000 -1.0000 -1.0000 -1.0000 -1.0000 -1.0000 -1.0000 -1.0000 -1.0000 -1.0000 -0.2570 0.9500 1.0000 -0.1620 -1.0000 -1.0000 -1.0000 -0.9870 -0.7140 -0.8320 -1.0000 -1.0000 -1.0000 -1.0000 -1.0000 -0.7970 0.9090 1.0000 0.3000 -0.9610 -1.0000 -1.0000 -0.5500 0.4850 0.9960 0.8670 0.0920 -1.0000 -1.0000 -1.0000 -1.0000 0.2780 1.0000 0.8770 -0.8240 -1.0000 -0.9050 0.1450 0.9770 1.0000 1.0000 1.0000 0.9900 -0.7450 -1.0000 -1.0000 -0.9500 0.8470 1.0000 0.3270 -1.0000 -1.0000 0.3550 1.0000 0.6550 -0.1090 -0.1850 1.0000 0.9880 -0.7230 -1.0000 -1.0000 -0.6300 1.0000 1.0000 0.0680 -0.9250 0.1130 0.9600 0.3080 -0.8840 -1.0000 -0.0750 1.0000 0.6410 -0.9950 -1.0000 -1.0000 -0.6770 1.0000 1.0000 0.7530 0.3410 1.0000 0.7070 -0.9420 -1.0000 -1.0000 0.5450 1.0000 0.0270 -1.0000 -1.0000 -1.0000 -0.9030 0.7920 1.0000 1.0000 1.0000 1.0000 0.5360 0.1840 0.8120 0.8370 0.9780 0.8640 -0.6300 -1.0000 -1.0000 -1.0000 -1.0000 -0.4520 0.8280 1.0000 1.0000 1.0000 1.0000 1.0000 1.0000 1.0000 1.0000 0.1350 -1.0000 -1.0000 -1.0000 -1.0000 -1.0000 -1.0000 -0.4830 0.8130 1.0000 1.0000 1.0000 1.0000 1.0000 1.0000 0.2190 -0.9430 -1.0000 -1.0000 -1.0000 -1.0000 -1.0000 -1.0000 -1.0000 -0.9740 -0.4290 0.3040 0.8230 1.0000 0.4820 -0.4740 -0.9910 -1.0000 -1.0000 -1.0000 -1.0000</th>\n",
              "    </tr>\n",
              "  </thead>\n",
              "  <tbody>\n",
              "    <tr>\n",
              "      <th>0</th>\n",
              "      <td>5.0000 -1.0000 -1.0000 -1.0000 -0.8130 -0.6710...</td>\n",
              "    </tr>\n",
              "    <tr>\n",
              "      <th>1</th>\n",
              "      <td>4.0000 -1.0000 -1.0000 -1.0000 -1.0000 -1.0000...</td>\n",
              "    </tr>\n",
              "    <tr>\n",
              "      <th>2</th>\n",
              "      <td>7.0000 -1.0000 -1.0000 -1.0000 -1.0000 -1.0000...</td>\n",
              "    </tr>\n",
              "    <tr>\n",
              "      <th>3</th>\n",
              "      <td>3.0000 -1.0000 -1.0000 -1.0000 -1.0000 -1.0000...</td>\n",
              "    </tr>\n",
              "    <tr>\n",
              "      <th>4</th>\n",
              "      <td>6.0000 -1.0000 -1.0000 -1.0000 -1.0000 -1.0000...</td>\n",
              "    </tr>\n",
              "  </tbody>\n",
              "</table>\n",
              "</div>\n",
              "    <div class=\"colab-df-buttons\">\n",
              "\n",
              "  <div class=\"colab-df-container\">\n",
              "    <button class=\"colab-df-convert\" onclick=\"convertToInteractive('df-b5dfdacb-9cd0-4cdc-a7d9-7fe1fe03a6b3')\"\n",
              "            title=\"Convert this dataframe to an interactive table.\"\n",
              "            style=\"display:none;\">\n",
              "\n",
              "  <svg xmlns=\"http://www.w3.org/2000/svg\" height=\"24px\" viewBox=\"0 -960 960 960\">\n",
              "    <path d=\"M120-120v-720h720v720H120Zm60-500h600v-160H180v160Zm220 220h160v-160H400v160Zm0 220h160v-160H400v160ZM180-400h160v-160H180v160Zm440 0h160v-160H620v160ZM180-180h160v-160H180v160Zm440 0h160v-160H620v160Z\"/>\n",
              "  </svg>\n",
              "    </button>\n",
              "\n",
              "  <style>\n",
              "    .colab-df-container {\n",
              "      display:flex;\n",
              "      gap: 12px;\n",
              "    }\n",
              "\n",
              "    .colab-df-convert {\n",
              "      background-color: #E8F0FE;\n",
              "      border: none;\n",
              "      border-radius: 50%;\n",
              "      cursor: pointer;\n",
              "      display: none;\n",
              "      fill: #1967D2;\n",
              "      height: 32px;\n",
              "      padding: 0 0 0 0;\n",
              "      width: 32px;\n",
              "    }\n",
              "\n",
              "    .colab-df-convert:hover {\n",
              "      background-color: #E2EBFA;\n",
              "      box-shadow: 0px 1px 2px rgba(60, 64, 67, 0.3), 0px 1px 3px 1px rgba(60, 64, 67, 0.15);\n",
              "      fill: #174EA6;\n",
              "    }\n",
              "\n",
              "    .colab-df-buttons div {\n",
              "      margin-bottom: 4px;\n",
              "    }\n",
              "\n",
              "    [theme=dark] .colab-df-convert {\n",
              "      background-color: #3B4455;\n",
              "      fill: #D2E3FC;\n",
              "    }\n",
              "\n",
              "    [theme=dark] .colab-df-convert:hover {\n",
              "      background-color: #434B5C;\n",
              "      box-shadow: 0px 1px 3px 1px rgba(0, 0, 0, 0.15);\n",
              "      filter: drop-shadow(0px 1px 2px rgba(0, 0, 0, 0.3));\n",
              "      fill: #FFFFFF;\n",
              "    }\n",
              "  </style>\n",
              "\n",
              "    <script>\n",
              "      const buttonEl =\n",
              "        document.querySelector('#df-b5dfdacb-9cd0-4cdc-a7d9-7fe1fe03a6b3 button.colab-df-convert');\n",
              "      buttonEl.style.display =\n",
              "        google.colab.kernel.accessAllowed ? 'block' : 'none';\n",
              "\n",
              "      async function convertToInteractive(key) {\n",
              "        const element = document.querySelector('#df-b5dfdacb-9cd0-4cdc-a7d9-7fe1fe03a6b3');\n",
              "        const dataTable =\n",
              "          await google.colab.kernel.invokeFunction('convertToInteractive',\n",
              "                                                    [key], {});\n",
              "        if (!dataTable) return;\n",
              "\n",
              "        const docLinkHtml = 'Like what you see? Visit the ' +\n",
              "          '<a target=\"_blank\" href=https://colab.research.google.com/notebooks/data_table.ipynb>data table notebook</a>'\n",
              "          + ' to learn more about interactive tables.';\n",
              "        element.innerHTML = '';\n",
              "        dataTable['output_type'] = 'display_data';\n",
              "        await google.colab.output.renderOutput(dataTable, element);\n",
              "        const docLink = document.createElement('div');\n",
              "        docLink.innerHTML = docLinkHtml;\n",
              "        element.appendChild(docLink);\n",
              "      }\n",
              "    </script>\n",
              "  </div>\n",
              "\n",
              "\n",
              "<div id=\"df-0e8f5ebb-707d-41f3-8ed4-e50a8a932119\">\n",
              "  <button class=\"colab-df-quickchart\" onclick=\"quickchart('df-0e8f5ebb-707d-41f3-8ed4-e50a8a932119')\"\n",
              "            title=\"Suggest charts\"\n",
              "            style=\"display:none;\">\n",
              "\n",
              "<svg xmlns=\"http://www.w3.org/2000/svg\" height=\"24px\"viewBox=\"0 0 24 24\"\n",
              "     width=\"24px\">\n",
              "    <g>\n",
              "        <path d=\"M19 3H5c-1.1 0-2 .9-2 2v14c0 1.1.9 2 2 2h14c1.1 0 2-.9 2-2V5c0-1.1-.9-2-2-2zM9 17H7v-7h2v7zm4 0h-2V7h2v10zm4 0h-2v-4h2v4z\"/>\n",
              "    </g>\n",
              "</svg>\n",
              "  </button>\n",
              "\n",
              "<style>\n",
              "  .colab-df-quickchart {\n",
              "      --bg-color: #E8F0FE;\n",
              "      --fill-color: #1967D2;\n",
              "      --hover-bg-color: #E2EBFA;\n",
              "      --hover-fill-color: #174EA6;\n",
              "      --disabled-fill-color: #AAA;\n",
              "      --disabled-bg-color: #DDD;\n",
              "  }\n",
              "\n",
              "  [theme=dark] .colab-df-quickchart {\n",
              "      --bg-color: #3B4455;\n",
              "      --fill-color: #D2E3FC;\n",
              "      --hover-bg-color: #434B5C;\n",
              "      --hover-fill-color: #FFFFFF;\n",
              "      --disabled-bg-color: #3B4455;\n",
              "      --disabled-fill-color: #666;\n",
              "  }\n",
              "\n",
              "  .colab-df-quickchart {\n",
              "    background-color: var(--bg-color);\n",
              "    border: none;\n",
              "    border-radius: 50%;\n",
              "    cursor: pointer;\n",
              "    display: none;\n",
              "    fill: var(--fill-color);\n",
              "    height: 32px;\n",
              "    padding: 0;\n",
              "    width: 32px;\n",
              "  }\n",
              "\n",
              "  .colab-df-quickchart:hover {\n",
              "    background-color: var(--hover-bg-color);\n",
              "    box-shadow: 0 1px 2px rgba(60, 64, 67, 0.3), 0 1px 3px 1px rgba(60, 64, 67, 0.15);\n",
              "    fill: var(--button-hover-fill-color);\n",
              "  }\n",
              "\n",
              "  .colab-df-quickchart-complete:disabled,\n",
              "  .colab-df-quickchart-complete:disabled:hover {\n",
              "    background-color: var(--disabled-bg-color);\n",
              "    fill: var(--disabled-fill-color);\n",
              "    box-shadow: none;\n",
              "  }\n",
              "\n",
              "  .colab-df-spinner {\n",
              "    border: 2px solid var(--fill-color);\n",
              "    border-color: transparent;\n",
              "    border-bottom-color: var(--fill-color);\n",
              "    animation:\n",
              "      spin 1s steps(1) infinite;\n",
              "  }\n",
              "\n",
              "  @keyframes spin {\n",
              "    0% {\n",
              "      border-color: transparent;\n",
              "      border-bottom-color: var(--fill-color);\n",
              "      border-left-color: var(--fill-color);\n",
              "    }\n",
              "    20% {\n",
              "      border-color: transparent;\n",
              "      border-left-color: var(--fill-color);\n",
              "      border-top-color: var(--fill-color);\n",
              "    }\n",
              "    30% {\n",
              "      border-color: transparent;\n",
              "      border-left-color: var(--fill-color);\n",
              "      border-top-color: var(--fill-color);\n",
              "      border-right-color: var(--fill-color);\n",
              "    }\n",
              "    40% {\n",
              "      border-color: transparent;\n",
              "      border-right-color: var(--fill-color);\n",
              "      border-top-color: var(--fill-color);\n",
              "    }\n",
              "    60% {\n",
              "      border-color: transparent;\n",
              "      border-right-color: var(--fill-color);\n",
              "    }\n",
              "    80% {\n",
              "      border-color: transparent;\n",
              "      border-right-color: var(--fill-color);\n",
              "      border-bottom-color: var(--fill-color);\n",
              "    }\n",
              "    90% {\n",
              "      border-color: transparent;\n",
              "      border-bottom-color: var(--fill-color);\n",
              "    }\n",
              "  }\n",
              "</style>\n",
              "\n",
              "  <script>\n",
              "    async function quickchart(key) {\n",
              "      const quickchartButtonEl =\n",
              "        document.querySelector('#' + key + ' button');\n",
              "      quickchartButtonEl.disabled = true;  // To prevent multiple clicks.\n",
              "      quickchartButtonEl.classList.add('colab-df-spinner');\n",
              "      try {\n",
              "        const charts = await google.colab.kernel.invokeFunction(\n",
              "            'suggestCharts', [key], {});\n",
              "      } catch (error) {\n",
              "        console.error('Error during call to suggestCharts:', error);\n",
              "      }\n",
              "      quickchartButtonEl.classList.remove('colab-df-spinner');\n",
              "      quickchartButtonEl.classList.add('colab-df-quickchart-complete');\n",
              "    }\n",
              "    (() => {\n",
              "      let quickchartButtonEl =\n",
              "        document.querySelector('#df-0e8f5ebb-707d-41f3-8ed4-e50a8a932119 button');\n",
              "      quickchartButtonEl.style.display =\n",
              "        google.colab.kernel.accessAllowed ? 'block' : 'none';\n",
              "    })();\n",
              "  </script>\n",
              "</div>\n",
              "\n",
              "    </div>\n",
              "  </div>\n"
            ],
            "application/vnd.google.colaboratory.intrinsic+json": {
              "type": "dataframe",
              "variable_name": "ziptrain",
              "summary": "{\n  \"name\": \"ziptrain\",\n  \"rows\": 7290,\n  \"fields\": [\n    {\n      \"column\": \"6.0000 -1.0000 -1.0000 -1.0000 -1.0000 -1.0000 -1.0000 -1.0000 -0.6310 0.8620 -0.1670 -1.0000 -1.0000 -1.0000 -1.0000 -1.0000 -1.0000 -1.0000 -1.0000 -1.0000 -1.0000 -1.0000 -1.0000 -0.9920 0.2970 1.0000 0.3070 -1.0000 -1.0000 -1.0000 -1.0000 -1.0000 -1.0000 -1.0000 -1.0000 -1.0000 -1.0000 -1.0000 -1.0000 -0.4100 1.0000 0.9860 -0.5650 -1.0000 -1.0000 -1.0000 -1.0000 -1.0000 -1.0000 -1.0000 -1.0000 -1.0000 -1.0000 -1.0000 -0.6830 0.8250 1.0000 0.5620 -1.0000 -1.0000 -1.0000 -1.0000 -1.0000 -1.0000 -1.0000 -1.0000 -1.0000 -1.0000 -1.0000 -0.9380 0.5400 1.0000 0.7780 -0.7150 -1.0000 -1.0000 -1.0000 -1.0000 -1.0000 -1.0000 -1.0000 -1.0000 -1.0000 -1.0000 -1.0000 0.1000 1.0000 0.9220 -0.4390 -1.0000 -1.0000 -1.0000 -1.0000 -1.0000 -1.0000 -1.0000 -1.0000 -1.0000 -1.0000 -1.0000 -0.2570 0.9500 1.0000 -0.1620 -1.0000 -1.0000 -1.0000 -0.9870 -0.7140 -0.8320 -1.0000 -1.0000 -1.0000 -1.0000 -1.0000 -0.7970 0.9090 1.0000 0.3000 -0.9610 -1.0000 -1.0000 -0.5500 0.4850 0.9960 0.8670 0.0920 -1.0000 -1.0000 -1.0000 -1.0000 0.2780 1.0000 0.8770 -0.8240 -1.0000 -0.9050 0.1450 0.9770 1.0000 1.0000 1.0000 0.9900 -0.7450 -1.0000 -1.0000 -0.9500 0.8470 1.0000 0.3270 -1.0000 -1.0000 0.3550 1.0000 0.6550 -0.1090 -0.1850 1.0000 0.9880 -0.7230 -1.0000 -1.0000 -0.6300 1.0000 1.0000 0.0680 -0.9250 0.1130 0.9600 0.3080 -0.8840 -1.0000 -0.0750 1.0000 0.6410 -0.9950 -1.0000 -1.0000 -0.6770 1.0000 1.0000 0.7530 0.3410 1.0000 0.7070 -0.9420 -1.0000 -1.0000 0.5450 1.0000 0.0270 -1.0000 -1.0000 -1.0000 -0.9030 0.7920 1.0000 1.0000 1.0000 1.0000 0.5360 0.1840 0.8120 0.8370 0.9780 0.8640 -0.6300 -1.0000 -1.0000 -1.0000 -1.0000 -0.4520 0.8280 1.0000 1.0000 1.0000 1.0000 1.0000 1.0000 1.0000 1.0000 0.1350 -1.0000 -1.0000 -1.0000 -1.0000 -1.0000 -1.0000 -0.4830 0.8130 1.0000 1.0000 1.0000 1.0000 1.0000 1.0000 0.2190 -0.9430 -1.0000 -1.0000 -1.0000 -1.0000 -1.0000 -1.0000 -1.0000 -0.9740 -0.4290 0.3040 0.8230 1.0000 0.4820 -0.4740 -0.9910 -1.0000 -1.0000 -1.0000 -1.0000 \",\n      \"properties\": {\n        \"dtype\": \"string\",\n        \"num_unique_values\": 7290,\n        \"samples\": [\n          \"6.0000 -1.0000 -1.0000 -1.0000 -1.0000 -1.0000 -1.0000 -0.9660 0.4870 0.9000 -0.4460 -1.0000 -1.0000 -1.0000 -1.0000 -1.0000 -1.0000 -1.0000 -1.0000 -1.0000 -1.0000 -1.0000 -1.0000 -0.6530 1.0000 1.0000 0.2700 -1.0000 -1.0000 -1.0000 -1.0000 -1.0000 -1.0000 -1.0000 -1.0000 -1.0000 -1.0000 -1.0000 -0.9950 0.1430 1.0000 0.9980 -0.5420 -1.0000 -1.0000 -1.0000 -1.0000 -1.0000 -1.0000 -1.0000 -1.0000 -1.0000 -1.0000 -1.0000 -0.3850 0.9960 1.0000 0.4670 -0.9960 -1.0000 -1.0000 -1.0000 -1.0000 -1.0000 -1.0000 -1.0000 -1.0000 -1.0000 -1.0000 -0.7930 0.9130 1.0000 0.8150 -0.7610 -1.0000 -1.0000 -1.0000 -1.0000 -1.0000 -1.0000 -1.0000 -1.0000 -1.0000 -1.0000 -1.0000 0.0590 1.0000 1.0000 -0.0210 -1.0000 -1.0000 -1.0000 -1.0000 -1.0000 -1.0000 -1.0000 -1.0000 -1.0000 -1.0000 -1.0000 -0.8510 0.8830 1.0000 0.8700 -0.8650 -1.0000 -1.0000 -1.0000 -1.0000 -1.0000 -1.0000 -1.0000 -1.0000 -1.0000 -1.0000 -0.9780 0.4270 1.0000 0.9840 -0.2130 -1.0000 -1.0000 -0.9610 -0.4920 -0.5460 -0.9990 -1.0000 -1.0000 -1.0000 -1.0000 -1.0000 -0.6080 0.9960 1.0000 0.4940 -0.9920 -1.0000 -0.6110 0.6160 1.0000 1.0000 0.3690 -0.9580 -1.0000 -1.0000 -1.0000 -1.0000 -0.3110 1.0000 1.0000 0.1090 -1.0000 -0.8310 0.6640 1.0000 1.0000 1.0000 1.0000 -0.2040 -1.0000 -1.0000 -1.0000 -1.0000 -0.1810 1.0000 0.9840 -0.7340 -0.9770 0.5800 1.0000 1.0000 0.6350 1.0000 0.9870 -0.5150 -1.0000 -1.0000 -1.0000 -1.0000 -0.0400 1.0000 0.8940 -0.9210 -0.0910 0.9980 1.0000 0.7160 0.9200 1.0000 0.5230 -0.9900 -1.0000 -1.0000 -1.0000 -1.0000 -0.2400 1.0000 0.6830 -0.9430 0.8110 1.0000 1.0000 1.0000 1.0000 0.8460 -0.6500 -1.0000 -1.0000 -1.0000 -1.0000 -1.0000 -0.7930 0.9880 0.9980 -0.0570 0.9990 1.0000 1.0000 1.0000 0.7120 -0.6400 -1.0000 -1.0000 -1.0000 -1.0000 -1.0000 -1.0000 -1.0000 -0.2310 0.9380 1.0000 1.0000 1.0000 1.0000 0.4890 -0.8600 -1.0000 -1.0000 -1.0000 -1.0000 -1.0000 -1.0000 -1.0000 -1.0000 -1.0000 -0.6330 0.6110 1.0000 1.0000 0.5680 -0.8350 -1.0000 -1.0000 -1.0000 -1.0000 -1.0000 -1.0000 \",\n          \"1.0000 -1.0000 -1.0000 -1.0000 -1.0000 -1.0000 -1.0000 -0.2820 0.8990 -0.6360 -1.0000 -1.0000 -1.0000 -1.0000 -1.0000 -1.0000 -1.0000 -1.0000 -1.0000 -1.0000 -1.0000 -1.0000 -1.0000 -0.5530 0.9350 0.6120 -0.9700 -1.0000 -1.0000 -1.0000 -1.0000 -1.0000 -1.0000 -1.0000 -1.0000 -1.0000 -1.0000 -1.0000 -1.0000 -1.0000 0.5230 1.0000 -0.6890 -1.0000 -1.0000 -1.0000 -1.0000 -1.0000 -1.0000 -1.0000 -1.0000 -1.0000 -1.0000 -1.0000 -1.0000 -1.0000 0.6590 1.0000 -0.3510 -1.0000 -1.0000 -1.0000 -1.0000 -1.0000 -1.0000 -1.0000 -1.0000 -1.0000 -1.0000 -1.0000 -1.0000 -1.0000 0.3690 1.0000 -0.0610 -1.0000 -1.0000 -1.0000 -1.0000 -1.0000 -1.0000 -1.0000 -1.0000 -1.0000 -1.0000 -1.0000 -1.0000 -1.0000 0.6000 1.0000 -0.2920 -1.0000 -1.0000 -1.0000 -1.0000 -1.0000 -1.0000 -1.0000 -1.0000 -1.0000 -1.0000 -1.0000 -1.0000 -1.0000 0.2620 1.0000 -0.0970 -1.0000 -1.0000 -1.0000 -1.0000 -1.0000 -1.0000 -1.0000 -1.0000 -1.0000 -1.0000 -1.0000 -1.0000 -1.0000 0.4930 1.0000 -0.2330 -1.0000 -1.0000 -1.0000 -1.0000 -1.0000 -1.0000 -1.0000 -1.0000 -1.0000 -1.0000 -1.0000 -1.0000 -1.0000 0.4390 1.0000 0.0580 -1.0000 -1.0000 -1.0000 -1.0000 -1.0000 -1.0000 -1.0000 -1.0000 -1.0000 -1.0000 -1.0000 -1.0000 -0.9900 0.7550 1.0000 -0.4570 -1.0000 -1.0000 -1.0000 -1.0000 -1.0000 -1.0000 -1.0000 -1.0000 -1.0000 -1.0000 -1.0000 -1.0000 -0.8400 0.9310 1.0000 -0.5930 -1.0000 -1.0000 -1.0000 -1.0000 -1.0000 -1.0000 -1.0000 -1.0000 -1.0000 -1.0000 -1.0000 -1.0000 -0.3950 1.0000 1.0000 -0.7290 -1.0000 -1.0000 -1.0000 -1.0000 -1.0000 -1.0000 -1.0000 -1.0000 -1.0000 -1.0000 -1.0000 -1.0000 -0.6380 1.0000 0.9540 -0.9610 -1.0000 -1.0000 -1.0000 -1.0000 -1.0000 -1.0000 -1.0000 -1.0000 -1.0000 -1.0000 -1.0000 -1.0000 -0.4070 1.0000 1.0000 -0.6700 -1.0000 -1.0000 -1.0000 -1.0000 -1.0000 -1.0000 -1.0000 -1.0000 -1.0000 -1.0000 -1.0000 -1.0000 -0.7450 1.0000 1.0000 -0.3320 -1.0000 -1.0000 -1.0000 -1.0000 -1.0000 -1.0000 -1.0000 -1.0000 -1.0000 -1.0000 -1.0000 -1.0000 -0.9890 0.3380 0.7110 -0.8430 -1.0000 -1.0000 -1.0000 -1.0000 -1.0000 -1.0000 \",\n          \"0.0000 -1.0000 -1.0000 -1.0000 -1.0000 -1.0000 -0.9770 -0.5810 0.0830 0.9940 1.0000 1.0000 0.7590 -0.5920 -1.0000 -1.0000 -1.0000 -1.0000 -1.0000 -1.0000 -1.0000 -0.9110 -0.1700 1.0000 1.0000 1.0000 1.0000 1.0000 1.0000 0.8370 -0.9750 -1.0000 -1.0000 -1.0000 -1.0000 -1.0000 -0.9680 0.2360 1.0000 1.0000 1.0000 1.0000 1.0000 1.0000 1.0000 -0.1020 -1.0000 -1.0000 -1.0000 -1.0000 -1.0000 -1.0000 -0.2150 1.0000 1.0000 1.0000 0.7340 -0.1360 0.3100 0.8780 1.0000 0.6540 -0.9490 -1.0000 -1.0000 -1.0000 -0.9990 0.1410 0.8790 1.0000 1.0000 0.5620 -0.6700 -1.0000 -1.0000 0.1890 1.0000 1.0000 -0.5420 -1.0000 -1.0000 -1.0000 -0.8440 0.8300 1.0000 1.0000 0.6000 -0.8900 -1.0000 -1.0000 -1.0000 -0.8400 0.7780 1.0000 0.2530 -0.9870 -1.0000 -1.0000 0.3370 1.0000 1.0000 0.8630 -0.6710 -1.0000 -1.0000 -1.0000 -1.0000 -1.0000 -0.0910 1.0000 1.0000 -0.6490 -1.0000 -0.8390 0.8080 1.0000 1.0000 0.1180 -1.0000 -1.0000 -1.0000 -1.0000 -1.0000 -1.0000 -0.9860 0.8650 1.0000 0.7120 -1.0000 -0.9450 0.9360 1.0000 1.0000 -0.4030 -1.0000 -1.0000 -1.0000 -1.0000 -1.0000 -1.0000 -0.6550 1.0000 1.0000 0.9720 -0.7840 -1.0000 0.5160 1.0000 1.0000 -0.4810 -1.0000 -1.0000 -1.0000 -1.0000 -1.0000 -1.0000 -0.9880 0.8570 1.0000 0.7770 -1.0000 -1.0000 0.0400 1.0000 1.0000 -0.3930 -1.0000 -1.0000 -1.0000 -1.0000 -1.0000 -1.0000 -0.9750 0.5350 1.0000 0.9130 -0.8260 -1.0000 -0.4360 1.0000 1.0000 0.2560 -0.9520 -1.0000 -1.0000 -1.0000 -1.0000 -1.0000 -0.8450 0.9250 1.0000 0.7870 -0.9990 -1.0000 -0.8880 0.7000 1.0000 1.0000 0.3350 -0.4110 -0.8730 -0.5040 -0.4110 -0.4110 0.3100 1.0000 1.0000 0.5250 -0.9810 -1.0000 -1.0000 -0.5110 0.8510 1.0000 1.0000 1.0000 0.7430 0.9250 1.0000 1.0000 1.0000 1.0000 0.6920 -0.3340 -1.0000 -1.0000 -1.0000 -1.0000 -0.6470 0.6840 1.0000 1.0000 1.0000 1.0000 1.0000 1.0000 1.0000 0.8800 -0.6480 -1.0000 -1.0000 -1.0000 -1.0000 -1.0000 -1.0000 -0.9050 0.0590 0.9710 1.0000 1.0000 1.0000 1.0000 0.2460 -0.8610 -1.0000 -1.0000 -1.0000 \"\n        ],\n        \"semantic_type\": \"\",\n        \"description\": \"\"\n      }\n    }\n  ]\n}"
            }
          },
          "metadata": {},
          "execution_count": 33
        }
      ]
    },
    {
      "cell_type": "code",
      "source": [
        "ziptest.head()"
      ],
      "metadata": {
        "colab": {
          "base_uri": "https://localhost:8080/",
          "height": 310
        },
        "id": "HW37_gKXifxb",
        "outputId": "08ae8d04-3954-4c6a-c0b9-81c606d0e1a4"
      },
      "execution_count": 34,
      "outputs": [
        {
          "output_type": "execute_result",
          "data": {
            "text/plain": [
              "  9 -1 -1 -1 -1 -1 -0.948 -0.561 0.148 0.384 0.904 0.29 -0.782 -1 -1 -1 -1 -1 -1 -1 -1 -0.748 0.588 1 1 0.991 0.915 1 0.931 -0.476 -1 -1 -1 -1 -1 -1 -0.787 0.794 1 0.727 -0.178 -0.693 -0.786 -0.624 0.834 0.756 -0.822 -1 -1 -1 -1 -0.922 0.81 1 0.01 -0.928 -1 -1 -1 -1 -0.39 1 0.271 -1 -1 -1 -1 0.012 1 0.248 -1 -1 -1 -1 -1 -0.402 0.326 1 0.801 -0.998 -1 -1 -0.981 0.645 1 -0.687 -1 -1 -1 -1 -0.792 0.976 1 1 0.413 -0.976 -1 -1 -0.993 0.834 0.897 -0.951 -1 -1 -1 -0.831 0.14 1 1 0.302 -0.889 -1 -1 -1 -1 0.356 0.794 -0.836 -1 -0.445 0.074 0.833 1 1 0.696 -0.881 -1 -1 -1 -1 -1 -0.368 0.955 1 1 1 1 0.905 1 1 -0.262 -1 -1 -1 -1 -1 -1 -1 -0.507 0.451 0.692 0.692 -0.007 -0.237 1 0.882 -0.795 -1 -1 -1 -1 -1 -1 -1 -1 -1 -1 -1 -1 0.155 1 0.436 -1 -1 -1 -1 -1 -1 -1 -1 -1 -1 -1 -1 -0.991 0.703 1 -0.025 -1 -1 -1 -1 -1 -1 -1 -1 -1 -1 -1 -1 -0.833 0.959 1 -0.629 -1 -1 -1 -1 -1 -1 -1 -1 -1 -1 -1 -1 -0.6 0.998 0.841 -0.932 -1 -1 -1 -1 -1 -1 -1 -1 -1 -1 -1 -1 -0.424 1 0.732 -1 -1 -1 -1 -1 -1 -1 -1 -1 -1 -1 -1 -1 -0.908 0.43 0.622 -0.973 -1 -1 -1 -1 -1\n",
              "0  6 -1 -1 -1 -1 -1 -1 -1 -1 -1 -1 -1 -1 -1 -1 -1...                                                                                                                                                                                                                                                                                                                                                                                                                                                                                                                                                                                                                                                                                                                                                                                                                                                                                                                                                                                                                               \n",
              "1  3 -1 -1 -1 -0.593 0.7 1 1 1 1 0.853 0.075 -0.9...                                                                                                                                                                                                                                                                                                                                                                                                                                                                                                                                                                                                                                                                                                                                                                                                                                                                                                                                                                                                                               \n",
              "2  6 -1 -1 -1 -1 -1 -1 -1 -1 -1 -1 -1 -1 -1 -1 -1...                                                                                                                                                                                                                                                                                                                                                                                                                                                                                                                                                                                                                                                                                                                                                                                                                                                                                                                                                                                                                               \n",
              "3  6 -1 -1 -1 -1 -1 -1 -1 -0.858 -0.106 0.802 -0....                                                                                                                                                                                                                                                                                                                                                                                                                                                                                                                                                                                                                                                                                                                                                                                                                                                                                                                                                                                                                               \n",
              "4  0 -1 -1 -1 -1 -1 -1 0.195 1 0.054 -1 -1 -1 -1 ...                                                                                                                                                                                                                                                                                                                                                                                                                                                                                                                                                                                                                                                                                                                                                                                                                                                                                                                                                                                                                               "
            ],
            "text/html": [
              "\n",
              "  <div id=\"df-ea8cf9a4-8718-4da4-9c88-ac33beed5c20\" class=\"colab-df-container\">\n",
              "    <div>\n",
              "<style scoped>\n",
              "    .dataframe tbody tr th:only-of-type {\n",
              "        vertical-align: middle;\n",
              "    }\n",
              "\n",
              "    .dataframe tbody tr th {\n",
              "        vertical-align: top;\n",
              "    }\n",
              "\n",
              "    .dataframe thead th {\n",
              "        text-align: right;\n",
              "    }\n",
              "</style>\n",
              "<table border=\"1\" class=\"dataframe\">\n",
              "  <thead>\n",
              "    <tr style=\"text-align: right;\">\n",
              "      <th></th>\n",
              "      <th>9 -1 -1 -1 -1 -1 -0.948 -0.561 0.148 0.384 0.904 0.29 -0.782 -1 -1 -1 -1 -1 -1 -1 -1 -0.748 0.588 1 1 0.991 0.915 1 0.931 -0.476 -1 -1 -1 -1 -1 -1 -0.787 0.794 1 0.727 -0.178 -0.693 -0.786 -0.624 0.834 0.756 -0.822 -1 -1 -1 -1 -0.922 0.81 1 0.01 -0.928 -1 -1 -1 -1 -0.39 1 0.271 -1 -1 -1 -1 0.012 1 0.248 -1 -1 -1 -1 -1 -0.402 0.326 1 0.801 -0.998 -1 -1 -0.981 0.645 1 -0.687 -1 -1 -1 -1 -0.792 0.976 1 1 0.413 -0.976 -1 -1 -0.993 0.834 0.897 -0.951 -1 -1 -1 -0.831 0.14 1 1 0.302 -0.889 -1 -1 -1 -1 0.356 0.794 -0.836 -1 -0.445 0.074 0.833 1 1 0.696 -0.881 -1 -1 -1 -1 -1 -0.368 0.955 1 1 1 1 0.905 1 1 -0.262 -1 -1 -1 -1 -1 -1 -1 -0.507 0.451 0.692 0.692 -0.007 -0.237 1 0.882 -0.795 -1 -1 -1 -1 -1 -1 -1 -1 -1 -1 -1 -1 0.155 1 0.436 -1 -1 -1 -1 -1 -1 -1 -1 -1 -1 -1 -1 -0.991 0.703 1 -0.025 -1 -1 -1 -1 -1 -1 -1 -1 -1 -1 -1 -1 -0.833 0.959 1 -0.629 -1 -1 -1 -1 -1 -1 -1 -1 -1 -1 -1 -1 -0.6 0.998 0.841 -0.932 -1 -1 -1 -1 -1 -1 -1 -1 -1 -1 -1 -1 -0.424 1 0.732 -1 -1 -1 -1 -1 -1 -1 -1 -1 -1 -1 -1 -1 -0.908 0.43 0.622 -0.973 -1 -1 -1 -1 -1</th>\n",
              "    </tr>\n",
              "  </thead>\n",
              "  <tbody>\n",
              "    <tr>\n",
              "      <th>0</th>\n",
              "      <td>6 -1 -1 -1 -1 -1 -1 -1 -1 -1 -1 -1 -1 -1 -1 -1...</td>\n",
              "    </tr>\n",
              "    <tr>\n",
              "      <th>1</th>\n",
              "      <td>3 -1 -1 -1 -0.593 0.7 1 1 1 1 0.853 0.075 -0.9...</td>\n",
              "    </tr>\n",
              "    <tr>\n",
              "      <th>2</th>\n",
              "      <td>6 -1 -1 -1 -1 -1 -1 -1 -1 -1 -1 -1 -1 -1 -1 -1...</td>\n",
              "    </tr>\n",
              "    <tr>\n",
              "      <th>3</th>\n",
              "      <td>6 -1 -1 -1 -1 -1 -1 -1 -0.858 -0.106 0.802 -0....</td>\n",
              "    </tr>\n",
              "    <tr>\n",
              "      <th>4</th>\n",
              "      <td>0 -1 -1 -1 -1 -1 -1 0.195 1 0.054 -1 -1 -1 -1 ...</td>\n",
              "    </tr>\n",
              "  </tbody>\n",
              "</table>\n",
              "</div>\n",
              "    <div class=\"colab-df-buttons\">\n",
              "\n",
              "  <div class=\"colab-df-container\">\n",
              "    <button class=\"colab-df-convert\" onclick=\"convertToInteractive('df-ea8cf9a4-8718-4da4-9c88-ac33beed5c20')\"\n",
              "            title=\"Convert this dataframe to an interactive table.\"\n",
              "            style=\"display:none;\">\n",
              "\n",
              "  <svg xmlns=\"http://www.w3.org/2000/svg\" height=\"24px\" viewBox=\"0 -960 960 960\">\n",
              "    <path d=\"M120-120v-720h720v720H120Zm60-500h600v-160H180v160Zm220 220h160v-160H400v160Zm0 220h160v-160H400v160ZM180-400h160v-160H180v160Zm440 0h160v-160H620v160ZM180-180h160v-160H180v160Zm440 0h160v-160H620v160Z\"/>\n",
              "  </svg>\n",
              "    </button>\n",
              "\n",
              "  <style>\n",
              "    .colab-df-container {\n",
              "      display:flex;\n",
              "      gap: 12px;\n",
              "    }\n",
              "\n",
              "    .colab-df-convert {\n",
              "      background-color: #E8F0FE;\n",
              "      border: none;\n",
              "      border-radius: 50%;\n",
              "      cursor: pointer;\n",
              "      display: none;\n",
              "      fill: #1967D2;\n",
              "      height: 32px;\n",
              "      padding: 0 0 0 0;\n",
              "      width: 32px;\n",
              "    }\n",
              "\n",
              "    .colab-df-convert:hover {\n",
              "      background-color: #E2EBFA;\n",
              "      box-shadow: 0px 1px 2px rgba(60, 64, 67, 0.3), 0px 1px 3px 1px rgba(60, 64, 67, 0.15);\n",
              "      fill: #174EA6;\n",
              "    }\n",
              "\n",
              "    .colab-df-buttons div {\n",
              "      margin-bottom: 4px;\n",
              "    }\n",
              "\n",
              "    [theme=dark] .colab-df-convert {\n",
              "      background-color: #3B4455;\n",
              "      fill: #D2E3FC;\n",
              "    }\n",
              "\n",
              "    [theme=dark] .colab-df-convert:hover {\n",
              "      background-color: #434B5C;\n",
              "      box-shadow: 0px 1px 3px 1px rgba(0, 0, 0, 0.15);\n",
              "      filter: drop-shadow(0px 1px 2px rgba(0, 0, 0, 0.3));\n",
              "      fill: #FFFFFF;\n",
              "    }\n",
              "  </style>\n",
              "\n",
              "    <script>\n",
              "      const buttonEl =\n",
              "        document.querySelector('#df-ea8cf9a4-8718-4da4-9c88-ac33beed5c20 button.colab-df-convert');\n",
              "      buttonEl.style.display =\n",
              "        google.colab.kernel.accessAllowed ? 'block' : 'none';\n",
              "\n",
              "      async function convertToInteractive(key) {\n",
              "        const element = document.querySelector('#df-ea8cf9a4-8718-4da4-9c88-ac33beed5c20');\n",
              "        const dataTable =\n",
              "          await google.colab.kernel.invokeFunction('convertToInteractive',\n",
              "                                                    [key], {});\n",
              "        if (!dataTable) return;\n",
              "\n",
              "        const docLinkHtml = 'Like what you see? Visit the ' +\n",
              "          '<a target=\"_blank\" href=https://colab.research.google.com/notebooks/data_table.ipynb>data table notebook</a>'\n",
              "          + ' to learn more about interactive tables.';\n",
              "        element.innerHTML = '';\n",
              "        dataTable['output_type'] = 'display_data';\n",
              "        await google.colab.output.renderOutput(dataTable, element);\n",
              "        const docLink = document.createElement('div');\n",
              "        docLink.innerHTML = docLinkHtml;\n",
              "        element.appendChild(docLink);\n",
              "      }\n",
              "    </script>\n",
              "  </div>\n",
              "\n",
              "\n",
              "<div id=\"df-7f9050a4-5074-46b0-a1a6-71559fe9068f\">\n",
              "  <button class=\"colab-df-quickchart\" onclick=\"quickchart('df-7f9050a4-5074-46b0-a1a6-71559fe9068f')\"\n",
              "            title=\"Suggest charts\"\n",
              "            style=\"display:none;\">\n",
              "\n",
              "<svg xmlns=\"http://www.w3.org/2000/svg\" height=\"24px\"viewBox=\"0 0 24 24\"\n",
              "     width=\"24px\">\n",
              "    <g>\n",
              "        <path d=\"M19 3H5c-1.1 0-2 .9-2 2v14c0 1.1.9 2 2 2h14c1.1 0 2-.9 2-2V5c0-1.1-.9-2-2-2zM9 17H7v-7h2v7zm4 0h-2V7h2v10zm4 0h-2v-4h2v4z\"/>\n",
              "    </g>\n",
              "</svg>\n",
              "  </button>\n",
              "\n",
              "<style>\n",
              "  .colab-df-quickchart {\n",
              "      --bg-color: #E8F0FE;\n",
              "      --fill-color: #1967D2;\n",
              "      --hover-bg-color: #E2EBFA;\n",
              "      --hover-fill-color: #174EA6;\n",
              "      --disabled-fill-color: #AAA;\n",
              "      --disabled-bg-color: #DDD;\n",
              "  }\n",
              "\n",
              "  [theme=dark] .colab-df-quickchart {\n",
              "      --bg-color: #3B4455;\n",
              "      --fill-color: #D2E3FC;\n",
              "      --hover-bg-color: #434B5C;\n",
              "      --hover-fill-color: #FFFFFF;\n",
              "      --disabled-bg-color: #3B4455;\n",
              "      --disabled-fill-color: #666;\n",
              "  }\n",
              "\n",
              "  .colab-df-quickchart {\n",
              "    background-color: var(--bg-color);\n",
              "    border: none;\n",
              "    border-radius: 50%;\n",
              "    cursor: pointer;\n",
              "    display: none;\n",
              "    fill: var(--fill-color);\n",
              "    height: 32px;\n",
              "    padding: 0;\n",
              "    width: 32px;\n",
              "  }\n",
              "\n",
              "  .colab-df-quickchart:hover {\n",
              "    background-color: var(--hover-bg-color);\n",
              "    box-shadow: 0 1px 2px rgba(60, 64, 67, 0.3), 0 1px 3px 1px rgba(60, 64, 67, 0.15);\n",
              "    fill: var(--button-hover-fill-color);\n",
              "  }\n",
              "\n",
              "  .colab-df-quickchart-complete:disabled,\n",
              "  .colab-df-quickchart-complete:disabled:hover {\n",
              "    background-color: var(--disabled-bg-color);\n",
              "    fill: var(--disabled-fill-color);\n",
              "    box-shadow: none;\n",
              "  }\n",
              "\n",
              "  .colab-df-spinner {\n",
              "    border: 2px solid var(--fill-color);\n",
              "    border-color: transparent;\n",
              "    border-bottom-color: var(--fill-color);\n",
              "    animation:\n",
              "      spin 1s steps(1) infinite;\n",
              "  }\n",
              "\n",
              "  @keyframes spin {\n",
              "    0% {\n",
              "      border-color: transparent;\n",
              "      border-bottom-color: var(--fill-color);\n",
              "      border-left-color: var(--fill-color);\n",
              "    }\n",
              "    20% {\n",
              "      border-color: transparent;\n",
              "      border-left-color: var(--fill-color);\n",
              "      border-top-color: var(--fill-color);\n",
              "    }\n",
              "    30% {\n",
              "      border-color: transparent;\n",
              "      border-left-color: var(--fill-color);\n",
              "      border-top-color: var(--fill-color);\n",
              "      border-right-color: var(--fill-color);\n",
              "    }\n",
              "    40% {\n",
              "      border-color: transparent;\n",
              "      border-right-color: var(--fill-color);\n",
              "      border-top-color: var(--fill-color);\n",
              "    }\n",
              "    60% {\n",
              "      border-color: transparent;\n",
              "      border-right-color: var(--fill-color);\n",
              "    }\n",
              "    80% {\n",
              "      border-color: transparent;\n",
              "      border-right-color: var(--fill-color);\n",
              "      border-bottom-color: var(--fill-color);\n",
              "    }\n",
              "    90% {\n",
              "      border-color: transparent;\n",
              "      border-bottom-color: var(--fill-color);\n",
              "    }\n",
              "  }\n",
              "</style>\n",
              "\n",
              "  <script>\n",
              "    async function quickchart(key) {\n",
              "      const quickchartButtonEl =\n",
              "        document.querySelector('#' + key + ' button');\n",
              "      quickchartButtonEl.disabled = true;  // To prevent multiple clicks.\n",
              "      quickchartButtonEl.classList.add('colab-df-spinner');\n",
              "      try {\n",
              "        const charts = await google.colab.kernel.invokeFunction(\n",
              "            'suggestCharts', [key], {});\n",
              "      } catch (error) {\n",
              "        console.error('Error during call to suggestCharts:', error);\n",
              "      }\n",
              "      quickchartButtonEl.classList.remove('colab-df-spinner');\n",
              "      quickchartButtonEl.classList.add('colab-df-quickchart-complete');\n",
              "    }\n",
              "    (() => {\n",
              "      let quickchartButtonEl =\n",
              "        document.querySelector('#df-7f9050a4-5074-46b0-a1a6-71559fe9068f button');\n",
              "      quickchartButtonEl.style.display =\n",
              "        google.colab.kernel.accessAllowed ? 'block' : 'none';\n",
              "    })();\n",
              "  </script>\n",
              "</div>\n",
              "\n",
              "    </div>\n",
              "  </div>\n"
            ],
            "application/vnd.google.colaboratory.intrinsic+json": {
              "type": "dataframe",
              "variable_name": "ziptest",
              "summary": "{\n  \"name\": \"ziptest\",\n  \"rows\": 2006,\n  \"fields\": [\n    {\n      \"column\": \"9 -1 -1 -1 -1 -1 -0.948 -0.561 0.148 0.384 0.904 0.29 -0.782 -1 -1 -1 -1 -1 -1 -1 -1 -0.748 0.588 1 1 0.991 0.915 1 0.931 -0.476 -1 -1 -1 -1 -1 -1 -0.787 0.794 1 0.727 -0.178 -0.693 -0.786 -0.624 0.834 0.756 -0.822 -1 -1 -1 -1 -0.922 0.81 1 0.01 -0.928 -1 -1 -1 -1 -0.39 1 0.271 -1 -1 -1 -1 0.012 1 0.248 -1 -1 -1 -1 -1 -0.402 0.326 1 0.801 -0.998 -1 -1 -0.981 0.645 1 -0.687 -1 -1 -1 -1 -0.792 0.976 1 1 0.413 -0.976 -1 -1 -0.993 0.834 0.897 -0.951 -1 -1 -1 -0.831 0.14 1 1 0.302 -0.889 -1 -1 -1 -1 0.356 0.794 -0.836 -1 -0.445 0.074 0.833 1 1 0.696 -0.881 -1 -1 -1 -1 -1 -0.368 0.955 1 1 1 1 0.905 1 1 -0.262 -1 -1 -1 -1 -1 -1 -1 -0.507 0.451 0.692 0.692 -0.007 -0.237 1 0.882 -0.795 -1 -1 -1 -1 -1 -1 -1 -1 -1 -1 -1 -1 0.155 1 0.436 -1 -1 -1 -1 -1 -1 -1 -1 -1 -1 -1 -1 -0.991 0.703 1 -0.025 -1 -1 -1 -1 -1 -1 -1 -1 -1 -1 -1 -1 -0.833 0.959 1 -0.629 -1 -1 -1 -1 -1 -1 -1 -1 -1 -1 -1 -1 -0.6 0.998 0.841 -0.932 -1 -1 -1 -1 -1 -1 -1 -1 -1 -1 -1 -1 -0.424 1 0.732 -1 -1 -1 -1 -1 -1 -1 -1 -1 -1 -1 -1 -1 -0.908 0.43 0.622 -0.973 -1 -1 -1 -1 -1\",\n      \"properties\": {\n        \"dtype\": \"string\",\n        \"num_unique_values\": 2006,\n        \"samples\": [\n          \"7 -1 -1 -1 -1 -1 -1 -1 -1 -1 -1 -0.972 -0.468 0.464 0.076 -1 -1 -1 -1 -1 -1 -1 -0.773 -0.294 -0.294 -0.045 0.243 0.726 1 1 0.287 -1 -1 -1 -1 -1 -0.556 0.351 0.945 1 1 1 1 0.657 0.088 0.844 0.498 -1 -1 -1 -1 -0.51 0.974 1 0.779 -0.263 -0.412 -0.579 -0.882 -0.995 -0.621 0.981 0.044 -1 -1 -1 -1 0.36 1 0.866 -0.773 -1 -1 -1 -1 -1 0.063 1 -0.409 -1 -1 -1 -1 -0.703 0.156 -0.598 -1 -1 -1 -1 -1 -1 0.793 0.666 -0.972 -1 -1 -1 -1 -1 -1 -1 -1 -1 -1 -1 -1 -0.405 0.985 0.13 -1 -1 -1 -1 -1 -1 -1 -1 -1 -1 -1 -1 -1 0.199 0.983 -0.638 -1 -1 -1 -1 -1 -1 -1 -1 -1 -1 -1 -1 -0.904 0.889 0.558 -1 -1 -1 -1 -1 -1 -1 -1 -1 -1 -1 -1 -1 -0.229 1 -0.227 -1 -1 -1 -1 -1 -1 -1 -1 -1 -1 -1 -1 -0.996 0.552 0.883 -0.896 -1 -1 -1 -1 -1 -1 -1 -1 -1 -1 -1 -1 -0.436 1 -0.02 -1 -1 -1 -1 -1 -1 -1 -1 -1 -1 -1 -1 -1 0.377 0.941 -0.774 -1 -1 -1 -1 -1 -1 -1 -1 -1 -1 -1 -1 -0.918 0.914 0.491 -1 -1 -1 -1 -1 -1 -1 -1 -1 -1 -1 -1 -1 -0.107 1 -0.184 -1 -1 -1 -1 -1 -1 -1 -1 -1 -1 -1 -1 -1 -0.041 0.691 -0.883 -1 -1 -1 -1 -1 -1\",\n          \"0 -1 -1 -1 -1 -1 -0.08 0.796 0.999 0.77 -0.828 -1 -1 -1 -1 -1 -1 -1 -1 -1 -0.809 0.498 0.993 1 1 1 0.039 -1 -1 -1 -1 -1 -1 -1 -1 -1 0.682 1 1 1 1 1 0.81 -0.342 -1 -1 -1 -1 -1 -1 -1 -0.796 0.981 0.907 0.225 -0.765 -0.379 0.619 1 0.969 0.512 -0.919 -1 -1 -1 -1 -1 -0.381 1 0.143 -1 -1 -1 -0.79 0.79 1 1 0.226 -1 -1 -1 -1 -1 -0.027 -0.137 -0.938 -1 -1 -1 -1 -0.499 0.936 1 0.989 -0.533 -1 -1 -1 -1 -0.8 -1 -1 -1 -1 -1 -1 -0.989 0.696 1 1 0.02 -1 -1 -1 -1 -1 -1 -1 -1 -1 -1 -1 -1 0.142 1 1 -0.215 -1 -1 -1 -1 -1 -1 -1 -1 -1 -1 -1 -1 -0.188 1 1 -0.65 -1 -1 -1 -1 -1 -1 -1 -1 -1 -1 -1 -0.729 0.708 1 0.866 -0.952 -1 -1 -1 -1 -1 -1 -1 -1 -1 -1 -0.986 -0.133 1 1 0.313 -1 -1 -1 -1 -1 -1 -1 -1 -1 -1 -0.922 -0.086 0.988 1 0.795 -0.916 -1 -1 -1 -1 -1 -1 -0.972 -0.806 -0.806 0.146 0.418 1 1 0.916 -0.471 -1 -1 -1 -1 -1 -1 -1 -0.659 1 1 1 1 1 0.884 -0.473 -1 -1 -1 -1 -1 -1 -1 -1 -0.224 1 1 1 0.969 0.118 -0.675 -1 -1 -1 -1 -1 -1 -1 -1 -1 0.211 0.999 0.999 0.416 -0.436 -1 -1 -1 -1 -1 -1 -1 -1\",\n          \"0 -1 -1 -1 -1 -1 -1 -0.526 0.777 -0.586 -1 -1 -1 -1 -1 -1 -1 -1 -1 -1 -1 -1 -0.409 0.933 1 0.844 0.333 0.333 -0.259 -1 -1 -1 -1 -1 -1 -1 -1 -0.292 0.992 1 1 1 1 1 1 -0.367 -1 -1 -1 -1 -1 -1 -0.124 1 1 1 1 1 1 1 1 0.95 -0.715 -1 -1 -1 -1 -0.615 1 1 1 1 0.502 -0.886 -0.891 -0.205 0.926 1 -0.052 -1 -1 -1 -1 0.005 1 1 1 0.607 -0.945 -1 -1 -1 0.45 1 0.217 -1 -1 -1 -1 0.403 1 1 0.934 -0.781 -1 -1 -1 -1 -0.041 1 0.263 -1 -1 -1 -1 0.579 1 1 0.31 -1 -1 -1 -1 -1 -0.532 1 0.754 -1 -1 -1 -1 0.754 1 1 0.357 -1 -1 -1 -1 -1 -0.579 1 0.579 -1 -1 -1 -1 0.263 1 1 0.181 -1 -1 -1 -1 -1 -0.403 1 0.403 -1 -1 -1 -1 0.439 1 1 -0.439 -1 -1 -1 -1 -0.945 0.607 1 0.227 -1 -1 -1 -1 -0.497 1 1 0.274 -1 -1 -1 -1 -0.496 1 1 -0.393 -1 -1 -1 -1 -1 0.568 1 1 -0.124 -1 -1 -0.453 0.911 1 0.675 -0.911 -1 -1 -1 -1 -1 -0.8 0.989 1 1 0.809 0.334 0.969 1 1 0.144 -1 -1 -1 -1 -1 -1 -1 -0.259 0.844 1 1 1 1 1 0.191 -1 -1 -1 -1 -1 -1 -1 -1 -1 -0.692 -0.006 0.681 1 0.874 -0.081 -1 -1 -1 -1 -1\"\n        ],\n        \"semantic_type\": \"\",\n        \"description\": \"\"\n      }\n    }\n  ]\n}"
            }
          },
          "metadata": {},
          "execution_count": 34
        }
      ]
    },
    {
      "cell_type": "markdown",
      "source": [
        "#### B.0.3. the csv files has the separator as a space and there is no header - so, for both files/data sets\n",
        "1.   use appropriate parameters to read the CSV\n",
        "2.   First column is a digit (so cast/change data type to integer)\n",
        "3.   Change headers/column names so that first column is for the digit and then add \"pxl\" as prefix to the name to each of the other columns so column name will be pxl_*column_number*\n",
        "\n"
      ],
      "metadata": {
        "id": "sHoYByt0ik6b"
      }
    },
    {
      "cell_type": "code",
      "source": [
        "# the csv file has the separator as a space and there is no header - so, use appropriate parameters to read the CSV\n",
        "ziptrain = pd.read_csv(filepath_or_buffer=r'ziptrain.csv',delim_whitespace=True, header=None)\n",
        "ziptest = pd.read_csv(filepath_or_buffer=r'ziptest.csv',delim_whitespace=True, header=None)\n",
        "\n",
        "# first column is integer\n",
        "ziptrain[0] = ziptrain[0].astype(int)\n",
        "ziptest[0] = ziptest[0].astype(int)\n",
        "#ziptrain.columns[0]\n",
        "ziptrain.rename({ziptrain.columns[0]:\"digit\"},axis=1,inplace=True)\n",
        "#ziptrain.columns[0]\n",
        "ziptest.rename({ziptest.columns[0]:\"digit\"},axis=1,inplace=True)\n",
        "\n",
        "# Change headers/column names so that first column is for the digit (output variable) and then add \"pxl\" as prefix to the name to\n",
        "# each of the other columns so column name will be pxl_column_number\n",
        "for i in range(256):\n",
        "  ziptrain.rename({ziptrain.columns[i+1]:\"pxl_\"+str(i)},axis=1,inplace=True)\n",
        "  ziptest.rename({ziptest.columns[i+1]:\"pxl_\"+str(i)},axis=1,inplace=True)"
      ],
      "metadata": {
        "id": "JXG1GN8ww8fo"
      },
      "execution_count": 35,
      "outputs": []
    },
    {
      "cell_type": "code",
      "source": [
        "# function get_df_name to get/return name of the dataframe - it iterates through all global variables, checking the name for each and\n",
        "# return the object of type dataframe - That will be used for the explore_data custom function\n",
        "\n",
        "#name =[x for x in globals()]\n",
        "#print(type(name))\n",
        "#print(name[0:50])\n",
        "\n",
        "def get_df_name(df):\n",
        "    name =[x for x in globals() if globals()[x] is df][0]\n",
        "    return name"
      ],
      "metadata": {
        "id": "Zkg4Azt7O8Cx"
      },
      "execution_count": 36,
      "outputs": []
    },
    {
      "cell_type": "code",
      "source": [
        "# function explore_data to explore data / EDA for passed dataframe - it takes two parameters:\n",
        "# 1- first paramneter is the dataframe (dataframe for which EDA is required to be dispalyed)\n",
        "# 2- second paramneter is optional - a column name in the dataframe (required to print unique value for that column)\n",
        "# The function calls different methods: df.head(), df.shape, df.info(), df.describe(), df[column].unique() and displays/prints out a report-like output\n",
        "def explore_data(df, column=\"\"):\n",
        "  print(\"===> df.head() for\" , get_df_name(df))\n",
        "  print(df.head())\n",
        "  print(\"====================================================\")\n",
        "\n",
        "  print(\"===> df.shape for\" , get_df_name(df))\n",
        "  print(df.shape)\n",
        "  print(\"====================================================\")\n",
        "\n",
        "  print(\"===> df.info() for\" , get_df_name(df))\n",
        "  print(df.info())\n",
        "  print(\"====================================================\")\n",
        "\n",
        "  print(\"===> df.describe() for\" , get_df_name(df))\n",
        "  print(df.describe())\n",
        "  print(\"====================================================\")\n",
        "\n",
        "  print(\"===> df[column].unique() for\", get_df_name(df))\n",
        "  print(df['digit'].unique())\n",
        "  print(\"====================================================\")"
      ],
      "metadata": {
        "id": "P-CRoohEMnDI"
      },
      "execution_count": 37,
      "outputs": []
    },
    {
      "cell_type": "code",
      "source": [
        "explore_data(ziptrain,'digit')"
      ],
      "metadata": {
        "colab": {
          "base_uri": "https://localhost:8080/"
        },
        "id": "TlX42ncRMvGv",
        "outputId": "2837a31b-d938-4ae4-82dc-2d91f442a3f4"
      },
      "execution_count": 38,
      "outputs": [
        {
          "output_type": "stream",
          "name": "stdout",
          "text": [
            "===> df.head() for ziptrain\n",
            "   digit  pxl_0  pxl_1  pxl_2  pxl_3  pxl_4  pxl_5  pxl_6  pxl_7  pxl_8  ...  \\\n",
            "0      6   -1.0   -1.0   -1.0 -1.000 -1.000 -1.000 -1.000 -0.631  0.862  ...   \n",
            "1      5   -1.0   -1.0   -1.0 -0.813 -0.671 -0.809 -0.887 -0.671 -0.853  ...   \n",
            "2      4   -1.0   -1.0   -1.0 -1.000 -1.000 -1.000 -1.000 -1.000 -1.000  ...   \n",
            "3      7   -1.0   -1.0   -1.0 -1.000 -1.000 -0.273  0.684  0.960  0.450  ...   \n",
            "4      3   -1.0   -1.0   -1.0 -1.000 -1.000 -0.928 -0.204  0.751  0.466  ...   \n",
            "\n",
            "   pxl_246  pxl_247  pxl_248  pxl_249  pxl_250  pxl_251  pxl_252  pxl_253  \\\n",
            "0    0.304    0.823    1.000    0.482   -0.474   -0.991   -1.000   -1.000   \n",
            "1   -0.671   -0.671   -0.033    0.761    0.762    0.126   -0.095   -0.671   \n",
            "2   -1.000   -1.000   -1.000   -0.109    1.000   -0.179   -1.000   -1.000   \n",
            "3   -0.318    1.000    0.536   -0.987   -1.000   -1.000   -1.000   -1.000   \n",
            "4    0.466    0.639    1.000    1.000    0.791    0.439   -0.199   -0.883   \n",
            "\n",
            "   pxl_254  pxl_255  \n",
            "0   -1.000     -1.0  \n",
            "1   -0.828     -1.0  \n",
            "2   -1.000     -1.0  \n",
            "3   -1.000     -1.0  \n",
            "4   -1.000     -1.0  \n",
            "\n",
            "[5 rows x 257 columns]\n",
            "====================================================\n",
            "===> df.shape for ziptrain\n",
            "(7291, 257)\n",
            "====================================================\n",
            "===> df.info() for ziptrain\n",
            "<class 'pandas.core.frame.DataFrame'>\n",
            "RangeIndex: 7291 entries, 0 to 7290\n",
            "Columns: 257 entries, digit to pxl_255\n",
            "dtypes: float64(256), int64(1)\n",
            "memory usage: 14.3 MB\n",
            "None\n",
            "====================================================\n",
            "===> df.describe() for ziptrain\n",
            "             digit        pxl_0        pxl_1        pxl_2        pxl_3  \\\n",
            "count  7291.000000  7291.000000  7291.000000  7291.000000  7291.000000   \n",
            "mean      3.903443    -0.996417    -0.981138    -0.951153    -0.887738   \n",
            "std       2.996386     0.051713     0.151202     0.244264     0.360516   \n",
            "min       0.000000    -1.000000    -1.000000    -1.000000    -1.000000   \n",
            "25%       1.000000    -1.000000    -1.000000    -1.000000    -1.000000   \n",
            "50%       4.000000    -1.000000    -1.000000    -1.000000    -1.000000   \n",
            "75%       7.000000    -1.000000    -1.000000    -1.000000    -1.000000   \n",
            "max       9.000000     0.638000     1.000000     1.000000     1.000000   \n",
            "\n",
            "             pxl_4        pxl_5        pxl_6        pxl_7        pxl_8  ...  \\\n",
            "count  7291.000000  7291.000000  7291.000000  7291.000000  7291.000000  ...   \n",
            "mean     -0.773468    -0.610302    -0.368991    -0.045769    -0.052641  ...   \n",
            "std       0.502659     0.628710     0.716032     0.768304     0.752979  ...   \n",
            "min      -1.000000    -1.000000    -1.000000    -1.000000    -1.000000  ...   \n",
            "25%      -1.000000    -1.000000    -1.000000    -0.999000    -0.950000  ...   \n",
            "50%      -1.000000    -1.000000    -0.719000     0.061000     0.002000  ...   \n",
            "75%      -0.962000    -0.391000     0.254500     0.696000     0.674500  ...   \n",
            "max       1.000000     1.000000     1.000000     1.000000     1.000000  ...   \n",
            "\n",
            "           pxl_246      pxl_247      pxl_248      pxl_249      pxl_250  \\\n",
            "count  7291.000000  7291.000000  7291.000000  7291.000000  7291.000000   \n",
            "mean     -0.198547     0.139823     0.116439    -0.314108    -0.653711   \n",
            "std       0.772895     0.752984     0.757336     0.725859     0.582555   \n",
            "min      -1.000000    -1.000000    -1.000000    -1.000000    -1.000000   \n",
            "25%      -1.000000    -0.661500    -0.738000    -1.000000    -1.000000   \n",
            "50%      -0.353000     0.368000     0.336000    -0.579000    -1.000000   \n",
            "75%       0.554000     0.835000     0.815000     0.346000    -0.504500   \n",
            "max       1.000000     1.000000     1.000000     1.000000     1.000000   \n",
            "\n",
            "           pxl_251      pxl_252      pxl_253      pxl_254      pxl_255  \n",
            "count  7291.000000  7291.000000  7291.000000  7291.000000  7291.000000  \n",
            "mean     -0.837858    -0.922194    -0.957393    -0.979290    -0.994678  \n",
            "std       0.414646     0.300830     0.228700     0.158998     0.066056  \n",
            "min      -1.000000    -1.000000    -1.000000    -1.000000    -1.000000  \n",
            "25%      -1.000000    -1.000000    -1.000000    -1.000000    -1.000000  \n",
            "50%      -1.000000    -1.000000    -1.000000    -1.000000    -1.000000  \n",
            "75%      -1.000000    -1.000000    -1.000000    -1.000000    -1.000000  \n",
            "max       1.000000     1.000000     1.000000     1.000000     0.592000  \n",
            "\n",
            "[8 rows x 257 columns]\n",
            "====================================================\n",
            "===> df[column].unique() for ziptrain\n",
            "[6 5 4 7 3 1 0 8 2 9]\n",
            "====================================================\n"
          ]
        }
      ]
    },
    {
      "cell_type": "code",
      "source": [
        "explore_data(ziptest,'digit')"
      ],
      "metadata": {
        "colab": {
          "base_uri": "https://localhost:8080/"
        },
        "id": "9pgZjbm_greG",
        "outputId": "0b68630c-3c07-4509-f2f1-63121e549a2a"
      },
      "execution_count": 39,
      "outputs": [
        {
          "output_type": "stream",
          "name": "stdout",
          "text": [
            "===> df.head() for ziptest\n",
            "   digit  pxl_0  pxl_1  pxl_2  pxl_3  pxl_4  pxl_5  pxl_6  pxl_7  pxl_8  ...  \\\n",
            "0      9   -1.0   -1.0   -1.0 -1.000   -1.0 -0.948 -0.561  0.148  0.384  ...   \n",
            "1      6   -1.0   -1.0   -1.0 -1.000   -1.0 -1.000 -1.000 -1.000 -1.000  ...   \n",
            "2      3   -1.0   -1.0   -1.0 -0.593    0.7  1.000  1.000  1.000  1.000  ...   \n",
            "3      6   -1.0   -1.0   -1.0 -1.000   -1.0 -1.000 -1.000 -1.000 -1.000  ...   \n",
            "4      6   -1.0   -1.0   -1.0 -1.000   -1.0 -1.000 -1.000 -0.858 -0.106  ...   \n",
            "\n",
            "   pxl_246  pxl_247  pxl_248  pxl_249  pxl_250  pxl_251  pxl_252  pxl_253  \\\n",
            "0   -1.000   -0.908    0.430    0.622   -0.973   -1.000     -1.0     -1.0   \n",
            "1   -1.000   -1.000   -1.000   -1.000   -1.000   -1.000     -1.0     -1.0   \n",
            "2    1.000    0.717    0.333    0.162   -0.393   -1.000     -1.0     -1.0   \n",
            "3   -1.000   -1.000   -1.000   -1.000   -1.000   -1.000     -1.0     -1.0   \n",
            "4    0.901    0.901    0.901    0.290   -0.369   -0.867     -1.0     -1.0   \n",
            "\n",
            "   pxl_254  pxl_255  \n",
            "0     -1.0     -1.0  \n",
            "1     -1.0     -1.0  \n",
            "2     -1.0     -1.0  \n",
            "3     -1.0     -1.0  \n",
            "4     -1.0     -1.0  \n",
            "\n",
            "[5 rows x 257 columns]\n",
            "====================================================\n",
            "===> df.shape for ziptest\n",
            "(2007, 257)\n",
            "====================================================\n",
            "===> df.info() for ziptest\n",
            "<class 'pandas.core.frame.DataFrame'>\n",
            "RangeIndex: 2007 entries, 0 to 2006\n",
            "Columns: 257 entries, digit to pxl_255\n",
            "dtypes: float64(256), int64(1)\n",
            "memory usage: 3.9 MB\n",
            "None\n",
            "====================================================\n",
            "===> df.describe() for ziptest\n",
            "             digit        pxl_0        pxl_1        pxl_2        pxl_3  \\\n",
            "count  2007.000000  2007.000000  2007.000000  2007.000000  2007.000000   \n",
            "mean      3.850523    -0.996595    -0.977925    -0.949133    -0.882643   \n",
            "std       3.018484     0.042205     0.168974     0.245463     0.368629   \n",
            "min       0.000000    -1.000000    -1.000000    -1.000000    -1.000000   \n",
            "25%       1.000000    -1.000000    -1.000000    -1.000000    -1.000000   \n",
            "50%       4.000000    -1.000000    -1.000000    -1.000000    -1.000000   \n",
            "75%       6.000000    -1.000000    -1.000000    -1.000000    -1.000000   \n",
            "max       9.000000    -0.130000     1.000000     1.000000     1.000000   \n",
            "\n",
            "             pxl_4        pxl_5        pxl_6        pxl_7        pxl_8  ...  \\\n",
            "count  2007.000000  2007.000000  2007.000000  2007.000000  2007.000000  ...   \n",
            "mean     -0.771821    -0.589944    -0.353905    -0.061801    -0.076219  ...   \n",
            "std       0.499981     0.646510     0.730745     0.773948     0.764625  ...   \n",
            "min      -1.000000    -1.000000    -1.000000    -1.000000    -1.000000  ...   \n",
            "25%      -1.000000    -1.000000    -1.000000    -1.000000    -0.997000  ...   \n",
            "50%      -1.000000    -1.000000    -0.714000     0.035000    -0.043000  ...   \n",
            "75%      -0.941500    -0.306000     0.308000     0.704500     0.670000  ...   \n",
            "max       1.000000     1.000000     1.000000     1.000000     1.000000  ...   \n",
            "\n",
            "           pxl_246      pxl_247      pxl_248      pxl_249      pxl_250  \\\n",
            "count  2007.000000  2007.000000  2007.000000  2007.000000  2007.000000   \n",
            "mean     -0.170607     0.133865     0.110366    -0.314661    -0.636191   \n",
            "std       0.790514     0.760779     0.756387     0.717573     0.592921   \n",
            "min      -1.000000    -1.000000    -1.000000    -1.000000    -1.000000   \n",
            "25%      -1.000000    -0.684500    -0.746000    -1.000000    -1.000000   \n",
            "50%      -0.337000     0.333000     0.333000    -0.577000    -1.000000   \n",
            "75%       0.641500     0.853000     0.805000     0.335000    -0.435500   \n",
            "max       1.000000     1.000000     1.000000     1.000000     1.000000   \n",
            "\n",
            "           pxl_251      pxl_252      pxl_253      pxl_254      pxl_255  \n",
            "count  2007.000000  2007.000000  2007.000000  2007.000000  2007.000000  \n",
            "mean     -0.817464    -0.912635    -0.960662    -0.984057    -0.995801  \n",
            "std       0.451498     0.316113     0.220893     0.130031     0.055080  \n",
            "min      -1.000000    -1.000000    -1.000000    -1.000000    -1.000000  \n",
            "25%      -1.000000    -1.000000    -1.000000    -1.000000    -1.000000  \n",
            "50%      -1.000000    -1.000000    -1.000000    -1.000000    -1.000000  \n",
            "75%      -0.999000    -1.000000    -1.000000    -1.000000    -1.000000  \n",
            "max       1.000000     1.000000     1.000000     0.992000     0.563000  \n",
            "\n",
            "[8 rows x 257 columns]\n",
            "====================================================\n",
            "===> df[column].unique() for ziptest\n",
            "[9 6 3 0 2 4 1 8 7 5]\n",
            "====================================================\n"
          ]
        }
      ]
    },
    {
      "cell_type": "markdown",
      "source": [
        "#### B.1.0. From ziptrain dataset select only the rows corresponding to digits  2  and  7  and save them in a new dataset called binar_train."
      ],
      "metadata": {
        "id": "Iks3kpydfYX2"
      }
    },
    {
      "cell_type": "code",
      "source": [
        "binar_train = ziptrain[(ziptrain[\"digit\"]==2) | (ziptrain[\"digit\"]==7)]\n",
        "\n",
        "#print(\"The \\\"digit\\\" column in \\\"binar_train\\\" has values:\" , binar_train[\"digit\"].unique())\n",
        "#print(\"exploring binar_train data frame: \")\n",
        "explore_data(binar_train, 'digit')"
      ],
      "metadata": {
        "colab": {
          "base_uri": "https://localhost:8080/"
        },
        "id": "D1FS81H8fd2E",
        "outputId": "f9901306-91ab-42a9-dc78-9b37680b8782"
      },
      "execution_count": 40,
      "outputs": [
        {
          "output_type": "stream",
          "name": "stdout",
          "text": [
            "===> df.head() for binar_train\n",
            "    digit  pxl_0  pxl_1  pxl_2  pxl_3  pxl_4  pxl_5  pxl_6  pxl_7  pxl_8  ...  \\\n",
            "3       7   -1.0   -1.0   -1.0 -1.000 -1.000 -0.273  0.684  0.960  0.450  ...   \n",
            "10      7   -1.0   -1.0   -1.0 -1.000 -1.000 -0.596  0.912  1.000  0.290  ...   \n",
            "14      7   -1.0   -1.0   -1.0 -1.000 -1.000 -1.000 -1.000 -1.000 -0.632  ...   \n",
            "15      7   -1.0   -1.0   -1.0 -0.929  0.351  0.798  0.806  0.114  0.015  ...   \n",
            "22      7   -1.0   -1.0   -1.0 -1.000 -0.869  0.777 -0.007 -0.697 -1.000  ...   \n",
            "\n",
            "    pxl_246  pxl_247  pxl_248  pxl_249  pxl_250  pxl_251  pxl_252  pxl_253  \\\n",
            "3    -0.318    1.000    0.536   -0.987     -1.0     -1.0     -1.0     -1.0   \n",
            "10   -1.000   -0.795    0.663   -0.074     -1.0     -1.0     -1.0     -1.0   \n",
            "14   -1.000   -0.967    0.866   -0.001     -1.0     -1.0     -1.0     -1.0   \n",
            "15    0.835   -0.086   -0.991   -1.000     -1.0     -1.0     -1.0     -1.0   \n",
            "22   -0.933    0.667   -0.315   -1.000     -1.0     -1.0     -1.0     -1.0   \n",
            "\n",
            "    pxl_254  pxl_255  \n",
            "3      -1.0     -1.0  \n",
            "10     -1.0     -1.0  \n",
            "14     -1.0     -1.0  \n",
            "15     -1.0     -1.0  \n",
            "22     -1.0     -1.0  \n",
            "\n",
            "[5 rows x 257 columns]\n",
            "====================================================\n",
            "===> df.shape for binar_train\n",
            "(1376, 257)\n",
            "====================================================\n",
            "===> df.info() for binar_train\n",
            "<class 'pandas.core.frame.DataFrame'>\n",
            "Index: 1376 entries, 3 to 7255\n",
            "Columns: 257 entries, digit to pxl_255\n",
            "dtypes: float64(256), int64(1)\n",
            "memory usage: 2.7 MB\n",
            "None\n",
            "====================================================\n",
            "===> df.describe() for binar_train\n",
            "            digit        pxl_0        pxl_1        pxl_2        pxl_3  \\\n",
            "count  1376.00000  1376.000000  1376.000000  1376.000000  1376.000000   \n",
            "mean      4.34375    -0.984251    -0.922622    -0.837593    -0.707725   \n",
            "std       2.49602     0.105798     0.307493     0.439262     0.549117   \n",
            "min       2.00000    -1.000000    -1.000000    -1.000000    -1.000000   \n",
            "25%       2.00000    -1.000000    -1.000000    -1.000000    -1.000000   \n",
            "50%       2.00000    -1.000000    -1.000000    -1.000000    -1.000000   \n",
            "75%       7.00000    -1.000000    -1.000000    -1.000000    -0.684000   \n",
            "max       7.00000     0.412000     1.000000     1.000000     1.000000   \n",
            "\n",
            "             pxl_4        pxl_5        pxl_6        pxl_7        pxl_8  ...  \\\n",
            "count  1376.000000  1376.000000  1376.000000  1376.000000  1376.000000  ...   \n",
            "mean     -0.516504    -0.337713    -0.215398    -0.177012    -0.236985  ...   \n",
            "std       0.656989     0.719407     0.749200     0.768320     0.752911  ...   \n",
            "min      -1.000000    -1.000000    -1.000000    -1.000000    -1.000000  ...   \n",
            "25%      -1.000000    -1.000000    -1.000000    -1.000000    -1.000000  ...   \n",
            "50%      -0.979000    -0.638000    -0.344000    -0.281500    -0.432000  ...   \n",
            "75%      -0.047250     0.280500     0.494500     0.555000     0.493250  ...   \n",
            "max       1.000000     1.000000     1.000000     1.000000     1.000000  ...   \n",
            "\n",
            "           pxl_246      pxl_247      pxl_248      pxl_249      pxl_250  \\\n",
            "count  1376.000000  1376.000000  1376.000000  1376.000000  1376.000000   \n",
            "mean     -0.459176    -0.328480    -0.533847    -0.822799    -0.905086   \n",
            "std       0.691796     0.754303     0.667315     0.431136     0.349080   \n",
            "min      -1.000000    -1.000000    -1.000000    -1.000000    -1.000000   \n",
            "25%      -1.000000    -1.000000    -1.000000    -1.000000    -1.000000   \n",
            "50%      -0.941500    -0.761500    -1.000000    -1.000000    -1.000000   \n",
            "75%       0.119750     0.435750    -0.097750    -0.992000    -1.000000   \n",
            "max       1.000000     1.000000     1.000000     1.000000     1.000000   \n",
            "\n",
            "           pxl_251      pxl_252      pxl_253      pxl_254      pxl_255  \n",
            "count  1376.000000  1376.000000  1376.000000  1376.000000  1376.000000  \n",
            "mean     -0.889243    -0.849907    -0.852942    -0.907160    -0.972828  \n",
            "std       0.367509     0.432005     0.429968     0.335022     0.148830  \n",
            "min      -1.000000    -1.000000    -1.000000    -1.000000    -1.000000  \n",
            "25%      -1.000000    -1.000000    -1.000000    -1.000000    -1.000000  \n",
            "50%      -1.000000    -1.000000    -1.000000    -1.000000    -1.000000  \n",
            "75%      -1.000000    -1.000000    -1.000000    -1.000000    -1.000000  \n",
            "max       1.000000     1.000000     1.000000     1.000000     0.592000  \n",
            "\n",
            "[8 rows x 257 columns]\n",
            "====================================================\n",
            "===> df[column].unique() for binar_train\n",
            "[7 2]\n",
            "====================================================\n"
          ]
        }
      ]
    },
    {
      "cell_type": "markdown",
      "source": [
        "#### B.1.1. Do the same thing in ziptest and call it binar_test"
      ],
      "metadata": {
        "id": "TB9w6lFjfiOd"
      }
    },
    {
      "cell_type": "code",
      "source": [
        "binar_test = ziptest[(ziptest[\"digit\"]==2) | (ziptest[\"digit\"]==7)]\n",
        "\n",
        "#print(\"The \\\"digit\\\" column in \\\"binar_test\\\" has values:\" , binar_test[\"digit\"].unique())\n",
        "#print(\"exploring binar_test data frame: \")\n",
        "\n",
        "explore_data(binar_test, 'digit')"
      ],
      "metadata": {
        "colab": {
          "base_uri": "https://localhost:8080/"
        },
        "id": "RHAdevmSfl8O",
        "outputId": "5a01cb05-00a6-4274-ed97-2485fd7fb593"
      },
      "execution_count": 41,
      "outputs": [
        {
          "output_type": "stream",
          "name": "stdout",
          "text": [
            "===> df.head() for binar_test\n",
            "    digit  pxl_0  pxl_1  pxl_2  pxl_3  pxl_4  pxl_5  pxl_6  pxl_7  pxl_8  ...  \\\n",
            "11      2 -0.996  0.572  0.396  0.063 -0.506 -0.847 -1.000 -1.000 -1.000  ...   \n",
            "12      2 -1.000 -1.000  0.469  0.413  1.000  1.000  0.462 -0.116 -0.937  ...   \n",
            "20      2 -1.000 -1.000 -1.000 -1.000 -1.000 -1.000 -1.000 -1.000 -1.000  ...   \n",
            "21      2 -1.000 -1.000 -1.000 -0.831  0.047  0.140  0.947  0.813  0.012  ...   \n",
            "25      2 -1.000 -1.000 -1.000 -1.000 -1.000 -1.000 -0.665  0.603  1.000  ...   \n",
            "\n",
            "    pxl_246  pxl_247  pxl_248  pxl_249  pxl_250  pxl_251  pxl_252  pxl_253  \\\n",
            "11   -0.668     -1.0     -1.0    -1.00    -1.00   -1.000   -1.000   -1.000   \n",
            "12    1.000      1.0      1.0     0.27    -0.28   -0.855   -1.000   -1.000   \n",
            "20   -1.000     -1.0     -1.0    -1.00    -1.00   -1.000   -1.000   -1.000   \n",
            "21   -0.915     -1.0     -1.0    -1.00    -1.00   -0.866   -0.672    0.131   \n",
            "25   -1.000     -1.0     -1.0    -1.00    -1.00    0.720    0.711   -0.932   \n",
            "\n",
            "    pxl_254  pxl_255  \n",
            "11   -1.000   -1.000  \n",
            "12   -1.000   -1.000  \n",
            "20   -1.000   -1.000  \n",
            "21    0.135   -0.318  \n",
            "25   -1.000   -1.000  \n",
            "\n",
            "[5 rows x 257 columns]\n",
            "====================================================\n",
            "===> df.shape for binar_test\n",
            "(345, 257)\n",
            "====================================================\n",
            "===> df.info() for binar_test\n",
            "<class 'pandas.core.frame.DataFrame'>\n",
            "Index: 345 entries, 11 to 1999\n",
            "Columns: 257 entries, digit to pxl_255\n",
            "dtypes: float64(256), int64(1)\n",
            "memory usage: 695.4 KB\n",
            "None\n",
            "====================================================\n",
            "===> df.describe() for binar_test\n",
            "            digit       pxl_0       pxl_1       pxl_2       pxl_3       pxl_4  \\\n",
            "count  345.000000  345.000000  345.000000  345.000000  345.000000  345.000000   \n",
            "mean     4.130435   -0.990565   -0.933997   -0.858197   -0.731423   -0.573771   \n",
            "std      2.476125    0.074944    0.291186    0.405616    0.526227    0.625995   \n",
            "min      2.000000   -1.000000   -1.000000   -1.000000   -1.000000   -1.000000   \n",
            "25%      2.000000   -1.000000   -1.000000   -1.000000   -1.000000   -1.000000   \n",
            "50%      2.000000   -1.000000   -1.000000   -1.000000   -1.000000   -1.000000   \n",
            "75%      7.000000   -1.000000   -1.000000   -1.000000   -0.771000   -0.186000   \n",
            "max      7.000000   -0.130000    1.000000    1.000000    1.000000    1.000000   \n",
            "\n",
            "            pxl_5       pxl_6       pxl_7       pxl_8  ...     pxl_246  \\\n",
            "count  345.000000  345.000000  345.000000  345.000000  ...  345.000000   \n",
            "mean    -0.352872   -0.230078   -0.240528   -0.328672  ...   -0.422496   \n",
            "std      0.720914    0.758852    0.762772    0.757910  ...    0.719393   \n",
            "min     -1.000000   -1.000000   -1.000000   -1.000000  ...   -1.000000   \n",
            "25%     -1.000000   -1.000000   -1.000000   -1.000000  ...   -1.000000   \n",
            "50%     -0.725000   -0.423000   -0.455000   -0.716000  ...   -0.896000   \n",
            "75%      0.263000    0.462000    0.473000    0.379000  ...    0.260000   \n",
            "max      1.000000    1.000000    1.000000    1.000000  ...    1.000000   \n",
            "\n",
            "          pxl_247     pxl_248     pxl_249     pxl_250     pxl_251     pxl_252  \\\n",
            "count  345.000000  345.000000  345.000000  345.000000  345.000000  345.000000   \n",
            "mean    -0.313278   -0.498287   -0.786554   -0.870003   -0.845539   -0.838180   \n",
            "std      0.765944    0.678088    0.489602    0.385750    0.435057    0.457308   \n",
            "min     -1.000000   -1.000000   -1.000000   -1.000000   -1.000000   -1.000000   \n",
            "25%     -1.000000   -1.000000   -1.000000   -1.000000   -1.000000   -1.000000   \n",
            "50%     -0.765000   -0.998000   -1.000000   -1.000000   -1.000000   -1.000000   \n",
            "75%      0.428000   -0.028000   -0.954000   -1.000000   -1.000000   -1.000000   \n",
            "max      1.000000    1.000000    1.000000    1.000000    1.000000    1.000000   \n",
            "\n",
            "          pxl_253     pxl_254     pxl_255  \n",
            "count  345.000000  345.000000  345.000000  \n",
            "mean    -0.871301   -0.928910   -0.977701  \n",
            "std      0.416559    0.279846    0.129125  \n",
            "min     -1.000000   -1.000000   -1.000000  \n",
            "25%     -1.000000   -1.000000   -1.000000  \n",
            "50%     -1.000000   -1.000000   -1.000000  \n",
            "75%     -1.000000   -1.000000   -1.000000  \n",
            "max      1.000000    0.992000    0.563000  \n",
            "\n",
            "[8 rows x 257 columns]\n",
            "====================================================\n",
            "===> df[column].unique() for binar_test\n",
            "[2 7]\n",
            "====================================================\n"
          ]
        }
      ]
    },
    {
      "cell_type": "markdown",
      "source": [
        " #### B.2.1. Project binar_train onto the first two principal components"
      ],
      "metadata": {
        "id": "IYu2VW_Wpnjt"
      }
    },
    {
      "cell_type": "code",
      "source": [
        "# get/separate X_train,y_train from binar_train\n",
        "# get/separate X_test, y_test from binar_test\n",
        "# Above X & y =>independent/input/feature & dependant/output/label\n",
        "# first column is for the output/dependant variable -digit- @ iloc=0 (other 256 columns are for dependant variables)\n",
        "\n",
        "X_train, y_train = binar_train.iloc[:,1:], binar_train.iloc[:,0]\n",
        "\n",
        "X_test, y_test = binar_test.iloc[:,1:], binar_test.iloc[:,0]\n",
        "\n",
        "# Standardize/normalize data first before PCA - recommended so that PCA gives balanced weight for each feature to build the principal components\n",
        "from sklearn.preprocessing import StandardScaler\n",
        "scaler = StandardScaler()\n",
        "Xtrain_std = scaler.fit_transform(X_train)\n",
        "Xtest_std = scaler.transform(X_test)\n",
        "\n",
        "r1 = np.mean(Xtrain_std)\n",
        "print(\"Mean: \", r1)\n",
        "r2 = np.std(Xtrain_std)\n",
        "print(\"std: \", r2)\n",
        "r3 = np.var(Xtrain_std)\n",
        "print(\"variance: \", r3)"
      ],
      "metadata": {
        "colab": {
          "base_uri": "https://localhost:8080/"
        },
        "id": "Knc_fX-VPSYH",
        "outputId": "cdfd2808-ca59-4a2a-9580-6a791f6f0636"
      },
      "execution_count": 60,
      "outputs": [
        {
          "output_type": "stream",
          "name": "stdout",
          "text": [
            "Mean:  3.812357406507169e-18\n",
            "std:  0.9999999999999999\n",
            "variance:  0.9999999999999999\n"
          ]
        }
      ]
    },
    {
      "cell_type": "code",
      "source": [
        "X_train.shape\n",
        "Xtrain_std.shape\n",
        "y_train.shape"
      ],
      "metadata": {
        "colab": {
          "base_uri": "https://localhost:8080/"
        },
        "id": "e7X7u5_rohEE",
        "outputId": "ffd6ea2d-8aef-40bb-87b3-c916493ea95d"
      },
      "execution_count": 61,
      "outputs": [
        {
          "output_type": "execute_result",
          "data": {
            "text/plain": [
              "(1376, 256)"
            ]
          },
          "metadata": {},
          "execution_count": 61
        },
        {
          "output_type": "execute_result",
          "data": {
            "text/plain": [
              "(1376, 256)"
            ]
          },
          "metadata": {},
          "execution_count": 61
        },
        {
          "output_type": "execute_result",
          "data": {
            "text/plain": [
              "(1376,)"
            ]
          },
          "metadata": {},
          "execution_count": 61
        }
      ]
    },
    {
      "cell_type": "code",
      "source": [
        "from sklearn.decomposition import PCA\n",
        "pca=PCA(n_components=2)\n",
        "Xtrain_std_pca = pca.fit_transform(Xtrain_std)\n",
        "Xtest_std_pca = pca.transform(Xtest_std)\n",
        "\n",
        "print(\"====================================================\")\n",
        "print(\"pca.explained_variance_ : \",pca.explained_variance_)\n",
        "print(\"====================================================\")\n",
        "print(\"pca.explained_variance_ratio_ : \",pca.explained_variance_ratio_)\n",
        "print(\"====================================================\")\n",
        "print(\"pca.explained_variance_ratio_.sum() : \", pca.explained_variance_ratio_.sum())\n",
        "print(\"====================================================\")"
      ],
      "metadata": {
        "colab": {
          "base_uri": "https://localhost:8080/"
        },
        "id": "FWI7xmdkp29J",
        "outputId": "455b81a4-3f21-4679-858d-d0c380e01cac"
      },
      "execution_count": 62,
      "outputs": [
        {
          "output_type": "stream",
          "name": "stdout",
          "text": [
            "====================================================\n",
            "pca.explained_variance_ :  [40.35684111 18.37528287]\n",
            "====================================================\n",
            "pca.explained_variance_ratio_ :  [0.15752934 0.07172628]\n",
            "====================================================\n",
            "pca.explained_variance_ratio_.sum() :  0.22925562794536003\n",
            "====================================================\n"
          ]
        }
      ]
    },
    {
      "cell_type": "code",
      "source": [
        "print(\"y_train.value_counts()\")\n",
        "print(y_train.value_counts())\n",
        "print(\"=========================================\")\n",
        "#print(\"y_test.value_counts()\")\n",
        "#print(y_test.value_counts())"
      ],
      "metadata": {
        "colab": {
          "base_uri": "https://localhost:8080/"
        },
        "id": "k-rDxQsJpGAu",
        "outputId": "671a072e-1c64-40cf-8a3c-8cb778261a20"
      },
      "execution_count": 63,
      "outputs": [
        {
          "output_type": "stream",
          "name": "stdout",
          "text": [
            "y_train.value_counts()\n",
            "digit\n",
            "2    731\n",
            "7    645\n",
            "Name: count, dtype: int64\n",
            "=========================================\n"
          ]
        }
      ]
    },
    {
      "cell_type": "markdown",
      "source": [
        "#### B.2.2.Make a scatterplot of the data in the new space (two-dimensional space spanned by the frist two PCs). Use a different color (or marker) for each digit."
      ],
      "metadata": {
        "id": "6__1Y94GpJo4"
      }
    },
    {
      "cell_type": "code",
      "source": [
        "# Convert the PCA result to a DataFrame\n",
        "Xtrain_std_pca_df = pd.DataFrame(data=Xtrain_std_pca, columns=['PC1', 'PC2'])\n",
        "# Plot the scatterplot\n",
        "plt.figure(figsize=(10, 7))\n",
        "\n",
        "colormap = np.array(['r', 'b'])\n",
        "hue_colors = {2:\"black\", 7:\"red\"}\n",
        "sns.scatterplot(x='PC1', y='PC2', data=Xtrain_std_pca_df, hue=y_train, style=y_train, palette=hue_colors, markers=True)\n",
        "plt.title('Scatterplot of Data in the New Space Spanned by the First Two PCs')\n",
        "plt.xlabel('Principal Component 1')\n",
        "plt.ylabel('Principal Component 2')\n",
        "plt.show()"
      ],
      "metadata": {
        "colab": {
          "base_uri": "https://localhost:8080/",
          "height": 728
        },
        "id": "JvQ2F_DxFKnF",
        "outputId": "6105fc21-dd07-49b6-fc9e-4306dbf402f4"
      },
      "execution_count": 64,
      "outputs": [
        {
          "output_type": "execute_result",
          "data": {
            "text/plain": [
              "<Figure size 1000x700 with 0 Axes>"
            ]
          },
          "metadata": {},
          "execution_count": 64
        },
        {
          "output_type": "execute_result",
          "data": {
            "text/plain": [
              "<Axes: xlabel='PC1', ylabel='PC2'>"
            ]
          },
          "metadata": {},
          "execution_count": 64
        },
        {
          "output_type": "execute_result",
          "data": {
            "text/plain": [
              "Text(0.5, 1.0, 'Scatterplot of Data in the New Space Spanned by the First Two PCs')"
            ]
          },
          "metadata": {},
          "execution_count": 64
        },
        {
          "output_type": "execute_result",
          "data": {
            "text/plain": [
              "Text(0.5, 0, 'Principal Component 1')"
            ]
          },
          "metadata": {},
          "execution_count": 64
        },
        {
          "output_type": "execute_result",
          "data": {
            "text/plain": [
              "Text(0, 0.5, 'Principal Component 2')"
            ]
          },
          "metadata": {},
          "execution_count": 64
        },
        {
          "output_type": "display_data",
          "data": {
            "text/plain": [
              "<Figure size 1000x700 with 1 Axes>"
            ],
            "image/png": "[encoded data removed]"
          },
          "metadata": {}
        }
      ]
    },
    {
      "cell_type": "markdown",
      "source": [
        "####B.2.3.Based on the plot do you think that these two digits can be separated well using only two PCs? Explain."
      ],
      "metadata": {
        "id": "sUofEMEApR9J"
      }
    },
    {
      "cell_type": "markdown",
      "source": [
        "##### Based on the plot, **I do not think** that these two digits can be separated well using only two PCs as there is no clear distinction between the points representing the digits 2 and 7 in the above scatter plot. The points from both groups are intermixed."
      ],
      "metadata": {
        "id": "0WYT-28rQIa-"
      }
    },
    {
      "cell_type": "markdown",
      "source": [
        "#### B.3.1 Fit a logistic regression, in the new space, to separate digits 2 and 7."
      ],
      "metadata": {
        "id": "Zy3G2Q4ppeWz"
      }
    },
    {
      "cell_type": "code",
      "source": [
        "from sklearn.linear_model import LogisticRegression\n",
        "\n",
        "lgrg_model = LogisticRegression()\n",
        "lgrg_model.fit(Xtrain_std_pca, y_train)\n",
        "y_pred_log = lgrg_model.predict(Xtest_std_pca)\n",
        "\n",
        "print(\"logreg.intercept_ :\", lgrg_model.intercept_)\n",
        "print(\"logreg.coef_ :\",lgrg_model.coef_)"
      ],
      "metadata": {
        "colab": {
          "base_uri": "https://localhost:8080/",
          "height": 109
        },
        "id": "NzwfvQJqpeq5",
        "outputId": "72a03ac2-6287-48c6-e0a0-a16abb9a188e"
      },
      "execution_count": 65,
      "outputs": [
        {
          "output_type": "execute_result",
          "data": {
            "text/plain": [
              "LogisticRegression()"
            ],
            "text/html": [
              "<style>#sk-container-id-5 {color: black;background-color: white;}#sk-container-id-5 pre{padding: 0;}#sk-container-id-5 div.sk-toggleable {background-color: white;}#sk-container-id-5 label.sk-toggleable__label {cursor: pointer;display: block;width: 100%;margin-bottom: 0;padding: 0.3em;box-sizing: border-box;text-align: center;}#sk-container-id-5 label.sk-toggleable__label-arrow:before {content: \"▸\";float: left;margin-right: 0.25em;color: #696969;}#sk-container-id-5 label.sk-toggleable__label-arrow:hover:before {color: black;}#sk-container-id-5 div.sk-estimator:hover label.sk-toggleable__label-arrow:before {color: black;}#sk-container-id-5 div.sk-toggleable__content {max-height: 0;max-width: 0;overflow: hidden;text-align: left;background-color: #f0f8ff;}#sk-container-id-5 div.sk-toggleable__content pre {margin: 0.2em;color: black;border-radius: 0.25em;background-color: #f0f8ff;}#sk-container-id-5 input.sk-toggleable__control:checked~div.sk-toggleable__content {max-height: 200px;max-width: 100%;overflow: auto;}#sk-container-id-5 input.sk-toggleable__control:checked~label.sk-toggleable__label-arrow:before {content: \"▾\";}#sk-container-id-5 div.sk-estimator input.sk-toggleable__control:checked~label.sk-toggleable__label {background-color: #d4ebff;}#sk-container-id-5 div.sk-label input.sk-toggleable__control:checked~label.sk-toggleable__label {background-color: #d4ebff;}#sk-container-id-5 input.sk-hidden--visually {border: 0;clip: rect(1px 1px 1px 1px);clip: rect(1px, 1px, 1px, 1px);height: 1px;margin: -1px;overflow: hidden;padding: 0;position: absolute;width: 1px;}#sk-container-id-5 div.sk-estimator {font-family: monospace;background-color: #f0f8ff;border: 1px dotted black;border-radius: 0.25em;box-sizing: border-box;margin-bottom: 0.5em;}#sk-container-id-5 div.sk-estimator:hover {background-color: #d4ebff;}#sk-container-id-5 div.sk-parallel-item::after {content: \"\";width: 100%;border-bottom: 1px solid gray;flex-grow: 1;}#sk-container-id-5 div.sk-label:hover label.sk-toggleable__label {background-color: #d4ebff;}#sk-container-id-5 div.sk-serial::before {content: \"\";position: absolute;border-left: 1px solid gray;box-sizing: border-box;top: 0;bottom: 0;left: 50%;z-index: 0;}#sk-container-id-5 div.sk-serial {display: flex;flex-direction: column;align-items: center;background-color: white;padding-right: 0.2em;padding-left: 0.2em;position: relative;}#sk-container-id-5 div.sk-item {position: relative;z-index: 1;}#sk-container-id-5 div.sk-parallel {display: flex;align-items: stretch;justify-content: center;background-color: white;position: relative;}#sk-container-id-5 div.sk-item::before, #sk-container-id-5 div.sk-parallel-item::before {content: \"\";position: absolute;border-left: 1px solid gray;box-sizing: border-box;top: 0;bottom: 0;left: 50%;z-index: -1;}#sk-container-id-5 div.sk-parallel-item {display: flex;flex-direction: column;z-index: 1;position: relative;background-color: white;}#sk-container-id-5 div.sk-parallel-item:first-child::after {align-self: flex-end;width: 50%;}#sk-container-id-5 div.sk-parallel-item:last-child::after {align-self: flex-start;width: 50%;}#sk-container-id-5 div.sk-parallel-item:only-child::after {width: 0;}#sk-container-id-5 div.sk-dashed-wrapped {border: 1px dashed gray;margin: 0 0.4em 0.5em 0.4em;box-sizing: border-box;padding-bottom: 0.4em;background-color: white;}#sk-container-id-5 div.sk-label label {font-family: monospace;font-weight: bold;display: inline-block;line-height: 1.2em;}#sk-container-id-5 div.sk-label-container {text-align: center;}#sk-container-id-5 div.sk-container {/* jupyter's `normalize.less` sets `[hidden] { display: none; }` but bootstrap.min.css set `[hidden] { display: none !important; }` so we also need the `!important` here to be able to override the default hidden behavior on the sphinx rendered scikit-learn.org. See: https://github.com/scikit-learn/scikit-learn/issues/21755 */display: inline-block !important;position: relative;}#sk-container-id-5 div.sk-text-repr-fallback {display: none;}</style><div id=\"sk-container-id-5\" class=\"sk-top-container\"><div class=\"sk-text-repr-fallback\"><pre>LogisticRegression()</pre><b>In a Jupyter environment, please rerun this cell to show the HTML representation or trust the notebook. <br />On GitHub, the HTML representation is unable to render, please try loading this page with nbviewer.org.</b></div><div class=\"sk-container\" hidden><div class=\"sk-item\"><div class=\"sk-estimator sk-toggleable\"><input class=\"sk-toggleable__control sk-hidden--visually\" id=\"sk-estimator-id-5\" type=\"checkbox\" checked><label for=\"sk-estimator-id-5\" class=\"sk-toggleable__label sk-toggleable__label-arrow\">LogisticRegression</label><div class=\"sk-toggleable__content\"><pre>LogisticRegression()</pre></div></div></div></div></div>"
            ]
          },
          "metadata": {},
          "execution_count": 65
        },
        {
          "output_type": "stream",
          "name": "stdout",
          "text": [
            "logreg.intercept_ : [-1.27589175]\n",
            "logreg.coef_ : [[-1.13493962 -0.11287083]]\n"
          ]
        }
      ]
    },
    {
      "cell_type": "markdown",
      "source": [
        "#### B.4.1. Evaluate the trainded model on binar_test using accuracy, and an appropriate F-measure."
      ],
      "metadata": {
        "id": "gHfr4M6uqBDB"
      }
    },
    {
      "cell_type": "code",
      "source": [
        "from sklearn.metrics import confusion_matrix, classification_report, roc_auc_score, ConfusionMatrixDisplay\n",
        "\n",
        "# confusion matrix\n",
        "conf_matrix_logreg = confusion_matrix(y_test, y_pred_log)\n",
        "print(\"* conf_matrix_logreg: \")\n",
        "print(conf_matrix_logreg)\n",
        "\n",
        "# accuracy\n",
        "print(\"\\n* accuracy_score_logreg: \")\n",
        "print(np.trace(conf_matrix_logreg)/np.sum(conf_matrix_logreg))\n",
        "\n",
        "classification_report_logreg = classification_report(y_test, y_pred_log)\n",
        "print(\"\\n* classification_report_logreg: \")\n",
        "print(classification_report_logreg)"
      ],
      "metadata": {
        "colab": {
          "base_uri": "https://localhost:8080/"
        },
        "id": "895g0Np-psJ8",
        "outputId": "f3b0820a-ed3e-4c55-cc4e-d2fd8c45107c"
      },
      "execution_count": 66,
      "outputs": [
        {
          "output_type": "stream",
          "name": "stdout",
          "text": [
            "* conf_matrix_logreg: \n",
            "[[193   5]\n",
            " [  7 140]]\n",
            "\n",
            "* accuracy_score_logreg: \n",
            "0.9652173913043478\n",
            "\n",
            "* classification_report_logreg: \n",
            "              precision    recall  f1-score   support\n",
            "\n",
            "           2       0.96      0.97      0.97       198\n",
            "           7       0.97      0.95      0.96       147\n",
            "\n",
            "    accuracy                           0.97       345\n",
            "   macro avg       0.97      0.96      0.96       345\n",
            "weighted avg       0.97      0.97      0.97       345\n",
            "\n"
          ]
        }
      ]
    },
    {
      "cell_type": "markdown",
      "source": [
        "#### B.5.1. Build and print a confusion matrix for your predictions."
      ],
      "metadata": {
        "id": "KftbHZCNwZEw"
      }
    },
    {
      "cell_type": "code",
      "source": [
        "conf_matrix_logreg = confusion_matrix(y_test, y_pred_log)\n",
        "print(\"* conf_matrix_logreg: \")\n",
        "print(conf_matrix_logreg)\n",
        "\n",
        "import seaborn as sns\n",
        "import matplotlib.pyplot as plt\n",
        "# Plot using sklearn's ConfusionMatrixDisplay\n",
        "disp = ConfusionMatrixDisplay(confusion_matrix=conf_matrix_logreg, display_labels=['Digit is 2', 'Digit is 7'])\n",
        "disp.plot(cmap=plt.cm.Blues)\n",
        "plt.show()"
      ],
      "metadata": {
        "colab": {
          "base_uri": "https://localhost:8080/",
          "height": 518
        },
        "id": "C91zwUmewXU3",
        "outputId": "5338168c-6118-41cb-a6b5-17487713932a"
      },
      "execution_count": 67,
      "outputs": [
        {
          "output_type": "stream",
          "name": "stdout",
          "text": [
            "* conf_matrix_logreg: \n",
            "[[193   5]\n",
            " [  7 140]]\n"
          ]
        },
        {
          "output_type": "execute_result",
          "data": {
            "text/plain": [
              "<sklearn.metrics._plot.confusion_matrix.ConfusionMatrixDisplay at 0x7c07b5996ef0>"
            ]
          },
          "metadata": {},
          "execution_count": 67
        },
        {
          "output_type": "display_data",
          "data": {
            "text/plain": [
              "<Figure size 640x480 with 2 Axes>"
            ],
            "image/png": "[encoded data removed]"
          },
          "metadata": {}
        }
      ]
    },
    {
      "cell_type": "markdown",
      "source": [
        "#### B.6.1. Project the whole data onto the first m=2,3,4,5 principal components (one m at a time) - (Using ziptrain <=> Whole Training Data)."
      ],
      "metadata": {
        "id": "QQud_uK3yI6P"
      }
    },
    {
      "cell_type": "code",
      "source": [
        "X_all_data_train, y_all_data_train = ziptrain.iloc[:,1:], ziptrain.iloc[:,0]\n",
        "X_all_data_test, y_all_data_test = ziptest.iloc[:,1:], ziptest.iloc[:,0]\n",
        "\n",
        "X_all_data_train_pca = []\n",
        "for m in range(2,6):\n",
        "    pca_all_data = PCA(n_components=m)\n",
        "    X_all_data_train_pca.append(pca_all_data.fit_transform(X_all_data_train))\n",
        "    #X_test_std_pca = pca.transform(X_test_std)\n",
        "    print (\"For\",m,\"components: \",\"pca_all_data.explained_variance_ratio=\",pca_all_data.explained_variance_ratio_.sum())"
      ],
      "metadata": {
        "colab": {
          "base_uri": "https://localhost:8080/"
        },
        "id": "hvKMiqMwyCnH",
        "outputId": "f5f55b73-82ea-4526-91a9-08d0cb4043c6"
      },
      "execution_count": 71,
      "outputs": [
        {
          "output_type": "stream",
          "name": "stdout",
          "text": [
            "For 2 components:  pca_all_data.explained_variance_ratio= 0.2685146393018152\n",
            "For 3 components:  pca_all_data.explained_variance_ratio= 0.33423190873734965\n",
            "For 4 components:  pca_all_data.explained_variance_ratio= 0.3897773729629922\n",
            "For 5 components:  pca_all_data.explained_variance_ratio= 0.4389192630733069\n"
          ]
        }
      ]
    },
    {
      "cell_type": "markdown",
      "source": [
        "####B.7.1. For each m, and using 5-fold cross-validation, train a linear discriminant classifier on ziptrain. (Using ziptrain <=> Whole Training Data)."
      ],
      "metadata": {
        "id": "cREdS7j8yLyC"
      }
    },
    {
      "cell_type": "code",
      "source": [
        "from sklearn.model_selection import cross_val_score, KFold\n",
        "k=5 # five folds as requested\n",
        "kf = KFold(n_splits=k, shuffle=True, random_state=47)\n",
        "\n",
        "cv_results_m2TO5 = []\n",
        "for m in range(2,6):\n",
        "  print(m-1 , \"- Case m=\", m, \":\")\n",
        "  LnrDscAnl2_5 = LinearDiscriminantAnalysis()\n",
        "\n",
        "# use cross_val_score and store cv results in cv_results_m2TO5 list for later use\n",
        "  cv_results_m2TO5.append(cross_val_score(LnrDscAnl2_5, X_all_data_train_pca[m-2], y_all_data_train, cv=kf, scoring='accuracy'))\n",
        "  print(\"accuracy list:\", cv_results_m2TO5[m-2])\n",
        "  print(\"accuracy mean:\",cv_results_m2TO5[m-2].mean())\n",
        "  print(\"-----------------------------------------------------------------------\")"
      ],
      "metadata": {
        "id": "MTm7xJyYyMJO",
        "colab": {
          "base_uri": "https://localhost:8080/"
        },
        "outputId": "79ae2df4-6bd4-4959-98ef-080281982b07"
      },
      "execution_count": 72,
      "outputs": [
        {
          "output_type": "stream",
          "name": "stdout",
          "text": [
            "1 - Case m= 2 :\n",
            "accuracy list: [0.55723098 0.52674897 0.55006859 0.5521262  0.52812071]\n",
            "accuracy mean: 0.5428590904005318\n",
            "-----------------------------------------------------------------------\n",
            "2 - Case m= 3 :\n",
            "accuracy list: [0.59355723 0.57133059 0.58984911 0.59465021 0.5733882 ]\n",
            "accuracy mean: 0.5845550675952016\n",
            "-----------------------------------------------------------------------\n",
            "3 - Case m= 4 :\n",
            "accuracy list: [0.69019877 0.68175583 0.70987654 0.6920439  0.69135802]\n",
            "accuracy mean: 0.693046611966217\n",
            "-----------------------------------------------------------------------\n",
            "4 - Case m= 5 :\n",
            "accuracy list: [0.72583962 0.72016461 0.72839506 0.71879287 0.71056241]\n",
            "accuracy mean: 0.7207509136328978\n",
            "-----------------------------------------------------------------------\n"
          ]
        }
      ]
    },
    {
      "cell_type": "markdown",
      "source": [
        "####B.8.1. Based on cross-validated accuracy, select the best number of principal components m. (Using ziptrain <=> Whole Training Data)."
      ],
      "metadata": {
        "id": "ZZRHaOlUyNap"
      }
    },
    {
      "cell_type": "markdown",
      "source": [
        "##### Based on cross-validated accuracy, the best number of principal components m is when m=5 as it has highest value for the mean of the accuracy score"
      ],
      "metadata": {
        "id": "EY2gqonv6wX3"
      }
    },
    {
      "cell_type": "code",
      "source": [],
      "metadata": {
        "id": "biG3kU_P0RkR"
      },
      "execution_count": 51,
      "outputs": []
    }
  ],
  "metadata": {
    "colab": {
      "provenance": []
    },
    "kernelspec": {
      "display_name": "Python 3 (ipykernel)",
      "language": "python",
      "name": "python3"
    },
    "language_info": {
      "codemirror_mode": {
        "name": "ipython",
        "version": 3
      },
      "file_extension": ".py",
      "mimetype": "text/x-python",
      "name": "python",
      "nbconvert_exporter": "python",
      "pygments_lexer": "ipython3",
      "version": "3.11.5"
    }
  },
  "nbformat": 4,
  "nbformat_minor": 0
}